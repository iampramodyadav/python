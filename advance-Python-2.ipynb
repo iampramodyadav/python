{
 "cells": [
  {
   "cell_type": "markdown",
   "id": "db5f4d0b",
   "metadata": {},
   "source": [
    "**Advance python**\n",
    "\n",
    "- [x] Collections\n",
    "- [x] Itertools \n",
    "- [ ] Lambda \n",
    "- [ ] Exceptions And Errors\n",
    "- [x] Logging\n",
    "- [ ] JSON \n",
    "- [x] Threading vs Multiprocessing\n",
    "- [x] Multithreading \n",
    "- [x] Multiprocessing \n",
    "- [x] Shallow vs Deep Copying\n",
    "- [x] Context Managers"
   ]
  },
  {
   "cell_type": "markdown",
   "id": "559e36ac",
   "metadata": {},
   "source": [
    "[Advanced Python](https://www.python-engineer.com/courses/advancedpython/06-collections/)"
   ]
  },
  {
   "cell_type": "markdown",
   "id": "409d0508",
   "metadata": {},
   "source": [
    "## collections\n",
    "\n",
    "The collections module in Python implements specialized container datatypes providing alternatives to Python’s general purpose built-in containers, dict, list, set, and tuple."
   ]
  },
  {
   "cell_type": "markdown",
   "id": "9f6d5453",
   "metadata": {},
   "source": [
    "The collections module in Python implements specialized container datatypes providing alternatives to Python’s general purpose built-in containers, dict, list, set, and tuple.\n",
    "The following tools exist:\n",
    "\n",
    "- `namedtuple` : factory function for creating tuple subclasses with named fields \n",
    "- `OrderedDict` : dict subclass that remembers the order entries were added \n",
    "- `Counter` : dict subclass for counting hashable objects \n",
    "- `defaultdict` : dict subclass that calls a factory function to supply missing values \n",
    "- `deque` : list-like container with fast appends and pops on either end\n",
    "\n",
    "[collections doc](https://docs.python.org/3/library/collections.html)"
   ]
  },
  {
   "cell_type": "markdown",
   "id": "34be83de",
   "metadata": {},
   "source": [
    "| objects |  function     |\n",
    "|:--------------:|:----------------------------------------------------------------------|\n",
    "| `namedtuple()` | factory function for creating tuple subclasses with named fields     |\n",
    "| `deque`        | list-like container with fast appends and pops on either end         |\n",
    "| `ChainMap`     | dict-like class for creating a single view of multiple mappings      |\n",
    "| `Counter`      | dict subclass for counting hashable objects                          |\n",
    "| `OrderedDict`  | dict subclass that remembers the order entries were added            |\n",
    "| `defaultdict`  | dict subclass that calls a factory function to supply missing values |\n",
    "| `UserDict`     | wrapper around dictionary objects for easier dict subclassing        |\n",
    "| `UserList`     | wrapper around list objects for easier list subclassing              |\n",
    "| `UserString`   | wrapper around string objects for easier string subclassing          |"
   ]
  },
  {
   "cell_type": "code",
   "execution_count": 2,
   "id": "9e01961f",
   "metadata": {
    "ExecuteTime": {
     "end_time": "2023-05-20T20:57:35.517923Z",
     "start_time": "2023-05-20T20:57:35.497986Z"
    }
   },
   "outputs": [
    {
     "name": "stdout",
     "output_type": "stream",
     "text": [
      "Counter({'a': 5, 'b': 4, 'c': 3, 'd': 2, 'e': 1})\n",
      "dict_items([('a', 5), ('b', 4), ('c', 3), ('d', 2), ('e', 1)])\n",
      "dict_keys(['a', 'b', 'c', 'd', 'e'])\n",
      "dict_values([5, 4, 3, 2, 1])\n",
      "Counter({1: 4, 2: 3, 0: 2, 3: 2, 4: 1})\n",
      "[(1, 4)]\n",
      "[0, 0, 1, 1, 1, 1, 2, 2, 2, 3, 3, 4]\n"
     ]
    }
   ],
   "source": [
    "from collections import Counter\n",
    "a = \"aaaaabbbbcccdde\"\n",
    "my_counter = Counter(a)\n",
    "print(my_counter)\n",
    "\n",
    "print(my_counter.items())\n",
    "print(my_counter.keys())\n",
    "print(my_counter.values())\n",
    "\n",
    "my_list = [0, 1, 0, 1, 2, 1, 1, 3, 2, 3, 2, 4]\n",
    "my_counter = Counter(my_list)\n",
    "print(my_counter)\n",
    "\n",
    "# most common items\n",
    "print(my_counter.most_common(1))\n",
    "\n",
    "# Return an iterator over elements repeating each as many times as its count. \n",
    "# Elements are returned in arbitrary order.\n",
    "print(list(my_counter.elements()))"
   ]
  },
  {
   "cell_type": "code",
   "execution_count": null,
   "id": "adb1dfcf",
   "metadata": {},
   "outputs": [],
   "source": []
  },
  {
   "cell_type": "markdown",
   "id": "6ec71227",
   "metadata": {},
   "source": [
    "---"
   ]
  },
  {
   "cell_type": "markdown",
   "id": "2324862d",
   "metadata": {},
   "source": [
    "## Itertools\n",
    "\n",
    "The Python itertools module is a collection of tools for handling iterators. Simply put, iterators are data types that can be used in a for loop."
   ]
  },
  {
   "cell_type": "markdown",
   "id": "b3a35cb4",
   "metadata": {},
   "source": [
    "**Source**\n",
    "\n",
    "- [All possible itertools](https://docs.python.org/3/library/itertools.html)"
   ]
  },
  {
   "cell_type": "markdown",
   "id": "912bf68e",
   "metadata": {},
   "source": [
    "### Infinite iterators:"
   ]
  },
  {
   "cell_type": "markdown",
   "id": "3110be74",
   "metadata": {},
   "source": [
    "| Iterator | Arguments     | Results                                        | Example                               |\n",
    "|:----------|:---------------|:------------------------------------------------|:---------------------------------------|\n",
    "| `count()`  | start, [step] | start, start+step, start+2*step, …             | `count(10)` --> 10 11 12 13 14 ...      |\n",
    "| `cycle()`  | p             | p0, p1, … plast, p0, p1, …                     | `cycle('ABCD')` --> A B C D A B C D ... |\n",
    "| `repeat()` | elem [,n]     | elem, elem, elem, … endlessly or up to n times | `repeat(10, 3)` --> 10 10 10            |"
   ]
  },
  {
   "cell_type": "markdown",
   "id": "0ba15fd6",
   "metadata": {},
   "source": [
    "### Iterators terminating on the shortest input sequence:"
   ]
  },
  {
   "cell_type": "markdown",
   "id": "4957e2ee",
   "metadata": {},
   "source": [
    "| Iterator              | Arguments                   | Results                                    | Example                                                  |\n",
    "|:-----------------------|:-----------------------------|:--------------------------------------------|:----------------------------------------------------------|\n",
    "| `accumulate()`          | p [,func]                   | p0, p0+p1, p0+p1+p2, …                     | accumulate([1,2,3,4,5]) --> 1 3 6 10 15                  |\n",
    "| `chain()`               | p, q, …                     | p0, p1, … plast, q0, q1, …                 | chain('ABC', 'DEF') --> A B C D E F                      |\n",
    "| `chain.from_iterable()` | iterable                    | p0, p1, … plast, q0, q1, …                 | chain.from_iterable(['ABC', 'DEF']) --> A B C D E F      |\n",
    "| `compress()`            | data, selectors             | (d[0] if s[0]), (d[1] if s[1]), …          | compress('ABCDEF', [1,0,1,0,1,1]) --> A C E F            |\n",
    "| `dropwhile()`           | pred, seq                   | seq[n], seq[n+1], starting when pred fails | dropwhile(lambda x: x<5, [1,4,6,4,1]) --> 6 4 1          |\n",
    "| `filterfalse()`         | pred, seq                   | elements of seq where pred(elem) is false  | filterfalse(lambda x: x%2, range(10)) --> 0 2 4 6 8      |\n",
    "| `groupby()`             | iterable[, key]             | sub-iterators grouped by value of key(v)   |                                                          |\n",
    "| `islice()`              | seq, [start,] stop [, step] | elements from seq[start:stop:step]         | islice('ABCDEFG', 2, None) --> C D E F G                 |\n",
    "| `pairwise()`            | iterable                    | (p[0], p[1]), (p[1], p[2])                 | pairwise('ABCDEFG') --> AB BC CD DE EF FG                |\n",
    "| `starmap()`             | func, seq                   | func(*seq[0]), func(*seq[1]), …            | starmap(pow, [(2,5), (3,2), (10,3)]) --> 32 9 1000       |\n",
    "| `takewhile()`           | pred, seq                   | seq[0], seq[1], until pred fails           | takewhile(lambda x: x<5, [1,4,6,4,1]) --> 1 4            |\n",
    "| `tee()`                 | it, n                       | it1, it2, … itn splits one iterator into n |                                                          |\n",
    "| `zip_longest()`         | p, q, …                     | (p[0], q[0]), (p[1], q[1]), …              | zip_longest('ABCD', 'xy', fillvalue='-') --> Ax By C- D- |"
   ]
  },
  {
   "cell_type": "markdown",
   "id": "84183765",
   "metadata": {},
   "source": [
    "### Combinatoric iterators:"
   ]
  },
  {
   "cell_type": "markdown",
   "id": "61171f01",
   "metadata": {},
   "source": [
    "| Iterator                        | Arguments          | Results                                                       |   |\n",
    "|:---------------------------------|:--------------------|:---------------------------------------------------------------|---|\n",
    "| `product()`                       | p, q, … [repeat=1] | cartesian product, equivalent to a nested for-loop            |   |\n",
    "| `permutations()`                  | p[, r]             | r-length tuples, all possible orderings, no repeated elements |   |\n",
    "| `combinations()`                  | p, r               | r-length tuples, in sorted order, no repeated elements        |   |\n",
    "| `combinations_with_replacement()` | p, r               | r-length tuples, in sorted order, with repeated elements      |   |"
   ]
  },
  {
   "cell_type": "markdown",
   "id": "d4acc064",
   "metadata": {},
   "source": [
    "| Examples                                 | Results                                         |\n",
    "|:------------------------------------------|:-------------------------------------------------|\n",
    "| `product('ABCD', repeat=2)`                | AA AB AC AD BA BB BC BD CA CB CC CD DA DB DC DD |\n",
    "| `permutations('ABCD', 2)`                  | AB AC AD BA BC BD CA CB CD DA DB DC             |\n",
    "| `combinations('ABCD', 2)`                  | AB AC AD BC BD CD                               |\n",
    "| `combinations_with_replacement('ABCD', 2)` | AA AB AC AD BB BC BD CC CD DD                   |"
   ]
  },
  {
   "cell_type": "code",
   "execution_count": 1,
   "id": "2275d0ba",
   "metadata": {
    "ExecuteTime": {
     "end_time": "2023-05-20T20:57:05.643240Z",
     "start_time": "2023-05-20T20:57:05.638256Z"
    }
   },
   "outputs": [
    {
     "name": "stdout",
     "output_type": "stream",
     "text": [
      "[(1, 3), (1, 4), (2, 3), (2, 4)]\n",
      "[(1, 3, 1, 3), (1, 3, 2, 3), (2, 3, 1, 3), (2, 3, 2, 3)]\n"
     ]
    }
   ],
   "source": [
    "from itertools import product\n",
    "\n",
    "prod = product([1, 2], [3, 4])\n",
    "print(list(prod)) # note that we convert the iterator to a list for printing\n",
    "\n",
    "# to allow the product of an iterable with itself, specify the number of repetitions \n",
    "prod = product([1, 2], [3], repeat=2)\n",
    "print(list(prod)) # note that we convert the iterator to a list for printing"
   ]
  },
  {
   "cell_type": "code",
   "execution_count": null,
   "id": "adabc90a",
   "metadata": {},
   "outputs": [],
   "source": []
  },
  {
   "cell_type": "markdown",
   "id": "69083cd2",
   "metadata": {},
   "source": [
    "---"
   ]
  },
  {
   "cell_type": "markdown",
   "id": "cb5a5cb6",
   "metadata": {},
   "source": [
    "## Lambda"
   ]
  },
  {
   "cell_type": "markdown",
   "id": "d9c586b2",
   "metadata": {},
   "source": [
    "`lambda arguments: expression`\n",
    "\n",
    "They are also used along with built-in functions like `map()`, `filter()`, `reduce()`."
   ]
  },
  {
   "cell_type": "code",
   "execution_count": null,
   "id": "17051215",
   "metadata": {},
   "outputs": [],
   "source": []
  },
  {
   "cell_type": "markdown",
   "id": "c0c36d0d",
   "metadata": {},
   "source": [
    "## Exceptions And Errors"
   ]
  },
  {
   "cell_type": "code",
   "execution_count": null,
   "id": "aa5da6a6",
   "metadata": {},
   "outputs": [],
   "source": []
  },
  {
   "cell_type": "code",
   "execution_count": null,
   "id": "863e6698",
   "metadata": {},
   "outputs": [],
   "source": []
  },
  {
   "cell_type": "markdown",
   "id": "1a3286b0",
   "metadata": {},
   "source": [
    "## Logging"
   ]
  },
  {
   "cell_type": "markdown",
   "id": "f75e73b0",
   "metadata": {},
   "source": [
    "- Logging is a means of tracking events that happen when some software runs. \n",
    "- Logging is important for software developing, debugging, and running. \n",
    "- If you don’t have any logging record and your program crashes, there are very few chances that you detect the cause of the problem.\n",
    "\n",
    "**“Why not just use printing?”**\n",
    "- When you run an algorithm and want to confirm it is doing what you expected, it is natural to add some 1print()1 statements at strategic locations to show the program’s state. \n",
    "- Printing can help debug simpler scripts, but as your code gets more and more complex, printing lacks the flexibility and robustness that logging has.\n",
    "\n",
    "- With logging, you can pinpoint where a logging call came from, differentiate severity between messages, and write information to a file, which printing cannot do. \n",
    "- **For example**, we can turn on and off the message from a particular module of a larger program. We can also increase or decrease the verbosity of the logging messages without changing a lot of code."
   ]
  },
  {
   "cell_type": "markdown",
   "id": "0dcdfafe",
   "metadata": {},
   "source": [
    "There are 5 different logging levels that indicate the severity of the logs, shown in increasing severity:\n",
    "\n",
    "- DEBUG\n",
    "- INFO\n",
    "- WARNING\n",
    "- ERROR\n",
    "- CRITICAL\n",
    "\n",
    "1. `debug` : These are used to give Detailed information, typically of interest only when diagnosing problems.\n",
    "2. `info` : These are used to confirm that things are working as expected\n",
    "3. `warning` : These are used an indication that something unexpected happened, or is indicative of some problem in the near future\n",
    "4. `error` : This tells that due to a more serious problem, the software has not been able to perform some function\n",
    "5. `critical` : This tells serious error, indicating that the program itself may be unable to continue running"
   ]
  },
  {
   "cell_type": "markdown",
   "id": "ab964971",
   "metadata": {},
   "source": [
    "A very simple example of logging is shown below, using the default logger or the root logger:"
   ]
  },
  {
   "cell_type": "code",
   "execution_count": 3,
   "id": "eefdea11",
   "metadata": {
    "ExecuteTime": {
     "end_time": "2023-05-20T21:17:20.273556Z",
     "start_time": "2023-05-20T21:17:20.254402Z"
    }
   },
   "outputs": [
    {
     "name": "stderr",
     "output_type": "stream",
     "text": [
      "WARNING:root:This is a warning message\n",
      "ERROR:root:This is an error message\n",
      "CRITICAL:root:This is a critical message\n"
     ]
    }
   ],
   "source": [
    "import logging\n",
    "logging.debug('This is a debug message')\n",
    "logging.info('This is an info message')\n",
    "logging.warning('This is a warning message')\n",
    "logging.error('This is an error message')\n",
    "logging.critical('This is a critical message')"
   ]
  },
  {
   "cell_type": "markdown",
   "id": "5afa8a0b",
   "metadata": {},
   "source": [
    "These will emit log messages of different severity. While there are five lines of logging, you may see only three lines of output if you run this script,\n",
    "```\n",
    "WARNING:root:This is a warning message\n",
    "ERROR:root:This is an error message\n",
    "CRITICAL:root:This is a critical message\n",
    "```\n",
    "\n",
    "This is because the root logger, by default, only prints the log messages of a severity level of WARNING or above. However, using the root logger this way is not much different from using the `print()` function."
   ]
  },
  {
   "cell_type": "markdown",
   "id": "1d98bd94",
   "metadata": {},
   "source": []
  },
  {
   "cell_type": "code",
   "execution_count": 18,
   "id": "da489de1",
   "metadata": {
    "ExecuteTime": {
     "end_time": "2023-05-20T22:13:16.864350Z",
     "start_time": "2023-05-20T22:13:16.846806Z"
    }
   },
   "outputs": [],
   "source": [
    "import logging\n",
    "\n",
    "logging.basicConfig(filename = 'file1.log',\n",
    "                    level = logging.DEBUG,\n",
    "                    format = '%(asctime)s:%(levelname)s:%(name)s:%(message)s',\n",
    "                    force=True)\n",
    "\n",
    "logging.debug('Debug message')\n",
    "logging.info('Info message')\n",
    "logging.warning('Warning message')\n",
    "logging.error('Error message')\n",
    "logging.critical('Critical message')"
   ]
  },
  {
   "cell_type": "markdown",
   "id": "dcdcb025",
   "metadata": {},
   "source": []
  },
  {
   "cell_type": "code",
   "execution_count": 19,
   "id": "1aaf4d5e",
   "metadata": {
    "ExecuteTime": {
     "end_time": "2023-05-20T22:13:17.418309Z",
     "start_time": "2023-05-20T22:13:17.396943Z"
    }
   },
   "outputs": [],
   "source": [
    "import logging\n",
    "logging.basicConfig(filename='example.log', encoding='utf-8', level=logging.DEBUG,force=True)\n",
    "logging.debug('This message should go to the log file')\n",
    "logging.info('So should this')\n",
    "logging.warning('And this, too')\n",
    "logging.error('And non-ASCII stuff, too, like Øresund and Malmö')"
   ]
  },
  {
   "cell_type": "markdown",
   "id": "26ed7980",
   "metadata": {},
   "source": []
  },
  {
   "cell_type": "code",
   "execution_count": null,
   "id": "cb363147",
   "metadata": {},
   "outputs": [],
   "source": []
  },
  {
   "cell_type": "code",
   "execution_count": null,
   "id": "50cc2cd6",
   "metadata": {},
   "outputs": [],
   "source": []
  },
  {
   "cell_type": "code",
   "execution_count": 20,
   "id": "39e9802d",
   "metadata": {
    "ExecuteTime": {
     "end_time": "2023-05-20T22:13:18.880152Z",
     "start_time": "2023-05-20T22:13:18.861077Z"
    }
   },
   "outputs": [
    {
     "name": "stderr",
     "output_type": "stream",
     "text": [
      "__main__ - WARNING - This is a warning\n",
      "__main__ - WARNING - This is a warning\n",
      "__main__ - ERROR - This is an error\n",
      "__main__ - ERROR - This is an error\n"
     ]
    }
   ],
   "source": [
    "import logging\n",
    "\n",
    "logger = logging.getLogger(__name__)\n",
    "\n",
    "# Create handlers\n",
    "stream_handler = logging.StreamHandler()\n",
    "file_handler = logging.FileHandler('file.log')\n",
    "\n",
    "# Configure level and formatter and add it to handlers\n",
    "stream_handler.setLevel(logging.WARNING) # warning and above is logged to the stream\n",
    "file_handler.setLevel(logging.ERROR) # error and above is logged to a file\n",
    "\n",
    "stream_format = logging.Formatter('%(name)s - %(levelname)s - %(message)s')\n",
    "file_format = logging.Formatter('%(asctime)s - %(name)s - %(levelname)s - %(message)s')\n",
    "stream_handler.setFormatter(stream_format)\n",
    "file_handler.setFormatter(file_format)\n",
    "\n",
    "# Add handlers to the logger\n",
    "logger.addHandler(stream_handler)\n",
    "logger.addHandler(file_handler)\n",
    "\n",
    "logger.warning('This is a warning') # logged to the stream\n",
    "logger.error('This is an error') # logged to the stream AND the file!"
   ]
  },
  {
   "cell_type": "code",
   "execution_count": null,
   "id": "0bb19dab",
   "metadata": {},
   "outputs": [],
   "source": []
  },
  {
   "cell_type": "code",
   "execution_count": null,
   "id": "b461ff99",
   "metadata": {},
   "outputs": [],
   "source": []
  },
  {
   "cell_type": "code",
   "execution_count": null,
   "id": "e1bb5b0d",
   "metadata": {},
   "outputs": [],
   "source": []
  },
  {
   "cell_type": "markdown",
   "id": "f14d8666",
   "metadata": {},
   "source": [
    "## JSON"
   ]
  },
  {
   "cell_type": "code",
   "execution_count": 21,
   "id": "7bbc9592",
   "metadata": {
    "ExecuteTime": {
     "end_time": "2023-05-20T22:16:16.481281Z",
     "start_time": "2023-05-20T22:16:16.463066Z"
    }
   },
   "outputs": [
    {
     "name": "stdout",
     "output_type": "stream",
     "text": [
      "{\"name\": \"John\", \"age\": 30, \"city\": \"New York\", \"hasChildren\": false, \"titles\": [\"engineer\", \"programmer\"]}\n",
      "{\n",
      "    \"age\"= 30; \n",
      "    \"city\"= \"New York\"; \n",
      "    \"hasChildren\"= false; \n",
      "    \"name\"= \"John\"; \n",
      "    \"titles\"= [\n",
      "        \"engineer\"; \n",
      "        \"programmer\"\n",
      "    ]\n",
      "}\n"
     ]
    }
   ],
   "source": [
    "import json\n",
    "\n",
    "person = {\"name\": \"John\", \"age\": 30, \"city\": \"New York\", \"hasChildren\": False, \"titles\": [\"engineer\", \"programmer\"]}\n",
    "\n",
    "# convert into JSON:\n",
    "person_json = json.dumps(person)\n",
    "# use different formatting style\n",
    "person_json2 = json.dumps(person, indent=4, separators=(\"; \", \"= \"), sort_keys=True)\n",
    "\n",
    "# the result is a JSON string:\n",
    "print(person_json) \n",
    "print(person_json2) "
   ]
  },
  {
   "cell_type": "code",
   "execution_count": null,
   "id": "9dbd35f1",
   "metadata": {},
   "outputs": [],
   "source": []
  },
  {
   "cell_type": "markdown",
   "id": "ae93d461",
   "metadata": {},
   "source": [
    "## Threading vs Multiprocessing"
   ]
  },
  {
   "cell_type": "markdown",
   "id": "09164fe0",
   "metadata": {},
   "source": [
    "- The threading module uses threads, the multiprocessing module uses processes. \n",
    "- The difference is that threads run in the same memory space, while processes have separate memory. \n",
    "- This makes it a bit harder to share objects between processes with multiprocessing. Since threads use the same memory, precautions have to be taken or two threads will write to the same memory at the same time. \n"
   ]
  },
  {
   "cell_type": "markdown",
   "id": "285ef11c",
   "metadata": {},
   "source": [
    "**Multiprocessing**\n",
    "\n",
    "*Pros*\n",
    "\n",
    "- Separate memory space\n",
    "- Code is usually straightforward\n",
    "- Takes advantage of multiple CPUs & cores\n",
    "- Avoids GIL limitations for cPython\n",
    "- Eliminates most needs for synchronization primitives unless if you use shared memory (instead, it's more of a communication model for IPC)\n",
    "- Child processes are interruptible/killable\n",
    "- Python multiprocessing module includes useful abstractions with an interface much like threading.Thread\n",
    "- A must with cPython for CPU-bound processing\n",
    "\n",
    "*Cons*\n",
    "\n",
    "- IPC a little more complicated with more overhead (communication model vs. shared memory/objects)\n",
    "- Larger memory footprint\n",
    "\n",
    "\n",
    "**Threading**\n",
    "\n",
    "*Pros*\n",
    "\n",
    "- Lightweight - low memory footprint\n",
    "- Shared memory - makes access to state from another context easier\n",
    "- Allows you to easily make responsive UIs\n",
    "- cPython C extension modules that properly release the GIL will run in parallel\n",
    "- Great option for I/O-bound applications\n",
    "\n",
    "*Cons*\n",
    "\n",
    "- cPython - subject to the GIL\n",
    "- Not interruptible/killable\n",
    "- If not following a command queue/message pump model (using the Queue module), then manual use of synchronization - primitives become a necessity (decisions are needed for the granularity of locking)\n",
    "- Code is usually harder to understand and to get right - the potential for race conditions increases dramatically"
   ]
  },
  {
   "cell_type": "markdown",
   "id": "f36cc230",
   "metadata": {},
   "source": [
    "### Process\n",
    "\n",
    "- A Process is an instance of a program, e.g. a Python interpreter. They are independent from each other and do not share the same memory.\n",
    "\n",
    "Key facts: \n",
    "\n",
    "    - A new process is started independently from the first process \n",
    "    - Takes advantage of multiple CPUs and cores - Separate memory space \n",
    "    - Memory is not shared between processes \n",
    "    - One GIL (Global interpreter lock) for each process, i.e. avoids GIL limitation \n",
    "    - Great for CPU-bound processing \n",
    "    - Child processes are interruptable/killable\n",
    "\n",
    "- *Starting a process is slower that starting a thread*\n",
    "- *Larger memory footprint*\n",
    "- *IPC (inter-process communication) is more complicated*"
   ]
  },
  {
   "cell_type": "markdown",
   "id": "28658749",
   "metadata": {},
   "source": [
    "### Threads\n",
    "\n",
    "- A thread is an entity within a process that can be scheduled for execution (Also known as \"leightweight process\"). A Process can spawn multiple threads. \n",
    "- The main difference is that all threads within a process share the same memory.\n",
    "\n",
    "Key facts: \n",
    "\n",
    "    - Multiple threads can be spawned within one process \n",
    "    - Memory is shared between all threads \n",
    "    - Starting a thread is faster than starting a process \n",
    "    - Great for I/O-bound tasks \n",
    "    - Leightweight \n",
    "    - low memory footprint\n",
    "\n",
    "- One GIL for all threads, i.e. threads are limited by GIL\n",
    "- Multithreading has no effect for CPU-bound tasks due to the GIL\n",
    "- Not interruptible/killable -> be careful with memory leaks\n",
    "- increased potential for race conditions"
   ]
  },
  {
   "cell_type": "markdown",
   "id": "72948717",
   "metadata": {},
   "source": [
    "### Threading in Python\n",
    "\n",
    "Use the `threading` module.\n",
    "\n",
    "Note: The following example usually won't benefit from multiple threads since it is CPU-bound. It should just show the example of how to use threads."
   ]
  },
  {
   "cell_type": "code",
   "execution_count": 44,
   "id": "18452382",
   "metadata": {
    "ExecuteTime": {
     "end_time": "2023-05-22T20:12:33.605097Z",
     "start_time": "2023-05-22T20:12:33.594051Z"
    }
   },
   "outputs": [],
   "source": [
    "from threading import Thread\n",
    "\n",
    "def square_numbers():\n",
    "    for i in range(1000):\n",
    "        result = i * i\n",
    "\n",
    "\n",
    "if __name__ == \"__main__\":        \n",
    "    threads = []\n",
    "    num_threads = 10\n",
    "\n",
    "    # create threads and asign a function for each thread\n",
    "    for i in range(num_threads):\n",
    "        thread = Thread(target=square_numbers)\n",
    "        threads.append(thread)\n",
    "\n",
    "    # start all threads\n",
    "    for thread in threads:\n",
    "        thread.start()\n",
    "\n",
    "    # wait for all threads to finish\n",
    "    # block the main thread until these threads are finished\n",
    "    for thread in threads:\n",
    "        thread.join()"
   ]
  },
  {
   "cell_type": "code",
   "execution_count": 43,
   "id": "1c64eecd",
   "metadata": {
    "ExecuteTime": {
     "end_time": "2023-05-22T20:12:08.289301Z",
     "start_time": "2023-05-22T20:12:08.260747Z"
    }
   },
   "outputs": [
    {
     "data": {
      "text/plain": [
       "998001"
      ]
     },
     "execution_count": 43,
     "metadata": {},
     "output_type": "execute_result"
    }
   ],
   "source": [
    "square_numbers()"
   ]
  },
  {
   "cell_type": "code",
   "execution_count": 3,
   "id": "065278de",
   "metadata": {
    "ExecuteTime": {
     "end_time": "2023-05-28T07:20:11.590373Z",
     "start_time": "2023-05-28T07:20:11.585259Z"
    }
   },
   "outputs": [],
   "source": [
    "# !systeminfo "
   ]
  },
  {
   "cell_type": "markdown",
   "id": "f617e87b",
   "metadata": {},
   "source": [
    "### Example: **Mean of 100 Million observations**"
   ]
  },
  {
   "cell_type": "code",
   "execution_count": 4,
   "id": "b8bdbc01",
   "metadata": {
    "ExecuteTime": {
     "end_time": "2023-05-28T07:56:51.103119Z",
     "start_time": "2023-05-28T07:56:50.344261Z"
    }
   },
   "outputs": [
    {
     "name": "stdout",
     "output_type": "stream",
     "text": [
      "(100000000,)\n"
     ]
    }
   ],
   "source": [
    "# Generate random 100MM data points \n",
    "import numpy as np\n",
    "n =100000000\n",
    "d = np.random.rand(n)\n",
    "print(d.shape)"
   ]
  },
  {
   "cell_type": "code",
   "execution_count": 7,
   "id": "c860e74b",
   "metadata": {
    "ExecuteTime": {
     "end_time": "2023-05-28T07:59:24.933205Z",
     "start_time": "2023-05-28T07:59:15.678035Z"
    }
   },
   "outputs": [
    {
     "name": "stdout",
     "output_type": "stream",
     "text": [
      "9.240562200546265\n",
      "0.5000171647352617\n"
     ]
    }
   ],
   "source": [
    "import time\n",
    "def mean():\n",
    "\n",
    "  #Sum using for loops. We can use inbuilt NumPy Sum opeartion for better speed.\n",
    "  sum = 0\n",
    "  n=d.size\n",
    "  for i in range(n):\n",
    "    sum +=d[i]\n",
    "\n",
    "  #Mean\n",
    "  mean = sum/n\n",
    "  return mean\n",
    "\n",
    "\n",
    "#Time the execution\n",
    "start_time = time.time()\n",
    "m = mean() # compute mean of 100MM numbers.\n",
    "end_time = time.time()\n",
    "print (end_time-start_time)\n",
    "print(m)"
   ]
  },
  {
   "cell_type": "markdown",
   "id": "ab21b135",
   "metadata": {},
   "source": [
    "### Multiprocessing"
   ]
  },
  {
   "cell_type": "markdown",
   "id": "c81caa60",
   "metadata": {},
   "source": [
    "**Multi-Processing Code**"
   ]
  },
  {
   "cell_type": "code",
   "execution_count": 8,
   "id": "e606b551",
   "metadata": {
    "ExecuteTime": {
     "end_time": "2023-05-28T07:59:38.538326Z",
     "start_time": "2023-05-28T07:59:38.392254Z"
    }
   },
   "outputs": [
    {
     "name": "stdout",
     "output_type": "stream",
     "text": [
      "0.1225745677947998\n",
      "0.0\n"
     ]
    }
   ],
   "source": [
    "#Refer: https://docs.python.org/3/library/multiprocessing.html\n",
    "from multiprocessing import Process, Queue\n",
    "import math\n",
    "\n",
    "def mean_MP(s, e, q ):\n",
    "\n",
    "  #Sum using for loops. We can use inbuilt NumPy Sum opeartion for better speed.\n",
    "  sum = 0\n",
    "  for i in range(s,e+1):\n",
    "    sum +=d[i]\n",
    "\n",
    "  #Mean\n",
    "  mean = sum/(e-s+1)\n",
    "  q.put(mean)\n",
    "  return \n",
    "\n",
    "n1 = math.floor(n/2)\n",
    "\n",
    "q = Queue() #Queues are thread and process safe. For communicating between processes and threads.\n",
    "\n",
    "p1 = Process(target=mean_MP, args=(0, n1,q )) \n",
    "p2 = Process(target=mean_MP, args=(n1+1,n-1, q)) \n",
    "\n",
    "\n",
    "#Time the execution\n",
    "start_time = time.time()\n",
    "\n",
    "p1.start()\n",
    "p2.start()\n",
    "\n",
    "p1.join() # Wait till p1 finishes\n",
    "p2.join() \n",
    "\n",
    "m=0;\n",
    "while not q.empty():\n",
    "     m += q.get()\n",
    "\n",
    "m /= 2;\n",
    "    \n",
    "end_time = time.time()\n",
    "print (end_time-start_time)\n",
    "print(m)\n"
   ]
  },
  {
   "cell_type": "code",
   "execution_count": null,
   "id": "aeecbe6f",
   "metadata": {},
   "outputs": [],
   "source": []
  },
  {
   "cell_type": "markdown",
   "id": "4e354b81",
   "metadata": {},
   "source": [
    "### Multithreading"
   ]
  },
  {
   "cell_type": "code",
   "execution_count": 9,
   "id": "d0acc804",
   "metadata": {
    "ExecuteTime": {
     "end_time": "2023-05-28T08:00:53.487160Z",
     "start_time": "2023-05-28T08:00:43.911386Z"
    }
   },
   "outputs": [
    {
     "name": "stdout",
     "output_type": "stream",
     "text": [
      "9.567532539367676\n",
      "0.5000171647347875\n"
     ]
    }
   ],
   "source": [
    "#Refer: https://docs.python.org/3/library/threading.html\n",
    "from threading import Thread\n",
    "\n",
    "\n",
    "means = [0,0];\n",
    "\n",
    "def mean_MT(s, e, threadNum ):\n",
    "\n",
    "  #Sum using for loops. We can use inbuilt NumPy Sum opeartion for better speed.\n",
    "  sum = 0\n",
    "  for i in range(s,e+1):\n",
    "    sum +=d[i]\n",
    "\n",
    "  #Mean\n",
    "  mean = sum/(e-s+1)\n",
    "  means[threadNum] = mean; # means is a shared varibale between the threads\n",
    "\n",
    "  return \n",
    "\n",
    "n1 = math.floor(n/2)\n",
    "\n",
    "t1 = Thread(target=mean_MT, args=(0, n1,0 ))  # Third apram is the thread number\n",
    "t2 = Thread(target=mean_MT, args=(n1+1,n-1,1)) \n",
    "\n",
    "#Time the execution\n",
    "start_time = time.time()\n",
    "\n",
    "t1.start()\n",
    "t2.start()\n",
    "\n",
    "t1.join() # Wait till t1 finishes\n",
    "t2.join() \n",
    "\n",
    "m = (means[0]+means[1])/2\n",
    "    \n",
    "end_time = time.time()\n",
    "print (end_time-start_time)\n",
    "print(m)\n",
    "\n"
   ]
  },
  {
   "cell_type": "markdown",
   "id": "bc77305c",
   "metadata": {},
   "source": [
    "### Joblib"
   ]
  },
  {
   "cell_type": "markdown",
   "id": "dd8f9090",
   "metadata": {
    "ExecuteTime": {
     "end_time": "2023-05-28T08:08:13.502567Z",
     "start_time": "2023-05-28T08:08:13.499235Z"
    }
   },
   "source": [
    "`!pip install joblib`"
   ]
  },
  {
   "cell_type": "markdown",
   "id": "d8b9658d",
   "metadata": {},
   "source": [
    "- Joblib is one such python library that provides easy to use interface for performing parallel programming/computing in python. \n",
    "- The machine learning library `scikit-learn` also uses `joblib` behind the scene for running its algorithms in paralle\n"
   ]
  },
  {
   "cell_type": "markdown",
   "id": "b43dcb58",
   "metadata": {},
   "source": [
    " #### Caching of function output values"
   ]
  },
  {
   "cell_type": "markdown",
   "id": "fbb8edd8",
   "metadata": {},
   "source": [
    "- Separate persistence and flow-execution logic from domain logic or algorithmic code by writing the operations as a set of steps with well-defined inputs and outputs: Python functions. \n",
    "- Joblib can save their computation to disk and rerun it only if necessary:"
   ]
  },
  {
   "cell_type": "code",
   "execution_count": 3,
   "id": "d460e2e2",
   "metadata": {
    "ExecuteTime": {
     "end_time": "2023-05-28T08:10:11.159479Z",
     "start_time": "2023-05-28T08:10:11.133343Z"
    }
   },
   "outputs": [
    {
     "name": "stdout",
     "output_type": "stream",
     "text": [
      "[[ 0.  0.  0.  1.]\n",
      " [ 1.  1.  1.  1.]\n",
      " [ 8.  4.  2.  1.]\n",
      " [27.  9.  3.  1.]]\n",
      "________________________________________________________________________________\n",
      "[Memory] Calling square...\n",
      "square(array([[ 0.,  0.,  0.,  1.],\n",
      "       [ 1.,  1.,  1.,  1.],\n",
      "       [ 8.,  4.,  2.,  1.],\n",
      "       [27.,  9.,  3.,  1.]]))\n",
      "___________________________________________________________square - 0.0s, 0.0min\n",
      "[[  0.   0.   0.   1.]\n",
      " [  1.   1.   1.   1.]\n",
      " [ 64.  16.   4.   1.]\n",
      " [729.  81.   9.   1.]]\n"
     ]
    }
   ],
   "source": [
    "\n",
    "#Transparent and fast disk-caching of output value\n",
    "# Refer: https://joblib.readthedocs.io/en/latest/\n",
    "from joblib import Memory\n",
    "cachedir = './'\n",
    "mem = Memory(cachedir)\n",
    "\n",
    "import numpy as np\n",
    "a = np.vander(np.arange(4)).astype(float)\n",
    "square = mem.cache(np.square)\n",
    "print(a)\n",
    "\n",
    "b = square(a)    \n",
    "print(b)"
   ]
  },
  {
   "cell_type": "code",
   "execution_count": 4,
   "id": "38eeb902",
   "metadata": {
    "ExecuteTime": {
     "end_time": "2023-05-28T08:10:15.419062Z",
     "start_time": "2023-05-28T08:10:15.410863Z"
    }
   },
   "outputs": [
    {
     "name": "stdout",
     "output_type": "stream",
     "text": [
      "[[  0.   0.   0.   1.]\n",
      " [  1.   1.   1.   1.]\n",
      " [ 64.  16.   4.   1.]\n",
      " [729.  81.   9.   1.]]\n"
     ]
    }
   ],
   "source": [
    "c = square(a)\n",
    "# The above call did not trigger an evaluation\n",
    "print(c)"
   ]
  },
  {
   "cell_type": "markdown",
   "id": "c1ca134a",
   "metadata": {},
   "source": [
    "#### Simple Parallel programming for Loops"
   ]
  },
  {
   "cell_type": "markdown",
   "id": "cd80fcd4",
   "metadata": {},
   "source": [
    "Below is a list of simple steps to use \"Joblib\" for parallel computing.\n",
    "\n",
    "- Wrap normal python function calls into delayed() method of joblib.\n",
    "- Create Parallel object with a number of processes/threads to use for parallel computing.\n",
    "- Pass the list of delayed wrapped functions to an instance of Parallel. It'll run them all in parallel and return the result as a list."
   ]
  },
  {
   "cell_type": "code",
   "execution_count": 39,
   "id": "12b0ae03",
   "metadata": {
    "ExecuteTime": {
     "end_time": "2023-05-28T17:00:22.749298Z",
     "start_time": "2023-05-28T17:00:22.739041Z"
    }
   },
   "outputs": [],
   "source": [
    "def calculate_time(func):\n",
    "\n",
    "    def inner1(*args, **kwargs):\n",
    "        begin = time.time()\n",
    "        \n",
    "        returned_value=func(*args, **kwargs)\n",
    "        end = time.time()\n",
    "        print(\"Total time taken in : \", func.__name__, end - begin)\n",
    "        return returned_value\n",
    "    return inner1\n",
    "\n",
    "import time\n",
    "from math import sqrt # inbuilt fucntion\n",
    "\n",
    "@calculate_time\n",
    "def f(i): \n",
    "    \n",
    "    # some computations  that take time\n",
    "    x=10000\n",
    "    p =1;\n",
    "    for j in range(x):\n",
    "        for k in range(j):\n",
    "            p *= k\n",
    "    \n",
    "    return sqrt(i ** 2);\n",
    "\n",
    "# Find sqrt of first n numbers\n",
    "n=10;\n",
    "\n",
    "# start_time = time.time()\n",
    "for i in range(n):\n",
    "    print(f(i))\n",
    "\n",
    "# end_time = time.time()\n",
    "# print (end_time-start_time)"
   ]
  },
  {
   "cell_type": "code",
   "execution_count": 5,
   "id": "fba0239d",
   "metadata": {
    "ExecuteTime": {
     "end_time": "2023-05-28T08:15:18.002551Z",
     "start_time": "2023-05-28T08:15:04.886932Z"
    }
   },
   "outputs": [
    {
     "name": "stdout",
     "output_type": "stream",
     "text": [
      "13.10816764831543\n"
     ]
    }
   ],
   "source": [
    "# Refer: https://joblib.readthedocs.io/en/latest/generated/joblib.Parallel.html\n",
    "\n",
    "import time\n",
    "from math import sqrt # inbuilt fucntion\n",
    "\n",
    "def f(i): \n",
    "    \n",
    "    # some computations  that take time\n",
    "    x=10000\n",
    "    p =1;\n",
    "    for j in range(x):\n",
    "        for k in range(j):\n",
    "            p *= k\n",
    "    \n",
    "    return sqrt(i ** 2);\n",
    "\n",
    "# Find sqrt of first n numbers\n",
    "n=10;\n",
    "\n",
    "start_time = time.time()\n",
    "\n",
    "for i in range(n):\n",
    "    f(i)\n",
    "\n",
    "end_time = time.time()\n",
    "print (end_time-start_time)"
   ]
  },
  {
   "cell_type": "markdown",
   "id": "772ae522",
   "metadata": {},
   "source": [
    "- Below we have converted our sequential code written above into parallel using joblib. \n",
    "- We have first given function name as input to `delayed` function of joblib and then called `delayed` function by passing arguments. \n",
    "- This will create a `delayed` function that won't execute immediately.\n",
    "\n",
    "- We then create a Parallel object by setting `n_jobs` argument as the number of cores available in the computer. \n",
    "- joblib provides a method named `cpu_count()` which returns a number of cores on a computer. \n",
    "- It'll then create a parallel pool with that many processes available for processing in parallel."
   ]
  },
  {
   "cell_type": "markdown",
   "id": "04505516",
   "metadata": {},
   "source": [
    "**Multi-Processing** `n_jobs=2`"
   ]
  },
  {
   "cell_type": "code",
   "execution_count": 6,
   "id": "013aed62",
   "metadata": {
    "ExecuteTime": {
     "end_time": "2023-05-28T08:15:48.748878Z",
     "start_time": "2023-05-28T08:15:40.896353Z"
    }
   },
   "outputs": [
    {
     "name": "stdout",
     "output_type": "stream",
     "text": [
      "7.84437108039856\n"
     ]
    }
   ],
   "source": [
    "from joblib import Parallel, delayed\n",
    "\n",
    "start_time = time.time()\n",
    "\n",
    "a = Parallel(n_jobs=2)(delayed(f)(i) for i in range(n)) \n",
    "\n",
    "# Why we need dealyed(): https://stackoverflow.com/questions/42220458/what-does-the-delayed-function-do-when-used-with-joblib-in-python\n",
    "\n",
    "end_time = time.time()\n",
    "print (end_time-start_time)"
   ]
  },
  {
   "cell_type": "markdown",
   "id": "584d22fa",
   "metadata": {},
   "source": [
    "**Multi threading**"
   ]
  },
  {
   "cell_type": "code",
   "execution_count": 7,
   "id": "ab04f633",
   "metadata": {
    "ExecuteTime": {
     "end_time": "2023-05-28T08:16:09.002849Z",
     "start_time": "2023-05-28T08:15:55.412189Z"
    }
   },
   "outputs": [
    {
     "name": "stdout",
     "output_type": "stream",
     "text": [
      "13.572847843170166\n"
     ]
    }
   ],
   "source": [
    "# Multi threading: GIL is an issue\n",
    "start_time = time.time()\n",
    "\n",
    "a = Parallel(n_jobs=2,prefer=\"threads\")(delayed(f)(i) for i in range(n))\n",
    "\n",
    "end_time = time.time()\n",
    "print (end_time-start_time)"
   ]
  },
  {
   "cell_type": "markdown",
   "id": "5966d6b1",
   "metadata": {
    "ExecuteTime": {
     "end_time": "2023-05-28T13:46:35.008562Z",
     "start_time": "2023-05-28T13:46:34.991872Z"
    }
   },
   "source": [
    "**Multi-Processing** `n_jobs=6`"
   ]
  },
  {
   "cell_type": "code",
   "execution_count": 9,
   "id": "f33ad8d5",
   "metadata": {
    "ExecuteTime": {
     "end_time": "2023-05-28T08:17:32.416233Z",
     "start_time": "2023-05-28T08:17:27.917022Z"
    }
   },
   "outputs": [
    {
     "name": "stdout",
     "output_type": "stream",
     "text": [
      "4.4876134395599365\n"
     ]
    }
   ],
   "source": [
    "\n",
    "# 6 jobs\n",
    "\n",
    "from joblib import Parallel, delayed\n",
    "\n",
    "start_time = time.time()\n",
    "\n",
    "a = Parallel(n_jobs=6)(delayed(f)(i) for i in range(n)) \n",
    "\n",
    "# Why we need dealyed(): https://stackoverflow.com/questions/42220458/what-does-the-delayed-function-do-when-used-with-joblib-in-python\n",
    "\n",
    "end_time = time.time()\n",
    "print (end_time-start_time)"
   ]
  },
  {
   "cell_type": "markdown",
   "id": "b3d189ae",
   "metadata": {
    "ExecuteTime": {
     "end_time": "2023-05-28T13:47:00.426833Z",
     "start_time": "2023-05-28T13:47:00.416010Z"
    }
   },
   "source": [
    "**Multi-Processing** `n_jobs=-1`"
   ]
  },
  {
   "cell_type": "code",
   "execution_count": 10,
   "id": "e4a00f27",
   "metadata": {
    "ExecuteTime": {
     "end_time": "2023-05-28T08:17:37.148309Z",
     "start_time": "2023-05-28T08:17:32.454978Z"
    }
   },
   "outputs": [
    {
     "name": "stdout",
     "output_type": "stream",
     "text": [
      "4.683947801589966\n"
     ]
    }
   ],
   "source": [
    "# -1 jobs\n",
    "\n",
    "from joblib import Parallel, delayed\n",
    "\n",
    "start_time = time.time()\n",
    "\n",
    "a = Parallel(n_jobs=-1)(delayed(f)(i) for i in range(n)) \n",
    "\n",
    "# Why we need dealyed(): https://stackoverflow.com/questions/42220458/what-does-the-delayed-function-do-when-used-with-joblib-in-python\n",
    "\n",
    "end_time = time.time()\n",
    "print (end_time-start_time)"
   ]
  },
  {
   "cell_type": "markdown",
   "id": "537e5eee",
   "metadata": {},
   "source": [
    "### numba"
   ]
  },
  {
   "cell_type": "markdown",
   "id": "d4ebc821",
   "metadata": {},
   "source": [
    "Numba is an open source **JIT** compiler that translates a subset of Python and NumPy code into fast machine code."
   ]
  },
  {
   "cell_type": "markdown",
   "id": "d886295a",
   "metadata": {
    "ExecuteTime": {
     "end_time": "2023-05-28T11:40:20.096942Z",
     "start_time": "2023-05-28T11:40:20.070262Z"
    }
   },
   "source": [
    "`! pip install numba`\n",
    "\n",
    "https://numba.pydata.org/"
   ]
  },
  {
   "cell_type": "markdown",
   "id": "c36e96c2",
   "metadata": {},
   "source": [
    "#### Matrix Multiplication: NumPy vs Numba"
   ]
  },
  {
   "cell_type": "markdown",
   "id": "867462cf",
   "metadata": {},
   "source": [
    "*Matrix multiplication without any library*"
   ]
  },
  {
   "cell_type": "code",
   "execution_count": 14,
   "id": "0ba2c4a1",
   "metadata": {
    "ExecuteTime": {
     "end_time": "2023-05-28T08:34:38.551367Z",
     "start_time": "2023-05-28T08:21:08.097148Z"
    }
   },
   "outputs": [
    {
     "name": "stdout",
     "output_type": "stream",
     "text": [
      "810.4455978870392\n"
     ]
    }
   ],
   "source": [
    "def mat_mult1(A, B):\n",
    "    assert A.shape[1] == B.shape[0]\n",
    "    res = np.zeros((A.shape[0], B.shape[1]), )\n",
    "    for i in range(A.shape[0]):\n",
    "        for k in range(A.shape[1]):\n",
    "            for j in range(B.shape[1]):\n",
    "                res[i,j] += A[i,k] * B[k,j]\n",
    "    return res\n",
    "\n",
    "\n",
    "start_time = time.time()\n",
    "res = mat_mult1(A,B)\n",
    "\n",
    "end_time = time.time()\n",
    "print (end_time-start_time)"
   ]
  },
  {
   "cell_type": "markdown",
   "id": "44ead3a3",
   "metadata": {},
   "source": [
    "*Matrix multiplication via `numpy`*"
   ]
  },
  {
   "cell_type": "code",
   "execution_count": 18,
   "id": "a58bece7",
   "metadata": {
    "ExecuteTime": {
     "end_time": "2023-05-28T13:54:56.592879Z",
     "start_time": "2023-05-28T13:54:52.910804Z"
    }
   },
   "outputs": [
    {
     "name": "stdout",
     "output_type": "stream",
     "text": [
      "3.668886184692383\n"
     ]
    }
   ],
   "source": [
    "start_time = time.time()\n",
    "\n",
    "res = np.matmul(A,B)\n",
    "\n",
    "end_time = time.time()\n",
    "print (end_time-start_time)"
   ]
  },
  {
   "cell_type": "markdown",
   "id": "1f122338",
   "metadata": {},
   "source": [
    "**Matrix multiplcation via `numba`**"
   ]
  },
  {
   "cell_type": "code",
   "execution_count": 19,
   "id": "393bd525",
   "metadata": {
    "ExecuteTime": {
     "end_time": "2023-05-28T13:54:59.548709Z",
     "start_time": "2023-05-28T13:54:58.624129Z"
    }
   },
   "outputs": [
    {
     "name": "stdout",
     "output_type": "stream",
     "text": [
      "0.8644311428070068\n"
     ]
    }
   ],
   "source": [
    "import numpy as np\n",
    "import time\n",
    "from numba import njit, prange\n",
    "\n",
    "@njit(parallel=True)\n",
    "def mat_mult(A, B):\n",
    "    assert A.shape[1] == B.shape[0]\n",
    "    res = np.zeros((A.shape[0], B.shape[1]), )\n",
    "    for i in prange(A.shape[0]):\n",
    "        for k in range(A.shape[1]):\n",
    "            for j in range(B.shape[1]):\n",
    "                res[i,j] += A[i,k] * B[k,j]\n",
    "    return res\n",
    "\n",
    "m, n, c = 1000, 1500, 1200\n",
    "A = np.random.randint(1, 50, size = (m, n))\n",
    "B = np.random.randint(1, 50, size = (n, c))\n",
    "\n",
    "start_time = time.time()\n",
    "\n",
    "res = mat_mult(A, B)\n",
    "\n",
    "end_time = time.time()\n",
    "print (end_time-start_time)"
   ]
  },
  {
   "cell_type": "markdown",
   "id": "0b85cb8a",
   "metadata": {},
   "source": [
    "Time taken:\n",
    "\n",
    "- Matrix multiplication without any library: 810.4455978870392 sec\n",
    "- Matrix multiplication via numpy:3.775667190551758 sec \n",
    "- Matrix multiplcation via numba: 0.8644311428070068 sec\n",
    "\n",
    "Here we can see the difference"
   ]
  },
  {
   "cell_type": "markdown",
   "id": "5e4b81fe",
   "metadata": {},
   "source": [
    "## Shallow vs Deep Copying"
   ]
  },
  {
   "cell_type": "markdown",
   "id": "0fa71309",
   "metadata": {},
   "source": [
    "**Source**\n",
    "- [Shallow Copy and Deep Copy](https://www.programiz.com/python-programming/shallow-deep-copy)\n",
    "\n",
    "- [Shallow Copy and Deep Copy](https://www.python-engineer.com/courses/advancedpython/20-copy/)"
   ]
  },
  {
   "cell_type": "markdown",
   "id": "7c78f558",
   "metadata": {},
   "source": [
    "- The assignment operator `=` is used to create the copy of the Python object, but this is not true; it only create the binding between a target and object. \n",
    "- When we use the assignment operator, *instead of creating a new object, it creates a new variable that shares the old object's reference.*\n",
    "\n",
    "- The copies are helpful when a user wants to make changes without modifying the original object at the same time. A user also prefers to create a copy to work with mutable objects.\n",
    "\n",
    "Let's understand the following example."
   ]
  },
  {
   "cell_type": "code",
   "execution_count": 30,
   "id": "c5afcc57",
   "metadata": {
    "ExecuteTime": {
     "end_time": "2023-05-20T23:30:36.620812Z",
     "start_time": "2023-05-20T23:30:36.611944Z"
    }
   },
   "outputs": [
    {
     "name": "stdout",
     "output_type": "stream",
     "text": [
      "Old List: [[1, 2, 3], [4, 5, 'a'], [7, 8, 9]]\n",
      "ID of Old List: 2096689538112\n",
      "New List: [[1, 2, 3], [4, 5, 'a'], [7, 8, 9]]\n",
      "ID of New List: 2096689538112\n"
     ]
    }
   ],
   "source": [
    "list1 = [[1, 2, 3], [4, 5, 6], [7, 8, 9]]  \n",
    "list2 = list1  \n",
    "  \n",
    "list2[1][2] = \"a\"  \n",
    "  \n",
    "print('Old List:', list1)  \n",
    "print('ID of Old List:', id(list1))  \n",
    "  \n",
    "print('New List:', list2)  \n",
    "print('ID of New List:', id(list2))  "
   ]
  },
  {
   "cell_type": "markdown",
   "id": "f39d1b62",
   "metadata": {},
   "source": [
    "- In the above output, we can see that both variable list1 and list2 share the same id `2096689538112`.\n",
    "\n",
    "- If we make any changes in any value in list1 or list2, the change will reflect in both."
   ]
  },
  {
   "cell_type": "markdown",
   "id": "92ca1a99",
   "metadata": {},
   "source": [
    "**Example: Adding `[4, 4, 4]` to old_list, using shallow copy**"
   ]
  },
  {
   "cell_type": "code",
   "execution_count": 36,
   "id": "1e23b61e",
   "metadata": {
    "ExecuteTime": {
     "end_time": "2023-05-20T23:46:50.565942Z",
     "start_time": "2023-05-20T23:46:50.554096Z"
    }
   },
   "outputs": [
    {
     "name": "stdout",
     "output_type": "stream",
     "text": [
      "Old list: [[1, 1, 1], [2, 2, 2], [3, 3, 3], [4, 4, 4]]\n",
      "New list: [[1, 1, 1], [2, 2, 2], [3, 3, 3], [4, 4, 4]]\n"
     ]
    }
   ],
   "source": [
    "old_list = [[1, 1, 1], [2, 2, 2], [3, 3, 3]]\n",
    "new_list = old_list\n",
    "\n",
    "old_list.append([4, 4, 4])\n",
    "\n",
    "print(\"Old list:\", old_list)\n",
    "print(\"New list:\", new_list)"
   ]
  },
  {
   "cell_type": "markdown",
   "id": "6d43d2c0",
   "metadata": {},
   "source": [
    "### Types of Copies in Python\n",
    "\n",
    "- The main motive is to create a copy of Python object that we can modify the copy without changing the original data. \n",
    "- In Python, there are two methods to create copies.\n",
    "\n",
    "    - Shallow Copy\n",
    "    - Deep Copy\n",
    "\n",
    "We will use the `copy` module to create the above copies."
   ]
  },
  {
   "cell_type": "markdown",
   "id": "504a754b",
   "metadata": {},
   "source": [
    "### Shallow:\n",
    "\n",
    "Before Copy Shallow Copying Shallow Done\n",
    "\n",
    "![](https://i.stack.imgur.com/49psq.png)\n",
    "![](https://i.stack.imgur.com/qqE2L.png)\n",
    "![](https://i.stack.imgur.com/cys27.png)\n",
    "\n",
    "The variables A and B refer to different areas of memory, when B is assigned to A the two variables refer to the same area of memory. \n",
    "Later modifications to the contents of either are instantly reflected in the contents of other, as they share contents."
   ]
  },
  {
   "cell_type": "markdown",
   "id": "96f80fa2",
   "metadata": {},
   "source": [
    "- Shallow copies duplicate as little as possible.\n",
    "- A shallow copy of a collection is a copy of the collection structure, not the elements.\n",
    "- With a shallow copy, two collections now share the individual elements."
   ]
  },
  {
   "cell_type": "code",
   "execution_count": 33,
   "id": "05986589",
   "metadata": {
    "ExecuteTime": {
     "end_time": "2023-05-20T23:39:52.458462Z",
     "start_time": "2023-05-20T23:39:52.439021Z"
    }
   },
   "outputs": [
    {
     "name": "stdout",
     "output_type": "stream",
     "text": [
      "Old List: [1, 7, [10, 5], 8]\n",
      "ID of Old List: 2096687213248\n",
      "New List: [1, 7, [10, 5], 8]\n",
      "ID of New List: 2096690497600\n"
     ]
    }
   ],
   "source": [
    "# importing \"copy\" for copy operations   \n",
    "import copy   \n",
    "  \n",
    "# initializing list 1   \n",
    "list1 = [1, 7, [3,5], 8]   \n",
    "  \n",
    "# using copy to shallow copy   \n",
    "list2 = copy.copy(list1)   \n",
    " \n",
    "list2[2][0] = 10     \n",
    "    \n",
    "print('Old List:', list1)  \n",
    "print('ID of Old List:', id(list1))  \n",
    "  \n",
    "print('New List:', list2)  \n",
    "print('ID of New List:', id(list2)) "
   ]
  },
  {
   "cell_type": "markdown",
   "id": "704c9ffd",
   "metadata": {},
   "source": [
    "**Example: Adding `[4, 4, 4]` to old_list, using shallow copy**"
   ]
  },
  {
   "cell_type": "code",
   "execution_count": 37,
   "id": "060ad09e",
   "metadata": {
    "ExecuteTime": {
     "end_time": "2023-05-20T23:47:37.757865Z",
     "start_time": "2023-05-20T23:47:37.740758Z"
    }
   },
   "outputs": [
    {
     "name": "stdout",
     "output_type": "stream",
     "text": [
      "Old list: [[1, 1, 1], [2, 2, 2], [3, 3, 3], [4, 4, 4]]\n",
      "New list: [[1, 1, 1], [2, 2, 2], [3, 3, 3]]\n"
     ]
    }
   ],
   "source": [
    "import copy\n",
    "\n",
    "old_list = [[1, 1, 1], [2, 2, 2], [3, 3, 3]]\n",
    "new_list = copy.copy(old_list)\n",
    "\n",
    "old_list.append([4, 4, 4])\n",
    "\n",
    "print(\"Old list:\", old_list)\n",
    "print(\"New list:\", new_list)"
   ]
  },
  {
   "cell_type": "markdown",
   "id": "d37be4fd",
   "metadata": {},
   "source": [
    "- In the above program, we created a shallow copy of `old_list`. \n",
    "- The `new_list` contains references to original nested objects stored in `old_list`.\n",
    "- Then we add the new list i.e `[4, 4, 4]` into `old_list`. This new sublist was not copied in `new_list`.\n",
    "\n",
    "*However, when you change any nested objects in `old_list`, the changes appear in `new_list`.*"
   ]
  },
  {
   "cell_type": "code",
   "execution_count": 38,
   "id": "9125c0d0",
   "metadata": {
    "ExecuteTime": {
     "end_time": "2023-05-20T23:47:54.177014Z",
     "start_time": "2023-05-20T23:47:54.154397Z"
    }
   },
   "outputs": [
    {
     "name": "stdout",
     "output_type": "stream",
     "text": [
      "Old list: [[1, 1, 1], [2, 'AA', 2], [3, 3, 3]]\n",
      "New list: [[1, 1, 1], [2, 'AA', 2], [3, 3, 3]]\n"
     ]
    }
   ],
   "source": [
    "import copy\n",
    "\n",
    "old_list = [[1, 1, 1], [2, 2, 2], [3, 3, 3]]\n",
    "new_list = copy.copy(old_list)\n",
    "\n",
    "old_list[1][1] = 'AA'\n",
    "\n",
    "print(\"Old list:\", old_list)\n",
    "print(\"New list:\", new_list)"
   ]
  },
  {
   "cell_type": "markdown",
   "id": "146b2f0d",
   "metadata": {},
   "source": [
    "### Deep:\n",
    "\n",
    "Before Copy Deep Copying Deep Done\n",
    "![](https://i.stack.imgur.com/DRLn7.png)\n",
    "![](https://i.stack.imgur.com/yuURM.png)\n",
    "![](https://i.stack.imgur.com/yuURM.png)\n",
    "\n",
    "The variables A and B refer to different areas of memory, when B is assigned to A the values in the memory area which A points to are copied into the memory area to which B points. Later modifications to the contents of either remain unique to A or B; the contents are not shared."
   ]
  },
  {
   "cell_type": "markdown",
   "id": "9693ecc0",
   "metadata": {},
   "source": [
    "- Deep copies duplicate everything. \n",
    "- A deep copy of a collection is two collections with all of the elements in the original collection duplicated."
   ]
  },
  {
   "cell_type": "markdown",
   "id": "a7c62422",
   "metadata": {},
   "source": [
    "![](https://i.stack.imgur.com/AWKJa.jpg)"
   ]
  },
  {
   "cell_type": "code",
   "execution_count": 34,
   "id": "7d090892",
   "metadata": {
    "ExecuteTime": {
     "end_time": "2023-05-20T23:41:05.199599Z",
     "start_time": "2023-05-20T23:41:05.178973Z"
    }
   },
   "outputs": [
    {
     "name": "stdout",
     "output_type": "stream",
     "text": [
      "Old List: [1, 7, [3, 5], 8]\n",
      "ID of Old List: 2096690483328\n",
      "New List: [1, 7, [10, 5], 8]\n",
      "ID of New List: 2096690417024\n"
     ]
    }
   ],
   "source": [
    "# importing \"copy\" for copy operations   \n",
    "import copy   \n",
    "  \n",
    "# initializing list 1   \n",
    "list1 = [1, 7, [3,5], 8]   \n",
    "  \n",
    "# using copy to shallow copy   \n",
    "list2 = copy.deepcopy(list1)   \n",
    " \n",
    "list2[2][0] = 10     \n",
    "    \n",
    "print('Old List:', list1)  \n",
    "print('ID of Old List:', id(list1))  \n",
    "  \n",
    "print('New List:', list2)  \n",
    "print('ID of New List:', id(list2)) "
   ]
  },
  {
   "cell_type": "code",
   "execution_count": 39,
   "id": "ac1a759e",
   "metadata": {
    "ExecuteTime": {
     "end_time": "2023-05-20T23:48:22.361266Z",
     "start_time": "2023-05-20T23:48:22.350495Z"
    }
   },
   "outputs": [
    {
     "name": "stdout",
     "output_type": "stream",
     "text": [
      "Old list: [[1, 1, 1], ['BB', 2, 2], [3, 3, 3]]\n",
      "New list: [[1, 1, 1], [2, 2, 2], [3, 3, 3]]\n"
     ]
    }
   ],
   "source": [
    "import copy\n",
    "\n",
    "old_list = [[1, 1, 1], [2, 2, 2], [3, 3, 3]]\n",
    "new_list = copy.deepcopy(old_list)\n",
    "\n",
    "old_list[1][0] = 'BB'\n",
    "\n",
    "print(\"Old list:\", old_list)\n",
    "print(\"New list:\", new_list)"
   ]
  },
  {
   "cell_type": "markdown",
   "id": "656fa5f6",
   "metadata": {},
   "source": [
    "In the above program, we use `deepcopy()` function to create copy which looks similar.\n",
    "\n",
    "However, if you make changes to any nested objects in original object `old_list`, you’ll see no changes to the copy `new_list`."
   ]
  },
  {
   "cell_type": "markdown",
   "id": "7319ce4f",
   "metadata": {},
   "source": [
    "---"
   ]
  },
  {
   "cell_type": "markdown",
   "id": "29a5cb8c",
   "metadata": {},
   "source": [
    "## Context Managers"
   ]
  },
  {
   "cell_type": "markdown",
   "id": "bba6e386",
   "metadata": {},
   "source": [
    "**Source**\n",
    "\n",
    "- [Python Context Managers](https://www.pythontutorial.net/advanced-python/python-context-managers/)\n",
    "\n",
    "- [Why Use Context Managers](https://towardsdatascience.com/why-you-should-use-context-managers-in-python-4f10fe231206)\n",
    "\n",
    "- [Context Manager](https://book.pythontips.com/en/latest/context_managers.html)"
   ]
  },
  {
   "cell_type": "markdown",
   "id": "213b9a93",
   "metadata": {},
   "source": [
    "- If you have used the `with` statement in Python then chances are you’ve already used a context manager.\n",
    "\n",
    "- A context manager usually takes care of setting up some resource, e.g. opening a connection, and automatically handles the clean up when we are done with it.\n",
    "\n",
    "- Probably, the most common use case is opening a file.\n",
    "```python\n",
    "with open('/path/to/file.txt', 'r') as f:\n",
    "  for line in f:\n",
    "    print(line)\n",
    "```\n",
    "\n"
   ]
  },
  {
   "cell_type": "markdown",
   "id": "bf3e28e9",
   "metadata": {},
   "source": [
    "Now, you could open a file without using with but you would have to clean up after yourself.\n",
    "\n",
    "```python\n",
    "f = open('/path/to/file.txt', 'r')\n",
    "for line in f:\n",
    "    print(line)\n",
    "f.close()  # must remember to close f\n",
    "```\n"
   ]
  },
  {
   "cell_type": "markdown",
   "id": "8cae6dcf",
   "metadata": {},
   "source": [
    "Apart from the fact that this needs an extra line of code, there are a few other downsides. Namely,\n",
    "\n",
    "- it is easier to forget to close the file,\n",
    "- f.close() won’t be called if there’s an exception somewhere earlier in the code.\n",
    "\n",
    "*To exactly replicate opening a file using the with statement we would need even more code to make sure we close the file even in the event of an exception.*\n",
    "\n",
    "```python\n",
    "f = open('/path/to/file.txt', 'r')\n",
    "try:\n",
    "  for line in f:\n",
    "    print(line)\n",
    "finally:\n",
    "  f.close()  # runs no matter what happens\n",
    "```"
   ]
  },
  {
   "cell_type": "markdown",
   "id": "906c18ab",
   "metadata": {},
   "source": [
    "### How To Implement a Context Manager"
   ]
  },
  {
   "cell_type": "markdown",
   "id": "aad182d3",
   "metadata": {},
   "source": [
    "There are two ways to implement a context manager. \n",
    "1. The first one is defining a class with implementations for the `__enter__` and `__exit__` methods. \n",
    "2. The second one is by creating a generator and using the `contextlib.contextmanager` decorator."
   ]
  },
  {
   "cell_type": "markdown",
   "id": "40e34e15",
   "metadata": {},
   "source": [
    "### Implementing a context manager as a class"
   ]
  },
  {
   "cell_type": "markdown",
   "id": "959583d1",
   "metadata": {},
   "source": [
    "- To support the `with` statement for our own classes, we have to implement the `__enter__` and `__exit__` methods.\n",
    "- Python calls `__enter__` when execution enters the context of the `with` statement.\n",
    "- In here the resource should be acquired and returned.\n",
    "- When execution leaves the context again, `__exit__` is called and the resource is freed up."
   ]
  },
  {
   "cell_type": "code",
   "execution_count": 24,
   "id": "2c104d32",
   "metadata": {
    "ExecuteTime": {
     "end_time": "2023-05-20T22:50:08.060381Z",
     "start_time": "2023-05-20T22:50:08.044273Z"
    }
   },
   "outputs": [
    {
     "name": "stdout",
     "output_type": "stream",
     "text": [
      "init notes.txt\n",
      "enter\n",
      "doing stuff...\n",
      "exit\n"
     ]
    }
   ],
   "source": [
    "class ManagedFile:\n",
    "    def __init__(self, filename):\n",
    "        print('init', filename)\n",
    "        self.filename = filename\n",
    "\n",
    "    def __enter__(self):\n",
    "        print('enter')\n",
    "        self.file = open(self.filename, 'w')\n",
    "        return self.file\n",
    "\n",
    "    def __exit__(self, exc_type, exc_value, exc_traceback):\n",
    "        if self.file:\n",
    "            self.file.close()\n",
    "        print('exit')\n",
    "\n",
    "with ManagedFile('notes.txt') as f:\n",
    "    print('doing stuff...')\n",
    "    f.write('some todo2...')"
   ]
  },
  {
   "cell_type": "markdown",
   "id": "41fec9f2",
   "metadata": {},
   "source": [
    "#### Handling exceptions\n",
    "\n",
    "- If an exception occurs, Python passes the type, value, and traceback to the `__exit__` method. \n",
    "- It can handle the exception here. If anything other than `True` is returned by the `__exit__` method, then the exception is raised by the `with` statement."
   ]
  },
  {
   "cell_type": "code",
   "execution_count": 26,
   "id": "d5d532bf",
   "metadata": {
    "ExecuteTime": {
     "end_time": "2023-05-20T22:54:42.883807Z",
     "start_time": "2023-05-20T22:54:42.845332Z"
    }
   },
   "outputs": [
    {
     "name": "stdout",
     "output_type": "stream",
     "text": [
      "init notes.txt\n",
      "enter\n",
      "doing stuff...\n",
      "exc: None None\n",
      "exit\n",
      "continuing...\n",
      "\n",
      "init notes2.txt\n",
      "enter\n",
      "doing stuff...\n",
      "exc: <class 'AttributeError'> '_io.TextIOWrapper' object has no attribute 'do_something'\n",
      "exit\n"
     ]
    },
    {
     "ename": "AttributeError",
     "evalue": "'_io.TextIOWrapper' object has no attribute 'do_something'",
     "output_type": "error",
     "traceback": [
      "\u001b[1;31m---------------------------------------------------------------------------\u001b[0m",
      "\u001b[1;31mAttributeError\u001b[0m                            Traceback (most recent call last)",
      "Cell \u001b[1;32mIn[26], line 29\u001b[0m\n\u001b[0;32m     27\u001b[0m     \u001b[38;5;28mprint\u001b[39m(\u001b[38;5;124m'\u001b[39m\u001b[38;5;124mdoing stuff...\u001b[39m\u001b[38;5;124m'\u001b[39m)\n\u001b[0;32m     28\u001b[0m     f\u001b[38;5;241m.\u001b[39mwrite(\u001b[38;5;124m'\u001b[39m\u001b[38;5;124msome todo3...\u001b[39m\u001b[38;5;124m'\u001b[39m)\n\u001b[1;32m---> 29\u001b[0m     \u001b[43mf\u001b[49m\u001b[38;5;241;43m.\u001b[39;49m\u001b[43mdo_something\u001b[49m()\n\u001b[0;32m     30\u001b[0m \u001b[38;5;28mprint\u001b[39m(\u001b[38;5;124m'\u001b[39m\u001b[38;5;124mcontinuing...\u001b[39m\u001b[38;5;124m'\u001b[39m)\n",
      "\u001b[1;31mAttributeError\u001b[0m: '_io.TextIOWrapper' object has no attribute 'do_something'"
     ]
    }
   ],
   "source": [
    "class ManagedFile:\n",
    "    def __init__(self, filename):\n",
    "        print('init', filename)\n",
    "        self.filename = filename\n",
    "\n",
    "    def __enter__(self):\n",
    "        print('enter')\n",
    "        self.file = open(self.filename, 'w')\n",
    "        return self.file\n",
    "\n",
    "    def __exit__(self, exc_type, exc_value, exc_traceback):\n",
    "        if self.file:\n",
    "            self.file.close()\n",
    "        print('exc:', exc_type, exc_value)\n",
    "        print('exit')\n",
    "\n",
    "# No exception\n",
    "with ManagedFile('notes.txt') as f:\n",
    "    print('doing stuff...')\n",
    "    f.write('some todo3...')\n",
    "print('continuing...')\n",
    "\n",
    "print()\n",
    "\n",
    "# Exception is raised, but the file can still be closed\n",
    "with ManagedFile('notes2.txt') as f:\n",
    "    print('doing stuff...')\n",
    "    f.write('some todo3...')\n",
    "    f.do_something()\n",
    "print('continuing...')"
   ]
  },
  {
   "cell_type": "markdown",
   "id": "903856f5",
   "metadata": {},
   "source": [
    "We can handle the exception in the `__exit__` method and `return True`."
   ]
  },
  {
   "cell_type": "code",
   "execution_count": 27,
   "id": "a8fda8f5",
   "metadata": {
    "ExecuteTime": {
     "end_time": "2023-05-20T22:56:24.869071Z",
     "start_time": "2023-05-20T22:56:24.846763Z"
    }
   },
   "outputs": [
    {
     "name": "stdout",
     "output_type": "stream",
     "text": [
      "init notes2.txt\n",
      "enter\n",
      "doing stuff...\n",
      "Exception has been handled\n",
      "exit\n",
      "continuing...\n"
     ]
    }
   ],
   "source": [
    "class ManagedFile:\n",
    "    def __init__(self, filename):\n",
    "        print('init', filename)\n",
    "        self.filename = filename\n",
    "\n",
    "    def __enter__(self):\n",
    "        print('enter')\n",
    "        self.file = open(self.filename, 'w')\n",
    "        return self.file\n",
    "\n",
    "    def __exit__(self, exc_type, exc_value, exc_traceback):\n",
    "        if self.file:\n",
    "            self.file.close()\n",
    "        if exc_type is not None:\n",
    "            print('Exception has been handled')\n",
    "        print('exit')\n",
    "        return True\n",
    "\n",
    "\n",
    "with ManagedFile('notes2.txt') as f:\n",
    "    print('doing stuff...')\n",
    "    f.write('some todo...')\n",
    "    f.do_something()\n",
    "print('continuing...')"
   ]
  },
  {
   "cell_type": "code",
   "execution_count": null,
   "id": "03bceb93",
   "metadata": {},
   "outputs": [],
   "source": []
  },
  {
   "cell_type": "markdown",
   "id": "20484486",
   "metadata": {},
   "source": [
    "### Implementing a context manager as a generator"
   ]
  },
  {
   "cell_type": "markdown",
   "id": "b9a8e4d2",
   "metadata": {},
   "source": [
    "- Instead of writing a class, we can also write a `generator` function and `decorate` it with the `contextlib.contextmanager` decorator. \n",
    "- Then we can also call the function using a `with` statement. \n",
    "- For this approach, the function must `yield` the resource in a `try` statement, and all the content of the `__exit__` method to free up the resource goes now inside the corresponding finally statement."
   ]
  },
  {
   "cell_type": "code",
   "execution_count": 22,
   "id": "c02ba4dd",
   "metadata": {
    "ExecuteTime": {
     "end_time": "2023-05-20T22:46:47.434695Z",
     "start_time": "2023-05-20T22:46:47.421785Z"
    }
   },
   "outputs": [],
   "source": [
    "from contextlib import contextmanager\n",
    "\n",
    "@contextmanager\n",
    "def open_managed_file(filename):\n",
    "    f = open(filename, 'w')\n",
    "    try:\n",
    "        yield f\n",
    "    finally:\n",
    "        f.close()\n",
    "\n",
    "with open_managed_file('notes.txt') as f:\n",
    "    f.write('some todo...')"
   ]
  },
  {
   "cell_type": "markdown",
   "id": "aaec99f9",
   "metadata": {},
   "source": [
    "--- "
   ]
  }
 ],
 "metadata": {
  "kernelspec": {
   "display_name": "Python 3 (ipykernel)",
   "language": "python",
   "name": "python3"
  },
  "language_info": {
   "codemirror_mode": {
    "name": "ipython",
    "version": 3
   },
   "file_extension": ".py",
   "mimetype": "text/x-python",
   "name": "python",
   "nbconvert_exporter": "python",
   "pygments_lexer": "ipython3",
   "version": "3.9.1"
  },
  "toc": {
   "base_numbering": 1,
   "nav_menu": {},
   "number_sections": true,
   "sideBar": true,
   "skip_h1_title": false,
   "title_cell": "Table of Contents",
   "title_sidebar": "Contents",
   "toc_cell": false,
   "toc_position": {
    "height": "calc(100% - 180px)",
    "left": "10px",
    "top": "150px",
    "width": "312px"
   },
   "toc_section_display": true,
   "toc_window_display": true
  },
  "varInspector": {
   "cols": {
    "lenName": 16,
    "lenType": 16,
    "lenVar": 40
   },
   "kernels_config": {
    "python": {
     "delete_cmd_postfix": "",
     "delete_cmd_prefix": "del ",
     "library": "var_list.py",
     "varRefreshCmd": "print(var_dic_list())"
    },
    "r": {
     "delete_cmd_postfix": ") ",
     "delete_cmd_prefix": "rm(",
     "library": "var_list.r",
     "varRefreshCmd": "cat(var_dic_list()) "
    }
   },
   "types_to_exclude": [
    "module",
    "function",
    "builtin_function_or_method",
    "instance",
    "_Feature"
   ],
   "window_display": false
  }
 },
 "nbformat": 4,
 "nbformat_minor": 5
}
