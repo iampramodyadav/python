{
  "nbformat": 4,
  "nbformat_minor": 0,
  "metadata": {
    "colab": {
      "name": "daily-practice-problem.ipynb",
      "provenance": [],
      "collapsed_sections": [],
      "toc_visible": true,
      "authorship_tag": "ABX9TyM29JvemPFn7TTXG4LbKe6d",
      "include_colab_link": true
    },
    "kernelspec": {
      "name": "python3",
      "display_name": "Python 3"
    },
    "language_info": {
      "name": "python"
    }
  },
  "cells": [
    {
      "cell_type": "markdown",
      "metadata": {
        "id": "view-in-github",
        "colab_type": "text"
      },
      "source": [
        "<a href=\"https://colab.research.google.com/github/iampramodyadav/python/blob/main/daily_practice_problem.ipynb\" target=\"_parent\"><img src=\"https://colab.research.google.com/assets/colab-badge.svg\" alt=\"Open In Colab\"/></a>"
      ]
    },
    {
      "cell_type": "markdown",
      "metadata": {
        "id": "6Rfp_RC7HxlG"
      },
      "source": [
        "# Practice Questions"
      ]
    },
    {
      "cell_type": "markdown",
      "metadata": {
        "id": "uWTpd0pRHUdy"
      },
      "source": [
        "## Function\n",
        "- Write a function that inputs a number and prints the multiplication table of \n",
        "that number.\n",
        "\n",
        "\n"
      ]
    },
    {
      "cell_type": "code",
      "metadata": {
        "id": "g4h-1gz4IBnf"
      },
      "source": [
        ""
      ],
      "execution_count": null,
      "outputs": []
    },
    {
      "cell_type": "markdown",
      "metadata": {
        "id": "5U5CjC6YgnwZ"
      },
      "source": [
        "- Write a program to print twin primes less than 1000. If two consecutive odd numbers are both prime then they are known as twin primes. [twin prime](https://en.wikipedia.org/wiki/Twin_prime)"
      ]
    },
    {
      "cell_type": "code",
      "metadata": {
        "id": "b4pmhyprg3xp"
      },
      "source": [
        ""
      ],
      "execution_count": null,
      "outputs": []
    },
    {
      "cell_type": "markdown",
      "metadata": {
        "id": "wNqNSE_4dWRb"
      },
      "source": [
        "## Recursive function\n",
        "\n",
        "\n",
        "*   Write recursive function for HCF \n",
        "\n"
      ]
    },
    {
      "cell_type": "code",
      "metadata": {
        "colab": {
          "base_uri": "https://localhost:8080/"
        },
        "id": "VQO_iSBcZXGs",
        "outputId": "00aa55ad-c994-4067-e37f-bfeb287e0ffa"
      },
      "source": [
        "def rHCF(a,b):\n",
        "  \"\"\"\n",
        "  this function print HCF via recursion method\n",
        "  \"\"\"\n",
        "  s=a if a<b else b\n",
        "  l=b if a<b else a\n",
        "  if l%s==0:\n",
        "    return(s)\n",
        "  else:\n",
        "    a=l%s\n",
        "    b=s\n",
        "    return(rHCF(a,b))"
      ],
      "execution_count": null,
      "outputs": [
        {
          "output_type": "stream",
          "text": [
            "the HCF of 25 and 1215 is 5\n"
          ],
          "name": "stdout"
        }
      ]
    },
    {
      "cell_type": "code",
      "metadata": {
        "colab": {
          "base_uri": "https://localhost:8080/"
        },
        "id": "LWDSOdItfIzF",
        "outputId": "f069c47f-870a-49c6-ebd4-a436560ab4b6"
      },
      "source": [
        "rHCF(121,33)"
      ],
      "execution_count": null,
      "outputs": [
        {
          "output_type": "execute_result",
          "data": {
            "text/plain": [
              "11"
            ]
          },
          "metadata": {
            "tags": []
          },
          "execution_count": 6
        }
      ]
    },
    {
      "cell_type": "code",
      "metadata": {
        "colab": {
          "base_uri": "https://localhost:8080/"
        },
        "id": "BPNOtsZWfhud",
        "outputId": "79e77641-8695-49ee-97b3-a981553493b4"
      },
      "source": [
        "a=25;b=1215\n",
        "print(\"the HCF of\", a, \"and\", b ,\"is\", rHCF(a,b))"
      ],
      "execution_count": null,
      "outputs": [
        {
          "output_type": "stream",
          "text": [
            "the HCF of 25 and 1215 is 5\n"
          ],
          "name": "stdout"
        }
      ]
    },
    {
      "cell_type": "code",
      "metadata": {
        "colab": {
          "base_uri": "https://localhost:8080/"
        },
        "id": "doUztQCIfo9D",
        "outputId": "e796851c-c8a7-4cd8-8d66-e148da1114ca"
      },
      "source": [
        "print(rHCF.__doc__)"
      ],
      "execution_count": null,
      "outputs": [
        {
          "output_type": "stream",
          "text": [
            "\n",
            "  this function print HCF via recursion method\n",
            "  \n"
          ],
          "name": "stdout"
        }
      ]
    }
  ]
}