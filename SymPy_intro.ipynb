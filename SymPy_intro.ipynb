{
  "nbformat": 4,
  "nbformat_minor": 0,
  "metadata": {
    "colab": {
      "name": "SymPy-intro.ipynb",
      "provenance": [],
      "authorship_tag": "ABX9TyMYOd6LzQkiqLvPoaIP7DZM",
      "include_colab_link": true
    },
    "kernelspec": {
      "name": "python3",
      "display_name": "Python 3"
    },
    "language_info": {
      "name": "python"
    }
  },
  "cells": [
    {
      "cell_type": "markdown",
      "metadata": {
        "id": "view-in-github",
        "colab_type": "text"
      },
      "source": [
        "<a href=\"https://colab.research.google.com/github/iampramodyadav/python/blob/main/SymPy_intro.ipynb\" target=\"_parent\"><img src=\"https://colab.research.google.com/assets/colab-badge.svg\" alt=\"Open In Colab\"/></a>"
      ]
    },
    {
      "cell_type": "markdown",
      "metadata": {
        "id": "WiMcujWI5iLd"
      },
      "source": [
        "[SymPy Documentation](https://docs.sympy.org/latest/tutorial/preliminaries.html)"
      ]
    },
    {
      "cell_type": "code",
      "metadata": {
        "id": "OgjAYrnb0z0q"
      },
      "source": [
        "import sympy as sym"
      ],
      "execution_count": null,
      "outputs": []
    },
    {
      "cell_type": "code",
      "metadata": {
        "id": "DEeWTKay1aX7"
      },
      "source": [
        "x=sym.symbols('x')"
      ],
      "execution_count": null,
      "outputs": []
    },
    {
      "cell_type": "code",
      "metadata": {
        "colab": {
          "base_uri": "https://localhost:8080/",
          "height": 38
        },
        "id": "m3T_2xgG1R1z",
        "outputId": "c3d36784-4343-44ee-bb54-55e4191fbbdb"
      },
      "source": [
        "sym.diff(x**2+1)"
      ],
      "execution_count": null,
      "outputs": [
        {
          "output_type": "execute_result",
          "data": {
            "text/latex": "$\\displaystyle 2 x$",
            "text/plain": [
              "2*x"
            ]
          },
          "metadata": {
            "tags": []
          },
          "execution_count": 7
        }
      ]
    },
    {
      "cell_type": "code",
      "metadata": {
        "colab": {
          "base_uri": "https://localhost:8080/",
          "height": 38
        },
        "id": "e2oIW-y12gA0",
        "outputId": "286c3aa9-a52d-4a7a-c6e9-647e0589fa9c"
      },
      "source": [
        "sym.integrate(sym.sin (x))"
      ],
      "execution_count": null,
      "outputs": [
        {
          "output_type": "execute_result",
          "data": {
            "text/latex": "$\\displaystyle - \\cos{\\left(x \\right)}$",
            "text/plain": [
              "-cos(x)"
            ]
          },
          "metadata": {
            "tags": []
          },
          "execution_count": 12
        }
      ]
    },
    {
      "cell_type": "markdown",
      "metadata": {
        "id": "P8thArt95wJ-"
      },
      "source": [
        "OR"
      ]
    },
    {
      "cell_type": "markdown",
      "metadata": {
        "id": "NlgjC9353YC0"
      },
      "source": [
        "\n",
        "\n",
        "---\n",
        "\n"
      ]
    },
    {
      "cell_type": "code",
      "metadata": {
        "id": "vgVpF-892f-D"
      },
      "source": [
        "from sympy import *\n"
      ],
      "execution_count": null,
      "outputs": []
    },
    {
      "cell_type": "code",
      "metadata": {
        "colab": {
          "base_uri": "https://localhost:8080/",
          "height": 38
        },
        "id": "aMEr5o7Z3lCv",
        "outputId": "6db9eeb8-0695-4056-b398-e3507a325a63"
      },
      "source": [
        "integrate(sin (x))"
      ],
      "execution_count": null,
      "outputs": [
        {
          "output_type": "execute_result",
          "data": {
            "text/latex": "$\\displaystyle - \\cos{\\left(x \\right)}$",
            "text/plain": [
              "-cos(x)"
            ]
          },
          "metadata": {
            "tags": []
          },
          "execution_count": 15
        }
      ]
    },
    {
      "cell_type": "code",
      "metadata": {
        "colab": {
          "base_uri": "https://localhost:8080/",
          "height": 55
        },
        "id": "iD4ByL403sZF",
        "outputId": "c9955a8b-1a05-459d-abfb-ce9f40a5ea80"
      },
      "source": [
        "integrate((1+2*x**2)*cos (tan (x)))"
      ],
      "execution_count": null,
      "outputs": [
        {
          "output_type": "execute_result",
          "data": {
            "text/latex": "$\\displaystyle \\int \\left(2 x^{2} + 1\\right) \\cos{\\left(\\tan{\\left(x \\right)} \\right)}\\, dx$",
            "text/plain": [
              "Integral((2*x**2 + 1)*cos(tan(x)), x)"
            ]
          },
          "metadata": {
            "tags": []
          },
          "execution_count": 17
        }
      ]
    },
    {
      "cell_type": "code",
      "metadata": {
        "colab": {
          "base_uri": "https://localhost:8080/",
          "height": 38
        },
        "id": "nY5jOr6L4C0d",
        "outputId": "708565de-c3fc-4882-f630-925878360c43"
      },
      "source": [
        "integrate((1+2*x**2)*cos (x))"
      ],
      "execution_count": null,
      "outputs": [
        {
          "output_type": "execute_result",
          "data": {
            "text/latex": "$\\displaystyle 2 x^{2} \\sin{\\left(x \\right)} + 4 x \\cos{\\left(x \\right)} - 3 \\sin{\\left(x \\right)}$",
            "text/plain": [
              "2*x**2*sin(x) + 4*x*cos(x) - 3*sin(x)"
            ]
          },
          "metadata": {
            "tags": []
          },
          "execution_count": 18
        }
      ]
    }
  ]
}