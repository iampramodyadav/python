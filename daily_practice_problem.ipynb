{
  "nbformat": 4,
  "nbformat_minor": 0,
  "metadata": {
    "colab": {
      "name": "daily-practice-problem.ipynb",
      "provenance": [],
      "collapsed_sections": [],
      "toc_visible": true,
      "authorship_tag": "ABX9TyMHVo5h9zLWXCrJwWHgTicW",
      "include_colab_link": true
    },
    "kernelspec": {
      "name": "python3",
      "display_name": "Python 3"
    },
    "language_info": {
      "name": "python"
    }
  },
  "cells": [
    {
      "cell_type": "markdown",
      "metadata": {
        "id": "view-in-github",
        "colab_type": "text"
      },
      "source": [
        "<a href=\"https://colab.research.google.com/github/iampramodyadav/python/blob/main/daily_practice_problem.ipynb\" target=\"_parent\"><img src=\"https://colab.research.google.com/assets/colab-badge.svg\" alt=\"Open In Colab\"/></a>"
      ]
    },
    {
      "cell_type": "markdown",
      "metadata": {
        "id": "6Rfp_RC7HxlG"
      },
      "source": [
        "# Practice Questions"
      ]
    },
    {
      "cell_type": "markdown",
      "metadata": {
        "id": "uWTpd0pRHUdy"
      },
      "source": [
        "# Function"
      ]
    },
    {
      "cell_type": "markdown",
      "metadata": {
        "id": "HXcjRUN-h7uZ"
      },
      "source": [
        "## Multiplication Table\n",
        "- Write a function that inputs a number and prints the multiplication table of \n",
        "that number.\n"
      ]
    },
    {
      "cell_type": "code",
      "metadata": {
        "id": "g4h-1gz4IBnf"
      },
      "source": [
        "def table(a):\n",
        "  '''\n",
        "  this function ptint table\n",
        "  '''\n",
        "  print(\"Table of {} is\\n\".format(a))\n",
        "  for i in range(1,11):\n",
        "    print(i,\"* \",a, \"=\",i*a,)"
      ],
      "execution_count": null,
      "outputs": []
    },
    {
      "cell_type": "code",
      "metadata": {
        "colab": {
          "base_uri": "https://localhost:8080/"
        },
        "id": "O4SmxxFTkYoa",
        "outputId": "6e456247-1e72-448b-fd26-aebb1e298f17"
      },
      "source": [
        "table(10)"
      ],
      "execution_count": null,
      "outputs": [
        {
          "output_type": "stream",
          "text": [
            "Table of 10 is\n",
            "\n",
            "1 *  10 = 10\n",
            "2 *  10 = 20\n",
            "3 *  10 = 30\n",
            "4 *  10 = 40\n",
            "5 *  10 = 50\n",
            "6 *  10 = 60\n",
            "7 *  10 = 70\n",
            "8 *  10 = 80\n",
            "9 *  10 = 90\n",
            "10 *  10 = 100\n"
          ],
          "name": "stdout"
        }
      ]
    },
    {
      "cell_type": "code",
      "metadata": {
        "colab": {
          "base_uri": "https://localhost:8080/"
        },
        "id": "zzmF0sOYrKfN",
        "outputId": "d0b0dac5-aec7-4c64-a5dd-3a6936f1acac"
      },
      "source": [
        "print(table.__doc__)"
      ],
      "execution_count": null,
      "outputs": [
        {
          "output_type": "stream",
          "text": [
            "\n",
            "  this function ptint table\n",
            "  \n"
          ],
          "name": "stdout"
        }
      ]
    },
    {
      "cell_type": "markdown",
      "metadata": {
        "id": "5U5CjC6YgnwZ"
      },
      "source": [
        "## Twin Prime\n",
        "- Write a program to print twin primes less than 1000. If two consecutive odd numbers are both prime then they are known as twin primes. [twin prime](https://en.wikipedia.org/wiki/Twin_prime)"
      ]
    },
    {
      "cell_type": "markdown",
      "metadata": {
        "id": "rPsh3bTfDmGC"
      },
      "source": [
        "### Algorithm-1\n",
        "\n",
        "\n",
        "---\n",
        "\n"
      ]
    },
    {
      "cell_type": "code",
      "metadata": {
        "id": "b4pmhyprg3xp"
      },
      "source": [
        "def isPrime(a):\n",
        "  '''\n",
        "  this function check for prime number and return true\n",
        "\n",
        "  '''\n",
        "  for i in range(2,int(a**0.5)+1):\n",
        "    if a%i==0:\n",
        "      return False\n",
        "  return True\n",
        "\n",
        "\n",
        "\n",
        "def TwinPrime(x):\n",
        "  '''\n",
        "  this function give twin prime numbers bellow entred number\n",
        "  '''\n",
        "  temp=0\n",
        "  for i in range(3,x,2):\n",
        "    if isPrime(i) and isPrime(i+2):\n",
        "      print(\"({},{})\".format(i,i+2))\n",
        "      temp+=1\n",
        "  print(\"no of twin prime is {}\".format(temp))\n",
        "\n",
        "  "
      ],
      "execution_count": null,
      "outputs": []
    },
    {
      "cell_type": "code",
      "metadata": {
        "colab": {
          "base_uri": "https://localhost:8080/"
        },
        "id": "YG9i-3ej5ImD",
        "outputId": "f291604c-977a-4074-b011-3841aa8fc18c"
      },
      "source": [
        "print(isPrime.__doc__)"
      ],
      "execution_count": null,
      "outputs": [
        {
          "output_type": "stream",
          "text": [
            "\n",
            "  this function check for prime number and return true\n",
            "\n",
            "  \n"
          ],
          "name": "stdout"
        }
      ]
    },
    {
      "cell_type": "code",
      "metadata": {
        "colab": {
          "base_uri": "https://localhost:8080/"
        },
        "id": "UqF0Uaba5IeU",
        "outputId": "155d34fc-669d-4ab3-90d2-951466a4b420"
      },
      "source": [
        "print(TwinPrime.__doc__)"
      ],
      "execution_count": null,
      "outputs": [
        {
          "output_type": "stream",
          "text": [
            "\n",
            "  this function give twin prime numbers bellow entred number\n",
            "  \n"
          ],
          "name": "stdout"
        }
      ]
    },
    {
      "cell_type": "code",
      "metadata": {
        "colab": {
          "base_uri": "https://localhost:8080/"
        },
        "id": "pyytAobwscLl",
        "outputId": "dafbc532-7305-40a1-bb6a-45e1e4f3924f"
      },
      "source": [
        "TwinPrime(1000)"
      ],
      "execution_count": null,
      "outputs": [
        {
          "output_type": "stream",
          "text": [
            "(3,5)\n",
            "(5,7)\n",
            "(11,13)\n",
            "(17,19)\n",
            "(29,31)\n",
            "(41,43)\n",
            "(59,61)\n",
            "(71,73)\n",
            "(101,103)\n",
            "(107,109)\n",
            "(137,139)\n",
            "(149,151)\n",
            "(179,181)\n",
            "(191,193)\n",
            "(197,199)\n",
            "(227,229)\n",
            "(239,241)\n",
            "(269,271)\n",
            "(281,283)\n",
            "(311,313)\n",
            "(347,349)\n",
            "(419,421)\n",
            "(431,433)\n",
            "(461,463)\n",
            "(521,523)\n",
            "(569,571)\n",
            "(599,601)\n",
            "(617,619)\n",
            "(641,643)\n",
            "(659,661)\n",
            "(809,811)\n",
            "(821,823)\n",
            "(827,829)\n",
            "(857,859)\n",
            "(881,883)\n",
            "no of twin prime is 35\n"
          ],
          "name": "stdout"
        }
      ]
    },
    {
      "cell_type": "markdown",
      "metadata": {
        "id": "0vangbdlDs4q"
      },
      "source": [
        "### Algorithm-2\n",
        "\n",
        "---\n",
        "\n"
      ]
    },
    {
      "cell_type": "code",
      "metadata": {
        "id": "3VEwn88F6YnY"
      },
      "source": [
        "def listPrime(a):\n",
        "  \"\"\"\n",
        "  this function return list of prime number bellow enterd number\n",
        "  \"\"\"\n",
        "  lst=[]\n",
        "  for i in range(2,a+1):\n",
        "    for j in range(2, int(i**0.5)+1):\n",
        "      if i%j==0:\n",
        "        break\n",
        "    else:\n",
        "      lst.append(i)\n",
        "  return(lst)\n",
        "\n",
        "\n",
        "def twinPrime2(x):\n",
        "  \"\"\"\n",
        "  this function print twin prime from list of prime\n",
        "  \"\"\"\n",
        "  temp=0\n",
        "  prime=listPrime(x)\n",
        "  for i in range(len(prime)-1):\n",
        "    if prime[i+1]-prime[i]==2:\n",
        "      print(\"({},{})\".format(prime[i],prime[i+1]))\n",
        "      temp+=1\n",
        "  print(\"Number of twin prime bellow {}, is {}\".format(x,temp))\n",
        "\n"
      ],
      "execution_count": null,
      "outputs": []
    },
    {
      "cell_type": "code",
      "metadata": {
        "colab": {
          "base_uri": "https://localhost:8080/"
        },
        "id": "nz6tyzfx8O--",
        "outputId": "113e25eb-d411-4283-ac2a-ac65396beb7d"
      },
      "source": [
        "print(listPrime.__doc__)"
      ],
      "execution_count": null,
      "outputs": [
        {
          "output_type": "stream",
          "text": [
            "\n",
            "  this function return list of prime number bellow enterd number\n",
            "  \n"
          ],
          "name": "stdout"
        }
      ]
    },
    {
      "cell_type": "code",
      "metadata": {
        "colab": {
          "base_uri": "https://localhost:8080/"
        },
        "id": "VXnnEomcC5Kk",
        "outputId": "eaf44a19-150e-4298-b025-b0733bda8d83"
      },
      "source": [
        "print(twinPrime2.__doc__)"
      ],
      "execution_count": null,
      "outputs": [
        {
          "output_type": "stream",
          "text": [
            "\n",
            "  this function print twin prime from list of prime\n",
            "  \n"
          ],
          "name": "stdout"
        }
      ]
    },
    {
      "cell_type": "code",
      "metadata": {
        "colab": {
          "base_uri": "https://localhost:8080/"
        },
        "id": "ZGAwXSND_Fe0",
        "outputId": "de52bbad-d06a-48d6-98b3-55c4621e5782"
      },
      "source": [
        "twinPrime2(1000)"
      ],
      "execution_count": null,
      "outputs": [
        {
          "output_type": "stream",
          "text": [
            "(3,5)\n",
            "(5,7)\n",
            "(11,13)\n",
            "(17,19)\n",
            "(29,31)\n",
            "(41,43)\n",
            "(59,61)\n",
            "(71,73)\n",
            "(101,103)\n",
            "(107,109)\n",
            "(137,139)\n",
            "(149,151)\n",
            "(179,181)\n",
            "(191,193)\n",
            "(197,199)\n",
            "(227,229)\n",
            "(239,241)\n",
            "(269,271)\n",
            "(281,283)\n",
            "(311,313)\n",
            "(347,349)\n",
            "(419,421)\n",
            "(431,433)\n",
            "(461,463)\n",
            "(521,523)\n",
            "(569,571)\n",
            "(599,601)\n",
            "(617,619)\n",
            "(641,643)\n",
            "(659,661)\n",
            "(809,811)\n",
            "(821,823)\n",
            "(827,829)\n",
            "(857,859)\n",
            "(881,883)\n",
            "Number of twin prime bellow 1000, is 35\n"
          ],
          "name": "stdout"
        }
      ]
    },
    {
      "cell_type": "markdown",
      "metadata": {
        "id": "RzgU923UZ6Yo"
      },
      "source": [
        "## Prime factorisation\n",
        "Write a program to find out the prime factors of a number. Example: prime factors of 56 -2, 2, 2, 7\n"
      ]
    },
    {
      "cell_type": "markdown",
      "metadata": {
        "id": "kBSbt6Hw43zT"
      },
      "source": [
        "### Algorithm-1\n",
        "\n",
        "---\n",
        "\n"
      ]
    },
    {
      "cell_type": "code",
      "metadata": {
        "colab": {
          "base_uri": "https://localhost:8080/"
        },
        "id": "K7Gv1rVeZ6AT",
        "outputId": "81665b2f-a437-4885-e883-b79a7cd5f02e"
      },
      "source": [
        "def primeFact(n):\n",
        "  '''\n",
        "  this function print list of prime factors for entered numbers\n",
        "  '''\n",
        "  if n==1:\n",
        "    print('no prime factor for 1')\n",
        "    return\n",
        "  lst=[]\n",
        "\n",
        "  for i in range(2,n):\n",
        "    while n%i==0:\n",
        "      lst.append(i)\n",
        "      n=n//i\n",
        "\n",
        "  print('prime factor of are: {}'.format(lst))\n",
        "\n",
        "primeFact(44289)"
      ],
      "execution_count": 3,
      "outputs": [
        {
          "output_type": "stream",
          "text": [
            "prime factor of are: [3, 3, 7, 19, 37]\n"
          ],
          "name": "stdout"
        }
      ]
    },
    {
      "cell_type": "markdown",
      "metadata": {
        "id": "A4Z_1znl5APk"
      },
      "source": [
        "### Algorithm-2 More efficient"
      ]
    },
    {
      "cell_type": "code",
      "metadata": {
        "colab": {
          "base_uri": "https://localhost:8080/"
        },
        "id": "xkRnXHUvtBD1",
        "outputId": "65155ba5-2857-49a7-e5a4-e0ce5a329c6d"
      },
      "source": [
        "import math\n",
        "def factors(num):\n",
        "  \"\"\"takes a number and prints prime factors of that number\"\"\"\n",
        "\n",
        "  if num==1:\n",
        "    print(\"no prime factors for 1\")\n",
        "    return\n",
        "\n",
        "  factor=[]\n",
        "  for i in range(2,int(math.sqrt(num))+1):    #we reduce the number of loop\n",
        "    while num%i==0:\n",
        "      factor.append(i)\n",
        "      num=num//i\n",
        "\n",
        "  if num!=1:                              #if there are any foctor >sqrt(num) then it will currecnlt in num\n",
        "    factor.append(num)\n",
        "  print(\"factors are: {}\".format(factor))\n",
        "\n",
        "factors(44289)"
      ],
      "execution_count": 4,
      "outputs": [
        {
          "output_type": "stream",
          "text": [
            "factors are: [3, 3, 7, 19, 37]\n"
          ],
          "name": "stdout"
        }
      ]
    },
    {
      "cell_type": "code",
      "metadata": {
        "colab": {
          "base_uri": "https://localhost:8080/"
        },
        "id": "cCpXs83cZ56l",
        "outputId": "305269ad-08c3-4c28-b4eb-eeecf22f9f3c"
      },
      "source": [
        "factors(9905973)"
      ],
      "execution_count": null,
      "outputs": [
        {
          "output_type": "stream",
          "text": [
            "factors are: [3, 7, 11, 19, 37, 61]\n"
          ],
          "name": "stdout"
        }
      ]
    },
    {
      "cell_type": "code",
      "metadata": {
        "colab": {
          "base_uri": "https://localhost:8080/"
        },
        "id": "ciIfc3Mt4NPE",
        "outputId": "45349c2f-09d0-4681-cfe1-8820545eefb9"
      },
      "source": [
        "primeFact(9905973)"
      ],
      "execution_count": null,
      "outputs": [
        {
          "output_type": "stream",
          "text": [
            "prime factor of are: [3, 7, 11, 19, 37, 61]\n"
          ],
          "name": "stdout"
        }
      ]
    },
    {
      "cell_type": "code",
      "metadata": {
        "colab": {
          "base_uri": "https://localhost:8080/"
        },
        "id": "GrELeIY8Z5wS",
        "outputId": "35677ad7-e5ea-475e-eff0-0f88055f140e"
      },
      "source": [
        "primeFact(1263761079)"
      ],
      "execution_count": 5,
      "outputs": [
        {
          "output_type": "stream",
          "text": [
            "prime factor of are: [3, 7, 17, 19, 211, 883]\n"
          ],
          "name": "stdout"
        }
      ]
    },
    {
      "cell_type": "markdown",
      "metadata": {
        "id": "E_y7CTBK5P-8"
      },
      "source": [
        "it took 103 sec for abov number"
      ]
    },
    {
      "cell_type": "code",
      "metadata": {
        "colab": {
          "base_uri": "https://localhost:8080/"
        },
        "id": "bffp6jUq2E6u",
        "outputId": "8e44f88c-b8de-4573-af2c-ca0bd78fcfb9"
      },
      "source": [
        "factors(1263761079)"
      ],
      "execution_count": 6,
      "outputs": [
        {
          "output_type": "stream",
          "text": [
            "factors are: [3, 7, 17, 19, 211, 883]\n"
          ],
          "name": "stdout"
        }
      ]
    },
    {
      "cell_type": "markdown",
      "metadata": {
        "id": "V5tb7lP85YW8"
      },
      "source": [
        "it took 1.4 sec, so factor(n) is more efficient."
      ]
    },
    {
      "cell_type": "markdown",
      "metadata": {
        "id": "pFjmz7O-5s3L"
      },
      "source": [
        "## permutation and combination\n",
        "Write a program to implement these formulae of permutations and combinations.\n",
        "Number of permutations of n objects taken r at a time: p(n, r) = n! / (n-r)!. Number of combinations of n objects taken r at a time is: c(n, r) = n! / (r!*(n-r)!) = p(n,r) / r!"
      ]
    },
    {
      "cell_type": "code",
      "metadata": {
        "colab": {
          "base_uri": "https://localhost:8080/"
        },
        "id": "TOofGFFP7PUH",
        "outputId": "aba3cb02-af09-45dd-dc70-b767741127c5"
      },
      "source": [
        "def fact(n):\n",
        "  '''\n",
        "  return factorial of entered number\n",
        "  '''\n",
        "  n=int(n)\n",
        "  factorial=1\n",
        "  for i in range(1,n+1):\n",
        "    factorial*=i\n",
        "  return factorial\n",
        "\n",
        "def p(n,r):\n",
        "  '''\n",
        "  return permutation of entered number\n",
        "  '''\n",
        "  if n<r:\n",
        "    print(\"inavlid entry\")\n",
        "  perm=fact(n)/fact(n-r)\n",
        "  return perm\n",
        "\n",
        "def c(n,r):\n",
        "  '''\n",
        "  return combination of entered number\n",
        "  '''\n",
        "  if n<r:\n",
        "    print('invalid')\n",
        "  \n",
        "  combi= p(n,r)/fact(r)\n",
        "  return combi\n",
        "\n",
        "n=int(input('enter the value of n :'))   #In python 3, the input() function returns a string.\n",
        "r=int(input('entet the value of r :'))\n",
        "print('permutation of entered numbers is {}, and combination is {}'.format(p(n,r),c(n,r)))"
      ],
      "execution_count": null,
      "outputs": [
        {
          "output_type": "stream",
          "text": [
            "enter the value of n :5\n",
            "entet the value of r :3\n",
            "permutation of entered numbers is 60.0, and combination is 10.0\n"
          ],
          "name": "stdout"
        }
      ]
    },
    {
      "cell_type": "code",
      "metadata": {
        "colab": {
          "base_uri": "https://localhost:8080/"
        },
        "id": "T8Eu-3RI8MPc",
        "outputId": "02dcec13-3db3-46dc-e0ff-042f6af9952a"
      },
      "source": [
        "fact(5)"
      ],
      "execution_count": null,
      "outputs": [
        {
          "output_type": "execute_result",
          "data": {
            "text/plain": [
              "120"
            ]
          },
          "metadata": {
            "tags": []
          },
          "execution_count": 106
        }
      ]
    },
    {
      "cell_type": "code",
      "metadata": {
        "colab": {
          "base_uri": "https://localhost:8080/"
        },
        "id": "vwmWh0wo8-k_",
        "outputId": "db288d8f-f0ac-4735-d5db-a08f71c957de"
      },
      "source": [
        "p(5,3)"
      ],
      "execution_count": null,
      "outputs": [
        {
          "output_type": "execute_result",
          "data": {
            "text/plain": [
              "float"
            ]
          },
          "metadata": {
            "tags": []
          },
          "execution_count": 126
        }
      ]
    },
    {
      "cell_type": "code",
      "metadata": {
        "colab": {
          "base_uri": "https://localhost:8080/"
        },
        "id": "FyzNvnfa9ikL",
        "outputId": "9b7b0db5-ab64-4f36-b66f-13bcbe21fdc4"
      },
      "source": [
        "c(5,3)"
      ],
      "execution_count": null,
      "outputs": [
        {
          "output_type": "stream",
          "text": [
            "10.0\n"
          ],
          "name": "stdout"
        }
      ]
    },
    {
      "cell_type": "markdown",
      "metadata": {
        "id": "Tm25PGvnoBx3"
      },
      "source": [
        "## Decimal to binary\n",
        "Write a function that converts a decimal number to binary number\n"
      ]
    },
    {
      "cell_type": "markdown",
      "metadata": {
        "id": "FB-g5W-5Xhf0"
      },
      "source": [
        "### Algorithm-1"
      ]
    },
    {
      "cell_type": "code",
      "metadata": {
        "id": "idwbRHANoJFm"
      },
      "source": [
        "def Decimal2Binary(num):\n",
        "  \"\"\"take a decimal number and return it's binary representaion\"\"\"\n",
        "  lst=[]\n",
        "  while num>0:\n",
        "    i=num%2\n",
        "    lst.insert(0,i) #or lst.append(i) then lst.reverse()\n",
        "    num=num//2\n",
        "  for i in lst:\n",
        "    print(i, end='')"
      ],
      "execution_count": 98,
      "outputs": []
    },
    {
      "cell_type": "code",
      "metadata": {
        "colab": {
          "base_uri": "https://localhost:8080/"
        },
        "id": "YKEskHg1LwCn",
        "outputId": "41f42924-2327-4f3f-a07b-32a55462ae4a"
      },
      "source": [
        "l=Decimal2Binary(10)"
      ],
      "execution_count": 99,
      "outputs": [
        {
          "output_type": "stream",
          "text": [
            "1010"
          ],
          "name": "stdout"
        }
      ]
    },
    {
      "cell_type": "markdown",
      "metadata": {
        "id": "EQrlGaEJXmXa"
      },
      "source": [
        "### Algorithm-2 (recursive function)"
      ]
    },
    {
      "cell_type": "code",
      "metadata": {
        "id": "80LOOPt1RrSp"
      },
      "source": [
        "def rDecimal2Binary(num):\n",
        "  \"\"\"take a decimal number and return it's binary representaion\"\"\"\n",
        "  if num>1:\n",
        "    rDecimal2Binary(num//2)\n",
        "  i=num%2\n",
        "  print(i,end='')"
      ],
      "execution_count": 100,
      "outputs": []
    },
    {
      "cell_type": "code",
      "metadata": {
        "colab": {
          "base_uri": "https://localhost:8080/"
        },
        "id": "mh7xCXSAH-4k",
        "outputId": "b5f6b75e-e896-45d1-bf37-2a4423067cac"
      },
      "source": [
        "rDecimal2Binary(10)"
      ],
      "execution_count": 101,
      "outputs": [
        {
          "output_type": "stream",
          "text": [
            "1010"
          ],
          "name": "stdout"
        }
      ]
    },
    {
      "cell_type": "markdown",
      "metadata": {
        "id": "Hq02EyjvXq5S"
      },
      "source": [
        "### Algorithm-3"
      ]
    },
    {
      "cell_type": "code",
      "metadata": {
        "colab": {
          "base_uri": "https://localhost:8080/"
        },
        "id": "TuSAEui3JILN",
        "outputId": "a01806fb-2e6e-45f5-9aa5-5c621c5fbaab"
      },
      "source": [
        "def binary(num):\n",
        "  \"\"\"take a decimal number and return it's binary representaion\"\"\"\n",
        "  temp=[]\n",
        "  while num>0:\n",
        "    temp.append(num & 1)    #bitwise operator &\n",
        "    num=num>>1              #bitwise operator >>\n",
        "  \n",
        "  temp=temp[::-1]           #reversing the list\n",
        "  temp=map(str,temp)\n",
        "  return int(\"\".join(temp))  #join and print\n",
        "binary(10)"
      ],
      "execution_count": 102,
      "outputs": [
        {
          "output_type": "execute_result",
          "data": {
            "text/plain": [
              "1010"
            ]
          },
          "metadata": {
            "tags": []
          },
          "execution_count": 102
        }
      ]
    },
    {
      "cell_type": "code",
      "metadata": {
        "colab": {
          "base_uri": "https://localhost:8080/"
        },
        "id": "aCXk9Y5cJiL5",
        "outputId": "030311aa-7204-4997-d062-2be61749158f"
      },
      "source": [
        "24 & 1"
      ],
      "execution_count": 61,
      "outputs": [
        {
          "output_type": "execute_result",
          "data": {
            "text/plain": [
              "0"
            ]
          },
          "metadata": {
            "tags": []
          },
          "execution_count": 61
        }
      ]
    },
    {
      "cell_type": "code",
      "metadata": {
        "colab": {
          "base_uri": "https://localhost:8080/"
        },
        "id": "PqYsIYMuKq4Y",
        "outputId": "2bd59754-d80b-4d21-ee27-935ca5e65936"
      },
      "source": [
        "24>>1"
      ],
      "execution_count": 62,
      "outputs": [
        {
          "output_type": "execute_result",
          "data": {
            "text/plain": [
              "12"
            ]
          },
          "metadata": {
            "tags": []
          },
          "execution_count": 62
        }
      ]
    },
    {
      "cell_type": "markdown",
      "metadata": {
        "id": "oU-bD5eMKp1p"
      },
      "source": [
        ""
      ]
    },
    {
      "cell_type": "markdown",
      "metadata": {
        "id": "UdfViUkvoH0W"
      },
      "source": [
        "## Armstrong number\n",
        " Write a function **cubesum()** that accepts an integer and returns the sum of the cubes of individual digits of that number. Use this function to make functions **PrintArmstrong()** and **isArmstrong()** to print Armstrong numbers and to find whether is an Armstrong number"
      ]
    },
    {
      "cell_type": "markdown",
      "metadata": {
        "id": "d6MPg9HxG3Rb"
      },
      "source": [
        "### Algorithm-1\n",
        "\n",
        "---\n",
        "\n"
      ]
    },
    {
      "cell_type": "code",
      "metadata": {
        "id": "91FC4zCCoJnn"
      },
      "source": [
        "def cubesum(n):\n",
        "  '''this return sum of cube of its digit'''\n",
        "  l=str(n)\n",
        "  s=0\n",
        "  for i in l:\n",
        "    s=s+int(i)**3\n",
        "  return s\n",
        "\n",
        "def isArmstrong(a):\n",
        "  '''check for armstrong number '''\n",
        "  if a==cubesum(a):\n",
        "    return True\n",
        "  else:\n",
        "    return False\n",
        "\n",
        "def PrintArmstrong(num):\n",
        "  '''print armstrong number '''\n",
        "  if isArmstrong(num):\n",
        "    print(\"{} is an armstrong number\".format(num))\n",
        "  else:\n",
        "    print(\"{} is NOT an armstrong number\".format(num))"
      ],
      "execution_count": 50,
      "outputs": []
    },
    {
      "cell_type": "code",
      "metadata": {
        "colab": {
          "base_uri": "https://localhost:8080/"
        },
        "id": "HEE5ObwKCmgs",
        "outputId": "cd5931e2-a1c7-406d-c386-be8e8a9ab24c"
      },
      "source": [
        "cubesum(153)"
      ],
      "execution_count": 27,
      "outputs": [
        {
          "output_type": "execute_result",
          "data": {
            "text/plain": [
              "153"
            ]
          },
          "metadata": {
            "tags": []
          },
          "execution_count": 27
        }
      ]
    },
    {
      "cell_type": "code",
      "metadata": {
        "colab": {
          "base_uri": "https://localhost:8080/"
        },
        "id": "tuefXwUMDVW7",
        "outputId": "986cc7eb-83ae-4d28-acf3-4de9e434c750"
      },
      "source": [
        "isArmstrong(153)"
      ],
      "execution_count": 28,
      "outputs": [
        {
          "output_type": "execute_result",
          "data": {
            "text/plain": [
              "True"
            ]
          },
          "metadata": {
            "tags": []
          },
          "execution_count": 28
        }
      ]
    },
    {
      "cell_type": "code",
      "metadata": {
        "colab": {
          "base_uri": "https://localhost:8080/"
        },
        "id": "xyXn7NrLDaDg",
        "outputId": "ce07fef2-2e6b-462b-bd8c-8bb1ced96ab8"
      },
      "source": [
        "PrintArmstrong(153)"
      ],
      "execution_count": 29,
      "outputs": [
        {
          "output_type": "stream",
          "text": [
            "153 is an armstrong number\n"
          ],
          "name": "stdout"
        }
      ]
    },
    {
      "cell_type": "code",
      "metadata": {
        "colab": {
          "base_uri": "https://localhost:8080/"
        },
        "id": "ubFHNA6qGSSS",
        "outputId": "fdcc0d07-45d8-4847-d96f-650920578f2f"
      },
      "source": [
        "PrintArmstrong1(370)"
      ],
      "execution_count": 44,
      "outputs": [
        {
          "output_type": "stream",
          "text": [
            "370 is an armstrong number\n"
          ],
          "name": "stdout"
        }
      ]
    },
    {
      "cell_type": "code",
      "metadata": {
        "colab": {
          "base_uri": "https://localhost:8080/"
        },
        "id": "2mBekei2GUAb",
        "outputId": "9beb830d-0c7f-4e7f-f2b7-13a6b9303af4"
      },
      "source": [
        "PrintArmstrong1(407)"
      ],
      "execution_count": 47,
      "outputs": [
        {
          "output_type": "stream",
          "text": [
            "407 is an armstrong number\n"
          ],
          "name": "stdout"
        }
      ]
    },
    {
      "cell_type": "markdown",
      "metadata": {
        "id": "OUiTy7SqG_bi"
      },
      "source": [
        "### Algorithm-2\n",
        "\n",
        "---\n",
        "\n"
      ]
    },
    {
      "cell_type": "code",
      "metadata": {
        "id": "T5VA-gfUEIPz"
      },
      "source": [
        "def cubesum1(n):\n",
        "  '''this return sum of cube of its digit'''\n",
        "  s=0\n",
        "  while n>0:\n",
        "    i=n%10\n",
        "    s=s+i**3\n",
        "    n=n//10\n",
        "  return s\n",
        "\n",
        "def isArmstrong1(a):\n",
        "  '''check for armstrong number '''\n",
        "  if a==cubesum1(a):\n",
        "    return True\n",
        "  else:\n",
        "    return False\n",
        "\n",
        "def PrintArmstrong1(num):\n",
        "  '''print armstrong number '''\n",
        "  if isArmstrong1(num):\n",
        "    print(\"{} is an armstrong number\".format(num))\n",
        "  else:\n",
        "    print(\"{} is NOT an armstrong number\".format(num))"
      ],
      "execution_count": 49,
      "outputs": []
    },
    {
      "cell_type": "code",
      "metadata": {
        "colab": {
          "base_uri": "https://localhost:8080/"
        },
        "id": "1oWESaH5FnF4",
        "outputId": "9d0a849c-5586-4a3a-b222-560ab181f11e"
      },
      "source": [
        "PrintArmstrong1(153)"
      ],
      "execution_count": 41,
      "outputs": [
        {
          "output_type": "stream",
          "text": [
            "1531 is NOT an armstrong number\n"
          ],
          "name": "stdout"
        }
      ]
    },
    {
      "cell_type": "code",
      "metadata": {
        "colab": {
          "base_uri": "https://localhost:8080/"
        },
        "id": "nKN6SuWpGCup",
        "outputId": "49ef7469-2a28-4a9b-97ab-56289af0a054"
      },
      "source": [
        "PrintArmstrong1(370)"
      ],
      "execution_count": 42,
      "outputs": [
        {
          "output_type": "stream",
          "text": [
            "370 is an armstrong number\n"
          ],
          "name": "stdout"
        }
      ]
    },
    {
      "cell_type": "code",
      "metadata": {
        "colab": {
          "base_uri": "https://localhost:8080/"
        },
        "id": "JoXT2WnFGCiK",
        "outputId": "9200458e-4968-45d1-b06d-e8726dbba1ec"
      },
      "source": [
        "PrintArmstrong1(407)"
      ],
      "execution_count": 48,
      "outputs": [
        {
          "output_type": "stream",
          "text": [
            "407 is an armstrong number\n"
          ],
          "name": "stdout"
        }
      ]
    },
    {
      "cell_type": "markdown",
      "metadata": {
        "id": "wNqNSE_4dWRb"
      },
      "source": [
        "# Recursive function\n",
        "\n",
        "\n",
        "*   Write recursive function for HCF \n",
        "\n"
      ]
    },
    {
      "cell_type": "code",
      "metadata": {
        "id": "VQO_iSBcZXGs"
      },
      "source": [
        "def rHCF(a,b):\n",
        "  \"\"\"\n",
        "  this function print HCF via recursion method\n",
        "  \"\"\"\n",
        "  s=a if a<b else b\n",
        "  l=b if a<b else a\n",
        "  if l%s==0:\n",
        "    return(s)\n",
        "  else:\n",
        "    a=l%s\n",
        "    b=s\n",
        "    return(rHCF(a,b))"
      ],
      "execution_count": null,
      "outputs": []
    },
    {
      "cell_type": "code",
      "metadata": {
        "colab": {
          "base_uri": "https://localhost:8080/"
        },
        "id": "LWDSOdItfIzF",
        "outputId": "c6b55225-92c1-4691-db85-87f5064e0de0"
      },
      "source": [
        "rHCF(121,33)"
      ],
      "execution_count": null,
      "outputs": [
        {
          "output_type": "execute_result",
          "data": {
            "text/plain": [
              "11"
            ]
          },
          "metadata": {
            "tags": []
          },
          "execution_count": 13
        }
      ]
    },
    {
      "cell_type": "code",
      "metadata": {
        "colab": {
          "base_uri": "https://localhost:8080/"
        },
        "id": "BPNOtsZWfhud",
        "outputId": "212b4d70-9ef5-4a17-a1bd-2f01635a1e24"
      },
      "source": [
        "a=25;b=1215\n",
        "print(\"the HCF of\", a, \"and\", b ,\"is\", rHCF(a,b))"
      ],
      "execution_count": null,
      "outputs": [
        {
          "output_type": "stream",
          "text": [
            "the HCF of 25 and 1215 is 5\n"
          ],
          "name": "stdout"
        }
      ]
    },
    {
      "cell_type": "code",
      "metadata": {
        "colab": {
          "base_uri": "https://localhost:8080/"
        },
        "id": "doUztQCIfo9D",
        "outputId": "17163a16-2b1c-40ab-f328-5647a3e52afa"
      },
      "source": [
        "print(rHCF.__doc__)"
      ],
      "execution_count": null,
      "outputs": [
        {
          "output_type": "stream",
          "text": [
            "\n",
            "  this function print HCF via recursion method\n",
            "  \n"
          ],
          "name": "stdout"
        }
      ]
    }
  ]
}