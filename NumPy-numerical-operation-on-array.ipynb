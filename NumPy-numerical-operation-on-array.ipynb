{
 "cells": [
  {
   "cell_type": "markdown",
   "metadata": {
    "toc": true
   },
   "source": [
    "<h1>Table of Contents<span class=\"tocSkip\"></span></h1>\n",
    "<div class=\"toc\"><ul class=\"toc-item\"><li><span><a href=\"#Elementwise-Operations\" data-toc-modified-id=\"Elementwise-Operations-1\"><span class=\"toc-item-num\">1&nbsp;&nbsp;</span>Elementwise Operations</a></span><ul class=\"toc-item\"><li><span><a href=\"#Basic-Operations\" data-toc-modified-id=\"Basic-Operations-1.1\"><span class=\"toc-item-num\">1.1&nbsp;&nbsp;</span>Basic Operations</a></span><ul class=\"toc-item\"><li><span><a href=\"#with-scalars\" data-toc-modified-id=\"with-scalars-1.1.1\"><span class=\"toc-item-num\">1.1.1&nbsp;&nbsp;</span><strong>with scalars</strong></a></span></li><li><span><a href=\"#All-arithmetic-operates-elementwise\" data-toc-modified-id=\"All-arithmetic-operates-elementwise-1.1.2\"><span class=\"toc-item-num\">1.1.2&nbsp;&nbsp;</span><strong>All arithmetic operates elementwise</strong></a></span></li><li><span><a href=\"#comparisions\" data-toc-modified-id=\"comparisions-1.1.3\"><span class=\"toc-item-num\">1.1.3&nbsp;&nbsp;</span><strong>comparisions</strong></a></span></li></ul></li><li><span><a href=\"#Logical-Operations\" data-toc-modified-id=\"Logical-Operations-1.2\"><span class=\"toc-item-num\">1.2&nbsp;&nbsp;</span><strong>Logical Operations</strong></a></span></li><li><span><a href=\"#Transcendental-functions:\" data-toc-modified-id=\"Transcendental-functions:-1.3\"><span class=\"toc-item-num\">1.3&nbsp;&nbsp;</span><strong>Transcendental functions:</strong></a></span></li><li><span><a href=\"#Shape-Mismatch\" data-toc-modified-id=\"Shape-Mismatch-1.4\"><span class=\"toc-item-num\">1.4&nbsp;&nbsp;</span><strong>Shape Mismatch</strong></a></span></li></ul></li><li><span><a href=\"#Basic-Reductions\" data-toc-modified-id=\"Basic-Reductions-2\"><span class=\"toc-item-num\">2&nbsp;&nbsp;</span>Basic Reductions</a></span><ul class=\"toc-item\"><li><span><a href=\"#computing-sums\" data-toc-modified-id=\"computing-sums-2.1\"><span class=\"toc-item-num\">2.1&nbsp;&nbsp;</span><strong>computing sums</strong></a></span></li><li><span><a href=\"#Other-reductions\" data-toc-modified-id=\"Other-reductions-2.2\"><span class=\"toc-item-num\">2.2&nbsp;&nbsp;</span><strong>Other reductions</strong></a></span></li><li><span><a href=\"#Logical-Operations\" data-toc-modified-id=\"Logical-Operations-2.3\"><span class=\"toc-item-num\">2.3&nbsp;&nbsp;</span><strong>Logical Operations</strong></a></span></li><li><span><a href=\"#Statistics\" data-toc-modified-id=\"Statistics-2.4\"><span class=\"toc-item-num\">2.4&nbsp;&nbsp;</span><strong>Statistics</strong></a></span></li></ul></li><li><span><a href=\"#Example:\" data-toc-modified-id=\"Example:-3\"><span class=\"toc-item-num\">3&nbsp;&nbsp;</span><strong>Example:</strong></a></span></li><li><span><a href=\"#Broadcasting\" data-toc-modified-id=\"Broadcasting-4\"><span class=\"toc-item-num\">4&nbsp;&nbsp;</span>Broadcasting</a></span></li><li><span><a href=\"#Array-Shape-Manipulation\" data-toc-modified-id=\"Array-Shape-Manipulation-5\"><span class=\"toc-item-num\">5&nbsp;&nbsp;</span>Array Shape Manipulation</a></span><ul class=\"toc-item\"><li><span><a href=\"#Flattening--ravel()\" data-toc-modified-id=\"Flattening--ravel()-5.1\"><span class=\"toc-item-num\">5.1&nbsp;&nbsp;</span><strong>Flattening</strong>- ravel()</a></span></li><li><span><a href=\"#Reshaping\" data-toc-modified-id=\"Reshaping-5.2\"><span class=\"toc-item-num\">5.2&nbsp;&nbsp;</span><strong>Reshaping</strong></a></span></li><li><span><a href=\"#Adding-a-Dimension-np.newaxis\" data-toc-modified-id=\"Adding-a-Dimension-np.newaxis-5.3\"><span class=\"toc-item-num\">5.3&nbsp;&nbsp;</span><strong>Adding a Dimension</strong>-np.newaxis</a></span></li><li><span><a href=\"#Dimension-Shuffling\" data-toc-modified-id=\"Dimension-Shuffling-5.4\"><span class=\"toc-item-num\">5.4&nbsp;&nbsp;</span><strong>Dimension Shuffling</strong></a></span></li><li><span><a href=\"#Resizing\" data-toc-modified-id=\"Resizing-5.5\"><span class=\"toc-item-num\">5.5&nbsp;&nbsp;</span><strong>Resizing</strong></a></span></li><li><span><a href=\"#Sorting-Data---sort(),-argsort()\" data-toc-modified-id=\"Sorting-Data---sort(),-argsort()-5.6\"><span class=\"toc-item-num\">5.6&nbsp;&nbsp;</span><strong>Sorting Data</strong>-  sort(), argsort()</a></span></li></ul></li></ul></div>"
   ]
  },
  {
   "cell_type": "code",
   "execution_count": 1,
   "metadata": {
    "ExecuteTime": {
     "end_time": "2021-05-31T03:55:18.200183Z",
     "start_time": "2021-05-31T03:55:17.947860Z"
    },
    "id": "jfJQ0s3bswc_"
   },
   "outputs": [],
   "source": [
    "import numpy as np"
   ]
  },
  {
   "cell_type": "markdown",
   "metadata": {
    "id": "jhQnKQ2KswdE"
   },
   "source": [
    "# Elementwise Operations"
   ]
  },
  {
   "cell_type": "markdown",
   "metadata": {
    "id": "Wtu7cWpiswdF"
   },
   "source": [
    "## Basic Operations"
   ]
  },
  {
   "cell_type": "markdown",
   "metadata": {
    "id": "F-67X08fswdG"
   },
   "source": [
    "### **with scalars**"
   ]
  },
  {
   "cell_type": "code",
   "execution_count": 2,
   "metadata": {
    "ExecuteTime": {
     "end_time": "2021-05-31T03:55:18.232097Z",
     "start_time": "2021-05-31T03:55:18.204174Z"
    },
    "id": "dVy44XhoswdI",
    "outputId": "6c3aab05-af8d-4591-fbf2-298081a81356"
   },
   "outputs": [
    {
     "data": {
      "text/plain": [
       "array([2, 3, 4, 5])"
      ]
     },
     "execution_count": 2,
     "metadata": {},
     "output_type": "execute_result"
    }
   ],
   "source": [
    "a = np.array([1, 2, 3, 4]) #create an array\n",
    "\n",
    "a + 1"
   ]
  },
  {
   "cell_type": "code",
   "execution_count": 3,
   "metadata": {
    "ExecuteTime": {
     "end_time": "2021-05-31T03:55:18.327841Z",
     "start_time": "2021-05-31T03:55:18.235089Z"
    },
    "id": "C3xGq800swdO",
    "outputId": "edc11eed-3015-45f8-b477-14cbcf6f3590"
   },
   "outputs": [
    {
     "data": {
      "text/plain": [
       "array([ 1,  4,  9, 16], dtype=int32)"
      ]
     },
     "execution_count": 3,
     "metadata": {},
     "output_type": "execute_result"
    }
   ],
   "source": [
    "a ** 2"
   ]
  },
  {
   "cell_type": "markdown",
   "metadata": {
    "id": "RUCgn5sWswdS"
   },
   "source": [
    "### **All arithmetic operates elementwise**"
   ]
  },
  {
   "cell_type": "code",
   "execution_count": 4,
   "metadata": {
    "ExecuteTime": {
     "end_time": "2021-05-31T03:55:18.421590Z",
     "start_time": "2021-05-31T03:55:18.330835Z"
    },
    "id": "8PnM4PU7swdT",
    "outputId": "dec9c525-340a-480c-859f-252e85b768bc"
   },
   "outputs": [
    {
     "data": {
      "text/plain": [
       "array([-1.,  0.,  1.,  2.])"
      ]
     },
     "execution_count": 4,
     "metadata": {},
     "output_type": "execute_result"
    }
   ],
   "source": [
    "b = np.ones(4) + 1\n",
    "\n",
    "a - b"
   ]
  },
  {
   "cell_type": "code",
   "execution_count": 5,
   "metadata": {
    "ExecuteTime": {
     "end_time": "2021-05-31T03:55:18.532321Z",
     "start_time": "2021-05-31T03:55:18.424582Z"
    },
    "id": "rpXvbqFwswdX",
    "outputId": "6e10ebe8-378e-492c-9fe1-6e9dac1b1ae8"
   },
   "outputs": [
    {
     "data": {
      "text/plain": [
       "array([2., 4., 6., 8.])"
      ]
     },
     "execution_count": 5,
     "metadata": {},
     "output_type": "execute_result"
    }
   ],
   "source": [
    "a * b"
   ]
  },
  {
   "cell_type": "code",
   "execution_count": 6,
   "metadata": {
    "ExecuteTime": {
     "end_time": "2021-05-31T03:55:18.722785Z",
     "start_time": "2021-05-31T03:55:18.536285Z"
    },
    "id": "2abVO_V_swdb",
    "outputId": "e8e3fd83-507b-40c5-ef18-26f4b11680fb"
   },
   "outputs": [
    {
     "name": "stdout",
     "output_type": "stream",
     "text": [
      "[[ 1  0  0  0]\n",
      " [ 0  4  0  0]\n",
      " [ 0  0  9  0]\n",
      " [ 0  0  0 16]]\n",
      "*****************\n",
      "[[ 1  0  0  0]\n",
      " [ 0  4  0  0]\n",
      " [ 0  0  9  0]\n",
      " [ 0  0  0 16]]\n"
     ]
    }
   ],
   "source": [
    "# Matrix multiplication\n",
    "\n",
    "c = np.diag([1, 2, 3, 4])\n",
    "\n",
    "print(c * c)\n",
    "print(\"*****************\")\n",
    "print(c.dot(c))"
   ]
  },
  {
   "cell_type": "markdown",
   "metadata": {
    "id": "WQJuiT1uswdf"
   },
   "source": [
    "### **comparisions**"
   ]
  },
  {
   "cell_type": "code",
   "execution_count": 7,
   "metadata": {
    "ExecuteTime": {
     "end_time": "2021-05-31T03:55:18.880363Z",
     "start_time": "2021-05-31T03:55:18.725777Z"
    },
    "id": "fjeX-CiOswdg",
    "outputId": "27e205a5-191a-49db-e6bd-5e8d37136ccd"
   },
   "outputs": [
    {
     "data": {
      "text/plain": [
       "array([False,  True, False,  True])"
      ]
     },
     "execution_count": 7,
     "metadata": {},
     "output_type": "execute_result"
    }
   ],
   "source": [
    "a = np.array([1, 2, 3, 4])\n",
    "b = np.array([5, 2, 2, 4])\n",
    "a == b"
   ]
  },
  {
   "cell_type": "code",
   "execution_count": 8,
   "metadata": {
    "ExecuteTime": {
     "end_time": "2021-05-31T03:55:19.065942Z",
     "start_time": "2021-05-31T03:55:18.883356Z"
    },
    "id": "X8TTJ8A2swdk",
    "outputId": "a82a7c0f-aea4-4918-cfe8-364bc0c2c74a"
   },
   "outputs": [
    {
     "data": {
      "text/plain": [
       "array([False, False,  True, False])"
      ]
     },
     "execution_count": 8,
     "metadata": {},
     "output_type": "execute_result"
    }
   ],
   "source": [
    "a > b"
   ]
  },
  {
   "cell_type": "code",
   "execution_count": 9,
   "metadata": {
    "ExecuteTime": {
     "end_time": "2021-05-31T03:55:19.255425Z",
     "start_time": "2021-05-31T03:55:19.068909Z"
    },
    "id": "J6VVph4Qswdp",
    "outputId": "2a0d11bc-862a-40b0-e367-7308025a6115"
   },
   "outputs": [
    {
     "data": {
      "text/plain": [
       "False"
      ]
     },
     "execution_count": 9,
     "metadata": {},
     "output_type": "execute_result"
    }
   ],
   "source": [
    "#array-wise comparisions\n",
    "a = np.array([1, 2, 3, 4])\n",
    "b = np.array([5, 2, 2, 4])\n",
    "c = np.array([1, 2, 3, 4])\n",
    "\n",
    "np.array_equal(a, b)"
   ]
  },
  {
   "cell_type": "code",
   "execution_count": 10,
   "metadata": {
    "ExecuteTime": {
     "end_time": "2021-05-31T03:55:19.442392Z",
     "start_time": "2021-05-31T03:55:19.259416Z"
    },
    "id": "4WcN5_dEswds",
    "outputId": "17c720d1-8743-407b-c1c3-e8aa2cd06b56"
   },
   "outputs": [
    {
     "data": {
      "text/plain": [
       "True"
      ]
     },
     "execution_count": 10,
     "metadata": {},
     "output_type": "execute_result"
    }
   ],
   "source": [
    "np.array_equal(a, c)"
   ]
  },
  {
   "cell_type": "markdown",
   "metadata": {
    "id": "9zENvq0Eswdw"
   },
   "source": [
    "## **Logical Operations**"
   ]
  },
  {
   "cell_type": "code",
   "execution_count": 11,
   "metadata": {
    "ExecuteTime": {
     "end_time": "2021-05-31T03:55:19.614670Z",
     "start_time": "2021-05-31T03:55:19.451368Z"
    },
    "id": "1jnb4Oyoswdy",
    "outputId": "d846450e-26ec-46bf-e5e9-ee1130f85e0e"
   },
   "outputs": [
    {
     "data": {
      "text/plain": [
       "array([ True,  True,  True, False])"
      ]
     },
     "execution_count": 11,
     "metadata": {},
     "output_type": "execute_result"
    }
   ],
   "source": [
    "a = np.array([1, 1, 0, 0], dtype=bool)\n",
    "b = np.array([1, 0, 1, 0], dtype=bool)\n",
    "\n",
    "np.logical_or(a, b)"
   ]
  },
  {
   "cell_type": "code",
   "execution_count": 12,
   "metadata": {
    "ExecuteTime": {
     "end_time": "2021-05-31T03:55:19.817227Z",
     "start_time": "2021-05-31T03:55:19.617660Z"
    },
    "id": "0Y_BIY2sswd4",
    "outputId": "45b0f028-2953-4b41-f524-719fd0739263"
   },
   "outputs": [
    {
     "data": {
      "text/plain": [
       "array([ True, False, False, False])"
      ]
     },
     "execution_count": 12,
     "metadata": {},
     "output_type": "execute_result"
    }
   ],
   "source": [
    "np.logical_and(a, b)"
   ]
  },
  {
   "cell_type": "markdown",
   "metadata": {
    "id": "TphCEdOgswd_"
   },
   "source": [
    "## **Transcendental functions:**"
   ]
  },
  {
   "cell_type": "code",
   "execution_count": 13,
   "metadata": {
    "ExecuteTime": {
     "end_time": "2021-05-31T03:55:20.006393Z",
     "start_time": "2021-05-31T03:55:19.819221Z"
    },
    "id": "lRgKTcVYsweA",
    "outputId": "9d766b16-8896-4695-f408-2c22a2759eec"
   },
   "outputs": [
    {
     "data": {
      "text/plain": [
       "array([ 0.        ,  0.84147098,  0.90929743,  0.14112001, -0.7568025 ])"
      ]
     },
     "execution_count": 13,
     "metadata": {},
     "output_type": "execute_result"
    }
   ],
   "source": [
    "a = np.arange(5)\n",
    "\n",
    "np.sin(a)   "
   ]
  },
  {
   "cell_type": "code",
   "execution_count": 14,
   "metadata": {
    "ExecuteTime": {
     "end_time": "2021-05-31T03:55:20.162594Z",
     "start_time": "2021-05-31T03:55:20.009358Z"
    },
    "id": "o2WNaZYTsweG",
    "outputId": "09a4e071-9149-4cba-b220-977205f9877a"
   },
   "outputs": [
    {
     "name": "stderr",
     "output_type": "stream",
     "text": [
      "<ipython-input-14-89b6b8e53c58>:1: RuntimeWarning: divide by zero encountered in log\n",
      "  np.log(a)\n"
     ]
    },
    {
     "data": {
      "text/plain": [
       "array([      -inf, 0.        , 0.69314718, 1.09861229, 1.38629436])"
      ]
     },
     "execution_count": 14,
     "metadata": {},
     "output_type": "execute_result"
    }
   ],
   "source": [
    "np.log(a)"
   ]
  },
  {
   "cell_type": "code",
   "execution_count": 15,
   "metadata": {
    "ExecuteTime": {
     "end_time": "2021-05-31T03:55:20.333786Z",
     "start_time": "2021-05-31T03:55:20.167582Z"
    },
    "id": "4BqEA2-6sweM",
    "outputId": "b07f6045-92eb-4536-cdf0-103316629e69"
   },
   "outputs": [
    {
     "data": {
      "text/plain": [
       "array([ 1.        ,  2.71828183,  7.3890561 , 20.08553692, 54.59815003])"
      ]
     },
     "execution_count": 15,
     "metadata": {},
     "output_type": "execute_result"
    }
   ],
   "source": [
    "np.exp(a)   #evaluates e^x for each element in a given input"
   ]
  },
  {
   "cell_type": "markdown",
   "metadata": {
    "id": "ZTCX8P40sweR"
   },
   "source": [
    "## **Shape Mismatch**"
   ]
  },
  {
   "cell_type": "code",
   "execution_count": 16,
   "metadata": {
    "ExecuteTime": {
     "end_time": "2021-05-31T03:55:20.805905Z",
     "start_time": "2021-05-31T03:55:20.336778Z"
    },
    "id": "rEWPomresweR",
    "outputId": "45081b7d-d37a-4deb-a19a-8b56650517a6"
   },
   "outputs": [
    {
     "ename": "ValueError",
     "evalue": "operands could not be broadcast together with shapes (4,) (2,) ",
     "output_type": "error",
     "traceback": [
      "\u001b[1;31m---------------------------------------------------------------------------\u001b[0m",
      "\u001b[1;31mValueError\u001b[0m                                Traceback (most recent call last)",
      "\u001b[1;32m<ipython-input-16-9bed92644e4e>\u001b[0m in \u001b[0;36m<module>\u001b[1;34m\u001b[0m\n\u001b[0;32m      1\u001b[0m \u001b[0ma\u001b[0m \u001b[1;33m=\u001b[0m \u001b[0mnp\u001b[0m\u001b[1;33m.\u001b[0m\u001b[0marange\u001b[0m\u001b[1;33m(\u001b[0m\u001b[1;36m4\u001b[0m\u001b[1;33m)\u001b[0m\u001b[1;33m\u001b[0m\u001b[1;33m\u001b[0m\u001b[0m\n\u001b[0;32m      2\u001b[0m \u001b[1;33m\u001b[0m\u001b[0m\n\u001b[1;32m----> 3\u001b[1;33m \u001b[0ma\u001b[0m \u001b[1;33m+\u001b[0m \u001b[0mnp\u001b[0m\u001b[1;33m.\u001b[0m\u001b[0marray\u001b[0m\u001b[1;33m(\u001b[0m\u001b[1;33m[\u001b[0m\u001b[1;36m1\u001b[0m\u001b[1;33m,\u001b[0m \u001b[1;36m2\u001b[0m\u001b[1;33m]\u001b[0m\u001b[1;33m)\u001b[0m\u001b[1;33m\u001b[0m\u001b[1;33m\u001b[0m\u001b[0m\n\u001b[0m",
      "\u001b[1;31mValueError\u001b[0m: operands could not be broadcast together with shapes (4,) (2,) "
     ]
    }
   ],
   "source": [
    "a = np.arange(4)\n",
    "\n",
    "a + np.array([1, 2])"
   ]
  },
  {
   "cell_type": "markdown",
   "metadata": {
    "id": "9pyhkSfQsweW"
   },
   "source": [
    "# Basic Reductions"
   ]
  },
  {
   "cell_type": "markdown",
   "metadata": {
    "id": "DHyoVepdsweX"
   },
   "source": [
    "## **computing sums**"
   ]
  },
  {
   "cell_type": "code",
   "execution_count": 17,
   "metadata": {
    "ExecuteTime": {
     "end_time": "2021-05-31T03:56:08.181024Z",
     "start_time": "2021-05-31T03:56:08.168058Z"
    },
    "id": "8Ed2Id_-sweY",
    "outputId": "a39f4cc1-d624-4430-daa0-2f5a7d78efb4"
   },
   "outputs": [
    {
     "data": {
      "text/plain": [
       "10"
      ]
     },
     "execution_count": 17,
     "metadata": {},
     "output_type": "execute_result"
    }
   ],
   "source": [
    "x = np.array([1, 2, 3, 4])\n",
    "np.sum(x)"
   ]
  },
  {
   "cell_type": "code",
   "execution_count": 18,
   "metadata": {
    "ExecuteTime": {
     "end_time": "2021-05-31T03:56:08.402430Z",
     "start_time": "2021-05-31T03:56:08.184018Z"
    },
    "id": "zRoRIgZqswed",
    "outputId": "c16ee400-36c0-4f13-fad0-4245ea0a46e0"
   },
   "outputs": [
    {
     "data": {
      "text/plain": [
       "array([[1, 1],\n",
       "       [2, 2]])"
      ]
     },
     "execution_count": 18,
     "metadata": {},
     "output_type": "execute_result"
    }
   ],
   "source": [
    "#sum by rows and by columns\n",
    "\n",
    "x = np.array([[1, 1], [2, 2]])\n",
    "x"
   ]
  },
  {
   "cell_type": "code",
   "execution_count": 19,
   "metadata": {
    "ExecuteTime": {
     "end_time": "2021-05-31T03:56:08.482218Z",
     "start_time": "2021-05-31T03:56:08.405422Z"
    },
    "id": "_vP6O-E2sweh",
    "outputId": "3a2c7f40-3b1a-4741-83d7-adac98635e40"
   },
   "outputs": [
    {
     "data": {
      "text/plain": [
       "array([3, 3])"
      ]
     },
     "execution_count": 19,
     "metadata": {},
     "output_type": "execute_result"
    }
   ],
   "source": [
    "x.sum(axis=0)   #columns first dimension"
   ]
  },
  {
   "cell_type": "code",
   "execution_count": 20,
   "metadata": {
    "ExecuteTime": {
     "end_time": "2021-05-31T03:56:08.562005Z",
     "start_time": "2021-05-31T03:56:08.485211Z"
    },
    "id": "Tcuz_6SRswel",
    "outputId": "63fc6808-10da-4875-8245-816e28f5e570"
   },
   "outputs": [
    {
     "data": {
      "text/plain": [
       "array([2, 4])"
      ]
     },
     "execution_count": 20,
     "metadata": {},
     "output_type": "execute_result"
    }
   ],
   "source": [
    "x.sum(axis=1)  #rows (second dimension)"
   ]
  },
  {
   "cell_type": "markdown",
   "metadata": {
    "id": "958ZeK7bsweq"
   },
   "source": [
    "## **Other reductions**"
   ]
  },
  {
   "cell_type": "code",
   "execution_count": 21,
   "metadata": {
    "ExecuteTime": {
     "end_time": "2021-05-31T03:56:08.671711Z",
     "start_time": "2021-05-31T03:56:08.564996Z"
    },
    "id": "R5zUDMynswer",
    "outputId": "df848993-8198-42ea-e5f1-fe0618e3f271"
   },
   "outputs": [
    {
     "data": {
      "text/plain": [
       "1"
      ]
     },
     "execution_count": 21,
     "metadata": {},
     "output_type": "execute_result"
    }
   ],
   "source": [
    "x = np.array([1, 3, 2])\n",
    "x.min()"
   ]
  },
  {
   "cell_type": "code",
   "execution_count": 22,
   "metadata": {
    "ExecuteTime": {
     "end_time": "2021-05-31T03:56:08.764463Z",
     "start_time": "2021-05-31T03:56:08.681684Z"
    },
    "id": "kZtfLNX3swet",
    "outputId": "14c1c2bf-ffad-4cff-c761-0f1d88f841b4"
   },
   "outputs": [
    {
     "data": {
      "text/plain": [
       "3"
      ]
     },
     "execution_count": 22,
     "metadata": {},
     "output_type": "execute_result"
    }
   ],
   "source": [
    "x.max()"
   ]
  },
  {
   "cell_type": "code",
   "execution_count": 23,
   "metadata": {
    "ExecuteTime": {
     "end_time": "2021-05-31T03:56:08.856218Z",
     "start_time": "2021-05-31T03:56:08.771444Z"
    },
    "id": "AFmjGkYeswex",
    "outputId": "14cfd413-affd-44f9-a84c-1ced1c5ae5a6"
   },
   "outputs": [
    {
     "data": {
      "text/plain": [
       "0"
      ]
     },
     "execution_count": 23,
     "metadata": {},
     "output_type": "execute_result"
    }
   ],
   "source": [
    "x.argmin()# index of minimum element"
   ]
  },
  {
   "cell_type": "code",
   "execution_count": 24,
   "metadata": {
    "ExecuteTime": {
     "end_time": "2021-05-31T03:56:08.935007Z",
     "start_time": "2021-05-31T03:56:08.863199Z"
    },
    "id": "jZ1Kne4bswe0",
    "outputId": "e4476acf-16fa-44dd-edcb-84a926082b54"
   },
   "outputs": [
    {
     "data": {
      "text/plain": [
       "1"
      ]
     },
     "execution_count": 24,
     "metadata": {},
     "output_type": "execute_result"
    }
   ],
   "source": [
    "x.argmax()# index of maximum element"
   ]
  },
  {
   "cell_type": "markdown",
   "metadata": {
    "id": "HMjQrI2Xswe6"
   },
   "source": [
    "## **Logical Operations**"
   ]
  },
  {
   "cell_type": "code",
   "execution_count": 25,
   "metadata": {
    "ExecuteTime": {
     "end_time": "2021-05-31T03:56:09.153675Z",
     "start_time": "2021-05-31T03:56:08.938998Z"
    },
    "id": "yDdavXNvswe7",
    "outputId": "803c8e07-fcdb-4e58-a471-5f7fde649abe"
   },
   "outputs": [
    {
     "data": {
      "text/plain": [
       "False"
      ]
     },
     "execution_count": 25,
     "metadata": {},
     "output_type": "execute_result"
    }
   ],
   "source": [
    "np.all([True, True, False])"
   ]
  },
  {
   "cell_type": "code",
   "execution_count": 26,
   "metadata": {
    "ExecuteTime": {
     "end_time": "2021-05-31T03:56:09.372770Z",
     "start_time": "2021-05-31T03:56:09.157628Z"
    },
    "id": "pWQ5lldeswfA",
    "outputId": "898a10f8-6fc1-4780-8d30-10039821f77b"
   },
   "outputs": [
    {
     "data": {
      "text/plain": [
       "True"
      ]
     },
     "execution_count": 26,
     "metadata": {},
     "output_type": "execute_result"
    }
   ],
   "source": [
    "np.any([True, False, False])"
   ]
  },
  {
   "cell_type": "code",
   "execution_count": 27,
   "metadata": {
    "ExecuteTime": {
     "end_time": "2021-05-31T03:56:09.496657Z",
     "start_time": "2021-05-31T03:56:09.376757Z"
    },
    "id": "g7ZIbD4YswfD",
    "outputId": "b3e6eb8c-6864-4a3b-97b0-74a4a4efe79c"
   },
   "outputs": [
    {
     "data": {
      "text/plain": [
       "False"
      ]
     },
     "execution_count": 27,
     "metadata": {},
     "output_type": "execute_result"
    }
   ],
   "source": [
    "#Note: can be used for array comparisions\n",
    "a = np.zeros((50, 50))\n",
    "np.any(a != 0)"
   ]
  },
  {
   "cell_type": "code",
   "execution_count": 28,
   "metadata": {
    "ExecuteTime": {
     "end_time": "2021-05-31T03:56:09.589605Z",
     "start_time": "2021-05-31T03:56:09.499653Z"
    },
    "id": "zinI9W8hswfH",
    "outputId": "601d26ae-d373-4f22-f313-2452f600107b"
   },
   "outputs": [
    {
     "data": {
      "text/plain": [
       "True"
      ]
     },
     "execution_count": 28,
     "metadata": {},
     "output_type": "execute_result"
    }
   ],
   "source": [
    "np.all(a == a)"
   ]
  },
  {
   "cell_type": "code",
   "execution_count": 29,
   "metadata": {
    "ExecuteTime": {
     "end_time": "2021-05-31T03:56:09.698541Z",
     "start_time": "2021-05-31T03:56:09.593595Z"
    },
    "id": "HuTF_mToswfL",
    "outputId": "7363a182-2b8b-4e2c-c6a8-066318e563ed"
   },
   "outputs": [
    {
     "data": {
      "text/plain": [
       "True"
      ]
     },
     "execution_count": 29,
     "metadata": {},
     "output_type": "execute_result"
    }
   ],
   "source": [
    "a = np.array([1, 2, 3, 2])\n",
    "b = np.array([2, 2, 3, 2])\n",
    "c = np.array([6, 4, 4, 5])\n",
    "((a <= b) & (b <= c)).all()"
   ]
  },
  {
   "cell_type": "markdown",
   "metadata": {
    "id": "APsZAg7_swfO"
   },
   "source": [
    "## **Statistics**"
   ]
  },
  {
   "cell_type": "code",
   "execution_count": 30,
   "metadata": {
    "ExecuteTime": {
     "end_time": "2021-05-31T03:56:09.824142Z",
     "start_time": "2021-05-31T03:56:09.701534Z"
    },
    "id": "cjoteMjGswfP",
    "outputId": "ccc68f0b-c334-4667-f18f-97758bfe32d5"
   },
   "outputs": [
    {
     "data": {
      "text/plain": [
       "1.75"
      ]
     },
     "execution_count": 30,
     "metadata": {},
     "output_type": "execute_result"
    }
   ],
   "source": [
    "x = np.array([1, 2, 3, 1])\n",
    "y = np.array([[1, 2, 3], [5, 6, 1]])\n",
    "x.mean()"
   ]
  },
  {
   "cell_type": "code",
   "execution_count": 31,
   "metadata": {
    "ExecuteTime": {
     "end_time": "2021-05-31T03:56:09.934201Z",
     "start_time": "2021-05-31T03:56:09.827134Z"
    },
    "id": "JXWE8ldfswfV",
    "outputId": "bf404199-5602-442b-98fd-23ad1e5e26f5"
   },
   "outputs": [
    {
     "data": {
      "text/plain": [
       "1.5"
      ]
     },
     "execution_count": 31,
     "metadata": {},
     "output_type": "execute_result"
    }
   ],
   "source": [
    "np.median(x)"
   ]
  },
  {
   "cell_type": "code",
   "execution_count": 32,
   "metadata": {
    "ExecuteTime": {
     "end_time": "2021-05-31T03:56:09.998004Z",
     "start_time": "2021-05-31T03:56:09.937166Z"
    },
    "id": "uiBhX8Ktswfj",
    "outputId": "b162f7f7-2b25-429d-f5f3-c0592c793aa8"
   },
   "outputs": [
    {
     "data": {
      "text/plain": [
       "array([2., 5.])"
      ]
     },
     "execution_count": 32,
     "metadata": {},
     "output_type": "execute_result"
    }
   ],
   "source": [
    "np.median(y, axis=-1) # last axis"
   ]
  },
  {
   "cell_type": "code",
   "execution_count": 33,
   "metadata": {
    "ExecuteTime": {
     "end_time": "2021-05-31T03:56:10.124444Z",
     "start_time": "2021-05-31T03:56:10.000997Z"
    },
    "id": "Cy3p6_0nswfo",
    "outputId": "4c5b7639-7e09-47a5-8cd1-e1dfa07325d1"
   },
   "outputs": [
    {
     "data": {
      "text/plain": [
       "0.82915619758885"
      ]
     },
     "execution_count": 33,
     "metadata": {},
     "output_type": "execute_result"
    }
   ],
   "source": [
    "x.std()          # full population standard dev."
   ]
  },
  {
   "cell_type": "markdown",
   "metadata": {
    "id": "UmJ61pVXswfu"
   },
   "source": [
    "# **Example:**"
   ]
  },
  {
   "cell_type": "markdown",
   "metadata": {
    "id": "anUWifpEswfx"
   },
   "source": [
    "Data in populations.txt describes the populations of hares and lynxes (and carrots) in northern Canada during 20 years.\n"
   ]
  },
  {
   "cell_type": "code",
   "execution_count": 34,
   "metadata": {
    "ExecuteTime": {
     "end_time": "2021-05-31T03:56:10.216978Z",
     "start_time": "2021-05-31T03:56:10.127438Z"
    },
    "id": "rnVBTztnswfy"
   },
   "outputs": [],
   "source": [
    "#load data into numpy array object\n",
    "data = np.loadtxt('populations.txt')"
   ]
  },
  {
   "cell_type": "code",
   "execution_count": 35,
   "metadata": {
    "ExecuteTime": {
     "end_time": "2021-05-31T03:56:10.280981Z",
     "start_time": "2021-05-31T03:56:10.224963Z"
    },
    "id": "P6namKkVswf1",
    "outputId": "fd6bc8a1-2b47-4be3-e7a3-a9073a2fdda9"
   },
   "outputs": [
    {
     "data": {
      "text/plain": [
       "array([[ 1900., 30000.,  4000., 48300.],\n",
       "       [ 1901., 47200.,  6100., 48200.],\n",
       "       [ 1902., 70200.,  9800., 41500.],\n",
       "       [ 1903., 77400., 35200., 38200.],\n",
       "       [ 1904., 36300., 59400., 40600.],\n",
       "       [ 1905., 20600., 41700., 39800.],\n",
       "       [ 1906., 18100., 19000., 38600.],\n",
       "       [ 1907., 21400., 13000., 42300.],\n",
       "       [ 1908., 22000.,  8300., 44500.],\n",
       "       [ 1909., 25400.,  9100., 42100.],\n",
       "       [ 1910., 27100.,  7400., 46000.],\n",
       "       [ 1911., 40300.,  8000., 46800.],\n",
       "       [ 1912., 57000., 12300., 43800.],\n",
       "       [ 1913., 76600., 19500., 40900.],\n",
       "       [ 1914., 52300., 45700., 39400.],\n",
       "       [ 1915., 19500., 51100., 39000.],\n",
       "       [ 1916., 11200., 29700., 36700.],\n",
       "       [ 1917.,  7600., 15800., 41800.],\n",
       "       [ 1918., 14600.,  9700., 43300.],\n",
       "       [ 1919., 16200., 10100., 41300.],\n",
       "       [ 1920., 24700.,  8600., 47300.]])"
      ]
     },
     "execution_count": 35,
     "metadata": {},
     "output_type": "execute_result"
    }
   ],
   "source": [
    "data"
   ]
  },
  {
   "cell_type": "code",
   "execution_count": 36,
   "metadata": {
    "ExecuteTime": {
     "end_time": "2021-05-31T03:56:10.435471Z",
     "start_time": "2021-05-31T03:56:10.284971Z"
    }
   },
   "outputs": [
    {
     "data": {
      "text/plain": [
       "array([[ 1900.,  1901.,  1902.,  1903.,  1904.,  1905.,  1906.,  1907.,\n",
       "         1908.,  1909.,  1910.,  1911.,  1912.,  1913.,  1914.,  1915.,\n",
       "         1916.,  1917.,  1918.,  1919.,  1920.],\n",
       "       [30000., 47200., 70200., 77400., 36300., 20600., 18100., 21400.,\n",
       "        22000., 25400., 27100., 40300., 57000., 76600., 52300., 19500.,\n",
       "        11200.,  7600., 14600., 16200., 24700.],\n",
       "       [ 4000.,  6100.,  9800., 35200., 59400., 41700., 19000., 13000.,\n",
       "         8300.,  9100.,  7400.,  8000., 12300., 19500., 45700., 51100.,\n",
       "        29700., 15800.,  9700., 10100.,  8600.],\n",
       "       [48300., 48200., 41500., 38200., 40600., 39800., 38600., 42300.,\n",
       "        44500., 42100., 46000., 46800., 43800., 40900., 39400., 39000.,\n",
       "        36700., 41800., 43300., 41300., 47300.]])"
      ]
     },
     "execution_count": 36,
     "metadata": {},
     "output_type": "execute_result"
    }
   ],
   "source": [
    "data.T"
   ]
  },
  {
   "cell_type": "code",
   "execution_count": 37,
   "metadata": {
    "ExecuteTime": {
     "end_time": "2021-05-31T03:56:10.497664Z",
     "start_time": "2021-05-31T03:56:10.438464Z"
    },
    "id": "QmlBep1Mswf5",
    "outputId": "c1b341fc-c8c2-43bd-8b74-522f36336074"
   },
   "outputs": [
    {
     "name": "stdout",
     "output_type": "stream",
     "text": [
      "[1900. 1901. 1902. 1903. 1904. 1905. 1906. 1907. 1908. 1909. 1910. 1911.\n",
      " 1912. 1913. 1914. 1915. 1916. 1917. 1918. 1919. 1920.]\n"
     ]
    }
   ],
   "source": [
    "year, hares, lynxes, carrots = data.T #columns to variables\n",
    "print(year)"
   ]
  },
  {
   "cell_type": "code",
   "execution_count": 38,
   "metadata": {
    "ExecuteTime": {
     "end_time": "2021-05-31T03:56:10.623407Z",
     "start_time": "2021-05-31T03:56:10.499659Z"
    }
   },
   "outputs": [
    {
     "name": "stdout",
     "output_type": "stream",
     "text": [
      "[30000. 47200. 70200. 77400. 36300. 20600. 18100. 21400. 22000. 25400.\n",
      " 27100. 40300. 57000. 76600. 52300. 19500. 11200.  7600. 14600. 16200.\n",
      " 24700.]\n"
     ]
    }
   ],
   "source": [
    "print(hares)"
   ]
  },
  {
   "cell_type": "code",
   "execution_count": 39,
   "metadata": {
    "ExecuteTime": {
     "end_time": "2021-05-31T03:56:10.747507Z",
     "start_time": "2021-05-31T03:56:10.629390Z"
    },
    "id": "rK1BKEoyswgD",
    "outputId": "39556379-8632-4f4b-bc1a-619afce30f6e"
   },
   "outputs": [
    {
     "data": {
      "text/plain": [
       "array([[30000.,  4000., 48300.],\n",
       "       [47200.,  6100., 48200.],\n",
       "       [70200.,  9800., 41500.],\n",
       "       [77400., 35200., 38200.],\n",
       "       [36300., 59400., 40600.],\n",
       "       [20600., 41700., 39800.],\n",
       "       [18100., 19000., 38600.],\n",
       "       [21400., 13000., 42300.],\n",
       "       [22000.,  8300., 44500.],\n",
       "       [25400.,  9100., 42100.],\n",
       "       [27100.,  7400., 46000.],\n",
       "       [40300.,  8000., 46800.],\n",
       "       [57000., 12300., 43800.],\n",
       "       [76600., 19500., 40900.],\n",
       "       [52300., 45700., 39400.],\n",
       "       [19500., 51100., 39000.],\n",
       "       [11200., 29700., 36700.],\n",
       "       [ 7600., 15800., 41800.],\n",
       "       [14600.,  9700., 43300.],\n",
       "       [16200., 10100., 41300.],\n",
       "       [24700.,  8600., 47300.]])"
      ]
     },
     "execution_count": 39,
     "metadata": {},
     "output_type": "execute_result"
    }
   ],
   "source": [
    "#The mean population over time\n",
    "populations = data[:, 1:]\n",
    "populations"
   ]
  },
  {
   "cell_type": "code",
   "execution_count": 40,
   "metadata": {
    "ExecuteTime": {
     "end_time": "2021-05-31T03:56:10.889498Z",
     "start_time": "2021-05-31T03:56:10.753489Z"
    },
    "id": "x9fl1SFuswgI",
    "outputId": "d35111fd-9329-484f-8d9a-07310f2fbe2d"
   },
   "outputs": [
    {
     "data": {
      "text/plain": [
       "array([20897.90645809, 16254.59153691,  3322.50622558])"
      ]
     },
     "execution_count": 40,
     "metadata": {},
     "output_type": "execute_result"
    }
   ],
   "source": [
    "#sample standard deviations\n",
    "populations.std(axis=0)"
   ]
  },
  {
   "cell_type": "code",
   "execution_count": 41,
   "metadata": {
    "ExecuteTime": {
     "end_time": "2021-05-31T03:56:10.983473Z",
     "start_time": "2021-05-31T03:56:10.892462Z"
    },
    "id": "JuRAVBQZswgT",
    "outputId": "dddefc54-8d1b-4b01-990c-dea4068cab56"
   },
   "outputs": [
    {
     "data": {
      "text/plain": [
       "array([2, 2, 0, 0, 1, 1, 2, 2, 2, 2, 2, 2, 0, 0, 0, 1, 2, 2, 2, 2, 2],\n",
       "      dtype=int64)"
      ]
     },
     "execution_count": 41,
     "metadata": {},
     "output_type": "execute_result"
    }
   ],
   "source": [
    "#which species has the highest population each year?\n",
    "\n",
    "np.argmax(populations, axis=1)"
   ]
  },
  {
   "cell_type": "markdown",
   "metadata": {
    "id": "tU_ZXk-TswgY"
   },
   "source": [
    "# Broadcasting"
   ]
  },
  {
   "cell_type": "markdown",
   "metadata": {
    "id": "9YhDQLkMswga"
   },
   "source": [
    "Basic operations on numpy arrays (addition, etc.) are elementwise\n",
    "\n",
    "This works on arrays of the same size.\n",
    "    Nevertheless, It’s also possible to do operations on arrays of different sizes if NumPy can transform these arrays     so that they all have the same size: this conversion is called broadcasting.\n",
    "\n",
    "The image below gives an example of broadcasting:\n"
   ]
  },
  {
   "cell_type": "markdown",
   "metadata": {
    "id": "ikjmauQzswgc"
   },
   "source": [
    "![](https://i.stack.imgur.com/JcKv1.png)"
   ]
  },
  {
   "cell_type": "code",
   "execution_count": 42,
   "metadata": {
    "ExecuteTime": {
     "end_time": "2021-05-31T03:56:11.095178Z",
     "start_time": "2021-05-31T03:56:10.986467Z"
    },
    "id": "nI5avDtJswgd",
    "outputId": "4514d3c2-a38d-4750-d6f3-8a709b40df7f"
   },
   "outputs": [
    {
     "name": "stdout",
     "output_type": "stream",
     "text": [
      "[[ 0 10 20 30]\n",
      " [ 0 10 20 30]\n",
      " [ 0 10 20 30]]\n",
      "*************\n",
      "[[ 0  0  0]\n",
      " [10 10 10]\n",
      " [20 20 20]\n",
      " [30 30 30]]\n"
     ]
    }
   ],
   "source": [
    "a = np.tile(np.arange(0, 40, 10), (3,1))\n",
    "print(a)\n",
    "\n",
    "print(\"*************\")\n",
    "a=a.T\n",
    "print(a)"
   ]
  },
  {
   "cell_type": "code",
   "execution_count": 43,
   "metadata": {
    "ExecuteTime": {
     "end_time": "2021-05-31T03:56:11.221920Z",
     "start_time": "2021-05-31T03:56:11.098166Z"
    },
    "id": "cLIID2BSswgf",
    "outputId": "066926e7-77bd-4116-a878-3b885f0fd7a1"
   },
   "outputs": [
    {
     "data": {
      "text/plain": [
       "array([0, 1, 2])"
      ]
     },
     "execution_count": 43,
     "metadata": {},
     "output_type": "execute_result"
    }
   ],
   "source": [
    "\n",
    "b = np.array([0, 1, 2])\n",
    "b"
   ]
  },
  {
   "cell_type": "code",
   "execution_count": 44,
   "metadata": {
    "ExecuteTime": {
     "end_time": "2021-05-31T03:56:11.349480Z",
     "start_time": "2021-05-31T03:56:11.228895Z"
    },
    "id": "jQrV3eHlswgh",
    "outputId": "a580a35e-ab46-409c-92b6-55dca012c40c"
   },
   "outputs": [
    {
     "data": {
      "text/plain": [
       "array([[ 0,  1,  2],\n",
       "       [10, 11, 12],\n",
       "       [20, 21, 22],\n",
       "       [30, 31, 32]])"
      ]
     },
     "execution_count": 44,
     "metadata": {},
     "output_type": "execute_result"
    }
   ],
   "source": [
    "\n",
    "a + b"
   ]
  },
  {
   "cell_type": "code",
   "execution_count": 45,
   "metadata": {
    "ExecuteTime": {
     "end_time": "2021-05-31T03:56:11.506488Z",
     "start_time": "2021-05-31T03:56:11.355464Z"
    },
    "id": "O46UzhDpswgj",
    "outputId": "ca8ff2f1-13e9-4ba9-aaa4-e724236b2436"
   },
   "outputs": [
    {
     "data": {
      "text/plain": [
       "(4,)"
      ]
     },
     "execution_count": 45,
     "metadata": {},
     "output_type": "execute_result"
    }
   ],
   "source": [
    "a = np.arange(0, 40, 10)\n",
    "a.shape\n"
   ]
  },
  {
   "cell_type": "code",
   "execution_count": 46,
   "metadata": {
    "ExecuteTime": {
     "end_time": "2021-05-31T03:56:11.663488Z",
     "start_time": "2021-05-31T03:56:11.509482Z"
    }
   },
   "outputs": [
    {
     "data": {
      "text/plain": [
       "array([ 0, 10, 20, 30])"
      ]
     },
     "execution_count": 46,
     "metadata": {},
     "output_type": "execute_result"
    }
   ],
   "source": [
    "a"
   ]
  },
  {
   "cell_type": "code",
   "execution_count": 47,
   "metadata": {
    "ExecuteTime": {
     "end_time": "2021-05-31T03:56:11.790342Z",
     "start_time": "2021-05-31T03:56:11.675446Z"
    },
    "id": "OgkzL1i9swgl",
    "outputId": "98ee71d0-ef8e-47c0-af1a-c197cfbec692"
   },
   "outputs": [
    {
     "data": {
      "text/plain": [
       "(4, 1)"
      ]
     },
     "execution_count": 47,
     "metadata": {},
     "output_type": "execute_result"
    }
   ],
   "source": [
    "a = a[:, np.newaxis]  # adds a new axis -> 2D array\n",
    "a.shape"
   ]
  },
  {
   "cell_type": "code",
   "execution_count": 48,
   "metadata": {
    "ExecuteTime": {
     "end_time": "2021-05-31T03:56:11.885846Z",
     "start_time": "2021-05-31T03:56:11.793341Z"
    },
    "id": "PQiWxq-6swgq",
    "outputId": "b4ef9569-1bc8-4b4b-8a6a-30b75e6bf889"
   },
   "outputs": [
    {
     "data": {
      "text/plain": [
       "array([[ 0],\n",
       "       [10],\n",
       "       [20],\n",
       "       [30]])"
      ]
     },
     "execution_count": 48,
     "metadata": {},
     "output_type": "execute_result"
    }
   ],
   "source": [
    "a"
   ]
  },
  {
   "cell_type": "code",
   "execution_count": 49,
   "metadata": {
    "ExecuteTime": {
     "end_time": "2021-05-31T03:56:11.964276Z",
     "start_time": "2021-05-31T03:56:11.887846Z"
    },
    "id": "tsUMMhVMswgw",
    "outputId": "1eccf526-2b25-45b1-a67f-b70ffe346c2d"
   },
   "outputs": [
    {
     "data": {
      "text/plain": [
       "array([[ 0,  1,  2],\n",
       "       [10, 11, 12],\n",
       "       [20, 21, 22],\n",
       "       [30, 31, 32]])"
      ]
     },
     "execution_count": 49,
     "metadata": {},
     "output_type": "execute_result"
    }
   ],
   "source": [
    "a + b"
   ]
  },
  {
   "cell_type": "markdown",
   "metadata": {
    "id": "j_PyiHoLswgz"
   },
   "source": [
    "# Array Shape Manipulation"
   ]
  },
  {
   "cell_type": "markdown",
   "metadata": {
    "id": "k_PleE7Tswgz"
   },
   "source": [
    "## **Flattening**- ravel()"
   ]
  },
  {
   "cell_type": "code",
   "execution_count": 50,
   "metadata": {
    "ExecuteTime": {
     "end_time": "2021-05-31T03:56:12.102851Z",
     "start_time": "2021-05-31T03:56:11.967243Z"
    },
    "id": "ZCNm05mWswg0",
    "outputId": "18403ccc-45db-4e09-8e67-6b268246b278"
   },
   "outputs": [
    {
     "data": {
      "text/plain": [
       "array([1, 2, 3, 4, 5, 6])"
      ]
     },
     "execution_count": 50,
     "metadata": {},
     "output_type": "execute_result"
    }
   ],
   "source": [
    "a = np.array([[1, 2, 3], [4, 5, 6]])\n",
    "a.ravel()        #Return a contiguous flattened array. A 1-D array, \n",
    "                #containing the elements of the input, is returned. A copy is made only if needed."
   ]
  },
  {
   "cell_type": "code",
   "execution_count": 51,
   "metadata": {
    "ExecuteTime": {
     "end_time": "2021-05-31T03:56:12.196148Z",
     "start_time": "2021-05-31T03:56:12.105842Z"
    },
    "id": "vDHkkj_Cswg2",
    "outputId": "e09bd4e6-d56c-4040-b5a1-dea2b20767fa"
   },
   "outputs": [
    {
     "data": {
      "text/plain": [
       "array([[1, 4],\n",
       "       [2, 5],\n",
       "       [3, 6]])"
      ]
     },
     "execution_count": 51,
     "metadata": {},
     "output_type": "execute_result"
    }
   ],
   "source": [
    "a.T #Transpose"
   ]
  },
  {
   "cell_type": "code",
   "execution_count": 52,
   "metadata": {
    "ExecuteTime": {
     "end_time": "2021-05-31T03:56:12.367904Z",
     "start_time": "2021-05-31T03:56:12.199112Z"
    },
    "id": "OQwnB4jMswg7",
    "outputId": "d31964f8-cb74-4547-c2a2-7969288282f6"
   },
   "outputs": [
    {
     "data": {
      "text/plain": [
       "array([1, 4, 2, 5, 3, 6])"
      ]
     },
     "execution_count": 52,
     "metadata": {},
     "output_type": "execute_result"
    }
   ],
   "source": [
    "a.T.ravel()"
   ]
  },
  {
   "cell_type": "markdown",
   "metadata": {
    "id": "IfyMcSqWswhA"
   },
   "source": [
    "## **Reshaping**"
   ]
  },
  {
   "cell_type": "markdown",
   "metadata": {
    "id": "QcaiZZ7mswhA"
   },
   "source": [
    "The inverse operation to flattening:"
   ]
  },
  {
   "cell_type": "code",
   "execution_count": 53,
   "metadata": {
    "ExecuteTime": {
     "end_time": "2021-05-31T03:56:12.523706Z",
     "start_time": "2021-05-31T03:56:12.371892Z"
    },
    "id": "MA6cntc9swhC",
    "outputId": "a4aa22e7-1095-4349-b306-56000f8ae7ee"
   },
   "outputs": [
    {
     "name": "stdout",
     "output_type": "stream",
     "text": [
      "(2, 3)\n",
      "[[1 2 3]\n",
      " [4 5 6]]\n"
     ]
    }
   ],
   "source": [
    "print(a.shape)\n",
    "print(a)"
   ]
  },
  {
   "cell_type": "code",
   "execution_count": 54,
   "metadata": {
    "ExecuteTime": {
     "end_time": "2021-05-31T03:56:12.632871Z",
     "start_time": "2021-05-31T03:56:12.526699Z"
    },
    "id": "hhJauR24swhE",
    "outputId": "e52e66cf-8c93-4769-909b-82137650ab36"
   },
   "outputs": [
    {
     "name": "stdout",
     "output_type": "stream",
     "text": [
      "[1 2 3 4 5 6]\n"
     ]
    }
   ],
   "source": [
    "b = a.ravel()\n",
    "print(b)"
   ]
  },
  {
   "cell_type": "code",
   "execution_count": 55,
   "metadata": {
    "ExecuteTime": {
     "end_time": "2021-05-31T03:56:12.740608Z",
     "start_time": "2021-05-31T03:56:12.635826Z"
    },
    "id": "vXbnz73uswhG",
    "outputId": "db52a819-25c3-45fd-dfb4-372e72cfb8fe"
   },
   "outputs": [
    {
     "data": {
      "text/plain": [
       "array([[1, 2, 3],\n",
       "       [4, 5, 6]])"
      ]
     },
     "execution_count": 55,
     "metadata": {},
     "output_type": "execute_result"
    }
   ],
   "source": [
    "b = b.reshape((2, 3))\n",
    "b"
   ]
  },
  {
   "cell_type": "code",
   "execution_count": 56,
   "metadata": {
    "ExecuteTime": {
     "end_time": "2021-05-31T03:56:12.833362Z",
     "start_time": "2021-05-31T03:56:12.743527Z"
    },
    "id": "TNr-WvUzswhI",
    "outputId": "13a740fd-c250-4a21-fa13-3a2cd8fce06f"
   },
   "outputs": [
    {
     "data": {
      "text/plain": [
       "array([[100,   2,   3],\n",
       "       [  4,   5,   6]])"
      ]
     },
     "execution_count": 56,
     "metadata": {},
     "output_type": "execute_result"
    }
   ],
   "source": [
    "b[0, 0] = 100\n",
    "a"
   ]
  },
  {
   "cell_type": "markdown",
   "metadata": {
    "id": "_Y5EeOeJswhL"
   },
   "source": [
    " **Note and       Beware: reshape may also return a copy!:**"
   ]
  },
  {
   "cell_type": "code",
   "execution_count": 57,
   "metadata": {
    "ExecuteTime": {
     "end_time": "2021-05-31T03:56:12.929497Z",
     "start_time": "2021-05-31T03:56:12.836294Z"
    },
    "id": "tf1F72vHswhL",
    "outputId": "0726a4b2-566e-4628-cc19-8b894cb40c18"
   },
   "outputs": [
    {
     "data": {
      "text/plain": [
       "array([[0., 0.],\n",
       "       [0., 0.],\n",
       "       [0., 0.]])"
      ]
     },
     "execution_count": 57,
     "metadata": {},
     "output_type": "execute_result"
    }
   ],
   "source": [
    "a = np.zeros((3, 2))\n",
    "b = a.T.reshape(3*2)\n",
    "b[0] = 50\n",
    "a"
   ]
  },
  {
   "cell_type": "markdown",
   "metadata": {
    "id": "4pnFgWaTswhO"
   },
   "source": [
    "## **Adding a Dimension**-np.newaxis"
   ]
  },
  {
   "cell_type": "markdown",
   "metadata": {
    "id": "b3x7GDphswhP"
   },
   "source": [
    "Indexing with the np.newaxis object allows us to add an axis to an array"
   ]
  },
  {
   "cell_type": "markdown",
   "metadata": {
    "id": "zWZFOfB0swhP"
   },
   "source": [
    "newaxis is used to increase the dimension of the existing array by one more dimension, when used once. Thus,\n",
    "\n",
    "1D array will become 2D array\n",
    "\n",
    "2D array will become 3D array\n",
    "\n",
    "3D array will become 4D array and so on"
   ]
  },
  {
   "cell_type": "code",
   "execution_count": 58,
   "metadata": {
    "ExecuteTime": {
     "end_time": "2021-05-31T03:56:13.086208Z",
     "start_time": "2021-05-31T03:56:12.932225Z"
    },
    "id": "DuHUdNLoswhP",
    "outputId": "40fb60a7-c44c-41fa-9be8-09ec5468c6a7"
   },
   "outputs": [
    {
     "data": {
      "text/plain": [
       "array([1, 2, 3])"
      ]
     },
     "execution_count": 58,
     "metadata": {},
     "output_type": "execute_result"
    }
   ],
   "source": [
    "z = np.array([1, 2, 3])\n",
    "z"
   ]
  },
  {
   "cell_type": "code",
   "execution_count": 59,
   "metadata": {
    "ExecuteTime": {
     "end_time": "2021-05-31T03:56:13.244727Z",
     "start_time": "2021-05-31T03:56:13.090171Z"
    },
    "id": "f48pj0JMswhT",
    "outputId": "546f6836-b251-4812-f7b2-cf0461d13178"
   },
   "outputs": [
    {
     "data": {
      "text/plain": [
       "array([[1],\n",
       "       [2],\n",
       "       [3]])"
      ]
     },
     "execution_count": 59,
     "metadata": {},
     "output_type": "execute_result"
    }
   ],
   "source": [
    "z[:, np.newaxis]"
   ]
  },
  {
   "cell_type": "markdown",
   "metadata": {
    "id": "Wy-2k9NjswhW"
   },
   "source": [
    "## **Dimension Shuffling**"
   ]
  },
  {
   "cell_type": "code",
   "execution_count": 60,
   "metadata": {
    "ExecuteTime": {
     "end_time": "2021-05-31T03:56:13.386800Z",
     "start_time": "2021-05-31T03:56:13.247721Z"
    },
    "id": "MSTSN5IoswhZ",
    "outputId": "3c1a1132-68f4-4f3b-bb40-c46ab734643a"
   },
   "outputs": [
    {
     "data": {
      "text/plain": [
       "(4, 3, 2)"
      ]
     },
     "execution_count": 60,
     "metadata": {},
     "output_type": "execute_result"
    }
   ],
   "source": [
    "a = np.arange(4*3*2).reshape(4, 3, 2)\n",
    "a.shape"
   ]
  },
  {
   "cell_type": "code",
   "execution_count": 61,
   "metadata": {
    "ExecuteTime": {
     "end_time": "2021-05-31T03:56:13.464092Z",
     "start_time": "2021-05-31T03:56:13.390757Z"
    },
    "id": "-i_qw-2Bswhd",
    "outputId": "dd25efea-7155-4b62-efd2-c069cc0f73c1"
   },
   "outputs": [
    {
     "data": {
      "text/plain": [
       "array([[[ 0,  1],\n",
       "        [ 2,  3],\n",
       "        [ 4,  5]],\n",
       "\n",
       "       [[ 6,  7],\n",
       "        [ 8,  9],\n",
       "        [10, 11]],\n",
       "\n",
       "       [[12, 13],\n",
       "        [14, 15],\n",
       "        [16, 17]],\n",
       "\n",
       "       [[18, 19],\n",
       "        [20, 21],\n",
       "        [22, 23]]])"
      ]
     },
     "execution_count": 61,
     "metadata": {},
     "output_type": "execute_result"
    }
   ],
   "source": [
    "a"
   ]
  },
  {
   "cell_type": "code",
   "execution_count": 62,
   "metadata": {
    "ExecuteTime": {
     "end_time": "2021-05-31T03:56:13.542208Z",
     "start_time": "2021-05-31T03:56:13.467085Z"
    },
    "id": "sFfdpnwxswhg",
    "outputId": "a7f25bdc-c56c-4981-a8ab-ce1627bfd005"
   },
   "outputs": [
    {
     "data": {
      "text/plain": [
       "5"
      ]
     },
     "execution_count": 62,
     "metadata": {},
     "output_type": "execute_result"
    }
   ],
   "source": [
    "a[0, 2, 1]"
   ]
  },
  {
   "cell_type": "markdown",
   "metadata": {
    "id": "2lFLuLyjswhk"
   },
   "source": [
    "## **Resizing**"
   ]
  },
  {
   "cell_type": "code",
   "execution_count": 63,
   "metadata": {
    "ExecuteTime": {
     "end_time": "2021-05-31T03:56:13.635627Z",
     "start_time": "2021-05-31T03:56:13.544168Z"
    },
    "id": "Yi9xEsTdswhl",
    "outputId": "f11c0809-c403-41c9-eaf0-e3f4c90469d8"
   },
   "outputs": [
    {
     "data": {
      "text/plain": [
       "array([0, 1, 2, 3, 0, 0, 0, 0])"
      ]
     },
     "execution_count": 63,
     "metadata": {},
     "output_type": "execute_result"
    }
   ],
   "source": [
    "a = np.arange(4)\n",
    "a.resize((8,))\n",
    "a"
   ]
  },
  {
   "cell_type": "markdown",
   "metadata": {
    "id": "L32_TKH-swhp"
   },
   "source": [
    "However, it must not be referred to somewhere else:"
   ]
  },
  {
   "cell_type": "code",
   "execution_count": 64,
   "metadata": {
    "ExecuteTime": {
     "end_time": "2021-05-31T03:56:13.730709Z",
     "start_time": "2021-05-31T03:56:13.637626Z"
    },
    "id": "n03o_7jKswhq",
    "outputId": "591c6728-d9cd-439f-8287-fce70a25ea2a"
   },
   "outputs": [
    {
     "ename": "ValueError",
     "evalue": "cannot resize an array that references or is referenced\nby another array in this way.\nUse the np.resize function or refcheck=False",
     "output_type": "error",
     "traceback": [
      "\u001b[1;31m---------------------------------------------------------------------------\u001b[0m",
      "\u001b[1;31mValueError\u001b[0m                                Traceback (most recent call last)",
      "\u001b[1;32m<ipython-input-64-5d858401815e>\u001b[0m in \u001b[0;36m<module>\u001b[1;34m\u001b[0m\n\u001b[0;32m      1\u001b[0m \u001b[0mb\u001b[0m \u001b[1;33m=\u001b[0m \u001b[0ma\u001b[0m\u001b[1;33m\u001b[0m\u001b[1;33m\u001b[0m\u001b[0m\n\u001b[1;32m----> 2\u001b[1;33m \u001b[0ma\u001b[0m\u001b[1;33m.\u001b[0m\u001b[0mresize\u001b[0m\u001b[1;33m(\u001b[0m\u001b[1;33m(\u001b[0m\u001b[1;36m4\u001b[0m\u001b[1;33m,\u001b[0m\u001b[1;33m)\u001b[0m\u001b[1;33m)\u001b[0m\u001b[1;33m\u001b[0m\u001b[1;33m\u001b[0m\u001b[0m\n\u001b[0m",
      "\u001b[1;31mValueError\u001b[0m: cannot resize an array that references or is referenced\nby another array in this way.\nUse the np.resize function or refcheck=False"
     ]
    }
   ],
   "source": [
    "b = a\n",
    "a.resize((4,)) "
   ]
  },
  {
   "cell_type": "code",
   "execution_count": 65,
   "metadata": {
    "ExecuteTime": {
     "end_time": "2021-05-31T03:56:39.745072Z",
     "start_time": "2021-05-31T03:56:39.723134Z"
    },
    "id": "iM9Y-4wfswhs",
    "outputId": "417dc55e-8b88-4d3b-c46c-e15aa1f99dcc"
   },
   "outputs": [
    {
     "data": {
      "text/plain": [
       "array([[4, 5, 6],\n",
       "       [2, 2, 3]])"
      ]
     },
     "execution_count": 65,
     "metadata": {},
     "output_type": "execute_result"
    }
   ],
   "source": [
    "#Sorting along an axis:\n",
    "a = np.array([[5, 4, 6], [2, 3, 2]])\n",
    "b = np.sort(a, axis=1)\n",
    "b"
   ]
  },
  {
   "cell_type": "markdown",
   "metadata": {
    "id": "xm598Xkxswhs"
   },
   "source": [
    "## **Sorting Data**-  sort(), argsort()"
   ]
  },
  {
   "cell_type": "code",
   "execution_count": 72,
   "metadata": {
    "ExecuteTime": {
     "end_time": "2021-05-31T03:59:39.006699Z",
     "start_time": "2021-05-31T03:59:38.993734Z"
    },
    "id": "Z8gWeYynswhw",
    "outputId": "51b6c0f4-bc6e-443f-84ce-dccca9039bc3"
   },
   "outputs": [
    {
     "data": {
      "text/plain": [
       "array([[4, 5, 6],\n",
       "       [2, 2, 3]])"
      ]
     },
     "execution_count": 72,
     "metadata": {},
     "output_type": "execute_result"
    }
   ],
   "source": [
    "#in-place sort\n",
    "a = np.array([[5, 4, 6], [2, 3, 2]])\n",
    "a.sort(axis=1)\n",
    "a"
   ]
  },
  {
   "cell_type": "code",
   "execution_count": 73,
   "metadata": {
    "ExecuteTime": {
     "end_time": "2021-05-31T03:59:41.496709Z",
     "start_time": "2021-05-31T03:59:41.489728Z"
    }
   },
   "outputs": [
    {
     "data": {
      "text/plain": [
       "array([[2, 2, 3],\n",
       "       [4, 5, 6]])"
      ]
     },
     "execution_count": 73,
     "metadata": {},
     "output_type": "execute_result"
    }
   ],
   "source": [
    "a.sort(axis=0)\n",
    "a"
   ]
  },
  {
   "cell_type": "code",
   "execution_count": 74,
   "metadata": {
    "ExecuteTime": {
     "end_time": "2021-05-31T04:00:02.794448Z",
     "start_time": "2021-05-31T04:00:02.777471Z"
    },
    "id": "DSSbH76aswh1",
    "outputId": "6a5e8098-e5c1-4298-bf36-982d5fa9b9ba"
   },
   "outputs": [
    {
     "data": {
      "text/plain": [
       "array([2, 3, 1, 0], dtype=int64)"
      ]
     },
     "execution_count": 74,
     "metadata": {},
     "output_type": "execute_result"
    }
   ],
   "source": [
    "#sorting with fancy indexing\n",
    "a = np.array([4, 3, 1, 2])\n",
    "j = np.argsort(a)\n",
    "j"
   ]
  },
  {
   "cell_type": "code",
   "execution_count": 75,
   "metadata": {
    "ExecuteTime": {
     "end_time": "2021-05-31T04:00:12.488523Z",
     "start_time": "2021-05-31T04:00:12.479548Z"
    },
    "id": "CtBWBS5Qswh3",
    "outputId": "c802fde5-cac6-4495-b3f6-e4c66dbfbb3f"
   },
   "outputs": [
    {
     "data": {
      "text/plain": [
       "array([1, 2, 3, 4])"
      ]
     },
     "execution_count": 75,
     "metadata": {},
     "output_type": "execute_result"
    }
   ],
   "source": [
    "a[j]"
   ]
  },
  {
   "cell_type": "markdown",
   "metadata": {},
   "source": [
    "---"
   ]
  }
 ],
 "metadata": {
  "colab": {
   "collapsed_sections": [
    "9pyhkSfQsweW",
    "tU_ZXk-TswgY",
    "j_PyiHoLswgz"
   ],
   "name": "numerical_operations_on_array.ipynb",
   "provenance": []
  },
  "kernelspec": {
   "display_name": "Python 3",
   "language": "python",
   "name": "python3"
  },
  "language_info": {
   "codemirror_mode": {
    "name": "ipython",
    "version": 3
   },
   "file_extension": ".py",
   "mimetype": "text/x-python",
   "name": "python",
   "nbconvert_exporter": "python",
   "pygments_lexer": "ipython3",
   "version": "3.8.5"
  },
  "toc": {
   "base_numbering": 1,
   "nav_menu": {},
   "number_sections": true,
   "sideBar": true,
   "skip_h1_title": false,
   "title_cell": "Table of Contents",
   "title_sidebar": "Contents",
   "toc_cell": true,
   "toc_position": {
    "height": "calc(100% - 180px)",
    "left": "10px",
    "top": "150px",
    "width": "198.188px"
   },
   "toc_section_display": true,
   "toc_window_display": true
  },
  "varInspector": {
   "cols": {
    "lenName": 16,
    "lenType": 16,
    "lenVar": 40
   },
   "kernels_config": {
    "python": {
     "delete_cmd_postfix": "",
     "delete_cmd_prefix": "del ",
     "library": "var_list.py",
     "varRefreshCmd": "print(var_dic_list())"
    },
    "r": {
     "delete_cmd_postfix": ") ",
     "delete_cmd_prefix": "rm(",
     "library": "var_list.r",
     "varRefreshCmd": "cat(var_dic_list()) "
    }
   },
   "types_to_exclude": [
    "module",
    "function",
    "builtin_function_or_method",
    "instance",
    "_Feature"
   ],
   "window_display": false
  }
 },
 "nbformat": 4,
 "nbformat_minor": 1
}
