{
 "cells": [
  {
   "cell_type": "markdown",
   "id": "3e8e25de",
   "metadata": {
    "ExecuteTime": {
     "end_time": "2023-05-10T18:12:27.456612Z",
     "start_time": "2023-05-10T18:12:27.442660Z"
    }
   },
   "source": [
    "\n",
    "    @iampramodyadav\n"
   ]
  },
  {
   "cell_type": "markdown",
   "id": "7dd74f42",
   "metadata": {
    "toc": true
   },
   "source": [
    "<h1>Table of Contents<span class=\"tocSkip\"></span></h1>\n",
    "<div class=\"toc\"><ul class=\"toc-item\"><li><span><a href=\"#Comprehension\" data-toc-modified-id=\"Comprehension-1\"><span class=\"toc-item-num\">1&nbsp;&nbsp;</span>Comprehension</a></span><ul class=\"toc-item\"><li><span><a href=\"#List-Comprehensions\" data-toc-modified-id=\"List-Comprehensions-1.1\"><span class=\"toc-item-num\">1.1&nbsp;&nbsp;</span>List Comprehensions</a></span></li><li><span><a href=\"#Dictionary-Comprehension\" data-toc-modified-id=\"Dictionary-Comprehension-1.2\"><span class=\"toc-item-num\">1.2&nbsp;&nbsp;</span>Dictionary Comprehension</a></span></li><li><span><a href=\"#Set-Comprehensions\" data-toc-modified-id=\"Set-Comprehensions-1.3\"><span class=\"toc-item-num\">1.3&nbsp;&nbsp;</span>Set Comprehensions</a></span></li><li><span><a href=\"#Generator-Comprehension\" data-toc-modified-id=\"Generator-Comprehension-1.4\"><span class=\"toc-item-num\">1.4&nbsp;&nbsp;</span>Generator Comprehension</a></span></li><li><span><a href=\"#Multiple-Comprehensions\" data-toc-modified-id=\"Multiple-Comprehensions-1.5\"><span class=\"toc-item-num\">1.5&nbsp;&nbsp;</span>Multiple Comprehensions</a></span></li><li><span><a href=\"#Nested-Comprehension\" data-toc-modified-id=\"Nested-Comprehension-1.6\"><span class=\"toc-item-num\">1.6&nbsp;&nbsp;</span>Nested Comprehension</a></span></li></ul></li><li><span><a href=\"#Arguments-in-Python-Function\" data-toc-modified-id=\"Arguments-in-Python-Function-2\"><span class=\"toc-item-num\">2&nbsp;&nbsp;</span>Arguments in Python Function</a></span><ul class=\"toc-item\"><li><span><a href=\"#default-arguments\" data-toc-modified-id=\"default-arguments-2.1\"><span class=\"toc-item-num\">2.1&nbsp;&nbsp;</span>default arguments</a></span></li><li><span><a href=\"#Keyword-Arguments\" data-toc-modified-id=\"Keyword-Arguments-2.2\"><span class=\"toc-item-num\">2.2&nbsp;&nbsp;</span>Keyword Arguments</a></span></li><li><span><a href=\"#Positional-Arguments\" data-toc-modified-id=\"Positional-Arguments-2.3\"><span class=\"toc-item-num\">2.3&nbsp;&nbsp;</span>Positional Arguments</a></span></li><li><span><a href=\"#Variable-Length-Arguments\" data-toc-modified-id=\"Variable-Length-Arguments-2.4\"><span class=\"toc-item-num\">2.4&nbsp;&nbsp;</span>Variable Length Arguments</a></span><ul class=\"toc-item\"><li><span><a href=\"#Example:-arbitrary-positional-arguments\" data-toc-modified-id=\"Example:-arbitrary-positional-arguments-2.4.1\"><span class=\"toc-item-num\">2.4.1&nbsp;&nbsp;</span><strong>Example</strong>: arbitrary positional arguments</a></span></li></ul></li><li><span><a href=\"#keyword-variable-argument\" data-toc-modified-id=\"keyword-variable-argument-2.5\"><span class=\"toc-item-num\">2.5&nbsp;&nbsp;</span>keyword variable argument</a></span><ul class=\"toc-item\"><li><span><a href=\"#Example:-arbitrary-keyword-arguments\" data-toc-modified-id=\"Example:-arbitrary-keyword-arguments-2.5.1\"><span class=\"toc-item-num\">2.5.1&nbsp;&nbsp;</span><strong>Example</strong>: arbitrary keyword arguments</a></span></li></ul></li><li><span><a href=\"#Extended-Format-Argument-Syntax\" data-toc-modified-id=\"Extended-Format-Argument-Syntax-2.6\"><span class=\"toc-item-num\">2.6&nbsp;&nbsp;</span>Extended Format Argument Syntax</a></span></li><li><span><a href=\"#Extended-Actual-Arguments-Syntax\" data-toc-modified-id=\"Extended-Actual-Arguments-Syntax-2.7\"><span class=\"toc-item-num\">2.7&nbsp;&nbsp;</span>Extended Actual Arguments Syntax</a></span></li><li><span><a href=\"#Special-Parameters:\" data-toc-modified-id=\"Special-Parameters:-2.8\"><span class=\"toc-item-num\">2.8&nbsp;&nbsp;</span>Special Parameters:</a></span><ul class=\"toc-item\"><li><span><a href=\"#Positional-or-keyword-arguments\" data-toc-modified-id=\"Positional-or-keyword-arguments-2.8.1\"><span class=\"toc-item-num\">2.8.1&nbsp;&nbsp;</span>Positional or keyword arguments</a></span></li><li><span><a href=\"#Positional-only-parameters\" data-toc-modified-id=\"Positional-only-parameters-2.8.2\"><span class=\"toc-item-num\">2.8.2&nbsp;&nbsp;</span>Positional only parameters</a></span></li><li><span><a href=\"#Keyword-only-arguments\" data-toc-modified-id=\"Keyword-only-arguments-2.8.3\"><span class=\"toc-item-num\">2.8.3&nbsp;&nbsp;</span>Keyword only arguments</a></span></li><li><span><a href=\"#All-3-calling-conventions-are-used-in-the-same-function\" data-toc-modified-id=\"All-3-calling-conventions-are-used-in-the-same-function-2.8.4\"><span class=\"toc-item-num\">2.8.4&nbsp;&nbsp;</span>All 3 calling conventions are used in the same function</a></span></li></ul></li></ul></li><li><span><a href=\"#Closure-and-Decorators\" data-toc-modified-id=\"Closure-and-Decorators-3\"><span class=\"toc-item-num\">3&nbsp;&nbsp;</span>Closure and Decorators</a></span><ul class=\"toc-item\"><li><span><a href=\"#Local-Function\" data-toc-modified-id=\"Local-Function-3.1\"><span class=\"toc-item-num\">3.1&nbsp;&nbsp;</span>Local Function</a></span><ul class=\"toc-item\"><li><span><a href=\"#Scope-resolution-via-LEGB-rule:\" data-toc-modified-id=\"Scope-resolution-via-LEGB-rule:-3.1.1\"><span class=\"toc-item-num\">3.1.1&nbsp;&nbsp;</span>Scope resolution via LEGB rule:</a></span></li></ul></li><li><span><a href=\"#Returning-Function\" data-toc-modified-id=\"Returning-Function-3.2\"><span class=\"toc-item-num\">3.2&nbsp;&nbsp;</span>Returning Function</a></span></li><li><span><a href=\"#Closures\" data-toc-modified-id=\"Closures-3.3\"><span class=\"toc-item-num\">3.3&nbsp;&nbsp;</span>Closures</a></span></li><li><span><a href=\"#Decorators\" data-toc-modified-id=\"Decorators-3.4\"><span class=\"toc-item-num\">3.4&nbsp;&nbsp;</span>Decorators</a></span></li><li><span><a href=\"#Chaining-Decorators\" data-toc-modified-id=\"Chaining-Decorators-3.5\"><span class=\"toc-item-num\">3.5&nbsp;&nbsp;</span>Chaining Decorators</a></span></li><li><span><a href=\"#Note:__name__-==-'__main__'\" data-toc-modified-id=\"Note:__name__-==-'__main__'-3.6\"><span class=\"toc-item-num\">3.6&nbsp;&nbsp;</span><strong>Note:</strong><code>__name__ == '__main__'</code></a></span><ul class=\"toc-item\"><li><span><a href=\"#Example:\" data-toc-modified-id=\"Example:-3.6.1\"><span class=\"toc-item-num\">3.6.1&nbsp;&nbsp;</span><strong>Example</strong>:</a></span></li></ul></li></ul></li><li><span><a href=\"#Generator-and-Iterators\" data-toc-modified-id=\"Generator-and-Iterators-4\"><span class=\"toc-item-num\">4&nbsp;&nbsp;</span>Generator and Iterators</a></span><ul class=\"toc-item\"><li><span><a href=\"#Python-Iterators-&amp;-Iterables\" data-toc-modified-id=\"Python-Iterators-&amp;-Iterables-4.1\"><span class=\"toc-item-num\">4.1&nbsp;&nbsp;</span>Python Iterators &amp; Iterables</a></span><ul class=\"toc-item\"><li><span><a href=\"#The-lazy-nature-of-iterators\" data-toc-modified-id=\"The-lazy-nature-of-iterators-4.1.1\"><span class=\"toc-item-num\">4.1.1&nbsp;&nbsp;</span>The lazy nature of iterators</a></span></li></ul></li><li><span><a href=\"#Generators\" data-toc-modified-id=\"Generators-4.2\"><span class=\"toc-item-num\">4.2&nbsp;&nbsp;</span>Generators</a></span><ul class=\"toc-item\"><li><span><a href=\"#Python’s-yield-Keyword\" data-toc-modified-id=\"Python’s-yield-Keyword-4.2.1\"><span class=\"toc-item-num\">4.2.1&nbsp;&nbsp;</span>Python’s <code>yield</code> Keyword</a></span></li></ul></li></ul></li><li><span><a href=\"#Operator-Overloading-in-Python\" data-toc-modified-id=\"Operator-Overloading-in-Python-5\"><span class=\"toc-item-num\">5&nbsp;&nbsp;</span>Operator Overloading in Python</a></span><ul class=\"toc-item\"><li><span><a href=\"#Python-Special-Functions\" data-toc-modified-id=\"Python-Special-Functions-5.1\"><span class=\"toc-item-num\">5.1&nbsp;&nbsp;</span>Python Special Functions</a></span></li><li><span><a href=\"#Overloading-to-arithmetic-operators\" data-toc-modified-id=\"Overloading-to-arithmetic-operators-5.2\"><span class=\"toc-item-num\">5.2&nbsp;&nbsp;</span>Overloading to arithmetic operators</a></span></li><li><span><a href=\"#Overloading-Comparison-Operators\" data-toc-modified-id=\"Overloading-Comparison-Operators-5.3\"><span class=\"toc-item-num\">5.3&nbsp;&nbsp;</span>Overloading Comparison Operators</a></span></li><li><span><a href=\"#Assignment-Operators\" data-toc-modified-id=\"Assignment-Operators-5.4\"><span class=\"toc-item-num\">5.4&nbsp;&nbsp;</span>Assignment Operators</a></span></li><li><span><a href=\"#Unary-Operators\" data-toc-modified-id=\"Unary-Operators-5.5\"><span class=\"toc-item-num\">5.5&nbsp;&nbsp;</span>Unary Operators</a></span></li><li><span><a href=\"#Advantages-of-Operator-Overloading\" data-toc-modified-id=\"Advantages-of-Operator-Overloading-5.6\"><span class=\"toc-item-num\">5.6&nbsp;&nbsp;</span>Advantages of Operator Overloading</a></span></li></ul></li></ul></div>"
   ]
  },
  {
   "cell_type": "markdown",
   "id": "5eafc60a",
   "metadata": {},
   "source": [
    "## Comprehension"
   ]
  },
  {
   "cell_type": "markdown",
   "id": "f0796ce2",
   "metadata": {
    "ExecuteTime": {
     "end_time": "2023-05-10T17:23:18.760599Z",
     "start_time": "2023-05-10T17:23:18.752961Z"
    }
   },
   "source": [
    "[source*](https://towardsdatascience.com/4-types-of-comprehensions-in-python-2fbeafdf2fda)\n",
    "\n",
    "[Source](https://www.javatpoint.com/advance-concepts-of-python-for-python-developer)\n",
    "\n",
    "Comprehensions in Python allow us to write a concise line to create new sequences (such as lists, set, dictionary etc.) using sequences which have already been defined. Python provides the following four types of comprehensions:\n",
    "\n",
    "1. List Comprehensions\n",
    "2. Dictionary Comprehensions\n",
    "3. Set Comprehensions\n",
    "4. Generator Comprehensions"
   ]
  },
  {
   "cell_type": "markdown",
   "id": "d96e0993",
   "metadata": {},
   "source": [
    "### List Comprehensions\n",
    "\n",
    "**Syntax:** \n",
    "```\n",
    "[ expr(item) for item in iterable ]```"
   ]
  },
  {
   "cell_type": "code",
   "execution_count": 71,
   "id": "37dd8266",
   "metadata": {
    "ExecuteTime": {
     "end_time": "2023-05-13T11:14:20.359066Z",
     "start_time": "2023-05-13T11:14:20.345959Z"
    }
   },
   "outputs": [
    {
     "name": "stdout",
     "output_type": "stream",
     "text": [
      "Output List using for loop: [2, 4, 6, 8, 10]\n"
     ]
    }
   ],
   "source": [
    "given_list = [1, 2, 3, 4, 5, 6, 7, 8, 9, 10]  \n",
    "output = []  \n",
    "# Using loop for constructing output list\n",
    "\n",
    "for i in given_list:  \n",
    "    if i % 2 == 0:  \n",
    "        output.append(i)   \n",
    "        \n",
    "print(\"Output List using for loop:\", output) "
   ]
  },
  {
   "cell_type": "markdown",
   "id": "51c4992f",
   "metadata": {},
   "source": [
    "**With list comprehension**"
   ]
  },
  {
   "cell_type": "code",
   "execution_count": 14,
   "id": "74757f40",
   "metadata": {
    "ExecuteTime": {
     "end_time": "2023-05-10T17:27:42.522920Z",
     "start_time": "2023-05-10T17:27:42.506673Z"
    }
   },
   "outputs": [
    {
     "name": "stdout",
     "output_type": "stream",
     "text": [
      "Output List using list comprehensions: [2, 4, 6, 8, 10]\n"
     ]
    }
   ],
   "source": [
    "given_list = [1, 2, 3, 4, 5, 6, 7, 8, 9, 10]  \n",
    "\n",
    "list_comp_example = [i for i in given_list if i % 2 == 0]  \n",
    "\n",
    "print(\"Output List using list comprehensions:\", list_comp_example)  "
   ]
  },
  {
   "cell_type": "code",
   "execution_count": 19,
   "id": "63724823",
   "metadata": {
    "ExecuteTime": {
     "end_time": "2023-05-10T17:31:33.516119Z",
     "start_time": "2023-05-10T17:31:33.508386Z"
    }
   },
   "outputs": [
    {
     "name": "stdout",
     "output_type": "stream",
     "text": [
      "Output List using list comprehensions: [4, 16, 36, 64, 100]\n"
     ]
    }
   ],
   "source": [
    "given_list = [1, 2, 3, 4, 5, 6, 7, 8, 9, 10]  \n",
    "\n",
    "list_comp_example = [i**2 for i in given_list if i % 2 == 0]  \n",
    "\n",
    "print(\"Output List using list comprehensions:\", list_comp_example) "
   ]
  },
  {
   "cell_type": "code",
   "execution_count": 17,
   "id": "380e3c5b",
   "metadata": {
    "ExecuteTime": {
     "end_time": "2023-05-10T17:31:09.426159Z",
     "start_time": "2023-05-10T17:31:09.407166Z"
    }
   },
   "outputs": [
    {
     "data": {
      "text/plain": [
       "6"
      ]
     },
     "execution_count": 17,
     "metadata": {},
     "output_type": "execute_result"
    }
   ],
   "source": []
  },
  {
   "cell_type": "markdown",
   "id": "aa0f782f",
   "metadata": {},
   "source": [
    "### Dictionary Comprehension"
   ]
  },
  {
   "cell_type": "markdown",
   "id": "b94f596c",
   "metadata": {},
   "source": [
    "**Syntax:** \n",
    "```\n",
    "{ key_expr:value_expr for item in iterable }```"
   ]
  },
  {
   "cell_type": "code",
   "execution_count": 20,
   "id": "4cf409ad",
   "metadata": {
    "ExecuteTime": {
     "end_time": "2023-05-10T17:34:11.615038Z",
     "start_time": "2023-05-10T17:34:11.601536Z"
    }
   },
   "outputs": [
    {
     "name": "stdout",
     "output_type": "stream",
     "text": [
      "Output List using for loop: {2: 8, 4: 64, 6: 216, 8: 512, 10: 1000}\n"
     ]
    }
   ],
   "source": [
    "given_list = [1, 2, 3, 4, 5, 6, 7, 8, 9, 10]  \n",
    "output = {}  \n",
    "# Using loop for constructing output list\n",
    "\n",
    "for i in given_list:  \n",
    "    if i % 2 == 0:  \n",
    "        output[i] = i ** 3 \n",
    "        \n",
    "print(\"Output List using for loop:\", output)  "
   ]
  },
  {
   "cell_type": "markdown",
   "id": "cfd75338",
   "metadata": {},
   "source": [
    "**With dictionary comprehension**"
   ]
  },
  {
   "cell_type": "code",
   "execution_count": 27,
   "id": "cf4815d4",
   "metadata": {
    "ExecuteTime": {
     "end_time": "2023-05-10T17:44:13.159631Z",
     "start_time": "2023-05-10T17:44:13.141496Z"
    }
   },
   "outputs": [
    {
     "name": "stdout",
     "output_type": "stream",
     "text": [
      "Output List using for loop: {2: 1, 4: 4, 6: 9, 8: 16, 10: 25, 12: 36, 14: 49, 16: 64, 18: 81, 20: 100}\n"
     ]
    }
   ],
   "source": [
    "given_list = [1, 2, 3, 4, 5, 6, 7, 8, 9, 10]\n",
    "\n",
    "output = {i+i: i**2 for i in given_list}  \n",
    "\n",
    "print(\"Output List using for loop:\", output)  "
   ]
  },
  {
   "cell_type": "code",
   "execution_count": 24,
   "id": "95a43e7e",
   "metadata": {
    "ExecuteTime": {
     "end_time": "2023-05-10T17:38:08.619227Z",
     "start_time": "2023-05-10T17:38:08.601554Z"
    }
   },
   "outputs": [
    {
     "name": "stdout",
     "output_type": "stream",
     "text": [
      "Output List using for loop: {2: 4, 4: 16, 6: 36, 8: 64, 10: 100}\n"
     ]
    }
   ],
   "source": [
    " given_list = [1, 2, 3, 4, 5, 6, 7, 8, 9, 10]\n",
    "\n",
    "output = {i: i**2 for i in given_list if i%2==0}  \n",
    "\n",
    "print(\"Output List using for loop:\", output)  "
   ]
  },
  {
   "cell_type": "markdown",
   "id": "8e838a48",
   "metadata": {},
   "source": [
    "### Set Comprehensions"
   ]
  },
  {
   "cell_type": "markdown",
   "id": "3510ff96",
   "metadata": {},
   "source": [
    "Set comprehensions are quite similar to list comprehensions. The only difference between them is that set comprehensions use curly brackets { }. \n",
    "\n",
    "**Syntax:** \n",
    "```\n",
    "{ expr(item) for item in iterable }```"
   ]
  },
  {
   "cell_type": "code",
   "execution_count": 25,
   "id": "fa9b7368",
   "metadata": {
    "ExecuteTime": {
     "end_time": "2023-05-10T17:40:20.179817Z",
     "start_time": "2023-05-10T17:40:20.163309Z"
    }
   },
   "outputs": [
    {
     "name": "stdout",
     "output_type": "stream",
     "text": [
      "Output List using for loop: {2, 4, 6, 8, 10}\n"
     ]
    }
   ],
   "source": [
    "given_list = [1, 2, 3, 4, 5, 6, 7, 8, 9, 10]  \n",
    "output = set()  \n",
    "\n",
    "# Using loop for constructing output list  \n",
    "for i in given_list:  \n",
    "    if i % 2 == 0:  \n",
    "        output.add(i)  \n",
    "        \n",
    "print(\"Output List using for loop:\", output)  "
   ]
  },
  {
   "cell_type": "markdown",
   "id": "4dbe10fa",
   "metadata": {},
   "source": [
    "**With Set Comprehension**"
   ]
  },
  {
   "cell_type": "code",
   "execution_count": 26,
   "id": "b6a5205f",
   "metadata": {
    "ExecuteTime": {
     "end_time": "2023-05-10T17:41:35.841734Z",
     "start_time": "2023-05-10T17:41:35.833728Z"
    }
   },
   "outputs": [
    {
     "name": "stdout",
     "output_type": "stream",
     "text": [
      "Output Set using set comprehensions: {2, 4, 6, 8, 10}\n"
     ]
    }
   ],
   "source": [
    "given_list = [1, 2, 3, 4, 5, 6, 7, 8, 9, 10]  \n",
    "output = set()  \n",
    "\n",
    "set_using_comp = {var for var in given_list if var % 2 == 0}  \n",
    "\n",
    "print(\"Output Set using set comprehensions:\",  \n",
    "                              set_using_comp)  "
   ]
  },
  {
   "cell_type": "markdown",
   "id": "c947fda4",
   "metadata": {},
   "source": [
    "### Generator Comprehension\n",
    "\n",
    "Generator Comprehensions are very similar to list comprehension. One difference is that generator comprehensions use circular brackets, whereas list comprehensions use square brackets."
   ]
  },
  {
   "cell_type": "code",
   "execution_count": 28,
   "id": "8eb066c3",
   "metadata": {
    "ExecuteTime": {
     "end_time": "2023-05-10T17:46:04.612740Z",
     "start_time": "2023-05-10T17:46:04.597587Z"
    }
   },
   "outputs": [
    {
     "name": "stdout",
     "output_type": "stream",
     "text": [
      "2 4 6 8 10 "
     ]
    }
   ],
   "source": [
    "given_list = [1, 2, 3, 4, 5, 6, 7, 8, 9, 10]  \n",
    "\n",
    "output_gen = (var for var in given_list if var % 2 == 0)  \n",
    "    \n",
    "for var in output_gen:  \n",
    "    print(var, end = ' ')  "
   ]
  },
  {
   "cell_type": "code",
   "execution_count": 29,
   "id": "f6c3ea06",
   "metadata": {
    "ExecuteTime": {
     "end_time": "2023-05-10T17:53:27.399290Z",
     "start_time": "2023-05-10T17:53:27.390194Z"
    }
   },
   "outputs": [
    {
     "data": {
      "text/plain": [
       "<generator object <genexpr> at 0x0000027F85878890>"
      ]
     },
     "execution_count": 29,
     "metadata": {},
     "output_type": "execute_result"
    }
   ],
   "source": [
    "output_gen"
   ]
  },
  {
   "cell_type": "markdown",
   "id": "4d10f563",
   "metadata": {},
   "source": [
    "### Multiple Comprehensions"
   ]
  },
  {
   "cell_type": "code",
   "execution_count": 33,
   "id": "90f949fe",
   "metadata": {
    "ExecuteTime": {
     "end_time": "2023-05-10T18:06:51.993938Z",
     "start_time": "2023-05-10T18:06:51.985490Z"
    }
   },
   "outputs": [
    {
     "name": "stdout",
     "output_type": "stream",
     "text": [
      "[(0, 0), (0, 1), (0, 2), (1, 0), (1, 1), (1, 2), (2, 0), (2, 1), (2, 2), (3, 0), (3, 1), (3, 2), (4, 0), (4, 1), (4, 2)]\n"
     ]
    }
   ],
   "source": [
    "values = []  \n",
    "for x in range(5):  \n",
    "    for y in range(3):  \n",
    "        values.append((x,y))  \n",
    "        \n",
    "print(values)        "
   ]
  },
  {
   "cell_type": "code",
   "execution_count": 34,
   "id": "e193dd3e",
   "metadata": {
    "ExecuteTime": {
     "end_time": "2023-05-10T18:07:01.573403Z",
     "start_time": "2023-05-10T18:07:01.565384Z"
    }
   },
   "outputs": [
    {
     "name": "stdout",
     "output_type": "stream",
     "text": [
      "[(0, 0), (0, 1), (0, 2), (1, 0), (1, 1), (1, 2), (2, 0), (2, 1), (2, 2), (3, 0), (3, 1), (3, 2), (4, 0), (4, 1), (4, 2)]\n"
     ]
    }
   ],
   "source": [
    "values = [(x,y) for x in range(5) for y in range(3)]  \n",
    "\n",
    "print(values) "
   ]
  },
  {
   "cell_type": "markdown",
   "id": "5702689f",
   "metadata": {},
   "source": [
    "### Nested Comprehension"
   ]
  },
  {
   "cell_type": "code",
   "execution_count": 37,
   "id": "d8ef8917",
   "metadata": {
    "ExecuteTime": {
     "end_time": "2023-05-10T18:09:15.019349Z",
     "start_time": "2023-05-10T18:09:15.003967Z"
    }
   },
   "outputs": [
    {
     "name": "stdout",
     "output_type": "stream",
     "text": [
      "[[], [0], [0, 3], [0, 3, 6], [0, 3, 6, 9], [0, 3, 6, 9, 12], [0, 3, 6, 9, 12, 15], [0, 3, 6, 9, 12, 15, 18], [0, 3, 6, 9, 12, 15, 18, 21], [0, 3, 6, 9, 12, 15, 18, 21, 24]]\n"
     ]
    }
   ],
   "source": [
    "values = []  \n",
    "for x in range(10):  \n",
    "    inner = []  \n",
    "    for y in range(x):  \n",
    "        inner.append(y*3)  \n",
    "    values.append(inner) \n",
    "    \n",
    "print(values)     "
   ]
  },
  {
   "cell_type": "code",
   "execution_count": 35,
   "id": "8cde5e6d",
   "metadata": {
    "ExecuteTime": {
     "end_time": "2023-05-10T18:08:29.943865Z",
     "start_time": "2023-05-10T18:08:29.924582Z"
    }
   },
   "outputs": [
    {
     "name": "stdout",
     "output_type": "stream",
     "text": [
      "[[], [0], [0, 3], [0, 3, 6], [0, 3, 6, 9], [0, 3, 6, 9, 12], [0, 3, 6, 9, 12, 15], [0, 3, 6, 9, 12, 15, 18], [0, 3, 6, 9, 12, 15, 18, 21], [0, 3, 6, 9, 12, 15, 18, 21, 24]]\n"
     ]
    }
   ],
   "source": [
    "values = [[y*3 for y in range(x)] for x in range(10)]  \n",
    "\n",
    "print(values) "
   ]
  },
  {
   "cell_type": "markdown",
   "id": "da779d45",
   "metadata": {},
   "source": [
    "---"
   ]
  },
  {
   "cell_type": "markdown",
   "id": "5f76b3dc",
   "metadata": {},
   "source": [
    "## Arguments in Python Function\n",
    "\n",
    "[source](https://levelup.gitconnected.com/5-types-of-arguments-in-python-function-definition-e0e2a2cafd29)\n",
    "\n",
    "\n",
    "\n"
   ]
  },
  {
   "cell_type": "markdown",
   "id": "35a14b39",
   "metadata": {},
   "source": [
    "We use the arguments to call the function in Python. Sometimes we need to use keyword arguments or positional arguments, and Keyword arguments can often be used to make function calls more explicit."
   ]
  },
  {
   "cell_type": "markdown",
   "id": "f45124c6",
   "metadata": {},
   "source": [
    "- default arguments\n",
    "- keyword arguments\n",
    "- positional arguments\n",
    "- arbitrary positional arguments\n",
    "- arbitrary keyword arguments"
   ]
  },
  {
   "cell_type": "markdown",
   "id": "d393c2fd",
   "metadata": {},
   "source": [
    "###  default arguments"
   ]
  },
  {
   "cell_type": "code",
   "execution_count": 115,
   "id": "8ceae75b",
   "metadata": {
    "ExecuteTime": {
     "end_time": "2023-05-10T20:08:41.086121Z",
     "start_time": "2023-05-10T20:08:41.080984Z"
    }
   },
   "outputs": [],
   "source": [
    "def add(a,b=5,c=10):\n",
    "    return (a+b+c)"
   ]
  },
  {
   "cell_type": "code",
   "execution_count": 116,
   "id": "83ea40d7",
   "metadata": {
    "ExecuteTime": {
     "end_time": "2023-05-10T20:09:13.004955Z",
     "start_time": "2023-05-10T20:09:12.993373Z"
    }
   },
   "outputs": [
    {
     "name": "stdout",
     "output_type": "stream",
     "text": [
      "18\n"
     ]
    }
   ],
   "source": [
    "print(add(3))"
   ]
  },
  {
   "cell_type": "code",
   "execution_count": 117,
   "id": "188aadb5",
   "metadata": {
    "ExecuteTime": {
     "end_time": "2023-05-10T20:09:13.407242Z",
     "start_time": "2023-05-10T20:09:13.395481Z"
    }
   },
   "outputs": [
    {
     "name": "stdout",
     "output_type": "stream",
     "text": [
      "17\n"
     ]
    }
   ],
   "source": [
    "print(add(3,4))"
   ]
  },
  {
   "cell_type": "code",
   "execution_count": 118,
   "id": "5ff4a962",
   "metadata": {
    "ExecuteTime": {
     "end_time": "2023-05-10T20:09:13.904691Z",
     "start_time": "2023-05-10T20:09:13.900591Z"
    }
   },
   "outputs": [
    {
     "name": "stdout",
     "output_type": "stream",
     "text": [
      "9\n"
     ]
    }
   ],
   "source": [
    "print(add(2,3,4))"
   ]
  },
  {
   "cell_type": "markdown",
   "id": "1f13213d",
   "metadata": {},
   "source": [
    "### Keyword Arguments"
   ]
  },
  {
   "cell_type": "markdown",
   "id": "4aa6328d",
   "metadata": {},
   "source": [
    "Functions can also be called using keyword arguments of the form `kwarg=value`"
   ]
  },
  {
   "cell_type": "code",
   "execution_count": 120,
   "id": "5f919229",
   "metadata": {
    "ExecuteTime": {
     "end_time": "2023-05-10T20:10:57.511851Z",
     "start_time": "2023-05-10T20:10:57.493888Z"
    }
   },
   "outputs": [],
   "source": [
    "def add(a,b=5,c=10):\n",
    "    return (a+b+c)"
   ]
  },
  {
   "cell_type": "code",
   "execution_count": 121,
   "id": "c83b1a94",
   "metadata": {
    "ExecuteTime": {
     "end_time": "2023-05-10T20:10:58.261604Z",
     "start_time": "2023-05-10T20:10:58.250984Z"
    }
   },
   "outputs": [
    {
     "name": "stdout",
     "output_type": "stream",
     "text": [
      "45\n"
     ]
    }
   ],
   "source": [
    "print (add(b=10,c=15,a=20))"
   ]
  },
  {
   "cell_type": "code",
   "execution_count": 137,
   "id": "8f38669e",
   "metadata": {
    "ExecuteTime": {
     "end_time": "2023-05-10T20:17:58.277643Z",
     "start_time": "2023-05-10T20:17:58.270970Z"
    }
   },
   "outputs": [
    {
     "name": "stdout",
     "output_type": "stream",
     "text": [
      "45\n"
     ]
    }
   ],
   "source": [
    "print (add(10,c=15,b=20))"
   ]
  },
  {
   "cell_type": "code",
   "execution_count": 122,
   "id": "ee57ba4e",
   "metadata": {
    "ExecuteTime": {
     "end_time": "2023-05-10T20:10:59.238003Z",
     "start_time": "2023-05-10T20:10:59.219922Z"
    }
   },
   "outputs": [
    {
     "name": "stdout",
     "output_type": "stream",
     "text": [
      "25\n"
     ]
    }
   ],
   "source": [
    "print (add(a=10))"
   ]
  },
  {
   "cell_type": "code",
   "execution_count": 138,
   "id": "02ade0e8",
   "metadata": {
    "ExecuteTime": {
     "end_time": "2023-05-10T20:18:33.496881Z",
     "start_time": "2023-05-10T20:18:33.484389Z"
    }
   },
   "outputs": [
    {
     "name": "stdout",
     "output_type": "stream",
     "text": [
      "45\n"
     ]
    }
   ],
   "source": [
    "print (add(10,15,20))"
   ]
  },
  {
   "cell_type": "markdown",
   "id": "5ebbcfaa",
   "metadata": {},
   "source": [
    "### Positional Arguments"
   ]
  },
  {
   "cell_type": "markdown",
   "id": "f39c59bb",
   "metadata": {},
   "source": [
    "- During a function call, values passed through arguments should be in the order of parameters in the function definition. This is called positional arguments.\n",
    "\n",
    "- Keyword arguments should follow positional arguments only."
   ]
  },
  {
   "cell_type": "code",
   "execution_count": 123,
   "id": "9e26e205",
   "metadata": {
    "ExecuteTime": {
     "end_time": "2023-05-10T20:14:20.342007Z",
     "start_time": "2023-05-10T20:14:20.323388Z"
    }
   },
   "outputs": [],
   "source": [
    "def add(a,b,c):\n",
    "    return (a+b+c)"
   ]
  },
  {
   "cell_type": "code",
   "execution_count": 124,
   "id": "05c3ef36",
   "metadata": {
    "ExecuteTime": {
     "end_time": "2023-05-10T20:14:20.774687Z",
     "start_time": "2023-05-10T20:14:20.762001Z"
    }
   },
   "outputs": [
    {
     "name": "stdout",
     "output_type": "stream",
     "text": [
      "60\n"
     ]
    }
   ],
   "source": [
    "print (add(10,20,30))"
   ]
  },
  {
   "cell_type": "code",
   "execution_count": 129,
   "id": "cc6eb159",
   "metadata": {
    "ExecuteTime": {
     "end_time": "2023-05-10T20:15:37.629840Z",
     "start_time": "2023-05-10T20:15:37.623782Z"
    }
   },
   "outputs": [
    {
     "name": "stdout",
     "output_type": "stream",
     "text": [
      "60\n"
     ]
    }
   ],
   "source": [
    "print (add(a=10,c=30,b=20))"
   ]
  },
  {
   "cell_type": "code",
   "execution_count": 130,
   "id": "156e5bc2",
   "metadata": {
    "ExecuteTime": {
     "end_time": "2023-05-10T20:15:38.402504Z",
     "start_time": "2023-05-10T20:15:38.397461Z"
    }
   },
   "outputs": [
    {
     "name": "stdout",
     "output_type": "stream",
     "text": [
      "60\n"
     ]
    }
   ],
   "source": [
    "print (add(10,c=30,b=20))"
   ]
  },
  {
   "cell_type": "code",
   "execution_count": 134,
   "id": "f5516805",
   "metadata": {
    "ExecuteTime": {
     "end_time": "2023-05-10T20:16:51.519883Z",
     "start_time": "2023-05-10T20:16:51.500938Z"
    }
   },
   "outputs": [
    {
     "name": "stdout",
     "output_type": "stream",
     "text": [
      "60\n"
     ]
    }
   ],
   "source": [
    "print (add(10,c=30,b=20))"
   ]
  },
  {
   "cell_type": "code",
   "execution_count": 135,
   "id": "37f4d746",
   "metadata": {
    "ExecuteTime": {
     "end_time": "2023-05-10T20:16:53.628735Z",
     "start_time": "2023-05-10T20:16:53.616699Z"
    }
   },
   "outputs": [
    {
     "ename": "SyntaxError",
     "evalue": "positional argument follows keyword argument (4002926046.py, line 1)",
     "output_type": "error",
     "traceback": [
      "\u001b[1;36m  Cell \u001b[1;32mIn[135], line 1\u001b[1;36m\u001b[0m\n\u001b[1;33m    print (add(a=10,b=30,20))\u001b[0m\n\u001b[1;37m                           ^\u001b[0m\n\u001b[1;31mSyntaxError\u001b[0m\u001b[1;31m:\u001b[0m positional argument follows keyword argument\n"
     ]
    }
   ],
   "source": [
    "print (add(a=10,b=30,20))"
   ]
  },
  {
   "cell_type": "markdown",
   "id": "2d1dd0ad",
   "metadata": {},
   "source": [
    "**Note:**\n",
    "\n",
    "1. default arguments should follow non-default arguments \n",
    "2. keyword arguments should follow positional arguments \n",
    "3. All the keyword arguments passed must match one Of the \n",
    "arguments accepted by the function and their order is not important. \n",
    "4. No argument should receive a value more than once \n",
    "5. Default arguments are optional arguments . "
   ]
  },
  {
   "cell_type": "markdown",
   "id": "1836bc46",
   "metadata": {
    "ExecuteTime": {
     "end_time": "2023-05-10T19:36:35.172239Z",
     "start_time": "2023-05-10T19:36:35.155043Z"
    }
   },
   "source": [
    "### Variable Length Arguments\n",
    "\n",
    "Sometimes, the programmer does not know how many values a function may receive. In that case, the programmer cannot decide how many arguments to be given in the function definition. "
   ]
  },
  {
   "cell_type": "markdown",
   "id": "bd4ef82f",
   "metadata": {},
   "source": [
    "The variable length argument is written with a' * ' symbol before it in the function definition as:\n",
    "\n",
    "`def add(farg, *args):`\n",
    "\n",
    "Here, \n",
    "- `farg` is the formal argument and \n",
    "- `*args` represents *variable length argument.* \n",
    "- We can pass 1 or more values to this '*args' and it will store them all in a tuple."
   ]
  },
  {
   "cell_type": "code",
   "execution_count": 97,
   "id": "a56f0391",
   "metadata": {
    "ExecuteTime": {
     "end_time": "2023-05-10T19:45:27.143970Z",
     "start_time": "2023-05-10T19:45:27.138979Z"
    }
   },
   "outputs": [],
   "source": [
    "def add(farg, *args): \n",
    "    print('Formal argument=', farg) \n",
    "    sum=0 \n",
    "    for i in args: \n",
    "        sum+=i   \n",
    "    print('Sum of all numbers= ',(farg+sum))"
   ]
  },
  {
   "cell_type": "code",
   "execution_count": 98,
   "id": "2dc38ca6",
   "metadata": {
    "ExecuteTime": {
     "end_time": "2023-05-10T19:45:28.015938Z",
     "start_time": "2023-05-10T19:45:28.008859Z"
    }
   },
   "outputs": [
    {
     "name": "stdout",
     "output_type": "stream",
     "text": [
      "Formal argument= 5\n",
      "Sum of all numbers=  15\n"
     ]
    }
   ],
   "source": [
    "add(5, 10) "
   ]
  },
  {
   "cell_type": "code",
   "execution_count": 99,
   "id": "f5edb8a8",
   "metadata": {
    "ExecuteTime": {
     "end_time": "2023-05-10T19:45:28.466861Z",
     "start_time": "2023-05-10T19:45:28.460828Z"
    },
    "run_control": {
     "marked": false
    }
   },
   "outputs": [
    {
     "name": "stdout",
     "output_type": "stream",
     "text": [
      "Formal argument= 6\n",
      "Sum of all numbers=  66\n"
     ]
    }
   ],
   "source": [
    "add(6, 10, 20, 30)"
   ]
  },
  {
   "cell_type": "markdown",
   "id": "929c795f",
   "metadata": {},
   "source": [
    "#### **Example**: arbitrary positional arguments"
   ]
  },
  {
   "cell_type": "code",
   "execution_count": 112,
   "id": "be85688e",
   "metadata": {
    "ExecuteTime": {
     "end_time": "2023-05-10T19:55:52.425872Z",
     "start_time": "2023-05-10T19:55:52.420788Z"
    }
   },
   "outputs": [],
   "source": [
    "def add(*b):\n",
    "    print(b)\n",
    "    result=0\n",
    "    for i in b:\n",
    "         result=result+i\n",
    "    return result\n",
    "\n"
   ]
  },
  {
   "cell_type": "code",
   "execution_count": 113,
   "id": "71b8c898",
   "metadata": {
    "ExecuteTime": {
     "end_time": "2023-05-10T19:55:52.921794Z",
     "start_time": "2023-05-10T19:55:52.912775Z"
    }
   },
   "outputs": [
    {
     "name": "stdout",
     "output_type": "stream",
     "text": [
      "(1, 2, 3, 4, 5)\n",
      "15\n"
     ]
    }
   ],
   "source": [
    "print (add(1,2,3,4,5))"
   ]
  },
  {
   "cell_type": "code",
   "execution_count": 114,
   "id": "c9961e14",
   "metadata": {
    "ExecuteTime": {
     "end_time": "2023-05-10T19:55:53.901475Z",
     "start_time": "2023-05-10T19:55:53.887846Z"
    }
   },
   "outputs": [
    {
     "name": "stdout",
     "output_type": "stream",
     "text": [
      "(10, 20)\n",
      "30\n"
     ]
    }
   ],
   "source": [
    "print (add(10,20))"
   ]
  },
  {
   "cell_type": "markdown",
   "id": "807ebbc3",
   "metadata": {},
   "source": [
    "### keyword variable argument"
   ]
  },
  {
   "cell_type": "markdown",
   "id": "a74bb7d7",
   "metadata": {},
   "source": [
    "A keyword variable length argument is an argument that can accept any number of values provided in the format of keys and values. If we want to use a keyword variable length argument, we can declare it with ' ** ' before the argument as:\n",
    "\n",
    "`def display(farg, **kwargs):`\n",
    "\n",
    "Here \n",
    "- `**kwargs` is called *keyword variable argument.* \n",
    "- This argument internally represents a *dictionary object.* \n",
    "- A dictionary stores data in the form of key and value pairs. \n",
    "- It means, when we provide values for `**kwargs`, we can pass multiple pairs of values using keywords"
   ]
  },
  {
   "cell_type": "code",
   "execution_count": 94,
   "id": "4188495e",
   "metadata": {
    "ExecuteTime": {
     "end_time": "2023-05-10T19:43:57.804504Z",
     "start_time": "2023-05-10T19:43:57.785918Z"
    }
   },
   "outputs": [],
   "source": [
    "def display(farg, **kwargs): \n",
    "    \n",
    "    print('Formal argument=', farg) \n",
    "    \n",
    "    for x, y in kwargs.items():                     #items() will give pairs of items     \n",
    "        print('key = {}, value = {}'.format(x, y)) \n",
    " "
   ]
  },
  {
   "cell_type": "code",
   "execution_count": 95,
   "id": "361f839c",
   "metadata": {
    "ExecuteTime": {
     "end_time": "2023-05-10T19:44:27.126422Z",
     "start_time": "2023-05-10T19:44:27.112393Z"
    }
   },
   "outputs": [
    {
     "name": "stdout",
     "output_type": "stream",
     "text": [
      "Formal argument= 5\n",
      "key = rno, value = 10\n",
      "\n"
     ]
    }
   ],
   "source": [
    "#pass 1 formal argument and 2 keyword arguments \n",
    "display(5, rno=10) \n",
    "print() "
   ]
  },
  {
   "cell_type": "code",
   "execution_count": 96,
   "id": "89bbc4e5",
   "metadata": {
    "ExecuteTime": {
     "end_time": "2023-05-10T19:44:27.617555Z",
     "start_time": "2023-05-10T19:44:27.608332Z"
    }
   },
   "outputs": [
    {
     "name": "stdout",
     "output_type": "stream",
     "text": [
      "Formal argument= 5\n",
      "key = rno, value = 10\n",
      "key = name, value = Prakash\n"
     ]
    }
   ],
   "source": [
    "#pass 1 formal argument and 4 keyword arguments \n",
    "display(5, rno=10, name='Prakash')"
   ]
  },
  {
   "cell_type": "markdown",
   "id": "88fe59dc",
   "metadata": {},
   "source": [
    "#### **Example**: arbitrary keyword arguments"
   ]
  },
  {
   "cell_type": "code",
   "execution_count": 107,
   "id": "3b47bf76",
   "metadata": {
    "ExecuteTime": {
     "end_time": "2023-05-10T19:54:19.641972Z",
     "start_time": "2023-05-10T19:54:19.628305Z"
    }
   },
   "outputs": [],
   "source": [
    "def fn(**a):\n",
    "    print(a)\n",
    "    for i in a.items():\n",
    "        print (i)"
   ]
  },
  {
   "cell_type": "code",
   "execution_count": 108,
   "id": "b66bf876",
   "metadata": {
    "ExecuteTime": {
     "end_time": "2023-05-10T19:54:20.447514Z",
     "start_time": "2023-05-10T19:54:20.434440Z"
    }
   },
   "outputs": [
    {
     "name": "stdout",
     "output_type": "stream",
     "text": [
      "{'numbers': 5, 'colors': 'blue', 'fruits': 'apple'}\n",
      "('numbers', 5)\n",
      "('colors', 'blue')\n",
      "('fruits', 'apple')\n"
     ]
    }
   ],
   "source": [
    "fn(numbers=5,colors=\"blue\",fruits=\"apple\")"
   ]
  },
  {
   "cell_type": "markdown",
   "id": "de4ea3d2",
   "metadata": {},
   "source": [
    "### Extended Format Argument Syntax\n",
    "\n",
    "\n",
    "\n",
    "Arguments at the function definition side -\n",
    "\n"
   ]
  },
  {
   "cell_type": "code",
   "execution_count": 63,
   "id": "dc1c1ceb",
   "metadata": {
    "ExecuteTime": {
     "end_time": "2023-05-10T18:33:43.208357Z",
     "start_time": "2023-05-10T18:33:43.198420Z"
    }
   },
   "outputs": [
    {
     "name": "stdout",
     "output_type": "stream",
     "text": [
      "120\n"
     ]
    }
   ],
   "source": [
    "def hyper(*lengths):  \n",
    "    i = iter(lengths)  \n",
    "    v = next(i) \n",
    "    \n",
    "    for length in i:  \n",
    "        v *= length       #v = v*length\n",
    "    return v  \n",
    "\n",
    "print(hyper(1, 2, 3, 4, 5))  "
   ]
  },
  {
   "cell_type": "code",
   "execution_count": 64,
   "id": "41ab6d7f",
   "metadata": {
    "ExecuteTime": {
     "end_time": "2023-05-10T18:33:44.364515Z",
     "start_time": "2023-05-10T18:33:44.356274Z"
    }
   },
   "outputs": [
    {
     "name": "stdout",
     "output_type": "stream",
     "text": [
      "<tuple_iterator object at 0x0000027F85985D60>\n",
      "1\n",
      "\n",
      "2\n",
      "2\n",
      "\n",
      "3\n",
      "6\n",
      "\n",
      "4\n",
      "24\n",
      "\n",
      "5\n",
      "120\n",
      "\n",
      "120\n"
     ]
    }
   ],
   "source": [
    "def hyper(*lengths):  \n",
    "    i = iter(lengths)  \n",
    "    print(i) \n",
    "    v = next(i) \n",
    "    print(v)\n",
    "    print()\n",
    "    \n",
    "    for length in i:  \n",
    "        print(length)\n",
    "        v *= length       #v = v*length\n",
    "        print(v)\n",
    "        print()\n",
    "    return v  \n",
    "\n",
    "print(hyper(1, 2, 3, 4, 5))  "
   ]
  },
  {
   "cell_type": "code",
   "execution_count": 57,
   "id": "829779d3",
   "metadata": {
    "ExecuteTime": {
     "end_time": "2023-05-10T18:30:23.423329Z",
     "start_time": "2023-05-10T18:30:23.404697Z"
    }
   },
   "outputs": [
    {
     "name": "stdout",
     "output_type": "stream",
     "text": [
      "iter(iterable) -> iterator\n",
      "iter(callable, sentinel) -> iterator\n",
      "\n",
      "Get an iterator from an object.  In the first form, the argument must\n",
      "supply its own iterator, or be a sequence.\n",
      "In the second form, the callable is called until it returns the sentinel.\n"
     ]
    }
   ],
   "source": [
    "print(iter.__doc__)"
   ]
  },
  {
   "cell_type": "code",
   "execution_count": 58,
   "id": "14d0f939",
   "metadata": {
    "ExecuteTime": {
     "end_time": "2023-05-10T18:30:24.106864Z",
     "start_time": "2023-05-10T18:30:24.097893Z"
    }
   },
   "outputs": [
    {
     "name": "stdout",
     "output_type": "stream",
     "text": [
      "next(iterator[, default])\n",
      "\n",
      "Return the next item from the iterator. If default is given and the iterator\n",
      "is exhausted, it is returned instead of raising StopIteration.\n"
     ]
    }
   ],
   "source": [
    "print(next.__doc__)"
   ]
  },
  {
   "cell_type": "code",
   "execution_count": 73,
   "id": "203bf2f3",
   "metadata": {
    "ExecuteTime": {
     "end_time": "2023-05-10T19:19:20.716228Z",
     "start_time": "2023-05-10T19:19:20.712198Z"
    }
   },
   "outputs": [],
   "source": [
    "def add(*nums):\n",
    "    i=iter(nums)\n",
    "    v=next(i)\n",
    "    for num in i:\n",
    "        v +=num\n",
    "        \n",
    "    return v"
   ]
  },
  {
   "cell_type": "code",
   "execution_count": 74,
   "id": "bafd104e",
   "metadata": {
    "ExecuteTime": {
     "end_time": "2023-05-10T19:19:21.066501Z",
     "start_time": "2023-05-10T19:19:21.049053Z"
    }
   },
   "outputs": [
    {
     "data": {
      "text/plain": [
       "6"
      ]
     },
     "execution_count": 74,
     "metadata": {},
     "output_type": "execute_result"
    }
   ],
   "source": [
    "add(1,2,3)"
   ]
  },
  {
   "cell_type": "code",
   "execution_count": 75,
   "id": "2d784734",
   "metadata": {
    "ExecuteTime": {
     "end_time": "2023-05-10T19:19:36.441271Z",
     "start_time": "2023-05-10T19:19:36.434157Z"
    }
   },
   "outputs": [
    {
     "data": {
      "text/plain": [
       "21"
      ]
     },
     "execution_count": 75,
     "metadata": {},
     "output_type": "execute_result"
    }
   ],
   "source": [
    "add(1,2,3,4,5,6)"
   ]
  },
  {
   "cell_type": "markdown",
   "id": "638180e9",
   "metadata": {},
   "source": [
    "### Extended Actual Arguments Syntax\n",
    "\n",
    "Argument at the function calls side."
   ]
  },
  {
   "cell_type": "code",
   "execution_count": 76,
   "id": "731f43cf",
   "metadata": {
    "ExecuteTime": {
     "end_time": "2023-05-10T19:20:44.867000Z",
     "start_time": "2023-05-10T19:20:44.850346Z"
    }
   },
   "outputs": [
    {
     "name": "stdout",
     "output_type": "stream",
     "text": [
      "1\n",
      "2\n",
      "(3, 4, 5)\n"
     ]
    }
   ],
   "source": [
    "argument = (1, 2, 3, 4, 5)  \n",
    "\n",
    "def print_args(arg1, arg2, *args):  \n",
    "    print(arg1)  \n",
    "    print(arg2)  \n",
    "    print(args)  \n",
    "    \n",
    "print_args(*argument)  "
   ]
  },
  {
   "cell_type": "markdown",
   "id": "8adcac32",
   "metadata": {},
   "source": [
    "**A Python program to show variable length argument and its use. #variable length argument demo**"
   ]
  },
  {
   "cell_type": "code",
   "execution_count": 85,
   "id": "c4eb42bd",
   "metadata": {
    "ExecuteTime": {
     "end_time": "2023-05-10T19:30:21.356725Z",
     "start_time": "2023-05-10T19:30:21.351937Z"
    }
   },
   "outputs": [],
   "source": [
    "def add(farg, *args): \n",
    "    print('Formal argument=', farg) \n",
    "    sum=0 \n",
    "    for i in args: \n",
    "        sum+=i\n",
    "    print('Sum of all numbers= ',(farg+sum))\n"
   ]
  },
  {
   "cell_type": "code",
   "execution_count": 86,
   "id": "d2b00b5d",
   "metadata": {
    "ExecuteTime": {
     "end_time": "2023-05-10T19:30:22.372824Z",
     "start_time": "2023-05-10T19:30:22.357746Z"
    }
   },
   "outputs": [
    {
     "name": "stdout",
     "output_type": "stream",
     "text": [
      "Formal argument= 5\n",
      "Sum of all numbers=  15\n"
     ]
    }
   ],
   "source": [
    "add(5, 10) "
   ]
  },
  {
   "cell_type": "code",
   "execution_count": 87,
   "id": "4b36ccbc",
   "metadata": {
    "ExecuteTime": {
     "end_time": "2023-05-10T19:30:22.902148Z",
     "start_time": "2023-05-10T19:30:22.883433Z"
    }
   },
   "outputs": [
    {
     "name": "stdout",
     "output_type": "stream",
     "text": [
      "Formal argument= 5\n",
      "Sum of all numbers=  65\n"
     ]
    }
   ],
   "source": [
    "add(5, 10, 20, 30)"
   ]
  },
  {
   "cell_type": "markdown",
   "id": "de61244c",
   "metadata": {},
   "source": [
    "### Special Parameters:\n",
    "\n",
    "By default, arguments may be passed to a Python function either by position or explicitly by keyword. For readability and performance, it makes sense to restrict the way arguments can be passed so that a developer need only look at the function definition to determine if items are passed by position, by position or keyword, or by keyword."
   ]
  },
  {
   "cell_type": "markdown",
   "id": "4071cde4",
   "metadata": {},
   "source": [
    "A function definition may look like:\n",
    "\n",
    "![](https://miro.medium.com/v2/resize:fit:640/format:webp/1*u2CocaIDBg1ctQBeP_-H6A.png)"
   ]
  },
  {
   "cell_type": "markdown",
   "id": "71be2f0c",
   "metadata": {},
   "source": [
    "where / and * are optional. If used, these symbols indicate the kind of parameter by how the arguments may be passed to the function: positional-only, positional-or-keyword, and keyword-only.\n",
    "\n",
    "- Positional or keyword arguments\n",
    "- Positional only parameters\n",
    "- Keyword-only arguments"
   ]
  },
  {
   "cell_type": "markdown",
   "id": "e75c9d41",
   "metadata": {},
   "source": [
    "#### Positional or keyword arguments\n",
    "\n",
    "If / and * are not present in the function definition, arguments may be passed to a function by position or by keyword"
   ]
  },
  {
   "cell_type": "code",
   "execution_count": 139,
   "id": "8e8374de",
   "metadata": {
    "ExecuteTime": {
     "end_time": "2023-05-10T20:30:27.912149Z",
     "start_time": "2023-05-10T20:30:27.893145Z"
    }
   },
   "outputs": [],
   "source": [
    "def add(a,b,c):\n",
    "    return a+b+c"
   ]
  },
  {
   "cell_type": "code",
   "execution_count": 140,
   "id": "6302b605",
   "metadata": {
    "ExecuteTime": {
     "end_time": "2023-05-10T20:30:28.292645Z",
     "start_time": "2023-05-10T20:30:28.278692Z"
    }
   },
   "outputs": [
    {
     "name": "stdout",
     "output_type": "stream",
     "text": [
      "12\n"
     ]
    }
   ],
   "source": [
    "print (add(3,4,5))"
   ]
  },
  {
   "cell_type": "code",
   "execution_count": 141,
   "id": "b13701fc",
   "metadata": {
    "ExecuteTime": {
     "end_time": "2023-05-10T20:30:28.727208Z",
     "start_time": "2023-05-10T20:30:28.719130Z"
    }
   },
   "outputs": [
    {
     "name": "stdout",
     "output_type": "stream",
     "text": [
      "6\n"
     ]
    }
   ],
   "source": [
    "print (add(3,c=1,b=2))"
   ]
  },
  {
   "cell_type": "markdown",
   "id": "d0d3c698",
   "metadata": {},
   "source": [
    "#### Positional only parameters\n",
    "\n",
    "- To mark parameters as positional-only, place an `/` in the arguments list <u>**just after**</u> the last positional-only parameter.\n",
    "\n",
    "- Positional-only parameters are placed before a `/` (forward-slash) in the function definition. \n",
    "- The `/` is used to logically separate the positional-only parameters from the rest of the parameters. \n",
    "- Parameters following the `/` may be positional-or-keyword or keyword-only."
   ]
  },
  {
   "cell_type": "code",
   "execution_count": 142,
   "id": "972c0797",
   "metadata": {
    "ExecuteTime": {
     "end_time": "2023-05-10T20:32:39.159954Z",
     "start_time": "2023-05-10T20:32:39.147883Z"
    }
   },
   "outputs": [],
   "source": [
    "def add(a,b,/,c,d):\n",
    "    return a+b+c+d"
   ]
  },
  {
   "cell_type": "markdown",
   "id": "fbbe6932",
   "metadata": {},
   "source": [
    "Here a,b are positional only"
   ]
  },
  {
   "cell_type": "code",
   "execution_count": 143,
   "id": "976a2678",
   "metadata": {
    "ExecuteTime": {
     "end_time": "2023-05-10T20:32:40.026780Z",
     "start_time": "2023-05-10T20:32:40.014821Z"
    }
   },
   "outputs": [
    {
     "name": "stdout",
     "output_type": "stream",
     "text": [
      "18\n"
     ]
    }
   ],
   "source": [
    "print (add(3,4,5,6))"
   ]
  },
  {
   "cell_type": "code",
   "execution_count": 145,
   "id": "cf8cfe99",
   "metadata": {
    "ExecuteTime": {
     "end_time": "2023-05-10T20:33:52.518247Z",
     "start_time": "2023-05-10T20:33:52.506587Z"
    }
   },
   "outputs": [
    {
     "name": "stdout",
     "output_type": "stream",
     "text": [
      "10\n"
     ]
    }
   ],
   "source": [
    "print (add(3,4,c=1,d=2))"
   ]
  },
  {
   "cell_type": "markdown",
   "id": "3a488cb7",
   "metadata": {},
   "source": [
    "If we specify keyword arguments for positional only arguments, it will raise `TypeError`."
   ]
  },
  {
   "cell_type": "code",
   "execution_count": 144,
   "id": "3489fe4f",
   "metadata": {
    "ExecuteTime": {
     "end_time": "2023-05-10T20:33:38.700451Z",
     "start_time": "2023-05-10T20:33:38.678387Z"
    },
    "run_control": {
     "marked": false
    }
   },
   "outputs": [
    {
     "ename": "TypeError",
     "evalue": "add() got some positional-only arguments passed as keyword arguments: 'a, b'",
     "output_type": "error",
     "traceback": [
      "\u001b[1;31m---------------------------------------------------------------------------\u001b[0m",
      "\u001b[1;31mTypeError\u001b[0m                                 Traceback (most recent call last)",
      "Cell \u001b[1;32mIn[144], line 1\u001b[0m\n\u001b[1;32m----> 1\u001b[0m \u001b[38;5;28mprint\u001b[39m (\u001b[43madd\u001b[49m\u001b[43m(\u001b[49m\u001b[43ma\u001b[49m\u001b[38;5;241;43m=\u001b[39;49m\u001b[38;5;241;43m3\u001b[39;49m\u001b[43m,\u001b[49m\u001b[43mb\u001b[49m\u001b[38;5;241;43m=\u001b[39;49m\u001b[38;5;241;43m4\u001b[39;49m\u001b[43m,\u001b[49m\u001b[43mc\u001b[49m\u001b[38;5;241;43m=\u001b[39;49m\u001b[38;5;241;43m1\u001b[39;49m\u001b[43m,\u001b[49m\u001b[43md\u001b[49m\u001b[38;5;241;43m=\u001b[39;49m\u001b[38;5;241;43m2\u001b[39;49m\u001b[43m)\u001b[49m)\n",
      "\u001b[1;31mTypeError\u001b[0m: add() got some positional-only arguments passed as keyword arguments: 'a, b'"
     ]
    }
   ],
   "source": [
    "print (add(a=3,b=4,c=1,d=2))"
   ]
  },
  {
   "cell_type": "markdown",
   "id": "12909410",
   "metadata": {},
   "source": [
    "#### Keyword only arguments"
   ]
  },
  {
   "cell_type": "markdown",
   "id": "a7830b49",
   "metadata": {},
   "source": [
    "- To mark parameters as keyword-only, place an `*` in the arguments list <u>**just before**</u> the first keyword-only parameter."
   ]
  },
  {
   "cell_type": "code",
   "execution_count": 148,
   "id": "115a4210",
   "metadata": {
    "ExecuteTime": {
     "end_time": "2023-05-10T20:36:07.952794Z",
     "start_time": "2023-05-10T20:36:07.940728Z"
    }
   },
   "outputs": [],
   "source": [
    "def add(a,b,*,c,d):\n",
    "    return a+b+c+d"
   ]
  },
  {
   "cell_type": "markdown",
   "id": "93106ef4",
   "metadata": {},
   "source": [
    "Here c,d are Keyword only arguments"
   ]
  },
  {
   "cell_type": "code",
   "execution_count": 150,
   "id": "bc424b36",
   "metadata": {
    "ExecuteTime": {
     "end_time": "2023-05-10T20:43:24.452628Z",
     "start_time": "2023-05-10T20:43:24.439673Z"
    }
   },
   "outputs": [
    {
     "name": "stdout",
     "output_type": "stream",
     "text": [
      "10\n"
     ]
    }
   ],
   "source": [
    "print (add(3,4,c=1,d=2))"
   ]
  },
  {
   "cell_type": "code",
   "execution_count": 156,
   "id": "af4254e3",
   "metadata": {
    "ExecuteTime": {
     "end_time": "2023-05-10T20:45:10.667527Z",
     "start_time": "2023-05-10T20:45:10.654210Z"
    }
   },
   "outputs": [
    {
     "name": "stdout",
     "output_type": "stream",
     "text": [
      "10\n"
     ]
    }
   ],
   "source": [
    "print (add(c=3,a=4,b=1,d=2))"
   ]
  },
  {
   "cell_type": "markdown",
   "id": "dca4cc0c",
   "metadata": {},
   "source": [
    "If we specify positional arguments for keyword-only arguments it will raise `TypeError`."
   ]
  },
  {
   "cell_type": "code",
   "execution_count": 158,
   "id": "2ba5eb1f",
   "metadata": {
    "ExecuteTime": {
     "end_time": "2023-05-10T20:46:27.026500Z",
     "start_time": "2023-05-10T20:46:27.011471Z"
    }
   },
   "outputs": [
    {
     "ename": "TypeError",
     "evalue": "add() takes 2 positional arguments but 3 positional arguments (and 1 keyword-only argument) were given",
     "output_type": "error",
     "traceback": [
      "\u001b[1;31m---------------------------------------------------------------------------\u001b[0m",
      "\u001b[1;31mTypeError\u001b[0m                                 Traceback (most recent call last)",
      "Cell \u001b[1;32mIn[158], line 1\u001b[0m\n\u001b[1;32m----> 1\u001b[0m \u001b[38;5;28mprint\u001b[39m (\u001b[43madd\u001b[49m\u001b[43m(\u001b[49m\u001b[38;5;241;43m3\u001b[39;49m\u001b[43m,\u001b[49m\u001b[38;5;241;43m4\u001b[39;49m\u001b[43m,\u001b[49m\u001b[38;5;241;43m1\u001b[39;49m\u001b[43m,\u001b[49m\u001b[43md\u001b[49m\u001b[38;5;241;43m=\u001b[39;49m\u001b[38;5;241;43m2\u001b[39;49m\u001b[43m)\u001b[49m)\n",
      "\u001b[1;31mTypeError\u001b[0m: add() takes 2 positional arguments but 3 positional arguments (and 1 keyword-only argument) were given"
     ]
    }
   ],
   "source": [
    "print (add(3,4,1,d=2))"
   ]
  },
  {
   "cell_type": "markdown",
   "id": "149c7fb2",
   "metadata": {},
   "source": [
    "#### All 3 calling conventions are used in the same function"
   ]
  },
  {
   "cell_type": "markdown",
   "id": "5506c029",
   "metadata": {},
   "source": [
    "In the below-given example, the function add has all three arguments\n",
    "\n",
    "- `a,b` — positional only arguments\n",
    "- `c`-positional or keyword arguments\n",
    "- `d`-keyword-only arguments"
   ]
  },
  {
   "cell_type": "code",
   "execution_count": 160,
   "id": "21a1a121",
   "metadata": {
    "ExecuteTime": {
     "end_time": "2023-05-10T20:47:41.934433Z",
     "start_time": "2023-05-10T20:47:41.917264Z"
    }
   },
   "outputs": [],
   "source": [
    "def add(a,b,/,c,*,d):\n",
    "    return a+b+c+d\n"
   ]
  },
  {
   "cell_type": "code",
   "execution_count": 161,
   "id": "08766643",
   "metadata": {
    "ExecuteTime": {
     "end_time": "2023-05-10T20:47:43.668139Z",
     "start_time": "2023-05-10T20:47:43.663029Z"
    }
   },
   "outputs": [
    {
     "name": "stdout",
     "output_type": "stream",
     "text": [
      "10\n"
     ]
    }
   ],
   "source": [
    "print (add(3,4,1,d=2))"
   ]
  },
  {
   "cell_type": "code",
   "execution_count": 162,
   "id": "4684d373",
   "metadata": {
    "ExecuteTime": {
     "end_time": "2023-05-10T20:48:21.291523Z",
     "start_time": "2023-05-10T20:48:21.283089Z"
    }
   },
   "outputs": [
    {
     "name": "stdout",
     "output_type": "stream",
     "text": [
      "10\n"
     ]
    }
   ],
   "source": [
    "print (add(3,4,c=1,d=2))"
   ]
  },
  {
   "cell_type": "markdown",
   "id": "a0710e9b",
   "metadata": {},
   "source": [
    "Important points to remember:\n",
    "\n",
    "- Use `positional-only` if you want the name of the parameters to not be available to the user. This is useful when parameter names have no real meaning.\n",
    "- Use `positional-only` if you want to enforce the order of the arguments when the function is called.\n",
    "- Use `keyword-only` when names have meaning and the function definition is more understandable by being explicit with names.\n",
    "- Use `keyword-only` when you want to prevent users from relying on the position of the argument being passed."
   ]
  },
  {
   "cell_type": "markdown",
   "id": "bfa5314f",
   "metadata": {},
   "source": [
    "-- "
   ]
  },
  {
   "cell_type": "markdown",
   "id": "b78069ea",
   "metadata": {},
   "source": [
    "## Closure and Decorators\n",
    "\n",
    "[source-1](https://towardsdatascience.com/decorators-and-closures-by-example-in-python-382758321164)\n",
    "\n",
    "[source-2](https://medium.com/@ashitasaxena9/python-closures-and-decorators-6be5986e86a0)\n",
    "\n",
    "[source-3](https://www.geeksforgeeks.org/decorators-in-python/)"
   ]
  },
  {
   "cell_type": "markdown",
   "id": "fc4505e9",
   "metadata": {},
   "source": [
    "A closure is a nested function which has access to a free variable from an enclosing function that has finished its execution. Three characteristics of a Python closure are:\n",
    "\n",
    "- it is a nested function\n",
    "- it has access to a free variable in outer scope\n",
    "- it is returned from the enclosing function"
   ]
  },
  {
   "cell_type": "markdown",
   "id": "aa02c664",
   "metadata": {},
   "source": [
    "Decorators allow us to wrap another function in order to extend the behavior of wrapped function, without permanently modifying it.\n",
    "\n",
    "- In Decorators, functions are taken as the argument into another function and then called inside the wrapper function.\n",
    "- Decoration is a design pattern that allows you to modify the behavior of a function. \n",
    "- A decorator is a function that takes in a function and returns an augmented copy of that function."
   ]
  },
  {
   "cell_type": "code",
   "execution_count": 163,
   "id": "5a6c0ec3",
   "metadata": {
    "ExecuteTime": {
     "end_time": "2023-05-10T20:59:58.956594Z",
     "start_time": "2023-05-10T20:59:58.948505Z"
    }
   },
   "outputs": [
    {
     "name": "stdout",
     "output_type": "stream",
     "text": [
      "Before function call\n",
      "Hello World!\n",
      "After function call\n"
     ]
    }
   ],
   "source": [
    "def my_decorator(func):\n",
    "    def closure():\n",
    "        print(\"Before function call\")\n",
    "        func()\n",
    "        print(\"After function call\")\n",
    "\n",
    "    return closure\n",
    "\n",
    "\n",
    "def say_hello():\n",
    "    print(\"Hello World!\")\n",
    "\n",
    "\n",
    "if __name__ == \"__main__\":\n",
    "\n",
    "    hello = my_decorator(say_hello)\n",
    "    hello()"
   ]
  },
  {
   "cell_type": "markdown",
   "id": "3c08d9c4",
   "metadata": {},
   "source": [
    "This **decorator** takes a function as input and returns a **closure** that I’ve named `closure`. This `closure` runs the `func` passed to `my_decorator` and returns a version of it augumeted with some print statements."
   ]
  },
  {
   "cell_type": "markdown",
   "id": "f89df464",
   "metadata": {},
   "source": [
    "Each of the three functions,`my_decorator`,`closure`, and `say_hello` has its own **scope**. The interesting thing about `closure` is that it has access to variables **outside its scope**; the variables inside the parent scope of `my_decorator`."
   ]
  },
  {
   "cell_type": "code",
   "execution_count": null,
   "id": "a1829526",
   "metadata": {},
   "outputs": [],
   "source": []
  },
  {
   "cell_type": "markdown",
   "id": "7eef3800",
   "metadata": {},
   "source": [
    "### Local Function\n",
    "\n",
    "It is a function inside a function and value for specialized, one-off functions. It is similar to lambdas but more general and aid in the code organization and readability."
   ]
  },
  {
   "cell_type": "markdown",
   "id": "28498e10",
   "metadata": {},
   "source": [
    "#### Scope resolution via LEGB rule:\n",
    "\n",
    "In Python, the **LEGB rule** is used to decide the order in which the namespaces are to be searched for scope resolution.\n",
    "\n",
    "The scopes are listed below in terms of hierarchy (highest to lowest/narrowest to broadest):\n",
    "\n",
    "- *Local* (L) - It defines inside function/class.\n",
    "- *Enclosed* (E) - It define inside enclosing functions (Nested function concept).\n",
    "- *Global* (G) - It defines at the uppermost level.\n",
    "- *Built-in* (B) - It reverses names in Python built-in modules."
   ]
  },
  {
   "cell_type": "markdown",
   "id": "47fc8a56",
   "metadata": {},
   "source": [
    "**Example -**"
   ]
  },
  {
   "cell_type": "code",
   "execution_count": 33,
   "id": "c0ab61d7",
   "metadata": {
    "ExecuteTime": {
     "end_time": "2023-05-13T10:38:01.630601Z",
     "start_time": "2023-05-13T10:38:01.618473Z"
    }
   },
   "outputs": [],
   "source": [
    "def func():\n",
    "    \n",
    "    def local_func():  \n",
    "        a = 'hello, '  \n",
    "        b = 'world'  \n",
    "        return a + b\n",
    "    \n",
    "    x = 1  \n",
    "    y = 2  \n",
    "    return x + y  "
   ]
  },
  {
   "cell_type": "code",
   "execution_count": 34,
   "id": "39574ea8",
   "metadata": {
    "ExecuteTime": {
     "end_time": "2023-05-13T10:38:02.513562Z",
     "start_time": "2023-05-13T10:38:02.501708Z"
    }
   },
   "outputs": [
    {
     "data": {
      "text/plain": [
       "3"
      ]
     },
     "execution_count": 34,
     "metadata": {},
     "output_type": "execute_result"
    }
   ],
   "source": [
    "func()"
   ]
  },
  {
   "cell_type": "markdown",
   "id": "4cbf1e3a",
   "metadata": {},
   "source": [
    "###  Returning Function"
   ]
  },
  {
   "cell_type": "code",
   "execution_count": 35,
   "id": "be09f0f9",
   "metadata": {
    "ExecuteTime": {
     "end_time": "2023-05-13T10:39:20.173947Z",
     "start_time": "2023-05-13T10:39:20.158335Z"
    }
   },
   "outputs": [],
   "source": [
    "def outer():  \n",
    "    def inner():  \n",
    "        print('inner')  \n",
    "    return inner  "
   ]
  },
  {
   "cell_type": "code",
   "execution_count": 36,
   "id": "0f39c805",
   "metadata": {
    "ExecuteTime": {
     "end_time": "2023-05-13T10:39:20.673206Z",
     "start_time": "2023-05-13T10:39:20.663117Z"
    }
   },
   "outputs": [
    {
     "data": {
      "text/plain": [
       "<function __main__.outer.<locals>.inner()>"
      ]
     },
     "execution_count": 36,
     "metadata": {},
     "output_type": "execute_result"
    }
   ],
   "source": [
    "outer()"
   ]
  },
  {
   "cell_type": "markdown",
   "id": "f18edd5a",
   "metadata": {},
   "source": [
    "### Closures\n"
   ]
  },
  {
   "cell_type": "markdown",
   "id": "62ee74d2",
   "metadata": {},
   "source": [
    "It maintains references to object from earlier scopes. Let's understand the following example -"
   ]
  },
  {
   "cell_type": "code",
   "execution_count": 38,
   "id": "0cc3ef44",
   "metadata": {
    "ExecuteTime": {
     "end_time": "2023-05-13T10:39:48.890500Z",
     "start_time": "2023-05-13T10:39:48.879612Z"
    }
   },
   "outputs": [],
   "source": [
    "def outer_function(x):\n",
    "    \n",
    "    def inner_function(y):\n",
    "        return x+y\n",
    "    \n",
    "    return inner_function"
   ]
  },
  {
   "cell_type": "code",
   "execution_count": 39,
   "id": "b0f4e8be",
   "metadata": {
    "ExecuteTime": {
     "end_time": "2023-05-13T10:39:49.923838Z",
     "start_time": "2023-05-13T10:39:49.915786Z"
    }
   },
   "outputs": [],
   "source": [
    "add_plus= outer_function(30)  \n"
   ]
  },
  {
   "cell_type": "code",
   "execution_count": 40,
   "id": "4ee18ddb",
   "metadata": {
    "ExecuteTime": {
     "end_time": "2023-05-13T10:39:51.471400Z",
     "start_time": "2023-05-13T10:39:51.450854Z"
    }
   },
   "outputs": [
    {
     "data": {
      "text/plain": [
       "50"
      ]
     },
     "execution_count": 40,
     "metadata": {},
     "output_type": "execute_result"
    }
   ],
   "source": [
    "add_plus(20)  "
   ]
  },
  {
   "cell_type": "markdown",
   "id": "871957e1",
   "metadata": {
    "ExecuteTime": {
     "end_time": "2023-05-13T10:40:10.006576Z",
     "start_time": "2023-05-13T10:40:09.989830Z"
    }
   },
   "source": [
    "### Decorators\n",
    "\n",
    "- Decorators are an essential, powerful and useful tool in Python since it allows programmers to modify the behaviour of a function or class without changing the actual definition. \n",
    "- Decorators allow us to wrap another function to extend the behaviour of the wrapped function without permanently modifying it.\n",
    "\n",
    "Let's understand the following example -"
   ]
  },
  {
   "cell_type": "code",
   "execution_count": 60,
   "id": "2dd21e9b",
   "metadata": {
    "ExecuteTime": {
     "end_time": "2023-05-13T11:02:18.278615Z",
     "start_time": "2023-05-13T11:02:18.272636Z"
    }
   },
   "outputs": [
    {
     "name": "stdout",
     "output_type": "stream",
     "text": [
      "change_upper\n"
     ]
    }
   ],
   "source": [
    "def change_upper(f):  \n",
    "    print(\"change_upper\")\n",
    "    \n",
    "    def wrap(*args, **kwargs):  \n",
    "        print(\"wrap\")  \n",
    "        x = f(*args, **kwargs)  \n",
    "        return x.upper()\n",
    "    \n",
    "    return wrap  \n",
    "\n",
    "@change_upper  \n",
    "def my_name(name):  \n",
    "    print(\"my_name\")  \n",
    "    return name  "
   ]
  },
  {
   "cell_type": "code",
   "execution_count": 59,
   "id": "11d96b51",
   "metadata": {
    "ExecuteTime": {
     "end_time": "2023-05-13T11:02:03.110569Z",
     "start_time": "2023-05-13T11:02:03.099591Z"
    }
   },
   "outputs": [
    {
     "name": "stdout",
     "output_type": "stream",
     "text": [
      "wrap\n",
      "my_name\n"
     ]
    },
    {
     "data": {
      "text/plain": [
       "'PRAMOD'"
      ]
     },
     "execution_count": 59,
     "metadata": {},
     "output_type": "execute_result"
    }
   ],
   "source": [
    "my_name(\"pramod\")"
   ]
  },
  {
   "cell_type": "markdown",
   "id": "31ea5397",
   "metadata": {},
   "source": [
    "**Example:** Decorator can modify the behaviour:  "
   ]
  },
  {
   "cell_type": "code",
   "execution_count": 53,
   "id": "68d0c4ae",
   "metadata": {
    "ExecuteTime": {
     "end_time": "2023-05-13T10:56:08.268876Z",
     "start_time": "2023-05-13T10:56:08.259768Z"
    }
   },
   "outputs": [],
   "source": [
    "# defining a decorator\n",
    "def hello_decorator(func):\n",
    "\n",
    "\t# inner1 is a Wrapper function in\n",
    "\t# which the argument is called\n",
    "\t\n",
    "\t# inner function can access the outer local\n",
    "\t# functions like in this case \"func\"\n",
    "\tdef inner1():\n",
    "\t\tprint(\"Hello, this is before function execution\")\n",
    "\n",
    "\t\t# calling the actual function now\n",
    "\t\t# inside the wrapper function.\n",
    "\t\tfunc()\n",
    "\n",
    "\t\tprint(\"This is after function execution\")\n",
    "\t\t\n",
    "\treturn inner1\n",
    "\n",
    "\n",
    "# defining a function, to be called inside wrapper\n",
    "def function_to_be_used():\n",
    "\tprint(\"This is inside the function !!\")"
   ]
  },
  {
   "cell_type": "code",
   "execution_count": 54,
   "id": "528d9201",
   "metadata": {
    "ExecuteTime": {
     "end_time": "2023-05-13T10:56:08.717373Z",
     "start_time": "2023-05-13T10:56:08.708758Z"
    }
   },
   "outputs": [],
   "source": [
    "# passing 'function_to_be_used' inside the\n",
    "# decorator to control its behaviour\n",
    "function_to_be_used = hello_decorator(function_to_be_used)"
   ]
  },
  {
   "cell_type": "code",
   "execution_count": 55,
   "id": "7ea491c4",
   "metadata": {
    "ExecuteTime": {
     "end_time": "2023-05-13T10:56:08.919172Z",
     "start_time": "2023-05-13T10:56:08.907248Z"
    }
   },
   "outputs": [
    {
     "name": "stdout",
     "output_type": "stream",
     "text": [
      "Hello, this is before function execution\n",
      "This is inside the function !!\n",
      "This is after function execution\n"
     ]
    }
   ],
   "source": [
    "# calling the function\n",
    "function_to_be_used()"
   ]
  },
  {
   "cell_type": "markdown",
   "id": "63b376e9",
   "metadata": {},
   "source": [
    "Let’s jump to another example where we can easily find out the execution time of a function using a decorator.\n",
    "\n",
    "**Example:**"
   ]
  },
  {
   "cell_type": "code",
   "execution_count": 57,
   "id": "6dffed7f",
   "metadata": {
    "ExecuteTime": {
     "end_time": "2023-05-13T10:58:00.569675Z",
     "start_time": "2023-05-13T10:58:00.552966Z"
    },
    "run_control": {
     "marked": false
    }
   },
   "outputs": [],
   "source": [
    "# importing libraries\n",
    "import time\n",
    "import math\n",
    "\n",
    "# decorator to calculate duration\n",
    "# taken by any function.\n",
    "def calculate_time(func):\n",
    "\t\n",
    "\t# added arguments inside the inner1,\n",
    "\t# if function takes any arguments,\n",
    "\t# can be added like this.\n",
    "\tdef inner1(*args, **kwargs):\n",
    "\n",
    "\t\t# storing time before function execution\n",
    "\t\tbegin = time.time()\n",
    "\t\t\n",
    "\t\tfunc(*args, **kwargs)\n",
    "\n",
    "\t\t# storing time after function execution\n",
    "\t\tend = time.time()\n",
    "\t\tprint(\"Total time taken in : \", func.__name__, end - begin)\n",
    "\n",
    "\treturn inner1\n",
    "\n",
    "\n",
    "\n",
    "# this can be added to any function present,\n",
    "# in this case to calculate a factorial\n",
    "@calculate_time\n",
    "def factorial(num):\n",
    "\n",
    "\t# sleep 2 seconds because it takes very less time\n",
    "\t# so that you can see the actual difference\n",
    "\ttime.sleep(2)\n",
    "\tprint(math.factorial(num))"
   ]
  },
  {
   "cell_type": "code",
   "execution_count": 58,
   "id": "3e13bc0b",
   "metadata": {
    "ExecuteTime": {
     "end_time": "2023-05-13T10:58:03.379835Z",
     "start_time": "2023-05-13T10:58:01.359145Z"
    }
   },
   "outputs": [
    {
     "name": "stdout",
     "output_type": "stream",
     "text": [
      "3628800\n",
      "Total time taken in :  factorial 2.0037574768066406\n"
     ]
    }
   ],
   "source": [
    "factorial(10)"
   ]
  },
  {
   "cell_type": "markdown",
   "id": "5645762f",
   "metadata": {},
   "source": [
    "**What if a function returns something or an argument is passed to the function?**\n",
    "\n",
    "In all the above examples the functions didn’t return anything so there wasn’t an issue, but one may need the returned value."
   ]
  },
  {
   "cell_type": "code",
   "execution_count": 62,
   "id": "3c23afc4",
   "metadata": {
    "ExecuteTime": {
     "end_time": "2023-05-13T11:04:55.452909Z",
     "start_time": "2023-05-13T11:04:55.440837Z"
    }
   },
   "outputs": [],
   "source": [
    "def hello_decorator(func):\n",
    "\tdef inner1(*args, **kwargs):\n",
    "\t\t\n",
    "\t\tprint(\"before Execution\")\n",
    "\t\t\n",
    "\t\t# getting the returned value\n",
    "\t\treturned_value = func(*args, **kwargs)\n",
    "\t\tprint(\"after Execution\")\n",
    "\t\t\n",
    "\t\t# returning the value to the original frame\n",
    "\t\treturn returned_value\n",
    "\t\t\n",
    "\treturn inner1\n",
    "\n",
    "\n",
    "# adding decorator to the function\n",
    "@hello_decorator\n",
    "def sum_two_numbers(a, b):\n",
    "\tprint(\"Inside the function\")\n",
    "\treturn a + b"
   ]
  },
  {
   "cell_type": "code",
   "execution_count": 65,
   "id": "57b4cfd6",
   "metadata": {
    "ExecuteTime": {
     "end_time": "2023-05-13T11:07:59.556052Z",
     "start_time": "2023-05-13T11:07:59.545062Z"
    },
    "run_control": {
     "marked": false
    }
   },
   "outputs": [
    {
     "name": "stdout",
     "output_type": "stream",
     "text": [
      "before Execution\n",
      "Inside the function\n",
      "after Execution\n"
     ]
    },
    {
     "data": {
      "text/plain": [
       "3"
      ]
     },
     "execution_count": 65,
     "metadata": {},
     "output_type": "execute_result"
    }
   ],
   "source": [
    "a, b = 1, 2\n",
    "sum_two_numbers(a, b)"
   ]
  },
  {
   "cell_type": "code",
   "execution_count": 66,
   "id": "d19e5fea",
   "metadata": {
    "ExecuteTime": {
     "end_time": "2023-05-13T11:07:59.975158Z",
     "start_time": "2023-05-13T11:07:59.961965Z"
    }
   },
   "outputs": [
    {
     "name": "stdout",
     "output_type": "stream",
     "text": [
      "before Execution\n",
      "Inside the function\n",
      "after Execution\n",
      "Sum = 3\n"
     ]
    }
   ],
   "source": [
    "# getting the value through return of the function\n",
    "print(\"Sum =\", sum_two_numbers(a, b))"
   ]
  },
  {
   "cell_type": "markdown",
   "id": "6b50d576",
   "metadata": {},
   "source": [
    "**Example**"
   ]
  },
  {
   "cell_type": "code",
   "execution_count": 1,
   "id": "d330aa54",
   "metadata": {
    "ExecuteTime": {
     "end_time": "2023-05-28T17:02:51.072832Z",
     "start_time": "2023-05-28T17:02:37.754342Z"
    }
   },
   "outputs": [
    {
     "name": "stdout",
     "output_type": "stream",
     "text": [
      "Total time taken in :  f 1.3759737014770508\n",
      "0.0\n",
      "Total time taken in :  f 1.3497321605682373\n",
      "1.0\n",
      "Total time taken in :  f 1.3365750312805176\n",
      "2.0\n",
      "Total time taken in :  f 1.3150115013122559\n",
      "3.0\n",
      "Total time taken in :  f 1.3164501190185547\n",
      "4.0\n",
      "Total time taken in :  f 1.2961475849151611\n",
      "5.0\n",
      "Total time taken in :  f 1.3686964511871338\n",
      "6.0\n",
      "Total time taken in :  f 1.312432050704956\n",
      "7.0\n",
      "Total time taken in :  f 1.3077118396759033\n",
      "8.0\n",
      "Total time taken in :  f 1.3228938579559326\n",
      "9.0\n"
     ]
    }
   ],
   "source": [
    "def calculate_time(func):\n",
    "\n",
    "    def inner1(*args, **kwargs):\n",
    "        begin = time.time()\n",
    "        \n",
    "        returned_value=func(*args, **kwargs)\n",
    "        end = time.time()\n",
    "        print(\"Total time taken in : \", func.__name__, end - begin)\n",
    "        return returned_value\n",
    "    return inner1\n",
    "\n",
    "import time\n",
    "from math import sqrt # inbuilt fucntion\n",
    "\n",
    "@calculate_time\n",
    "def f(i): \n",
    "    \n",
    "    # some computations  that take time\n",
    "    x=10000\n",
    "    p =1;\n",
    "    for j in range(x):\n",
    "        for k in range(j):\n",
    "            p *= k\n",
    "    \n",
    "    return sqrt(i ** 2);\n",
    "\n",
    "# Find sqrt of first n numbers\n",
    "n=10;\n",
    "\n",
    "# start_time = time.time()\n",
    "for i in range(n):\n",
    "    print(f(i))\n",
    "\n",
    "# end_time = time.time()\n",
    "# print (end_time-start_time)"
   ]
  },
  {
   "cell_type": "markdown",
   "id": "15acde0b",
   "metadata": {},
   "source": [
    "### Chaining Decorators\n",
    "\n",
    "In simpler terms chaining decorators means decorating a function with multiple decorators."
   ]
  },
  {
   "cell_type": "code",
   "execution_count": 67,
   "id": "64cb3d60",
   "metadata": {
    "ExecuteTime": {
     "end_time": "2023-05-13T11:09:50.974242Z",
     "start_time": "2023-05-13T11:09:50.962096Z"
    }
   },
   "outputs": [],
   "source": [
    "# code for testing decorator chaining\n",
    "def decor1(func):\n",
    "\tdef inner():\n",
    "\t\tx = func()\n",
    "\t\treturn x * x\n",
    "\treturn inner\n",
    "\n",
    "def decor(func):\n",
    "\tdef inner():\n",
    "\t\tx = func()\n",
    "\t\treturn 2 * x\n",
    "\treturn inner\n",
    "\n",
    "@decor1\n",
    "@decor\n",
    "def num():\n",
    "\treturn 10\n",
    "\n",
    "@decor\n",
    "@decor1\n",
    "def num2():\n",
    "\treturn 10"
   ]
  },
  {
   "cell_type": "code",
   "execution_count": 69,
   "id": "9d9d9c4a",
   "metadata": {
    "ExecuteTime": {
     "end_time": "2023-05-13T11:10:58.280627Z",
     "start_time": "2023-05-13T11:10:58.261399Z"
    }
   },
   "outputs": [
    {
     "name": "stdout",
     "output_type": "stream",
     "text": [
      "400\n"
     ]
    }
   ],
   "source": [
    "print(num())"
   ]
  },
  {
   "cell_type": "code",
   "execution_count": 70,
   "id": "4d54f575",
   "metadata": {
    "ExecuteTime": {
     "end_time": "2023-05-13T11:10:58.759792Z",
     "start_time": "2023-05-13T11:10:58.742091Z"
    }
   },
   "outputs": [
    {
     "name": "stdout",
     "output_type": "stream",
     "text": [
      "200\n"
     ]
    }
   ],
   "source": [
    "print(num2())"
   ]
  },
  {
   "cell_type": "markdown",
   "id": "0eaf4771",
   "metadata": {},
   "source": [
    "The above example is similar to calling the function as –\n",
    "```python\n",
    "decor1(decor(num))\n",
    "decor(decor1(num2))\n",
    "```"
   ]
  },
  {
   "cell_type": "markdown",
   "id": "0649b36a",
   "metadata": {},
   "source": [
    "### **Note:**`__name__ == '__main__'`\n",
    "\n",
    "[source](https://www.freecodecamp.org/news/if-name-main-python-example/)\n",
    "\n",
    "- A Python programme uses the condition if `__name__ == '__main__'` to only run the code inside the if statement when the program is run directly by the Python interpreter. \n",
    "- The code inside the if statement is not executed when the file's code is imported as a module."
   ]
  },
  {
   "cell_type": "code",
   "execution_count": 166,
   "id": "2bed458a",
   "metadata": {
    "ExecuteTime": {
     "end_time": "2023-05-10T21:04:26.900660Z",
     "start_time": "2023-05-10T21:04:26.886978Z"
    }
   },
   "outputs": [
    {
     "data": {
      "text/plain": [
       "'__main__'"
      ]
     },
     "execution_count": 166,
     "metadata": {},
     "output_type": "execute_result"
    }
   ],
   "source": [
    "__name__"
   ]
  },
  {
   "cell_type": "markdown",
   "id": "656cf842",
   "metadata": {},
   "source": [
    "Let's try importing a Python module to see the value assigned to the module's __name__ variable −"
   ]
  },
  {
   "cell_type": "code",
   "execution_count": 167,
   "id": "676b08a2",
   "metadata": {
    "ExecuteTime": {
     "end_time": "2023-05-10T21:04:29.042465Z",
     "start_time": "2023-05-10T21:04:29.027302Z"
    }
   },
   "outputs": [
    {
     "data": {
      "text/plain": [
       "'random'"
      ]
     },
     "execution_count": 167,
     "metadata": {},
     "output_type": "execute_result"
    }
   ],
   "source": [
    "import random\n",
    "random.__name__"
   ]
  },
  {
   "cell_type": "markdown",
   "id": "fa1fb76d",
   "metadata": {},
   "source": [
    "So, after importing the random module, we can see that the value for __name__ is 'random,' which is essentially its name."
   ]
  },
  {
   "cell_type": "markdown",
   "id": "fa4e8af2",
   "metadata": {},
   "source": [
    "Python files are called modules and they are identified by the .py file extension. A module can define functions, classes, and variables.\n",
    "\n",
    "- So when the interpreter runs a module, the __name__ variable will be set as  __main__ if the module that is being run is the main program.\n",
    "\n",
    "- But if the code is importing the module from another module, then the __name__  variable will be set to that module’s name."
   ]
  },
  {
   "cell_type": "markdown",
   "id": "e38bd9ef",
   "metadata": {},
   "source": [
    "#### **Example**:\n",
    "\n",
    "[source: read in detail](https://www.freecodecamp.org/news/if-name-main-python-example/)\n",
    "\n",
    "\n",
    "Let's see how this works in real life, and how to actually use these variables.\n",
    "\n",
    "Modify file_one and file_two to look like this:\n",
    "\n",
    "file_one:\n",
    "\n",
    "```python\n",
    "import file_two\n",
    "\n",
    "print(\"File one __name__ is set to: {}\" .format(__name__))\n",
    "\n",
    "if __name__ == \"__main__\":\n",
    "   print(\"File one executed when ran directly\")\n",
    "else:\n",
    "   print(\"File one executed when imported\")\n",
    "```\n",
    "\n",
    "file_two:\n",
    "\n",
    "```python\n",
    "\n",
    "print(\"File two __name__ is set to: {}\" .format(__name__))\n",
    "\n",
    "if __name__ == \"__main__\":\n",
    "   print(\"File two executed when ran directly\")\n",
    "else:\n",
    "   print(\"File two executed when imported\")\n",
    "   \n",
    "```"
   ]
  },
  {
   "cell_type": "code",
   "execution_count": 2,
   "id": "46f32cea",
   "metadata": {
    "ExecuteTime": {
     "end_time": "2023-05-10T21:29:51.035522Z",
     "start_time": "2023-05-10T21:29:51.023489Z"
    }
   },
   "outputs": [
    {
     "name": "stdout",
     "output_type": "stream",
     "text": [
      "File two __name__ is set to: file_two\n",
      "File two executed when imported\n",
      "File one __name__ is set to: __main__\n",
      "File one executed when ran directly\n"
     ]
    }
   ],
   "source": [
    "%run file_one.py"
   ]
  },
  {
   "cell_type": "code",
   "execution_count": 3,
   "id": "5b2dd485",
   "metadata": {
    "ExecuteTime": {
     "end_time": "2023-05-10T21:29:52.787852Z",
     "start_time": "2023-05-10T21:29:52.767381Z"
    }
   },
   "outputs": [
    {
     "name": "stdout",
     "output_type": "stream",
     "text": [
      "File two __name__ is set to: __main__\n",
      "File two executed when ran directly\n"
     ]
    }
   ],
   "source": [
    "%run file_two.py"
   ]
  },
  {
   "cell_type": "markdown",
   "id": "4f133bbe",
   "metadata": {},
   "source": [
    "Again, when running `file_one` you will see that the program recognized which of these two modules is` __main__ `and executed the code according to our first if else statements.\n",
    "\n",
    "The result should look like this:\n",
    "```\n",
    "File two __name__ is set to: file_two\n",
    "File two executed when imported\n",
    "File one __name__ is set to: __main__\n",
    "File one executed when ran directly\n",
    "```"
   ]
  },
  {
   "cell_type": "markdown",
   "id": "a4864c5f",
   "metadata": {},
   "source": [
    "Now run file_two and you will see that the __name__ variable is set to __main__:\n",
    "```\n",
    "File two __name__ is set to: __main__\n",
    "File two executed when ran directly\n",
    "```"
   ]
  },
  {
   "cell_type": "markdown",
   "id": "441b1178",
   "metadata": {},
   "source": [
    "---"
   ]
  },
  {
   "cell_type": "markdown",
   "id": "ab64af9c",
   "metadata": {},
   "source": [
    "## Generator and Iterators \n",
    "\n",
    "[source](https://www.datacamp.com/tutorial/python-iterators-generators-tutorial)"
   ]
  },
  {
   "cell_type": "markdown",
   "id": "03ad87cb",
   "metadata": {},
   "source": [
    "| Term               | Definition                                                                                                                                                               |\n",
    "|:--------------------|:--------------------------------------------------------------------------------------------------------------------------------------------------------------------------:|\n",
    "| Iterable           | A Python object which can be looped over or iterated over in a loop. Examples of iterables include lists, sets, tuples, dictionaries, strings, etc. The object can be passed to the built-in iter() function to get an iterator.            |\n",
    "| **Iterator**       | An iterator is an object that can be iterated upon. Thus, iterators contain a countable number of values.   The object can be passed to the built-in next() function to fetch the next item.                                |\n",
    "| **Generator**      | A special type of function which does not return a single value: it returns an iterator object with a sequence of values.                                                |\n",
    "| Lazy Evaluation    | An evaluation strategy whereby certain objects are only produced when required. Consequently, certain developer circles also refer to lazy evaluation as “call-by-need.” |\n",
    "| **Iterator Protocol**| A set of rules that must be followed to define an iterator in Python.                                                                                                    |\n",
    "| next()             | A built-in function used to return the next item in an iterator.                                                                                                         |\n",
    "| iter()             | A built-in function used to convert an iterable to an iterator.                                                                                                          |\n",
    "| yield()            | A python keyword similar to the return keyword, except yield returns a generator object instead of a value.                                                              |"
   ]
  },
  {
   "cell_type": "markdown",
   "id": "82bdd34b",
   "metadata": {},
   "source": [
    "**Difference**"
   ]
  },
  {
   "cell_type": "markdown",
   "id": "2eec635a",
   "metadata": {},
   "source": [
    "|                                                                              Iterator                                                                              |                                                                    Generator                                                                    |\n",
    "|:------------------------------------------------------------------------------------------------------------------------------------------------------------------:|:-----------------------------------------------------------------------------------------------------------------------------------------------:|\n",
    "| Class is used to implement an iterator                                                                                                                             | Function is used to implement a generator.                                                                                                      |\n",
    "| Local Variables aren’t used here.                                                                                                                                  | All the local variables before the yield function are stored.                                                                                   |\n",
    "| Iterators are used mostly to iterate or convert other objects to an iterator using iter() function.                                                                | Generators are mostly used in loops to generate an iterator by returning all the values in the loop without affecting the iteration of the loop |\n",
    "| Iterator uses iter() and next() functions                                                                                                                          | Generator uses yield keyword                                                                                                                    |\n",
    "| Every iterator is not a generator                                                                                                                                  | Every generator is an iterator                                                                                                                  |"
   ]
  },
  {
   "cell_type": "markdown",
   "id": "a294acc7",
   "metadata": {},
   "source": [
    "### Python Iterators & Iterables"
   ]
  },
  {
   "cell_type": "markdown",
   "id": "096120a1",
   "metadata": {},
   "source": [
    "- Iterables are objects capable of returning their members one at a time – they can be iterated over. \n",
    "- Popular built-in Python data structures such as lists, tuples, and sets qualify as iterables.\n",
    "- Other data structures like strings and dictionaries are also considered iterables: a string can produce iteration of its characters, and the keys of a dictionary can be iterated upon.\n",
    "- As a rule of thumb, consider any object that can be iterated over in a for-loop as an iterable. "
   ]
  },
  {
   "cell_type": "markdown",
   "id": "bc482724",
   "metadata": {},
   "source": [
    "To demonstrate this functionality, we will instantiate a list, which is an iterable, and produce an iterator by calling the `iter()` built-in function on the list. "
   ]
  },
  {
   "cell_type": "code",
   "execution_count": 15,
   "id": "0ac110c9",
   "metadata": {
    "ExecuteTime": {
     "end_time": "2023-05-13T17:11:12.673693Z",
     "start_time": "2023-05-13T17:11:12.659548Z"
    }
   },
   "outputs": [
    {
     "name": "stdout",
     "output_type": "stream",
     "text": [
      "<list_iterator object at 0x0000027C2D308BB0>\n"
     ]
    }
   ],
   "source": [
    "list_instance = [1, 2, 3, 4]\n",
    "\n",
    "print(iter(list_instance))"
   ]
  },
  {
   "cell_type": "markdown",
   "id": "c95516eb",
   "metadata": {},
   "source": [
    "- Although **the list by itself is not an iterator**, calling the `iter()` function converts it to an iterator and returns the iterator object.\n",
    "\n",
    "- To demonstrate that not all iterables are iterators, we will instantiate the same list object and attempt to call the `next()` function, which is used to return the next item in an iterator.  "
   ]
  },
  {
   "cell_type": "code",
   "execution_count": 16,
   "id": "4958b3cb",
   "metadata": {
    "ExecuteTime": {
     "end_time": "2023-05-13T17:13:03.512083Z",
     "start_time": "2023-05-13T17:13:03.381293Z"
    }
   },
   "outputs": [
    {
     "ename": "TypeError",
     "evalue": "'list' object is not an iterator",
     "output_type": "error",
     "traceback": [
      "\u001b[1;31m---------------------------------------------------------------------------\u001b[0m",
      "\u001b[1;31mTypeError\u001b[0m                                 Traceback (most recent call last)",
      "Cell \u001b[1;32mIn[16], line 3\u001b[0m\n\u001b[0;32m      1\u001b[0m list_instance \u001b[38;5;241m=\u001b[39m [\u001b[38;5;241m1\u001b[39m, \u001b[38;5;241m2\u001b[39m, \u001b[38;5;241m3\u001b[39m, \u001b[38;5;241m4\u001b[39m]\n\u001b[1;32m----> 3\u001b[0m \u001b[38;5;28mprint\u001b[39m(\u001b[38;5;28;43mnext\u001b[39;49m\u001b[43m(\u001b[49m\u001b[43mlist_instance\u001b[49m\u001b[43m)\u001b[49m)\n",
      "\u001b[1;31mTypeError\u001b[0m: 'list' object is not an iterator"
     ]
    }
   ],
   "source": [
    "list_instance = [1, 2, 3, 4]\n",
    "\n",
    "print(next(list_instance))"
   ]
  },
  {
   "cell_type": "markdown",
   "id": "3a429f3f",
   "metadata": {},
   "source": [
    "- In the code above, you can see that attempting to call the `next()` function on the list raised a TypeError – learn more about Exception and Error Handling in Python.\n",
    "- This behavior occurred for the simple fact that a list object is an **iterable** and **not an iterator**. "
   ]
  },
  {
   "cell_type": "code",
   "execution_count": 19,
   "id": "a8d35fd6",
   "metadata": {
    "ExecuteTime": {
     "end_time": "2023-05-13T17:19:13.925225Z",
     "start_time": "2023-05-13T17:19:13.912159Z"
    }
   },
   "outputs": [
    {
     "name": "stdout",
     "output_type": "stream",
     "text": [
      "1\n",
      "2\n",
      "3\n",
      "4\n"
     ]
    }
   ],
   "source": [
    "# instantiate a list object\n",
    "list_instance = [1, 2, 3, 4]\n",
    "\n",
    "# convert the list to an iterator\n",
    "iterator = iter(list_instance)\n",
    "\n",
    "# return items one at a time\n",
    "print(next(iterator))\n",
    "print(next(iterator))\n",
    "print(next(iterator))\n",
    "print(next(iterator))"
   ]
  },
  {
   "cell_type": "code",
   "execution_count": 21,
   "id": "e7afbc41",
   "metadata": {
    "ExecuteTime": {
     "end_time": "2023-05-13T17:25:10.864873Z",
     "start_time": "2023-05-13T17:25:10.845267Z"
    }
   },
   "outputs": [
    {
     "ename": "TypeError",
     "evalue": "'int' object is not an iterator",
     "output_type": "error",
     "traceback": [
      "\u001b[1;31m---------------------------------------------------------------------------\u001b[0m",
      "\u001b[1;31mTypeError\u001b[0m                                 Traceback (most recent call last)",
      "Cell \u001b[1;32mIn[21], line 1\u001b[0m\n\u001b[1;32m----> 1\u001b[0m \u001b[38;5;28mprint\u001b[39m(\u001b[38;5;28;43mnext\u001b[39;49m\u001b[43m(\u001b[49m\u001b[43miterator\u001b[49m\u001b[43m)\u001b[49m)\n",
      "\u001b[1;31mTypeError\u001b[0m: 'int' object is not an iterator"
     ]
    }
   ],
   "source": [
    "print(next(iterator))"
   ]
  },
  {
   "cell_type": "markdown",
   "id": "20b3c897",
   "metadata": {},
   "source": [
    "Python automatically produces an iterator object whenever you attempt to loop through an iterable object. "
   ]
  },
  {
   "cell_type": "code",
   "execution_count": 20,
   "id": "d12953fa",
   "metadata": {
    "ExecuteTime": {
     "end_time": "2023-05-13T17:19:43.490800Z",
     "start_time": "2023-05-13T17:19:43.483517Z"
    }
   },
   "outputs": [
    {
     "name": "stdout",
     "output_type": "stream",
     "text": [
      "1\n",
      "2\n",
      "3\n",
      "4\n"
     ]
    }
   ],
   "source": [
    "# instantiate a list object\n",
    "list_instance = [1, 2, 3, 4]\n",
    "\n",
    "# loop through the list\n",
    "for iterator in list_instance:\n",
    "  print(iterator)"
   ]
  },
  {
   "cell_type": "markdown",
   "id": "b76bf3bd",
   "metadata": {},
   "source": [
    "- When the StopIteration exception is caught, then the loop ends.\n",
    "\n",
    "- The values obtained from an iterator can only be retrieved from left to right. Python does not have a `previous()` function to enable developers to move backward through an iterator. "
   ]
  },
  {
   "cell_type": "markdown",
   "id": "30326308",
   "metadata": {},
   "source": [
    "#### The lazy nature of iterators"
   ]
  },
  {
   "cell_type": "markdown",
   "id": "dae1c4cf",
   "metadata": {},
   "source": [
    "It is possible to define multiple iterators based on the same iterable object. Each iterator will maintain its own state of progress. Thus, by defining multiple iterator instances of an iterable object, it is possible to iterate to the end of one instance while the other instance remains at the beginning."
   ]
  },
  {
   "cell_type": "code",
   "execution_count": 24,
   "id": "a1c15788",
   "metadata": {
    "ExecuteTime": {
     "end_time": "2023-05-13T17:32:15.347933Z",
     "start_time": "2023-05-13T17:32:15.338702Z"
    }
   },
   "outputs": [
    {
     "name": "stdout",
     "output_type": "stream",
     "text": [
      "A: 1\n",
      "A: 2\n",
      "A: 3\n",
      "A: 4\n",
      "B: 1\n",
      "B: 2\n"
     ]
    }
   ],
   "source": [
    "list_instance = [1, 2, 3, 4]\n",
    "\n",
    "iterator_a = iter(list_instance)\n",
    "iterator_b = iter(list_instance)\n",
    "\n",
    "print(f\"A: {next(iterator_a)}\")\n",
    "print(f\"A: {next(iterator_a)}\")\n",
    "print(f\"A: {next(iterator_a)}\")\n",
    "print(f\"A: {next(iterator_a)}\")\n",
    "\n",
    "print(f\"B: {next(iterator_b)}\")\n",
    "print(f\"B: {next(iterator_b)}\")"
   ]
  },
  {
   "cell_type": "markdown",
   "id": "bb764aed",
   "metadata": {
    "ExecuteTime": {
     "end_time": "2023-05-13T17:33:01.083805Z",
     "start_time": "2023-05-13T17:33:01.067012Z"
    }
   },
   "source": [
    "Notice `iterator_b` prints the first element of the series."
   ]
  },
  {
   "cell_type": "markdown",
   "id": "bf8bc201",
   "metadata": {},
   "source": [
    "However, all of the values from an iterator may be extracted at once by calling a built-in iterable data structure container (i.e., `list()`, `set()`, `tuple()`) on the iterator object to force the iterator to generate all its elements at once."
   ]
  },
  {
   "cell_type": "code",
   "execution_count": 26,
   "id": "cbf5d30d",
   "metadata": {
    "ExecuteTime": {
     "end_time": "2023-05-13T17:35:37.887326Z",
     "start_time": "2023-05-13T17:35:37.865607Z"
    }
   },
   "outputs": [
    {
     "name": "stdout",
     "output_type": "stream",
     "text": [
      "[1, 2, 3, 4]\n"
     ]
    }
   ],
   "source": [
    "# instantiate iterable\n",
    "list_instance = [1, 2, 3, 4]\n",
    "\n",
    "# produce an iterator from an iterable\n",
    "iterator = iter(list_instance)\n",
    "\n",
    "print(list(iterator))"
   ]
  },
  {
   "cell_type": "markdown",
   "id": "9f1c380d",
   "metadata": {},
   "source": [
    "- It’s not recommended to perform this action, especially when the elements the iterator returns are large since this will take a long time to process."
   ]
  },
  {
   "cell_type": "markdown",
   "id": "3167c9b3",
   "metadata": {},
   "source": [
    "- Whenever a large data file swamps your machine's memory, or you have a function that requires its internal state to be maintained upon each call but creating an iterator does not make sense given the circumstances, a better alternative is to use a generator object."
   ]
  },
  {
   "cell_type": "code",
   "execution_count": null,
   "id": "3b550852",
   "metadata": {},
   "outputs": [],
   "source": []
  },
  {
   "cell_type": "markdown",
   "id": "1aa5eb8d",
   "metadata": {},
   "source": [
    "### Generators"
   ]
  },
  {
   "cell_type": "markdown",
   "id": "50f578e9",
   "metadata": {},
   "source": [
    "The most expedient alternative to implementing an iterator is to use a generator. Although generators may look like ordinary Python functions, they are different. "
   ]
  },
  {
   "cell_type": "markdown",
   "id": "94100f11",
   "metadata": {},
   "source": [
    "- A generator function is defined like a regular function, but it does so with the yield keyword rather than return whenever it needs to generate a value.\n",
    "- If the body of a def contains yield, the function automatically becomes a generator function.\n",
    "\n",
    "-  The yield statement is used to define the generator; the yield keyword is different from the return because it suspends the function execution, returns the value, saves all states, and later continues on successive calls."
   ]
  },
  {
   "cell_type": "markdown",
   "id": "cad82cbe",
   "metadata": {},
   "source": [
    "Generators do not store their contents in memory as you would expect a typical iterable to do. For example, if the goal were to find all of the factors for a positive integer, we would typically implement a traditional function (learn more about Python Functions in this tutorial) as follows:  "
   ]
  },
  {
   "cell_type": "code",
   "execution_count": 27,
   "id": "9240aabf",
   "metadata": {
    "ExecuteTime": {
     "end_time": "2023-05-13T17:51:54.003466Z",
     "start_time": "2023-05-13T17:51:53.984796Z"
    }
   },
   "outputs": [
    {
     "name": "stdout",
     "output_type": "stream",
     "text": [
      "[1, 2, 4, 5, 10, 20]\n"
     ]
    }
   ],
   "source": [
    "def factors(n):\n",
    "  factor_list = []\n",
    "  for val in range(1, n+1):\n",
    "      if n % val == 0:\n",
    "          factor_list.append(val)\n",
    "  return factor_list\n",
    "\n",
    "print(factors(20))"
   ]
  },
  {
   "cell_type": "markdown",
   "id": "7dead3a3",
   "metadata": {},
   "source": [
    "The code above returns the entire list of factors. However, notice the difference when a generator is used instead of a traditional Python function:"
   ]
  },
  {
   "cell_type": "code",
   "execution_count": 29,
   "id": "e35a64c5",
   "metadata": {
    "ExecuteTime": {
     "end_time": "2023-05-13T17:53:20.104857Z",
     "start_time": "2023-05-13T17:53:20.099739Z"
    }
   },
   "outputs": [
    {
     "name": "stdout",
     "output_type": "stream",
     "text": [
      "<generator object factors at 0x0000027C2D70D7B0>\n"
     ]
    }
   ],
   "source": [
    "def factors(n):\n",
    "  for val in range(1, n+1):\n",
    "      if n % val == 0:\n",
    "          yield val\n",
    "        \n",
    "print(factors(20))"
   ]
  },
  {
   "cell_type": "markdown",
   "id": "c3d6af8c",
   "metadata": {},
   "source": [
    "- Since we used the `yield` keyword instead of `return`, the function is not exited after the run. In essence, we told Python to create a generator object instead of a traditional function, which enables the state of the generator object to be tracked. \n",
    "\n",
    "- Consequently, it is possible to call the next() function on the lazy iterator to show the elements of the series one at a time. "
   ]
  },
  {
   "cell_type": "code",
   "execution_count": 86,
   "id": "9683eb72",
   "metadata": {
    "ExecuteTime": {
     "end_time": "2023-05-13T20:02:56.344730Z",
     "start_time": "2023-05-13T20:02:56.327667Z"
    }
   },
   "outputs": [],
   "source": [
    "def factors(n):\n",
    "  for val in range(1, n+1):\n",
    "      if n % val == 0:\n",
    "          yield val\n",
    "    "
   ]
  },
  {
   "cell_type": "code",
   "execution_count": 87,
   "id": "e49edba9",
   "metadata": {
    "ExecuteTime": {
     "end_time": "2023-05-13T20:02:56.887785Z",
     "start_time": "2023-05-13T20:02:56.873451Z"
    }
   },
   "outputs": [
    {
     "name": "stdout",
     "output_type": "stream",
     "text": [
      "1\n",
      "2\n"
     ]
    }
   ],
   "source": [
    "factors_of_20 = factors(20)\n",
    "\n",
    "print(next(factors_of_20))\n",
    "print(next(factors_of_20))"
   ]
  },
  {
   "cell_type": "markdown",
   "id": "b81d5b83",
   "metadata": {},
   "source": [
    "Another way to create a generator is with a generator comprehension. \n",
    "Generator expressions adopt a similar syntax to that of a list comprehension, except it uses rounded brackets instead of squared."
   ]
  },
  {
   "cell_type": "code",
   "execution_count": 33,
   "id": "2f396a9c",
   "metadata": {
    "ExecuteTime": {
     "end_time": "2023-05-13T17:57:30.229273Z",
     "start_time": "2023-05-13T17:57:30.212330Z"
    }
   },
   "outputs": [
    {
     "name": "stdout",
     "output_type": "stream",
     "text": [
      "<generator object <genexpr> at 0x0000027C2D77C820>\n"
     ]
    }
   ],
   "source": [
    "print((val for val in range(1, 20+1) if n % val == 0))"
   ]
  },
  {
   "cell_type": "markdown",
   "id": "27c3d7ce",
   "metadata": {},
   "source": [
    "**Example**"
   ]
  },
  {
   "cell_type": "code",
   "execution_count": 3,
   "id": "9dc30819",
   "metadata": {
    "ExecuteTime": {
     "end_time": "2023-05-13T16:49:21.654620Z",
     "start_time": "2023-05-13T16:49:21.647479Z"
    }
   },
   "outputs": [],
   "source": [
    "def my_gen():  \n",
    "    n = 1  \n",
    "    print('This is printed first')  \n",
    "    # Generator function contains yield statements  \n",
    "    yield n  \n",
    "  \n",
    "    n += 1  \n",
    "    print('This is printed second')  \n",
    "    yield n  \n",
    "  \n",
    "    n += 1  \n",
    "    print('This is printed at last')  \n",
    "    yield n  \n"
   ]
  },
  {
   "cell_type": "code",
   "execution_count": 14,
   "id": "b0bc1c4a",
   "metadata": {
    "ExecuteTime": {
     "end_time": "2023-05-13T16:55:45.853860Z",
     "start_time": "2023-05-13T16:55:45.834825Z"
    },
    "run_control": {
     "marked": true
    }
   },
   "outputs": [
    {
     "name": "stdout",
     "output_type": "stream",
     "text": [
      "This is printed first\n",
      "1\n",
      "This is printed second\n",
      "2\n",
      "This is printed at last\n",
      "3\n"
     ]
    }
   ],
   "source": [
    "# Using for loop  \n",
    "for item in my_gen():  \n",
    "    print(item)  "
   ]
  },
  {
   "cell_type": "markdown",
   "id": "36e289e6",
   "metadata": {},
   "source": [
    "**Why are generators used in Python?**\n",
    "- Easy to Implement\n",
    "- Memory Efficient\n",
    "- Represent Infinite Stream\n",
    "- Pipelining Generators"
   ]
  },
  {
   "cell_type": "code",
   "execution_count": 5,
   "id": "d3f536d7",
   "metadata": {
    "ExecuteTime": {
     "end_time": "2023-05-13T16:52:12.555735Z",
     "start_time": "2023-05-13T16:52:12.547243Z"
    }
   },
   "outputs": [],
   "source": [
    "def PowTwoGen(max = 0):  \n",
    "    n = 0  \n",
    "    while n < max:  \n",
    "        yield 2 ** n  \n",
    "        n += 1  "
   ]
  },
  {
   "cell_type": "code",
   "execution_count": 10,
   "id": "2356165b",
   "metadata": {
    "ExecuteTime": {
     "end_time": "2023-05-13T16:54:57.630535Z",
     "start_time": "2023-05-13T16:54:57.610229Z"
    }
   },
   "outputs": [
    {
     "data": {
      "text/plain": [
       "<generator object PowTwoGen at 0x0000027C2D2FEB30>"
      ]
     },
     "execution_count": 10,
     "metadata": {},
     "output_type": "execute_result"
    }
   ],
   "source": [
    "PowTwoGen(5)"
   ]
  },
  {
   "cell_type": "code",
   "execution_count": 13,
   "id": "c2dae708",
   "metadata": {
    "ExecuteTime": {
     "end_time": "2023-05-13T16:55:24.057777Z",
     "start_time": "2023-05-13T16:55:24.045129Z"
    },
    "scrolled": true
   },
   "outputs": [
    {
     "name": "stdout",
     "output_type": "stream",
     "text": [
      "1\n",
      "2\n",
      "4\n",
      "8\n",
      "16\n"
     ]
    }
   ],
   "source": [
    "for item in PowTwoGen(5):  \n",
    "    print(item) "
   ]
  },
  {
   "cell_type": "markdown",
   "id": "00b6c6ff",
   "metadata": {},
   "source": [
    "#### Python’s `yield` Keyword"
   ]
  },
  {
   "cell_type": "markdown",
   "id": "690e67d2",
   "metadata": {},
   "source": [
    "- The `yield` keyword controls the flow of a generator function.\n",
    "- Instead of exiting the function as seen when `return` is used, the `yield` keyword returns the function but remembers the state of its local variables.\n",
    "\n",
    "- The generator returned from the `yield` call can be assigned to a variable and iterated upon with the next() keyword – this will execute the function up to the first yield keyword it encounters. \n",
    "- Once the yield keyword is hit, the execution of the function is suspended. When this occurs, the function's state is saved. \n",
    "\n",
    "Thus, it is possible for us to resume the function execution at our own will. \n"
   ]
  },
  {
   "cell_type": "markdown",
   "id": "3e268a3e",
   "metadata": {},
   "source": [
    "The function will continue from the call to `yield`. For example: "
   ]
  },
  {
   "cell_type": "code",
   "execution_count": 35,
   "id": "72230dd2",
   "metadata": {
    "ExecuteTime": {
     "end_time": "2023-05-13T18:08:46.653116Z",
     "start_time": "2023-05-13T18:08:46.620725Z"
    }
   },
   "outputs": [
    {
     "name": "stdout",
     "output_type": "stream",
     "text": [
      "This is the first statment\n",
      "This is the second statement\n",
      "This is the third statement\n",
      "This is the last statement. Don't call next again!\n"
     ]
    },
    {
     "ename": "StopIteration",
     "evalue": "",
     "output_type": "error",
     "traceback": [
      "\u001b[1;31m---------------------------------------------------------------------------\u001b[0m",
      "\u001b[1;31mStopIteration\u001b[0m                             Traceback (most recent call last)",
      "Cell \u001b[1;32mIn[35], line 14\u001b[0m\n\u001b[0;32m     12\u001b[0m \u001b[38;5;28mprint\u001b[39m(\u001b[38;5;28mnext\u001b[39m(example))\n\u001b[0;32m     13\u001b[0m \u001b[38;5;28mprint\u001b[39m(\u001b[38;5;28mnext\u001b[39m(example))\n\u001b[1;32m---> 14\u001b[0m \u001b[38;5;28mprint\u001b[39m(\u001b[38;5;28;43mnext\u001b[39;49m\u001b[43m(\u001b[49m\u001b[43mexample\u001b[49m\u001b[43m)\u001b[49m)\n",
      "\u001b[1;31mStopIteration\u001b[0m: "
     ]
    }
   ],
   "source": [
    "def yield_multiple_statments():\n",
    "    \n",
    "  yield \"This is the first statment\"\n",
    "  yield \"This is the second statement\"  \n",
    "  yield \"This is the third statement\"\n",
    "  yield \"This is the last statement. Don't call next again!\"\n",
    "    \n",
    "example = yield_multiple_statments()\n",
    "\n",
    "print(next(example))\n",
    "print(next(example))\n",
    "print(next(example))\n",
    "print(next(example))\n",
    "print(next(example))"
   ]
  },
  {
   "cell_type": "markdown",
   "id": "9669dfab",
   "metadata": {},
   "source": [
    "- In the code above, our generator has four **`yield`** calls, but we attempt to call next on it five times, which raised a StopIteration exception. \n",
    "- This behavior occurred because our generator is not an infinite series, so calling it more times than expected exhausted the generator."
   ]
  },
  {
   "cell_type": "markdown",
   "id": "dbca10dc",
   "metadata": {},
   "source": [
    "## Operator Overloading in Python"
   ]
  },
  {
   "cell_type": "markdown",
   "id": "7189c1ea",
   "metadata": {},
   "source": [
    "[source](https://www.programiz.com/python-programming/operator-overloading)\n",
    "\n",
    "- Python Operator works for built-in classes. But the same operator performs contrarily with different types. \n",
    "\n",
    "- Python provides some special function having `__` as prefix and suffix in the name, which is also known as `Magic method` or `Dunder method`. This function is automatically invoked when the associated operator is used.\n",
    "\n",
    "- For example, the + operator will, achieve arithmetic addition on two numbers, merge two lists and concatenate two strings. Let's understand the following example -"
   ]
  },
  {
   "cell_type": "code",
   "execution_count": 66,
   "id": "44689291",
   "metadata": {
    "ExecuteTime": {
     "end_time": "2023-05-13T19:02:26.464923Z",
     "start_time": "2023-05-13T19:02:26.453558Z"
    }
   },
   "outputs": [],
   "source": [
    "class Point:  \n",
    "    def __init__(self, x = 0, y = 0):  \n",
    "        self.x = x  \n",
    "        self.y = y  \n",
    "      \n",
    "    def __str__(self):  \n",
    "        return \"({0},{1})\".format(self.x,self.y)  \n",
    "    \n",
    "    def __add__(self,other):  \n",
    "        x = self.x + other.x  \n",
    "        y = self.y + other.y  \n",
    "        return Point(x,y)  \n"
   ]
  },
  {
   "cell_type": "code",
   "execution_count": 72,
   "id": "4a418213",
   "metadata": {
    "ExecuteTime": {
     "end_time": "2023-05-13T19:04:02.240603Z",
     "start_time": "2023-05-13T19:04:02.222173Z"
    }
   },
   "outputs": [
    {
     "name": "stdout",
     "output_type": "stream",
     "text": [
      "(-1,8)\n"
     ]
    }
   ],
   "source": [
    "p1 = Point(2,3)  \n",
    "p2 = Point(-3,5)  \n",
    "print(p1 + p2)  "
   ]
  },
  {
   "cell_type": "markdown",
   "id": "e01c5302",
   "metadata": {},
   "source": [
    "**Python Package and Program Layout**\n",
    "\n",
    "A Package is a module which can contain other modules. `PYTHONPATH` Environment variable listing paths added to `sys.path`.\n",
    "\n",
    "1. Packages are modules that contain other modules.\n",
    "2. Packages are generally implemented as directories containing a special `__init__.py` file.\n",
    "3. The `__init__.py` file is executed when the package is imported.\n",
    "4. Packages can contain sub-packages that themselves are implemented with `__init__.py` files in directories.\n",
    "5. The module objects for packages have a `__path__` attribute.\n",
    "\n",
    "*absolute imports:* imports that use a full path to the module."
   ]
  },
  {
   "cell_type": "markdown",
   "id": "cc2cfe69",
   "metadata": {},
   "source": [
    "- Operator Overloading means giving extended meaning beyond their predefined operational meaning. \n",
    "- For example: operator `+` is used to add two integers as well as join two strings and merge two lists. It is achievable because ‘`+`’ operator is overloaded by `int` class and `str` class.\n",
    "\n",
    "The user can notice that the same inbuilt operator or function is showing different behaviour for objects of different classes. This process is known as operator overloading."
   ]
  },
  {
   "cell_type": "markdown",
   "id": "5d110ba1",
   "metadata": {},
   "source": [
    "**Example:**"
   ]
  },
  {
   "cell_type": "code",
   "execution_count": 75,
   "id": "ce60e8d2",
   "metadata": {
    "ExecuteTime": {
     "end_time": "2023-05-13T19:35:30.162633Z",
     "start_time": "2023-05-13T19:35:30.154224Z"
    }
   },
   "outputs": [
    {
     "name": "stdout",
     "output_type": "stream",
     "text": [
      "46\n",
      "PramodYadav\n",
      "322\n",
      "p k y p k y p k y \n"
     ]
    }
   ],
   "source": [
    "print (14 + 32)  \n",
    "   \n",
    "# Now, we will concatenate the two strings  \n",
    "print (\"Pramod\" + \"Yadav\")  \n",
    "   \n",
    "# We will check the product of two numbers  \n",
    "print (23 * 14)  \n",
    "   \n",
    "# Here, we will try to repeat the String  \n",
    "print (\"p k y \" * 3)  "
   ]
  },
  {
   "cell_type": "markdown",
   "id": "a8564177",
   "metadata": {},
   "source": [
    "### Python Special Functions"
   ]
  },
  {
   "cell_type": "markdown",
   "id": "79139c76",
   "metadata": {},
   "source": [
    "- Class functions that begin with double underscore `__` are called special functions in Python.\n",
    "\n",
    "- The special functions are defined by the Python interpreter and used to implement certain features or behaviors.\n",
    "\n",
    "- They are called \"double underscore\" functions because they have a double underscore prefix and suffix, such as `__init__()` or `__add__()`.\n",
    "\n",
    "Here are some of the special functions available in Python,"
   ]
  },
  {
   "cell_type": "markdown",
   "id": "20a4c484",
   "metadata": {},
   "source": [
    "| Function     | Description                                      |\n",
    "|:------------:|:------------------------------------------------:|\n",
    "| `__init__()` | initialize the attributes of the object          |\n",
    "| `__str__()`  | returns a string representation of the object    |\n",
    "| `__len__()`  | returns the length of the object                 |\n",
    "| `__add__()`  | adds two objects                                 |\n",
    "| `__call__()` | call objects of the class like a normal function |"
   ]
  },
  {
   "cell_type": "markdown",
   "id": "4d933ea9",
   "metadata": {},
   "source": [
    "### Overloading to arithmetic operators"
   ]
  },
  {
   "cell_type": "markdown",
   "id": "e892b07a",
   "metadata": {},
   "source": [
    "**Example: `+` Operator Overloading in Python**\n",
    "\n",
    "- To overload the `+` operator, we will need to implement `__add__()` function in the class.\n",
    "\n",
    "- With great power comes great responsibility. We can do whatever we like inside this function. But it is more sensible to return the Point object of the coordinate sum.\n",
    "\n",
    "Let's see an example,"
   ]
  },
  {
   "cell_type": "code",
   "execution_count": 77,
   "id": "ac1305af",
   "metadata": {
    "ExecuteTime": {
     "end_time": "2023-05-13T19:44:03.163160Z",
     "start_time": "2023-05-13T19:44:03.153434Z"
    }
   },
   "outputs": [],
   "source": [
    "class Point:\n",
    "    def __init__(self, x=0, y=0):\n",
    "        self.x = x\n",
    "        self.y = y\n",
    "\n",
    "    def __str__(self):\n",
    "        return \"({0},{1})\".format(self.x, self.y)\n",
    "\n",
    "    def __add__(self, other):\n",
    "        x = self.x + other.x\n",
    "        y = self.y + other.y\n",
    "        return Point(x, y)"
   ]
  },
  {
   "cell_type": "code",
   "execution_count": 78,
   "id": "d7f9a2f7",
   "metadata": {
    "ExecuteTime": {
     "end_time": "2023-05-13T19:44:04.037218Z",
     "start_time": "2023-05-13T19:44:04.021675Z"
    }
   },
   "outputs": [
    {
     "name": "stdout",
     "output_type": "stream",
     "text": [
      "(3,5)\n"
     ]
    }
   ],
   "source": [
    "p1 = Point(1, 2)\n",
    "p2 = Point(2, 3)\n",
    "\n",
    "print(p1+p2)\n"
   ]
  },
  {
   "cell_type": "markdown",
   "id": "cd3ff902",
   "metadata": {},
   "source": [
    "In the above example, what actually happens is that, when we use `p1 + p2`, Python calls `p1.__add__(p2)` which in turn is `Point.__add__(p1,p2)`. After this, the addition operation is carried out the way we specified."
   ]
  },
  {
   "cell_type": "markdown",
   "id": "a25a8044",
   "metadata": {},
   "source": [
    "Similarly, we can overload other operators as well. The special function that we need to implement is tabulated below."
   ]
  },
  {
   "cell_type": "markdown",
   "id": "48d6c9ed",
   "metadata": {},
   "source": [
    "| Operator            | Expression   | Internally            |\n",
    "|:--------------------|:-------------|:----------------------|\n",
    "| Addition            | `p1 + p2`    | `p1.__add__(p2)`      |\n",
    "| Subtraction         | `p1 - p2`    | `p1.__sub__(p2)`      |\n",
    "| Multiplication      | `p1 * p2`    | `p1.__mul__(p2)`      |\n",
    "| Power               | `p1 ** p2`   | `p1.__pow__(p2)`      |\n",
    "| Division            | `p1 / p2`    | `p1.__truediv__(p2)`  |\n",
    "| Floor Division      | `p1 // p2`   | `p1.__floordiv__(p2)` |\n",
    "| Remainder (modulo)  | `p1 % p2`    | `p1.__mod__(p2)`      |\n",
    "| Bitwise Left Shift  | `p1 << p2`   | `p1.__lshift__(p2)`   |\n",
    "| Bitwise Right Shift | `p1 >> p2`   | `p1.__rshift__(p2)`   |\n",
    "| Bitwise AND         | `p1 & p2`    | `p1.__and__(p2)`      |\n",
    "| Bitwise OR          | `p1 \\| p2`   | `p1.__or__(p2)`       |\n",
    "| Bitwise XOR         | `p1 ^ p2`    | `p1.__xor__(p2)`      |\n",
    "| Bitwise NOT         | `~p1`        | `p1.__invert__()`     |"
   ]
  },
  {
   "cell_type": "markdown",
   "id": "2c03ae3d",
   "metadata": {
    "run_control": {
     "marked": false
    }
   },
   "source": [
    "**Binary Operators:**\n",
    "\n",
    "| Operator | Magic Function             |\n",
    "|:---------|:----------------------------|\n",
    "| +        | `__add__(self, other)`      |\n",
    "| -        | `__sub__(self, other)`      |\n",
    "| *        | `__mul__(self, other)`      |\n",
    "| /        | `__truediv__(self, other)`  |\n",
    "| //       | `__floordiv__(self, other)` |\n",
    "| %        | `__mod__(self, other)`      |\n",
    "| **       | `__pow__(self, other)`      |\n",
    "| >>       | `__rshift__(self, other)`   |\n",
    "| <<       | `__lshift__(self, other)`   |\n",
    "| &        | `__and__(self, other)`      |\n",
    "| \\|       | `__or__(self, other)`       |\n",
    "| ^        | `__xor__(self, other)`      |"
   ]
  },
  {
   "cell_type": "markdown",
   "id": "058bf427",
   "metadata": {},
   "source": [
    "**Example**"
   ]
  },
  {
   "cell_type": "code",
   "execution_count": 98,
   "id": "637d3aa7",
   "metadata": {
    "ExecuteTime": {
     "end_time": "2023-05-13T20:24:55.092635Z",
     "start_time": "2023-05-13T20:24:55.077700Z"
    }
   },
   "outputs": [],
   "source": [
    "# Python Program illustrate how\n",
    "# to overload an binary + operator\n",
    "# And how it actually works\n",
    "\n",
    "class A:\n",
    "\tdef __init__(self, a):\n",
    "\t\tself.a = a\n",
    "\n",
    "\t# adding two objects\n",
    "\tdef __add__(self, o):\n",
    "\t\treturn self.a + o.a"
   ]
  },
  {
   "cell_type": "code",
   "execution_count": 99,
   "id": "1afcc67d",
   "metadata": {
    "ExecuteTime": {
     "end_time": "2023-05-13T20:24:56.616752Z",
     "start_time": "2023-05-13T20:24:56.603848Z"
    }
   },
   "outputs": [],
   "source": [
    "ob1 = A(1)\n",
    "ob2 = A(2)\n",
    "ob3 = A(\"pramod\")\n",
    "ob4 = A(\"Yadav\")"
   ]
  },
  {
   "cell_type": "code",
   "execution_count": 100,
   "id": "113edda7",
   "metadata": {
    "ExecuteTime": {
     "end_time": "2023-05-13T20:24:57.501359Z",
     "start_time": "2023-05-13T20:24:57.490410Z"
    }
   },
   "outputs": [
    {
     "name": "stdout",
     "output_type": "stream",
     "text": [
      "3\n",
      "pramodYadav\n"
     ]
    }
   ],
   "source": [
    "print(ob1 + ob2)\n",
    "print(ob3 + ob4)"
   ]
  },
  {
   "cell_type": "code",
   "execution_count": 101,
   "id": "224dca47",
   "metadata": {
    "ExecuteTime": {
     "end_time": "2023-05-13T20:24:58.185353Z",
     "start_time": "2023-05-13T20:24:58.178443Z"
    }
   },
   "outputs": [
    {
     "name": "stdout",
     "output_type": "stream",
     "text": [
      "3\n",
      "pramodYadav\n"
     ]
    }
   ],
   "source": [
    "# Actual working when Binary Operator is used.\n",
    "print(A.__add__(ob1 , ob2))\n",
    "print(A.__add__(ob3,ob4))"
   ]
  },
  {
   "cell_type": "code",
   "execution_count": 102,
   "id": "f1370bb7",
   "metadata": {
    "ExecuteTime": {
     "end_time": "2023-05-13T20:24:59.241365Z",
     "start_time": "2023-05-13T20:24:59.228853Z"
    }
   },
   "outputs": [
    {
     "name": "stdout",
     "output_type": "stream",
     "text": [
      "3\n",
      "pramodYadav\n"
     ]
    }
   ],
   "source": [
    "#And can also be Understand as :\n",
    "print(ob1.__add__(ob2))\n",
    "print(ob3.__add__(ob4))"
   ]
  },
  {
   "cell_type": "markdown",
   "id": "95ff9777",
   "metadata": {},
   "source": [
    "### Overloading Comparison Operators"
   ]
  },
  {
   "cell_type": "markdown",
   "id": "701f91ec",
   "metadata": {},
   "source": [
    "Python does not limit operator overloading to arithmetic operators only. We can overload comparison operators as well.\n",
    "\n",
    "- Here's an example of how we can overload the < operator to compare two objects the `Person` class based on their `age`:"
   ]
  },
  {
   "cell_type": "markdown",
   "id": "085f479d",
   "metadata": {},
   "source": [
    "Here, `__lt__()` overloads the `<` operator to compare the age attribute of two objects.\n",
    "\n",
    "The `__lt__()` method returns,\n",
    "\n",
    "- `True` - if the first object's `age` is less than the second object's `age`\n",
    "- `False` - if the first object's `age` is greater than the second object's `age`\n",
    "\n",
    "Similarly, the special functions that we need to implement, to overload other comparison operators are tabulated below."
   ]
  },
  {
   "cell_type": "markdown",
   "id": "13268752",
   "metadata": {},
   "source": [
    "**Comparison Operators:**\n",
    "\n",
    "| Operator |     Magic Method    |\n",
    "|:--------:|:-------------------:|\n",
    "|     `<`    | `__lt__(self, other)` |\n",
    "|     `> `   | `__gt__(self, other)` |\n",
    "|    `<= `   | `__le__(self, other)` |\n",
    "|    `>= `   | `__ge__(self, other)` |\n",
    "|    `== `   | `__eq__(self, other)` |\n",
    "|    `!= `   | `__ne__(self, other)` |\n"
   ]
  },
  {
   "cell_type": "markdown",
   "id": "d989a2a2",
   "metadata": {},
   "source": [
    "| Operator                 | Expression   | Internally      |\n",
    "|:-------------------------|:-------------|:----------------|\n",
    "| Less than                | `p1 < p2`    | `p1.__lt__(p2)` |\n",
    "| Less than or equal to    | `p1 <= p2`   | `p1.__le__(p2)` |\n",
    "| Equal to                 | `p1 == p2`   | `p1.__eq__(p2)` |\n",
    "| Not equal to             | `p1 != p2`   | `p1.__ne__(p2)` |\n",
    "| Greater than             | `p1 > p2`    | `p1.__gt__(p2)` |\n",
    "| Greater than or equal to | `p1 >= p2`   | `p1.__ge__(p2)` |"
   ]
  },
  {
   "cell_type": "code",
   "execution_count": 82,
   "id": "86893c2d",
   "metadata": {
    "ExecuteTime": {
     "end_time": "2023-05-13T19:55:29.251951Z",
     "start_time": "2023-05-13T19:55:29.244794Z"
    }
   },
   "outputs": [],
   "source": [
    "class Person:\n",
    "    def __init__(self, name, age):\n",
    "        self.name = name\n",
    "        self.age = age\n",
    "\n",
    "    # overload < operator\n",
    "    def __lt__(self, other):\n",
    "        return self.age < other.age\n"
   ]
  },
  {
   "cell_type": "code",
   "execution_count": 83,
   "id": "efec165e",
   "metadata": {
    "ExecuteTime": {
     "end_time": "2023-05-13T19:55:29.737022Z",
     "start_time": "2023-05-13T19:55:29.728320Z"
    }
   },
   "outputs": [
    {
     "name": "stdout",
     "output_type": "stream",
     "text": [
      "True\n",
      "False\n"
     ]
    }
   ],
   "source": [
    "p1 = Person(\"Alice\", 20)\n",
    "p2 = Person(\"Bob\", 30)\n",
    "\n",
    "print(p1 < p2)  # prints True\n",
    "print(p2 < p1)  # prints False"
   ]
  },
  {
   "cell_type": "code",
   "execution_count": 115,
   "id": "e153b2dc",
   "metadata": {
    "ExecuteTime": {
     "end_time": "2023-05-13T20:38:13.557579Z",
     "start_time": "2023-05-13T20:38:13.545619Z"
    }
   },
   "outputs": [],
   "source": [
    "class example_1:  \n",
    "    def __init__(self, X):  \n",
    "        self.X = X  \n",
    "        \n",
    "    def __gt__(self, U):  \n",
    "        if(self.X > U.X):  \n",
    "            return True  \n",
    "        else:  \n",
    "            return False  "
   ]
  },
  {
   "cell_type": "code",
   "execution_count": 116,
   "id": "287604dc",
   "metadata": {
    "ExecuteTime": {
     "end_time": "2023-05-13T20:38:14.070851Z",
     "start_time": "2023-05-13T20:38:14.062341Z"
    }
   },
   "outputs": [
    {
     "name": "stdout",
     "output_type": "stream",
     "text": [
      "The object_2 is greater than object_1\n"
     ]
    }
   ],
   "source": [
    "object_1 = example_1(int( 12))  \n",
    "object_2 = example_1(int (13))  \n",
    "\n",
    "if(object_1 > object_2):  \n",
    "    print (\"The object_1 is greater than object_2\")  \n",
    "else:  \n",
    "    print (\"The object_2 is greater than object_1\")"
   ]
  },
  {
   "cell_type": "markdown",
   "id": "ce3f8033",
   "metadata": {},
   "source": [
    "### Assignment Operators"
   ]
  },
  {
   "cell_type": "markdown",
   "id": "bf3b0d8c",
   "metadata": {},
   "source": [
    "| Operator | Magic Method               |\n",
    "|:----------|:----------------------------|\n",
    "| `-=`       | `__isub__(self, other)`      |\n",
    "| `+=`       | `__iadd__(self, other)`      |\n",
    "| `*=`       | `__imul__(self, other)`      |\n",
    "| `/=`       | `__idiv__(self, other)`      |\n",
    "| `//=`      | `__ifloordiv__(self, other)` |\n",
    "| `%=`       | `__imod__(self, other)`      |\n",
    "| `**=`      | `__ipow__(self, other)`      |\n",
    "| `>>=`      | `__irshift__(self, other)`   |\n",
    "| `<<=`      | `__ilshift__(self, other)`   |\n",
    "| `&=`       | `__iand__(self, other)`      |\n",
    "| `\\|=`      | `__ior__(self, other)`       |\n",
    "| `^=`       | `__ixor__(self, other)`      |"
   ]
  },
  {
   "cell_type": "code",
   "execution_count": 137,
   "id": "a5ab7872",
   "metadata": {
    "ExecuteTime": {
     "end_time": "2023-05-13T20:54:58.414310Z",
     "start_time": "2023-05-13T20:54:58.409163Z"
    }
   },
   "outputs": [],
   "source": [
    "class vector:\n",
    "  def __init__(self, x, y):\n",
    "    self.x = x\n",
    "    self.y = y\n",
    "    \n",
    "  def __str__(self):\n",
    "    return \"({0},{1})\".format(self.x, self.y)\n",
    "  \n",
    "  #function for operator overloading +=\n",
    "  def __iadd__(self, other):\n",
    "    X = self.x + other\n",
    "    Y = self.y + other\n",
    "    return vector(X, Y)"
   ]
  },
  {
   "cell_type": "code",
   "execution_count": 138,
   "id": "3664cc19",
   "metadata": {
    "ExecuteTime": {
     "end_time": "2023-05-13T20:54:59.423269Z",
     "start_time": "2023-05-13T20:54:59.415502Z"
    }
   },
   "outputs": [
    {
     "name": "stdout",
     "output_type": "stream",
     "text": [
      "v1 = (15,20)\n"
     ]
    }
   ],
   "source": [
    "#creating vector object\n",
    "v1 = vector(10, 15)\n",
    "\n",
    "#using overloaded += operator \n",
    "#with vector object\n",
    "v1 += 5\n",
    "\n",
    "#displaying result\n",
    "print(\"v1 =\", v1)"
   ]
  },
  {
   "cell_type": "markdown",
   "id": "2a7a9b45",
   "metadata": {},
   "source": [
    "### Unary Operators"
   ]
  },
  {
   "cell_type": "markdown",
   "id": "d6bfcebd",
   "metadata": {},
   "source": [
    "| Operator |   Magic Method   |\n",
    "|:--------:|:----------------:|\n",
    "| –        | `__neg__(self)`    |\n",
    "| +        | `__pos__(self)`    |\n",
    "| ~        | `__invert__(self)` |"
   ]
  },
  {
   "cell_type": "markdown",
   "id": "dd977675",
   "metadata": {},
   "source": [
    "**Example**"
   ]
  },
  {
   "cell_type": "code",
   "execution_count": 129,
   "id": "7cfa7953",
   "metadata": {
    "ExecuteTime": {
     "end_time": "2023-05-13T20:51:13.284705Z",
     "start_time": "2023-05-13T20:51:13.268455Z"
    }
   },
   "outputs": [],
   "source": [
    "# Python program which attempts to\n",
    "# overload ~ operator as binary operator\n",
    "\n",
    "class A:\n",
    "    def __init__(self, a, b):\n",
    "        self.a = a\n",
    "        self.b = b\n",
    "        \n",
    "    def __invert__(self):\n",
    "        c = ~self.a\n",
    "        d = ~self.b \n",
    "        return vector(c, d)\n",
    "# \t\treturn \"This is the ~ operator, overloaded as binary operator.\""
   ]
  },
  {
   "cell_type": "code",
   "execution_count": 132,
   "id": "6f1a3515",
   "metadata": {
    "ExecuteTime": {
     "end_time": "2023-05-13T20:52:23.504562Z",
     "start_time": "2023-05-13T20:52:23.499842Z"
    }
   },
   "outputs": [
    {
     "name": "stdout",
     "output_type": "stream",
     "text": [
      "(-3,-3)\n"
     ]
    }
   ],
   "source": [
    "ob1 = A(2,2)\n",
    "print(~ob1)"
   ]
  },
  {
   "cell_type": "markdown",
   "id": "b43a4fbd",
   "metadata": {},
   "source": [
    "**Example**"
   ]
  },
  {
   "cell_type": "code",
   "execution_count": 133,
   "id": "a029df40",
   "metadata": {
    "ExecuteTime": {
     "end_time": "2023-05-13T20:52:24.893882Z",
     "start_time": "2023-05-13T20:52:24.874583Z"
    }
   },
   "outputs": [],
   "source": [
    "class vector:\n",
    "  def __init__(self, x, y):\n",
    "    self.x = x\n",
    "    self.y = y\n",
    "    \n",
    "  def __str__(self):\n",
    "    return \"({0},{1})\".format(self.x, self.y)\n",
    "  \n",
    "  #function for operator overloading\n",
    "  def __neg__(self):\n",
    "    X = -self.x\n",
    "    Y = -self.y\n",
    "    return vector(X, Y)\n",
    "\n"
   ]
  },
  {
   "cell_type": "code",
   "execution_count": 134,
   "id": "98edbd43",
   "metadata": {
    "ExecuteTime": {
     "end_time": "2023-05-13T20:52:38.924182Z",
     "start_time": "2023-05-13T20:52:38.909066Z"
    }
   },
   "outputs": [
    {
     "name": "stdout",
     "output_type": "stream",
     "text": [
      "v1 = (-10,-15)\n",
      "v2 = (-5,25)\n"
     ]
    }
   ],
   "source": [
    "#creating vector objects\n",
    "v1 = vector(10, 15)\n",
    "v2 = vector(5, -25)\n",
    "\n",
    "#using overloaded unary - operator \n",
    "#with vector objects\n",
    "v1 = -v1\n",
    "v2 = -v2\n",
    "\n",
    "#displaying the result\n",
    "print(\"v1 =\", v1)\n",
    "print(\"v2 =\", v2)"
   ]
  },
  {
   "cell_type": "code",
   "execution_count": 143,
   "id": "64cbfe39",
   "metadata": {
    "ExecuteTime": {
     "end_time": "2023-05-13T21:15:45.271762Z",
     "start_time": "2023-05-13T21:15:45.257066Z"
    }
   },
   "outputs": [],
   "source": [
    "class MyClass:\n",
    "\tdef __init__(self, value):\n",
    "\t\tself.value = value\n",
    "\n",
    "\tdef __and__(self, other):\n",
    "\t\treturn (self.value and other.value)\n"
   ]
  },
  {
   "cell_type": "code",
   "execution_count": 144,
   "id": "79717377",
   "metadata": {
    "ExecuteTime": {
     "end_time": "2023-05-13T21:15:45.801078Z",
     "start_time": "2023-05-13T21:15:45.784045Z"
    }
   },
   "outputs": [
    {
     "name": "stdout",
     "output_type": "stream",
     "text": [
      "False\n"
     ]
    }
   ],
   "source": [
    "\n",
    "a = MyClass(True)\n",
    "b = MyClass(False)\n",
    "c = a & b       # c.value is False\n",
    "print(c)"
   ]
  },
  {
   "cell_type": "markdown",
   "id": "31ae5ab8",
   "metadata": {},
   "source": [
    "\n",
    "Overloading boolean operators in a custom class can provide several advantages, including:\n",
    "\n",
    "- **Improved readability:** By overloading boolean operators, you can provide a more natural syntax and semantics for your class that makes it easier to read and understand.\n",
    "- **Consistency with built-in types:** Overloading boolean operators can make your class behave more like built-in types in Python, which can make it easier to use and integrate with other code.\n",
    "- **Operator overloading:** Overloading boolean operators is an example of operator overloading in Python, which can make your code more concise and expressive by allowing you to use familiar operators to perform custom operations on your objects.\n",
    "- **Custom behavior:** Overloading boolean operators can allow you to define custom behavior for your class that is not available in built-in types or other classes.\n",
    "- **Enhanced functionality:** By overloading boolean operators, you can add new functionality to your class that was not available before, such as the ability to perform logical and or or operations on instances of your class."
   ]
  },
  {
   "cell_type": "markdown",
   "id": "3f2628b0",
   "metadata": {},
   "source": [
    "### Advantages of Operator Overloading\n",
    "\n",
    "Here are some advantages of operator overloading,\n",
    "\n",
    "- Improves code readability by allowing the use of familiar operators.\n",
    "- Ensures that objects of a class behave consistently with built-in types and other user-defined types.\n",
    "- Makes it simpler to write code, especially for complex data types.\n",
    "- Allows for code reuse by implementing one operator method and using it for other operators."
   ]
  },
  {
   "cell_type": "markdown",
   "id": "c7a17fee",
   "metadata": {},
   "source": [
    "---"
   ]
  }
 ],
 "metadata": {
  "kernelspec": {
   "display_name": "Python 3 (ipykernel)",
   "language": "python",
   "name": "python3"
  },
  "language_info": {
   "codemirror_mode": {
    "name": "ipython",
    "version": 3
   },
   "file_extension": ".py",
   "mimetype": "text/x-python",
   "name": "python",
   "nbconvert_exporter": "python",
   "pygments_lexer": "ipython3",
   "version": "3.9.1"
  },
  "toc": {
   "base_numbering": 1,
   "nav_menu": {},
   "number_sections": true,
   "sideBar": true,
   "skip_h1_title": true,
   "title_cell": "Table of Contents",
   "title_sidebar": "Contents",
   "toc_cell": true,
   "toc_position": {
    "height": "calc(100% - 180px)",
    "left": "10px",
    "top": "150px",
    "width": "305.788px"
   },
   "toc_section_display": true,
   "toc_window_display": true
  },
  "varInspector": {
   "cols": {
    "lenName": 16,
    "lenType": 16,
    "lenVar": 40
   },
   "kernels_config": {
    "python": {
     "delete_cmd_postfix": "",
     "delete_cmd_prefix": "del ",
     "library": "var_list.py",
     "varRefreshCmd": "print(var_dic_list())"
    },
    "r": {
     "delete_cmd_postfix": ") ",
     "delete_cmd_prefix": "rm(",
     "library": "var_list.r",
     "varRefreshCmd": "cat(var_dic_list()) "
    }
   },
   "types_to_exclude": [
    "module",
    "function",
    "builtin_function_or_method",
    "instance",
    "_Feature"
   ],
   "window_display": false
  }
 },
 "nbformat": 4,
 "nbformat_minor": 5
}
