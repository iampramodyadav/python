{
  "nbformat": 4,
  "nbformat_minor": 0,
  "metadata": {
    "colab": {
      "name": "daily-practice-problem.ipynb",
      "provenance": [],
      "collapsed_sections": [],
      "toc_visible": true,
      "authorship_tag": "ABX9TyP+Wxra5dKsyHpPnbb0HBMW",
      "include_colab_link": true
    },
    "kernelspec": {
      "display_name": "Python 3",
      "name": "python3"
    },
    "language_info": {
      "name": "python"
    }
  },
  "cells": [
    {
      "cell_type": "markdown",
      "metadata": {
        "id": "view-in-github",
        "colab_type": "text"
      },
      "source": [
        "<a href=\"https://colab.research.google.com/github/iampramodyadav/python/blob/main/daily_practice_problem.ipynb\" target=\"_parent\"><img src=\"https://colab.research.google.com/assets/colab-badge.svg\" alt=\"Open In Colab\"/></a>"
      ]
    },
    {
      "cell_type": "markdown",
      "metadata": {
        "id": "6Rfp_RC7HxlG"
      },
      "source": [
        "# Practice Questions"
      ]
    },
    {
      "cell_type": "markdown",
      "metadata": {
        "id": "uWTpd0pRHUdy"
      },
      "source": [
        "# Function"
      ]
    },
    {
      "cell_type": "markdown",
      "metadata": {
        "id": "HXcjRUN-h7uZ"
      },
      "source": [
        "## Multiplication Table\n",
        "- Write a function that inputs a number and prints the multiplication table of \n",
        "that number.\n"
      ]
    },
    {
      "cell_type": "code",
      "metadata": {
        "id": "g4h-1gz4IBnf"
      },
      "source": [
        "def table(a):\n",
        "  '''\n",
        "  this function ptint table\n",
        "  '''\n",
        "  print(\"Table of {} is\\n\".format(a))\n",
        "  for i in range(1,11):\n",
        "    print(i,\"* \",a, \"=\",i*a,)"
      ],
      "execution_count": 4,
      "outputs": []
    },
    {
      "cell_type": "code",
      "metadata": {
        "colab": {
          "base_uri": "https://localhost:8080/"
        },
        "id": "O4SmxxFTkYoa",
        "outputId": "ffe7a1cf-1190-406f-acb2-fe0bd8a68c4d"
      },
      "source": [
        "table(10)"
      ],
      "execution_count": 5,
      "outputs": [
        {
          "output_type": "stream",
          "text": [
            "Table of 10 is\n",
            "\n",
            "1 *  10 = 10\n",
            "2 *  10 = 20\n",
            "3 *  10 = 30\n",
            "4 *  10 = 40\n",
            "5 *  10 = 50\n",
            "6 *  10 = 60\n",
            "7 *  10 = 70\n",
            "8 *  10 = 80\n",
            "9 *  10 = 90\n",
            "10 *  10 = 100\n"
          ],
          "name": "stdout"
        }
      ]
    },
    {
      "cell_type": "code",
      "metadata": {
        "colab": {
          "base_uri": "https://localhost:8080/"
        },
        "id": "zzmF0sOYrKfN",
        "outputId": "bd139725-3205-4cd1-afb9-e32f4b745231"
      },
      "source": [
        "print(table.__doc__)"
      ],
      "execution_count": 6,
      "outputs": [
        {
          "output_type": "stream",
          "text": [
            "\n",
            "  this function ptint table\n",
            "  \n"
          ],
          "name": "stdout"
        }
      ]
    },
    {
      "cell_type": "markdown",
      "metadata": {
        "id": "5U5CjC6YgnwZ"
      },
      "source": [
        "## Twin Prime\n",
        "- Write a program to print twin primes less than 1000. If two consecutive odd numbers are both prime then they are known as twin primes. [twin prime](https://en.wikipedia.org/wiki/Twin_prime)"
      ]
    },
    {
      "cell_type": "markdown",
      "metadata": {
        "id": "rPsh3bTfDmGC"
      },
      "source": [
        "### Algorithm-1\n",
        "\n",
        "\n",
        "---\n",
        "\n"
      ]
    },
    {
      "cell_type": "code",
      "metadata": {
        "id": "b4pmhyprg3xp"
      },
      "source": [
        "def isPrime(a):\n",
        "  '''\n",
        "  this function check for prime number and return true\n",
        "\n",
        "  '''\n",
        "  for i in range(2,int(a**0.5)+1):\n",
        "    if a%i==0:\n",
        "      return False\n",
        "  return True\n",
        "\n",
        "\n",
        "\n",
        "def TwinPrime(x):\n",
        "  '''\n",
        "  this function give twin prime numbers bellow entred number\n",
        "  '''\n",
        "  temp=0\n",
        "  for i in range(3,x,2):\n",
        "    if isPrime(i) and isPrime(i+2):\n",
        "      print(\"({},{})\".format(i,i+2))\n",
        "      temp+=1\n",
        "  print(\"no of twin prime is {}\".format(temp))\n",
        "\n",
        "  "
      ],
      "execution_count": 7,
      "outputs": []
    },
    {
      "cell_type": "code",
      "metadata": {
        "colab": {
          "base_uri": "https://localhost:8080/"
        },
        "id": "YG9i-3ej5ImD",
        "outputId": "ac5899b1-df94-487d-a52a-6a0e7edcee7b"
      },
      "source": [
        "print(isPrime.__doc__)"
      ],
      "execution_count": 8,
      "outputs": [
        {
          "output_type": "stream",
          "text": [
            "\n",
            "  this function check for prime number and return true\n",
            "\n",
            "  \n"
          ],
          "name": "stdout"
        }
      ]
    },
    {
      "cell_type": "code",
      "metadata": {
        "colab": {
          "base_uri": "https://localhost:8080/"
        },
        "id": "UqF0Uaba5IeU",
        "outputId": "e9600c6e-06ec-4979-fe3e-ded8c7ae738a"
      },
      "source": [
        "print(TwinPrime.__doc__)"
      ],
      "execution_count": 9,
      "outputs": [
        {
          "output_type": "stream",
          "text": [
            "\n",
            "  this function give twin prime numbers bellow entred number\n",
            "  \n"
          ],
          "name": "stdout"
        }
      ]
    },
    {
      "cell_type": "code",
      "metadata": {
        "colab": {
          "base_uri": "https://localhost:8080/"
        },
        "id": "pyytAobwscLl",
        "outputId": "1e6522f1-8e20-4e87-9321-a6a353f35bb9"
      },
      "source": [
        "TwinPrime(1000)"
      ],
      "execution_count": 10,
      "outputs": [
        {
          "output_type": "stream",
          "text": [
            "(3,5)\n",
            "(5,7)\n",
            "(11,13)\n",
            "(17,19)\n",
            "(29,31)\n",
            "(41,43)\n",
            "(59,61)\n",
            "(71,73)\n",
            "(101,103)\n",
            "(107,109)\n",
            "(137,139)\n",
            "(149,151)\n",
            "(179,181)\n",
            "(191,193)\n",
            "(197,199)\n",
            "(227,229)\n",
            "(239,241)\n",
            "(269,271)\n",
            "(281,283)\n",
            "(311,313)\n",
            "(347,349)\n",
            "(419,421)\n",
            "(431,433)\n",
            "(461,463)\n",
            "(521,523)\n",
            "(569,571)\n",
            "(599,601)\n",
            "(617,619)\n",
            "(641,643)\n",
            "(659,661)\n",
            "(809,811)\n",
            "(821,823)\n",
            "(827,829)\n",
            "(857,859)\n",
            "(881,883)\n",
            "no of twin prime is 35\n"
          ],
          "name": "stdout"
        }
      ]
    },
    {
      "cell_type": "markdown",
      "metadata": {
        "id": "0vangbdlDs4q"
      },
      "source": [
        "### Algorithm-2\n",
        "\n",
        "---\n",
        "\n"
      ]
    },
    {
      "cell_type": "code",
      "metadata": {
        "id": "3VEwn88F6YnY"
      },
      "source": [
        "def listPrime(a):\n",
        "  \"\"\"\n",
        "  this function return list of prime number bellow enterd number\n",
        "  \"\"\"\n",
        "  lst=[]\n",
        "  for i in range(2,a+1):\n",
        "    for j in range(2, int(i**0.5)+1):\n",
        "      if i%j==0:\n",
        "        break\n",
        "    else:\n",
        "      lst.append(i)\n",
        "  return(lst)\n",
        "\n",
        "\n",
        "def twinPrime2(x):\n",
        "  \"\"\"\n",
        "  this function print twin prime from list of prime\n",
        "  \"\"\"\n",
        "  temp=0\n",
        "  prime=listPrime(x)\n",
        "  for i in range(len(prime)-1):\n",
        "    if prime[i+1]-prime[i]==2:\n",
        "      print(\"({},{})\".format(prime[i],prime[i+1]))\n",
        "      temp+=1\n",
        "  print(\"Number of twin prime bellow {}, is {}\".format(x,temp))\n",
        "\n"
      ],
      "execution_count": 11,
      "outputs": []
    },
    {
      "cell_type": "code",
      "metadata": {
        "colab": {
          "base_uri": "https://localhost:8080/"
        },
        "id": "nz6tyzfx8O--",
        "outputId": "5de6b86c-c263-4271-b20b-e4667495dcfb"
      },
      "source": [
        "print(listPrime.__doc__)"
      ],
      "execution_count": 12,
      "outputs": [
        {
          "output_type": "stream",
          "text": [
            "\n",
            "  this function return list of prime number bellow enterd number\n",
            "  \n"
          ],
          "name": "stdout"
        }
      ]
    },
    {
      "cell_type": "code",
      "metadata": {
        "colab": {
          "base_uri": "https://localhost:8080/"
        },
        "id": "VXnnEomcC5Kk",
        "outputId": "57f29c4b-242e-4a2f-a0b9-b7492893a697"
      },
      "source": [
        "print(twinPrime2.__doc__)"
      ],
      "execution_count": 13,
      "outputs": [
        {
          "output_type": "stream",
          "text": [
            "\n",
            "  this function print twin prime from list of prime\n",
            "  \n"
          ],
          "name": "stdout"
        }
      ]
    },
    {
      "cell_type": "code",
      "metadata": {
        "colab": {
          "base_uri": "https://localhost:8080/"
        },
        "id": "ZGAwXSND_Fe0",
        "outputId": "a416084f-11d6-4c4c-90ae-055592c3181b"
      },
      "source": [
        "twinPrime2(1000)"
      ],
      "execution_count": 14,
      "outputs": [
        {
          "output_type": "stream",
          "text": [
            "(3,5)\n",
            "(5,7)\n",
            "(11,13)\n",
            "(17,19)\n",
            "(29,31)\n",
            "(41,43)\n",
            "(59,61)\n",
            "(71,73)\n",
            "(101,103)\n",
            "(107,109)\n",
            "(137,139)\n",
            "(149,151)\n",
            "(179,181)\n",
            "(191,193)\n",
            "(197,199)\n",
            "(227,229)\n",
            "(239,241)\n",
            "(269,271)\n",
            "(281,283)\n",
            "(311,313)\n",
            "(347,349)\n",
            "(419,421)\n",
            "(431,433)\n",
            "(461,463)\n",
            "(521,523)\n",
            "(569,571)\n",
            "(599,601)\n",
            "(617,619)\n",
            "(641,643)\n",
            "(659,661)\n",
            "(809,811)\n",
            "(821,823)\n",
            "(827,829)\n",
            "(857,859)\n",
            "(881,883)\n",
            "Number of twin prime bellow 1000, is 35\n"
          ],
          "name": "stdout"
        }
      ]
    },
    {
      "cell_type": "markdown",
      "metadata": {
        "id": "RzgU923UZ6Yo"
      },
      "source": [
        "## Prime factorisation\n",
        "Write a program to find out the prime factors of a number. Example: prime factors of 56 -2, 2, 2, 7\n"
      ]
    },
    {
      "cell_type": "markdown",
      "metadata": {
        "id": "kBSbt6Hw43zT"
      },
      "source": [
        "### Algorithm-1\n",
        "\n",
        "---\n",
        "\n"
      ]
    },
    {
      "cell_type": "code",
      "metadata": {
        "colab": {
          "base_uri": "https://localhost:8080/"
        },
        "id": "K7Gv1rVeZ6AT",
        "outputId": "4b84b028-054e-4508-a8d8-95defe16dc9e"
      },
      "source": [
        "def primeFact(n):\n",
        "  '''\n",
        "  this function print list of prime factors for entered numbers\n",
        "  '''\n",
        "  if n==1:\n",
        "    print('no prime factor for 1')\n",
        "    return\n",
        "  lst=[]\n",
        "\n",
        "  for i in range(2,n):\n",
        "    while n%i==0:\n",
        "      lst.append(i)\n",
        "      n=n//i\n",
        "\n",
        "  print('prime factor of are: {}'.format(lst))\n",
        "\n",
        "primeFact(44289)"
      ],
      "execution_count": 15,
      "outputs": [
        {
          "output_type": "stream",
          "text": [
            "prime factor of are: [3, 3, 7, 19, 37]\n"
          ],
          "name": "stdout"
        }
      ]
    },
    {
      "cell_type": "markdown",
      "metadata": {
        "id": "A4Z_1znl5APk"
      },
      "source": [
        "### Algorithm-2 More efficient"
      ]
    },
    {
      "cell_type": "code",
      "metadata": {
        "colab": {
          "base_uri": "https://localhost:8080/"
        },
        "id": "xkRnXHUvtBD1",
        "outputId": "4ba3955e-69fb-48cf-d0bc-60af6c34dff2"
      },
      "source": [
        "import math\n",
        "def factors(num):\n",
        "  \"\"\"takes a number and prints prime factors of that number\"\"\"\n",
        "\n",
        "  if num==1:\n",
        "    print(\"no prime factors for 1\")\n",
        "    return\n",
        "\n",
        "  factor=[]\n",
        "  for i in range(2,int(math.sqrt(num))+1):    #we reduce the number of loop\n",
        "    while num%i==0:\n",
        "      factor.append(i)\n",
        "      num=num//i\n",
        "\n",
        "  if num!=1:                              #if there are any foctor >sqrt(num) then it will currecnlt in num\n",
        "    factor.append(num)\n",
        "  print(\"factors are: {}\".format(factor))\n",
        "\n",
        "factors(44289)"
      ],
      "execution_count": 16,
      "outputs": [
        {
          "output_type": "stream",
          "text": [
            "factors are: [3, 3, 7, 19, 37]\n"
          ],
          "name": "stdout"
        }
      ]
    },
    {
      "cell_type": "code",
      "metadata": {
        "colab": {
          "base_uri": "https://localhost:8080/"
        },
        "id": "cCpXs83cZ56l",
        "outputId": "416f92b7-8e98-4378-ab98-c31fb3a77832"
      },
      "source": [
        "factors(9905973)"
      ],
      "execution_count": 17,
      "outputs": [
        {
          "output_type": "stream",
          "text": [
            "factors are: [3, 7, 11, 19, 37, 61]\n"
          ],
          "name": "stdout"
        }
      ]
    },
    {
      "cell_type": "code",
      "metadata": {
        "colab": {
          "base_uri": "https://localhost:8080/"
        },
        "id": "ciIfc3Mt4NPE",
        "outputId": "fce52b66-86e4-47f5-ed66-ad049bccb3d5"
      },
      "source": [
        "primeFact(9905973)"
      ],
      "execution_count": 18,
      "outputs": [
        {
          "output_type": "stream",
          "text": [
            "prime factor of are: [3, 7, 11, 19, 37, 61]\n"
          ],
          "name": "stdout"
        }
      ]
    },
    {
      "cell_type": "code",
      "metadata": {
        "colab": {
          "base_uri": "https://localhost:8080/"
        },
        "id": "GrELeIY8Z5wS",
        "outputId": "b3737196-83fa-43a5-bb6e-d954337ab25b"
      },
      "source": [
        "primeFact(1263761079)"
      ],
      "execution_count": 19,
      "outputs": [
        {
          "output_type": "stream",
          "text": [
            "prime factor of are: [3, 7, 17, 19, 211, 883]\n"
          ],
          "name": "stdout"
        }
      ]
    },
    {
      "cell_type": "markdown",
      "metadata": {
        "id": "E_y7CTBK5P-8"
      },
      "source": [
        "it took 103 sec for abov number"
      ]
    },
    {
      "cell_type": "code",
      "metadata": {
        "colab": {
          "base_uri": "https://localhost:8080/"
        },
        "id": "bffp6jUq2E6u",
        "outputId": "c3fda108-9666-4a8b-9e92-de4edf16f913"
      },
      "source": [
        "factors(1263761079)"
      ],
      "execution_count": 20,
      "outputs": [
        {
          "output_type": "stream",
          "text": [
            "factors are: [3, 7, 17, 19, 211, 883]\n"
          ],
          "name": "stdout"
        }
      ]
    },
    {
      "cell_type": "markdown",
      "metadata": {
        "id": "V5tb7lP85YW8"
      },
      "source": [
        "it took 1.4 sec, so factor(n) is more efficient."
      ]
    },
    {
      "cell_type": "markdown",
      "metadata": {
        "id": "pFjmz7O-5s3L"
      },
      "source": [
        "## permutation and combination\n",
        "Write a program to implement these formulae of permutations and combinations.\n",
        "Number of permutations of n objects taken r at a time: p(n, r) = n! / (n-r)!. Number of combinations of n objects taken r at a time is: c(n, r) = n! / (r!*(n-r)!) = p(n,r) / r!"
      ]
    },
    {
      "cell_type": "code",
      "metadata": {
        "colab": {
          "base_uri": "https://localhost:8080/"
        },
        "id": "TOofGFFP7PUH",
        "outputId": "49481adf-1af1-4d34-dcc4-94bc1e7ea7c0"
      },
      "source": [
        "def fact(n):\n",
        "  '''\n",
        "  return factorial of entered number\n",
        "  '''\n",
        "  n=int(n)\n",
        "  factorial=1\n",
        "  for i in range(1,n+1):\n",
        "    factorial*=i\n",
        "  return factorial\n",
        "\n",
        "def p(n,r):\n",
        "  '''\n",
        "  return permutation of entered number\n",
        "  '''\n",
        "  if n<r:\n",
        "    print(\"inavlid entry\")\n",
        "  perm=fact(n)/fact(n-r)\n",
        "  return perm\n",
        "\n",
        "def c(n,r):\n",
        "  '''\n",
        "  return combination of entered number\n",
        "  '''\n",
        "  if n<r:\n",
        "    print('invalid')\n",
        "  \n",
        "  combi= p(n,r)/fact(r)\n",
        "  return combi\n",
        "\n",
        "n=int(input('enter the value of n :'))   #In python 3, the input() function returns a string.\n",
        "r=int(input('entet the value of r :'))\n",
        "print('permutation of entered numbers is {}, and combination is {}'.format(p(n,r),c(n,r)))"
      ],
      "execution_count": 21,
      "outputs": [
        {
          "output_type": "stream",
          "text": [
            "enter the value of n :5\n",
            "entet the value of r :2\n",
            "permutation of entered numbers is 20.0, and combination is 10.0\n"
          ],
          "name": "stdout"
        }
      ]
    },
    {
      "cell_type": "code",
      "metadata": {
        "colab": {
          "base_uri": "https://localhost:8080/"
        },
        "id": "T8Eu-3RI8MPc",
        "outputId": "e3982e99-2071-49c1-dbef-ffd3e96ecc6a"
      },
      "source": [
        "fact(5)"
      ],
      "execution_count": 22,
      "outputs": [
        {
          "output_type": "execute_result",
          "data": {
            "text/plain": [
              "120"
            ]
          },
          "metadata": {
            "tags": []
          },
          "execution_count": 22
        }
      ]
    },
    {
      "cell_type": "code",
      "metadata": {
        "colab": {
          "base_uri": "https://localhost:8080/"
        },
        "id": "vwmWh0wo8-k_",
        "outputId": "9ac9452f-0bb3-43c7-8a70-bae629acf4ea"
      },
      "source": [
        "p(5,3)"
      ],
      "execution_count": 23,
      "outputs": [
        {
          "output_type": "execute_result",
          "data": {
            "text/plain": [
              "60.0"
            ]
          },
          "metadata": {
            "tags": []
          },
          "execution_count": 23
        }
      ]
    },
    {
      "cell_type": "code",
      "metadata": {
        "colab": {
          "base_uri": "https://localhost:8080/"
        },
        "id": "FyzNvnfa9ikL",
        "outputId": "45d48fb7-1133-481e-bcc1-4a3ba51324ab"
      },
      "source": [
        "c(5,3)"
      ],
      "execution_count": 24,
      "outputs": [
        {
          "output_type": "execute_result",
          "data": {
            "text/plain": [
              "10.0"
            ]
          },
          "metadata": {
            "tags": []
          },
          "execution_count": 24
        }
      ]
    },
    {
      "cell_type": "markdown",
      "metadata": {
        "id": "Tm25PGvnoBx3"
      },
      "source": [
        "## Decimal to binary\n",
        "Write a function that converts a decimal number to binary number\n"
      ]
    },
    {
      "cell_type": "markdown",
      "metadata": {
        "id": "FB-g5W-5Xhf0"
      },
      "source": [
        "### Algorithm-1"
      ]
    },
    {
      "cell_type": "code",
      "metadata": {
        "id": "idwbRHANoJFm"
      },
      "source": [
        "def Decimal2Binary(num):\n",
        "  \"\"\"take a decimal number and return it's binary representaion\"\"\"\n",
        "  lst=[]\n",
        "  while num>0:\n",
        "    i=num%2\n",
        "    lst.insert(0,i) #or lst.append(i) then lst.reverse()\n",
        "    num=num//2\n",
        "  for i in lst:\n",
        "    print(i, end='')"
      ],
      "execution_count": 25,
      "outputs": []
    },
    {
      "cell_type": "code",
      "metadata": {
        "colab": {
          "base_uri": "https://localhost:8080/"
        },
        "id": "YKEskHg1LwCn",
        "outputId": "452b448a-e981-46e9-9aed-7e3a7248f7f3"
      },
      "source": [
        "l=Decimal2Binary(10)"
      ],
      "execution_count": 26,
      "outputs": [
        {
          "output_type": "stream",
          "text": [
            "1010"
          ],
          "name": "stdout"
        }
      ]
    },
    {
      "cell_type": "markdown",
      "metadata": {
        "id": "EQrlGaEJXmXa"
      },
      "source": [
        "### Algorithm-2 (recursive function)"
      ]
    },
    {
      "cell_type": "code",
      "metadata": {
        "id": "80LOOPt1RrSp"
      },
      "source": [
        "def rDecimal2Binary(num):\n",
        "  \"\"\"take a decimal number and return it's binary representaion\"\"\"\n",
        "  \n",
        "  if num>1:\n",
        "    rDecimal2Binary(num//2)\n",
        "  i=num%2\n",
        "  print(i,end='')"
      ],
      "execution_count": 27,
      "outputs": []
    },
    {
      "cell_type": "code",
      "metadata": {
        "colab": {
          "base_uri": "https://localhost:8080/"
        },
        "id": "mh7xCXSAH-4k",
        "outputId": "b6707022-14ce-4cfb-ae91-9da04ac70b06"
      },
      "source": [
        "rDecimal2Binary(10)"
      ],
      "execution_count": 28,
      "outputs": [
        {
          "output_type": "stream",
          "text": [
            "1010"
          ],
          "name": "stdout"
        }
      ]
    },
    {
      "cell_type": "markdown",
      "metadata": {
        "id": "Hq02EyjvXq5S"
      },
      "source": [
        "### Algorithm-3"
      ]
    },
    {
      "cell_type": "code",
      "metadata": {
        "colab": {
          "base_uri": "https://localhost:8080/"
        },
        "id": "TuSAEui3JILN",
        "outputId": "a0ad3bb9-a6ae-4a15-d8d1-1736574b88a9"
      },
      "source": [
        "def binary(num):\n",
        "  \"\"\"take a decimal number and return it's binary representaion\"\"\"\n",
        "  temp=[]\n",
        "  while num>0:\n",
        "    temp.append(num & 1)    #bitwise operator &\n",
        "    num=num>>1              #bitwise operator >>\n",
        "  \n",
        "  temp=temp[::-1]           #reversing the list\n",
        "  temp=map(str,temp)\n",
        "  return int(\"\".join(temp))  #join and print\n",
        "binary(10)"
      ],
      "execution_count": 29,
      "outputs": [
        {
          "output_type": "execute_result",
          "data": {
            "text/plain": [
              "1010"
            ]
          },
          "metadata": {
            "tags": []
          },
          "execution_count": 29
        }
      ]
    },
    {
      "cell_type": "code",
      "metadata": {
        "colab": {
          "base_uri": "https://localhost:8080/"
        },
        "id": "aCXk9Y5cJiL5",
        "outputId": "f62fe1c6-eafb-4518-c151-4ec74c0b840e"
      },
      "source": [
        "24 & 1"
      ],
      "execution_count": 30,
      "outputs": [
        {
          "output_type": "execute_result",
          "data": {
            "text/plain": [
              "0"
            ]
          },
          "metadata": {
            "tags": []
          },
          "execution_count": 30
        }
      ]
    },
    {
      "cell_type": "code",
      "metadata": {
        "colab": {
          "base_uri": "https://localhost:8080/"
        },
        "id": "PqYsIYMuKq4Y",
        "outputId": "20bbe769-9c3f-4221-e886-e11aba0d823d"
      },
      "source": [
        "24>>1"
      ],
      "execution_count": 31,
      "outputs": [
        {
          "output_type": "execute_result",
          "data": {
            "text/plain": [
              "12"
            ]
          },
          "metadata": {
            "tags": []
          },
          "execution_count": 31
        }
      ]
    },
    {
      "cell_type": "markdown",
      "metadata": {
        "id": "oU-bD5eMKp1p"
      },
      "source": [
        ""
      ]
    },
    {
      "cell_type": "markdown",
      "metadata": {
        "id": "UdfViUkvoH0W"
      },
      "source": [
        "## Armstrong number\n",
        " Write a function **cubesum()** that accepts an integer and returns the sum of the cubes of individual digits of that number. Use this function to make functions **PrintArmstrong()** and **isArmstrong()** to print Armstrong numbers and to find whether is an Armstrong number"
      ]
    },
    {
      "cell_type": "markdown",
      "metadata": {
        "id": "d6MPg9HxG3Rb"
      },
      "source": [
        "### Algorithm-1\n",
        "\n",
        "---\n",
        "\n"
      ]
    },
    {
      "cell_type": "code",
      "metadata": {
        "id": "91FC4zCCoJnn"
      },
      "source": [
        "def cubesum(n):\n",
        "  '''this return sum of cube of its digit'''\n",
        "  l=str(n)\n",
        "  s=0\n",
        "  for i in l:\n",
        "    s=s+int(i)**3\n",
        "  return s\n",
        "\n",
        "def isArmstrong(a):\n",
        "  '''check for armstrong number '''\n",
        "  if a==cubesum(a):\n",
        "    return True\n",
        "  else:\n",
        "    return False\n",
        "\n",
        "def PrintArmstrong(num):\n",
        "  '''print armstrong number '''\n",
        "  if isArmstrong(num):\n",
        "    print(\"{} is an armstrong number\".format(num))\n",
        "  else:\n",
        "    print(\"{} is NOT an armstrong number\".format(num))"
      ],
      "execution_count": 32,
      "outputs": []
    },
    {
      "cell_type": "code",
      "metadata": {
        "colab": {
          "base_uri": "https://localhost:8080/"
        },
        "id": "HEE5ObwKCmgs",
        "outputId": "d6652347-12f2-40db-a450-175a217566a5"
      },
      "source": [
        "cubesum(153)"
      ],
      "execution_count": 33,
      "outputs": [
        {
          "output_type": "execute_result",
          "data": {
            "text/plain": [
              "153"
            ]
          },
          "metadata": {
            "tags": []
          },
          "execution_count": 33
        }
      ]
    },
    {
      "cell_type": "code",
      "metadata": {
        "colab": {
          "base_uri": "https://localhost:8080/"
        },
        "id": "tuefXwUMDVW7",
        "outputId": "1b3bab3e-4c06-440f-c217-fb44909166d3"
      },
      "source": [
        "isArmstrong(153)"
      ],
      "execution_count": 34,
      "outputs": [
        {
          "output_type": "execute_result",
          "data": {
            "text/plain": [
              "True"
            ]
          },
          "metadata": {
            "tags": []
          },
          "execution_count": 34
        }
      ]
    },
    {
      "cell_type": "code",
      "metadata": {
        "colab": {
          "base_uri": "https://localhost:8080/"
        },
        "id": "xyXn7NrLDaDg",
        "outputId": "654efbb6-28a6-4a7d-f1ee-a9c1f2ff7bbd"
      },
      "source": [
        "PrintArmstrong(153)"
      ],
      "execution_count": 35,
      "outputs": [
        {
          "output_type": "stream",
          "text": [
            "153 is an armstrong number\n"
          ],
          "name": "stdout"
        }
      ]
    },
    {
      "cell_type": "markdown",
      "metadata": {
        "id": "OUiTy7SqG_bi"
      },
      "source": [
        "### Algorithm-2\n",
        "\n",
        "---\n",
        "\n"
      ]
    },
    {
      "cell_type": "code",
      "metadata": {
        "id": "T5VA-gfUEIPz"
      },
      "source": [
        "def cubesum1(n):\n",
        "  '''this return sum of cube of its digit'''\n",
        "  s=0\n",
        "  while n>0:\n",
        "    i=n%10\n",
        "    s=s+i**3\n",
        "    n=n//10\n",
        "  return s\n",
        "\n",
        "def isArmstrong1(a):\n",
        "  '''check for armstrong number '''\n",
        "  if a==cubesum1(a):\n",
        "    return True\n",
        "  else:\n",
        "    return False\n",
        "\n",
        "def PrintArmstrong1(num):\n",
        "  '''print armstrong number '''\n",
        "  if isArmstrong1(num):\n",
        "    print(\"{} is an armstrong number\".format(num))\n",
        "  else:\n",
        "    print(\"{} is NOT an armstrong number\".format(num))"
      ],
      "execution_count": 37,
      "outputs": []
    },
    {
      "cell_type": "code",
      "metadata": {
        "colab": {
          "base_uri": "https://localhost:8080/"
        },
        "id": "1oWESaH5FnF4",
        "outputId": "64830919-b74c-4224-c3e6-88ebbceac8d6"
      },
      "source": [
        "PrintArmstrong1(153)"
      ],
      "execution_count": 38,
      "outputs": [
        {
          "output_type": "stream",
          "text": [
            "153 is an armstrong number\n"
          ],
          "name": "stdout"
        }
      ]
    },
    {
      "cell_type": "code",
      "metadata": {
        "colab": {
          "base_uri": "https://localhost:8080/"
        },
        "id": "nKN6SuWpGCup",
        "outputId": "944e8b97-8080-4559-c5c8-57f06d68870a"
      },
      "source": [
        "PrintArmstrong1(370)"
      ],
      "execution_count": 39,
      "outputs": [
        {
          "output_type": "stream",
          "text": [
            "370 is an armstrong number\n"
          ],
          "name": "stdout"
        }
      ]
    },
    {
      "cell_type": "code",
      "metadata": {
        "colab": {
          "base_uri": "https://localhost:8080/"
        },
        "id": "JoXT2WnFGCiK",
        "outputId": "9533566c-41fe-49fd-fb21-af7410ada129"
      },
      "source": [
        "PrintArmstrong1(407)"
      ],
      "execution_count": 40,
      "outputs": [
        {
          "output_type": "stream",
          "text": [
            "407 is an armstrong number\n"
          ],
          "name": "stdout"
        }
      ]
    },
    {
      "cell_type": "markdown",
      "metadata": {
        "id": "_u1uXrTnbW0R"
      },
      "source": [
        "## Product of digit\n",
        "Write a function prodDigits() that inputs a number and returns the product of digits of that number."
      ]
    },
    {
      "cell_type": "markdown",
      "metadata": {
        "id": "zkCp57N8kyLu"
      },
      "source": [
        "### Algorithm-1"
      ]
    },
    {
      "cell_type": "code",
      "metadata": {
        "id": "MqjMAMA0bWZK"
      },
      "source": [
        "def prodDigit(n):\n",
        "  '''this return product of its digit'''\n",
        "  s=1\n",
        "  while n>0:\n",
        "    i=n%10\n",
        "    s=s*i\n",
        "    n=n//10\n",
        "  return s"
      ],
      "execution_count": 41,
      "outputs": []
    },
    {
      "cell_type": "code",
      "metadata": {
        "colab": {
          "base_uri": "https://localhost:8080/"
        },
        "id": "stuMxksCde6s",
        "outputId": "65348019-e308-4559-8839-9660e554324e"
      },
      "source": [
        "prodDigit(1234546855)"
      ],
      "execution_count": 42,
      "outputs": [
        {
          "output_type": "execute_result",
          "data": {
            "text/plain": [
              "576000"
            ]
          },
          "metadata": {
            "tags": []
          },
          "execution_count": 42
        }
      ]
    },
    {
      "cell_type": "code",
      "metadata": {
        "colab": {
          "base_uri": "https://localhost:8080/"
        },
        "id": "ISApAe2emGF5",
        "outputId": "8fb4ce50-eb51-49ed-90c2-aa0f26668799"
      },
      "source": [
        "2%10"
      ],
      "execution_count": 43,
      "outputs": [
        {
          "output_type": "execute_result",
          "data": {
            "text/plain": [
              "2"
            ]
          },
          "metadata": {
            "tags": []
          },
          "execution_count": 43
        }
      ]
    },
    {
      "cell_type": "markdown",
      "metadata": {
        "id": "PkHeH_w6k3d3"
      },
      "source": [
        "### Algorithm-2"
      ]
    },
    {
      "cell_type": "code",
      "metadata": {
        "id": "jmZtQEPedzNh"
      },
      "source": [
        "def prodDigit_v2(n):\n",
        "  '''this return product of its digit'''\n",
        "  l=str(n)\n",
        "  s=1\n",
        "  for i in l:\n",
        "    s=s*int(i)\n",
        "  return s"
      ],
      "execution_count": 44,
      "outputs": []
    },
    {
      "cell_type": "code",
      "metadata": {
        "colab": {
          "base_uri": "https://localhost:8080/"
        },
        "id": "L9bEoizMeGLm",
        "outputId": "27c6edd8-57c0-4b3d-e1ee-e79f283814b6"
      },
      "source": [
        "prodDigit_v2(1234546855)"
      ],
      "execution_count": 45,
      "outputs": [
        {
          "output_type": "execute_result",
          "data": {
            "text/plain": [
              "576000"
            ]
          },
          "metadata": {
            "tags": []
          },
          "execution_count": 45
        }
      ]
    },
    {
      "cell_type": "markdown",
      "metadata": {
        "id": "uuWatvz2bo8R"
      },
      "source": [
        "## Multiplicative digital root\n",
        "If all digits of a number n are multiplied by each other repeating with the product, the one digit number obtained at last is called the multiplicative digital root of n. The number of times digits need to be multiplied to reach one digit is called the multiplicative persistance of n.\n",
        "Example:\n",
        "```\n",
        "86 -> 48 -> 32 -> 6 (MDR 6, MPersistence 3)\n",
        "341 -> 12->2 (MDR 2, MPersistence 2)\n",
        "```\n",
        "Using the function prodDigits() of previous exercise write functions MDR() and MPersistence() that input a number and return its multiplicative digital root and multiplicative persistence respectively"
      ]
    },
    {
      "cell_type": "markdown",
      "metadata": {
        "id": "XUW-zZIPiX2P"
      },
      "source": [
        "### Algorithm-1 (Recursive function)"
      ]
    },
    {
      "cell_type": "code",
      "metadata": {
        "id": "w7YBAodkchtT"
      },
      "source": [
        "def MDR(num):\n",
        "  if num<10:\n",
        "    return num\n",
        "  else:\n",
        "    num=prodDigit(num)\n",
        "    return MDR(num)\n",
        "\n",
        "def MPersistance(num):\n",
        "  i=0\n",
        "  while num>9:\n",
        "    num=prodDigit(num)\n",
        "    i+=1\n",
        "  return i\n"
      ],
      "execution_count": 46,
      "outputs": []
    },
    {
      "cell_type": "code",
      "metadata": {
        "colab": {
          "base_uri": "https://localhost:8080/"
        },
        "id": "z_E0E0s4fPb9",
        "outputId": "d3a584e2-8213-43af-8862-d2f349fa3a8c"
      },
      "source": [
        "MDR(341)"
      ],
      "execution_count": 47,
      "outputs": [
        {
          "output_type": "execute_result",
          "data": {
            "text/plain": [
              "2"
            ]
          },
          "metadata": {
            "tags": []
          },
          "execution_count": 47
        }
      ]
    },
    {
      "cell_type": "code",
      "metadata": {
        "colab": {
          "base_uri": "https://localhost:8080/"
        },
        "id": "-nzQJsAbhX7d",
        "outputId": "611b8680-913f-4b3b-eb82-ab61101572ca"
      },
      "source": [
        "MPersistance(341)"
      ],
      "execution_count": 48,
      "outputs": [
        {
          "output_type": "execute_result",
          "data": {
            "text/plain": [
              "2"
            ]
          },
          "metadata": {
            "tags": []
          },
          "execution_count": 48
        }
      ]
    },
    {
      "cell_type": "markdown",
      "metadata": {
        "id": "s5JHJE7fipOm"
      },
      "source": [
        "### Algorithm-2 "
      ]
    },
    {
      "cell_type": "code",
      "metadata": {
        "id": "RI6KChkEhmUi"
      },
      "source": [
        "def MDR1(num):\n",
        "  while num>9:\n",
        "    num=prodDigit(num) \n",
        "  return num\n",
        "\n",
        "\n",
        "def MPersistance1(num):\n",
        "  i=0\n",
        "  while num>9:\n",
        "    num=prodDigit(num)\n",
        "    i+=1\n",
        "  return i"
      ],
      "execution_count": 49,
      "outputs": []
    },
    {
      "cell_type": "code",
      "metadata": {
        "colab": {
          "base_uri": "https://localhost:8080/"
        },
        "id": "jrxuo1gviCoa",
        "outputId": "1dbce8ed-ecc3-4922-f6d5-2be3dcc349ba"
      },
      "source": [
        "MDR1(341)"
      ],
      "execution_count": 50,
      "outputs": [
        {
          "output_type": "execute_result",
          "data": {
            "text/plain": [
              "2"
            ]
          },
          "metadata": {
            "tags": []
          },
          "execution_count": 50
        }
      ]
    },
    {
      "cell_type": "code",
      "metadata": {
        "colab": {
          "base_uri": "https://localhost:8080/"
        },
        "id": "THGabaPciClu",
        "outputId": "231fbf30-457c-496a-c2aa-380324b3edaf"
      },
      "source": [
        "MPersistance1(86)"
      ],
      "execution_count": 51,
      "outputs": [
        {
          "output_type": "execute_result",
          "data": {
            "text/plain": [
              "3"
            ]
          },
          "metadata": {
            "tags": []
          },
          "execution_count": 51
        }
      ]
    },
    {
      "cell_type": "markdown",
      "metadata": {
        "id": "DVBsnm1hlR6F"
      },
      "source": [
        "### Algorithm-2 (version-2)\n",
        "(more efficient as looping decreased)"
      ]
    },
    {
      "cell_type": "code",
      "metadata": {
        "id": "9kbTV0RGi7_u"
      },
      "source": [
        "def MDR3(num):\n",
        "  num=prodDigit(num)\n",
        "  while num>9:\n",
        "    num=prodDigit(num) \n",
        "  return num\n",
        "\n",
        "\n",
        "def MPersistance3(num):\n",
        "  i=0\n",
        "  while num>9:\n",
        "    num=prodDigit(num)\n",
        "    i+=1\n",
        "  return i"
      ],
      "execution_count": 52,
      "outputs": []
    },
    {
      "cell_type": "code",
      "metadata": {
        "colab": {
          "base_uri": "https://localhost:8080/"
        },
        "id": "btpHcg-Ulpfa",
        "outputId": "6c114d2d-b226-40ec-9dbc-4a8c11183d67"
      },
      "source": [
        "MDR(341)"
      ],
      "execution_count": 53,
      "outputs": [
        {
          "output_type": "execute_result",
          "data": {
            "text/plain": [
              "2"
            ]
          },
          "metadata": {
            "tags": []
          },
          "execution_count": 53
        }
      ]
    },
    {
      "cell_type": "markdown",
      "metadata": {
        "id": "wNqNSE_4dWRb"
      },
      "source": [
        "## HCF of two number\n",
        "*  Write recursive function for HCF \n",
        "\n"
      ]
    },
    {
      "cell_type": "code",
      "metadata": {
        "id": "VQO_iSBcZXGs"
      },
      "source": [
        "def rHCF(a,b):\n",
        "  \"\"\"\n",
        "  this function print HCF via recursion method\n",
        "  \"\"\"\n",
        "  s=a if a<b else b\n",
        "  l=b if a<b else a\n",
        "  if l%s==0:\n",
        "    return(s)\n",
        "  else:\n",
        "    a=l%s\n",
        "    b=s\n",
        "    return(rHCF(a,b))"
      ],
      "execution_count": 54,
      "outputs": []
    },
    {
      "cell_type": "code",
      "metadata": {
        "colab": {
          "base_uri": "https://localhost:8080/"
        },
        "id": "LWDSOdItfIzF",
        "outputId": "f0ca6ada-0009-4ae3-cbaa-e4c70626dff7"
      },
      "source": [
        "rHCF(121,33)"
      ],
      "execution_count": 55,
      "outputs": [
        {
          "output_type": "execute_result",
          "data": {
            "text/plain": [
              "11"
            ]
          },
          "metadata": {
            "tags": []
          },
          "execution_count": 55
        }
      ]
    },
    {
      "cell_type": "code",
      "metadata": {
        "colab": {
          "base_uri": "https://localhost:8080/"
        },
        "id": "BPNOtsZWfhud",
        "outputId": "08dae720-678e-4c9b-9325-13e86c6f6967"
      },
      "source": [
        "a=25;b=1215\n",
        "print(\"the HCF of\", a, \"and\", b ,\"is\", rHCF(a,b))"
      ],
      "execution_count": 56,
      "outputs": [
        {
          "output_type": "stream",
          "text": [
            "the HCF of 25 and 1215 is 5\n"
          ],
          "name": "stdout"
        }
      ]
    },
    {
      "cell_type": "code",
      "metadata": {
        "colab": {
          "base_uri": "https://localhost:8080/"
        },
        "id": "doUztQCIfo9D",
        "outputId": "af339d3f-c030-437d-e360-66c35a27ca11"
      },
      "source": [
        "print(rHCF.__doc__)"
      ],
      "execution_count": 57,
      "outputs": [
        {
          "output_type": "stream",
          "text": [
            "\n",
            "  this function print HCF via recursion method\n",
            "  \n"
          ],
          "name": "stdout"
        }
      ]
    },
    {
      "cell_type": "markdown",
      "metadata": {
        "id": "gz8BWZDe2gVj"
      },
      "source": [
        "## Sum of proper devisor\n",
        "Write a function sumPdivisors() that finds the sum of proper divisors of a number. Proper\n",
        "divisors of a number are those numbers by which the number is divisible, except the\n",
        "number itself. For example proper divisors of 36 are 1, 2, 3, 4, 6, 9, 18"
      ]
    },
    {
      "cell_type": "code",
      "metadata": {
        "id": "CJ26vGhA21Td"
      },
      "source": [
        "from functools import reduce\n",
        "def sum1(a,b):\n",
        "  return (a+b)\n",
        "\n",
        "def sumPdivisor(n):\n",
        "  lst=[]\n",
        "  for i in range(1,n):\n",
        "    if n%(i)==0:\n",
        "      lst.append(i)\n",
        "  print(\"proper divisors of {} is: {} \\ntheir sum are\".format(n,lst),end=': ')\n",
        "  s=reduce(sum1,lst)\n",
        "  return s\n",
        "\n"
      ],
      "execution_count": 58,
      "outputs": []
    },
    {
      "cell_type": "code",
      "metadata": {
        "colab": {
          "base_uri": "https://localhost:8080/"
        },
        "id": "Q95vNZ-MTD5b",
        "outputId": "4ba111ae-d91a-4f98-a1d6-77fa4b03d5c3"
      },
      "source": [
        "sumPdivisor(36)"
      ],
      "execution_count": 59,
      "outputs": [
        {
          "output_type": "stream",
          "text": [
            "proper divisors of 36 is: [1, 2, 3, 4, 6, 9, 12, 18] \n",
            "their sum are: "
          ],
          "name": "stdout"
        },
        {
          "output_type": "execute_result",
          "data": {
            "text/plain": [
              "55"
            ]
          },
          "metadata": {
            "tags": []
          },
          "execution_count": 59
        }
      ]
    },
    {
      "cell_type": "code",
      "metadata": {
        "colab": {
          "base_uri": "https://localhost:8080/"
        },
        "id": "Co6wHiyMXVep",
        "outputId": "6811b3f4-32a2-4e0e-c70a-2e9d9e688064"
      },
      "source": [
        "sumPdivisor(28)"
      ],
      "execution_count": 60,
      "outputs": [
        {
          "output_type": "stream",
          "text": [
            "proper divisors of 28 is: [1, 2, 4, 7, 14] \n",
            "their sum are: "
          ],
          "name": "stdout"
        },
        {
          "output_type": "execute_result",
          "data": {
            "text/plain": [
              "28"
            ]
          },
          "metadata": {
            "tags": []
          },
          "execution_count": 60
        }
      ]
    },
    {
      "cell_type": "code",
      "metadata": {
        "colab": {
          "base_uri": "https://localhost:8080/"
        },
        "id": "cjgax1z8TeOI",
        "outputId": "325711d4-1487-408d-8276-4357b559ce4d"
      },
      "source": [
        "sum1(5,6)"
      ],
      "execution_count": 62,
      "outputs": [
        {
          "output_type": "execute_result",
          "data": {
            "text/plain": [
              "11"
            ]
          },
          "metadata": {
            "tags": []
          },
          "execution_count": 62
        }
      ]
    },
    {
      "cell_type": "code",
      "metadata": {
        "id": "G_ZRJ70Jam-w"
      },
      "source": [
        "from functools import reduce\n",
        "def sum1(a,b):\n",
        "  return (a+b)\n",
        "\n",
        "def sumPdivisor(n):\n",
        "  lst=[]\n",
        "  for i in range(1,int(n**0.5)+1):\n",
        "    if n%(i)==0:\n",
        "      lst.append(i)\n",
        "      d=n//i\n",
        "      lst.append(d)\n",
        "\n",
        "  print(\"proper divisors of {} is: {} \\ntheir sum are\".format(n,lst),end=': ')\n",
        "  s=reduce(sum1,lst)\n",
        "  return s"
      ],
      "execution_count": 65,
      "outputs": []
    },
    {
      "cell_type": "code",
      "metadata": {
        "colab": {
          "base_uri": "https://localhost:8080/"
        },
        "id": "nXAzi7kEgo9C",
        "outputId": "a110be54-3a8b-42e1-d1fb-3c7b147ed7fa"
      },
      "source": [
        "sumPdivisor(36)"
      ],
      "execution_count": 66,
      "outputs": [
        {
          "output_type": "stream",
          "text": [
            "proper divisors of 36 is: [1, 36, 2, 18, 3, 12, 4, 9, 6, 6] \n",
            "their sum are: "
          ],
          "name": "stdout"
        },
        {
          "output_type": "execute_result",
          "data": {
            "text/plain": [
              "97"
            ]
          },
          "metadata": {
            "tags": []
          },
          "execution_count": 66
        }
      ]
    },
    {
      "cell_type": "markdown",
      "metadata": {
        "id": "7LWSDhLhanzF"
      },
      "source": [
        "## perfect number\n",
        "* A number is called perfect if the sum of proper divisors of that number is equal to the number. For example 28 is perfect number, since 1+2+4+7+14=28. Write a program to\n",
        "print all the perfect numbers in a given range"
      ]
    },
    {
      "cell_type": "code",
      "metadata": {
        "id": "2IbcAGJ5a-Ab"
      },
      "source": [
        "from functools import reduce\n",
        "def sum1(a,b):\n",
        "  return (a+b)\n",
        "\n",
        "def sumPdivisor(n):\n",
        "  lst=[]\n",
        "  for i in range(1,n):\n",
        "    if n%(i)==0:\n",
        "      lst.append(i)\n",
        "  s=reduce(sum1,lst)\n",
        "  return s\n",
        "\n",
        "def findPerfectNum(a,b):\n",
        "  plst=[]\n",
        "  for i in range(a,b):\n",
        "    if sumPdivisor(i)==i:\n",
        "      plst.append(i)\n",
        "  return plst"
      ],
      "execution_count": 67,
      "outputs": []
    },
    {
      "cell_type": "code",
      "metadata": {
        "colab": {
          "base_uri": "https://localhost:8080/"
        },
        "id": "SbgyyBQwZCJY",
        "outputId": "eeb06ac8-f90e-4b3f-a917-f912d550ecc3"
      },
      "source": [
        "findPerfectNum(2,10000)"
      ],
      "execution_count": 68,
      "outputs": [
        {
          "output_type": "execute_result",
          "data": {
            "text/plain": [
              "[6, 28, 496, 8128]"
            ]
          },
          "metadata": {
            "tags": []
          },
          "execution_count": 68
        }
      ]
    },
    {
      "cell_type": "markdown",
      "metadata": {
        "id": "_PK4dZG5a-jL"
      },
      "source": [
        "## amicable numbers\n",
        "* Two different numbers are called amicable numbers if the sum of the proper divisors of each is equal to the other number. For example 220 and 284 are amicable numbers.\n",
        "```\n",
        "sum of proper divisors of  220 = 1+2+4+5+10+11+20+22+44+55+110 = 284\n",
        "Sum of proper divisors of 284 = 1+2+4+71+142 = 220\n",
        "```\n",
        "\n",
        "Write a function to print pairs of amicable numbers in a range"
      ]
    },
    {
      "cell_type": "code",
      "metadata": {
        "id": "rI01kgKsbhFk"
      },
      "source": [
        ""
      ],
      "execution_count": null,
      "outputs": []
    },
    {
      "cell_type": "markdown",
      "metadata": {
        "id": "5lDZp-Kobiba"
      },
      "source": [
        "## odd number by filter()\n",
        "* Write a program which can filter odd numbers in a list by using filter function"
      ]
    },
    {
      "cell_type": "code",
      "metadata": {
        "id": "Gd6sDPgDbtxv"
      },
      "source": [
        ""
      ],
      "execution_count": null,
      "outputs": []
    },
    {
      "cell_type": "markdown",
      "metadata": {
        "id": "vZb37gk1bs7T"
      },
      "source": [
        "## map()\n",
        "\n",
        "* Write a program which can map() to make a list whose elements are cube of elements in\n",
        "a given list"
      ]
    },
    {
      "cell_type": "code",
      "metadata": {
        "id": "RGC3hm_Pb8N8"
      },
      "source": [
        ""
      ],
      "execution_count": null,
      "outputs": []
    },
    {
      "cell_type": "markdown",
      "metadata": {
        "id": "beWM2o6Wb8mf"
      },
      "source": [
        "## map() and filter()\n",
        "\n",
        "Write a program which can map() and filter() to make a list whose elements are cube of\n",
        "even number in a given list"
      ]
    },
    {
      "cell_type": "code",
      "metadata": {
        "id": "yJYsRBuBcbuJ"
      },
      "source": [
        ""
      ],
      "execution_count": null,
      "outputs": []
    },
    {
      "cell_type": "code",
      "metadata": {
        "colab": {
          "base_uri": "https://localhost:8080/"
        },
        "id": "YaD69p3Xp8Tn",
        "outputId": "f2ac3cf7-83e1-4926-fb44-7dcc4ed6eca7"
      },
      "source": [
        "import math\n",
        "l=[1,2,3]\n",
        "sum(l)"
      ],
      "execution_count": 69,
      "outputs": [
        {
          "output_type": "execute_result",
          "data": {
            "text/plain": [
              "6"
            ]
          },
          "metadata": {
            "tags": []
          },
          "execution_count": 69
        }
      ]
    },
    {
      "cell_type": "code",
      "metadata": {
        "colab": {
          "base_uri": "https://localhost:8080/"
        },
        "id": "ICAFj7WFq0CP",
        "outputId": "021666b9-fe56-4975-80f8-196e7204c599"
      },
      "source": [
        "import math\n",
        "def sumPdivisor(num):\n",
        "  \"\"\"returns sum of proper divisors of a number\"\"\"\n",
        "  divisors=[1]\n",
        "  for i in range(2,int(math.sqrt(num))+1):\n",
        "    if num%i==0:\n",
        "      divisors.append(i)\n",
        "      if num//i!=i:\n",
        "        divisors.append(num//i)\n",
        "  divisors.sort()\n",
        "# print(\"divisors are {}\".format(divisors))\n",
        "# print(\"sum of divisors is {}\".format(sum(divisors)))\n",
        "  return sum(divisors)\n",
        "num=36\n",
        "print(\"sum of perfect divisor for {} is : {}\".format(num,sumPdivisor(num)))"
      ],
      "execution_count": 70,
      "outputs": [
        {
          "output_type": "stream",
          "text": [
            "sum of perfect divisor for 36 is : 55\n"
          ],
          "name": "stdout"
        }
      ]
    },
    {
      "cell_type": "code",
      "metadata": {
        "colab": {
          "base_uri": "https://localhost:8080/"
        },
        "id": "h100fxYQ8V4x",
        "outputId": "cab8727d-7c98-4ecf-dd9d-7651d5840f11"
      },
      "source": [
        "# Python code to demonstrate the working of\n",
        "# sum()\n",
        "\n",
        "numbers = [1,2,3,4,5,1,4,5]\n",
        "\n",
        "# start parameter is not provided\n",
        "Sum = sum(numbers)\n",
        "print(Sum)\n",
        "\n",
        "# start = 10\n",
        "Sum = sum(numbers, 10)\n",
        "print(Sum)\n"
      ],
      "execution_count": 71,
      "outputs": [
        {
          "output_type": "stream",
          "text": [
            "25\n",
            "35\n"
          ],
          "name": "stdout"
        }
      ]
    }
  ]
}