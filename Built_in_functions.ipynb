{
  "nbformat": 4,
  "nbformat_minor": 0,
  "metadata": {
    "colab": {
      "name": "Built-in-functions.ipynb",
      "provenance": [],
      "collapsed_sections": [],
      "toc_visible": true,
      "include_colab_link": true
    },
    "kernelspec": {
      "display_name": "Python 3",
      "language": "python",
      "name": "python3"
    }
  },
  "cells": [
    {
      "cell_type": "markdown",
      "metadata": {
        "id": "view-in-github",
        "colab_type": "text"
      },
      "source": [
        "<a href=\"https://colab.research.google.com/github/iampramodyadav/python/blob/main/Built_in_functions.ipynb\" target=\"_parent\"><img src=\"https://colab.research.google.com/assets/colab-badge.svg\" alt=\"Open In Colab\"/></a>"
      ]
    },
    {
      "cell_type": "markdown",
      "metadata": {
        "id": "RqxIugMnDy18"
      },
      "source": [
        "# Types Of Functions"
      ]
    },
    {
      "cell_type": "markdown",
      "metadata": {
        "id": "MeGY4QcFDy2B"
      },
      "source": [
        "1. Built-in Functions\n",
        "\n",
        "2. User-defined Functions"
      ]
    },
    {
      "cell_type": "markdown",
      "metadata": {
        "id": "ilt0Wb4sDy2E"
      },
      "source": [
        "# Built-in Functions"
      ]
    },
    {
      "cell_type": "markdown",
      "metadata": {
        "id": "ubtJWhwrDy2F"
      },
      "source": [
        "# 1. abs()"
      ]
    },
    {
      "cell_type": "code",
      "metadata": {
        "id": "cs7rqfNGDy2H",
        "colab": {
          "base_uri": "https://localhost:8080/"
        },
        "outputId": "3bd5d8d7-e0be-481c-ccd1-09c5a3350882"
      },
      "source": [
        "# find the absolute value\n",
        "\n",
        "num = -100\n",
        "\n",
        "print(abs(num))\n"
      ],
      "execution_count": null,
      "outputs": [
        {
          "output_type": "stream",
          "text": [
            "100\n"
          ],
          "name": "stdout"
        }
      ]
    },
    {
      "cell_type": "markdown",
      "metadata": {
        "id": "Ao4an2SJDy2V"
      },
      "source": [
        "# 2. all()"
      ]
    },
    {
      "cell_type": "markdown",
      "metadata": {
        "id": "s7KNa-qjDy2X"
      },
      "source": [
        "#return value of all() function\n",
        "\n",
        "True: if all elements in an iterable are true\n",
        "\n",
        "False: if any element in an iterable is false"
      ]
    },
    {
      "cell_type": "code",
      "metadata": {
        "id": "BUYpaNxDDy2Z",
        "colab": {
          "base_uri": "https://localhost:8080/"
        },
        "outputId": "79dcec5f-5527-42c2-80a6-2f72c5adad2e"
      },
      "source": [
        "lst = [1, 2, 3, 4]\n",
        "print(all(lst)) \n"
      ],
      "execution_count": null,
      "outputs": [
        {
          "output_type": "stream",
          "text": [
            "True\n"
          ],
          "name": "stdout"
        }
      ]
    },
    {
      "cell_type": "code",
      "metadata": {
        "id": "PMh2XjhmDy2g",
        "colab": {
          "base_uri": "https://localhost:8080/"
        },
        "outputId": "1426071a-485f-4e52-c82b-6d6a02b56d5c"
      },
      "source": [
        "lst = (0, 2, 3, 4)    # 0 present in list \n",
        "print(all(lst))\n"
      ],
      "execution_count": null,
      "outputs": [
        {
          "output_type": "stream",
          "text": [
            "False\n"
          ],
          "name": "stdout"
        }
      ]
    },
    {
      "cell_type": "code",
      "metadata": {
        "id": "A1612gmHDy2n",
        "colab": {
          "base_uri": "https://localhost:8080/"
        },
        "outputId": "8b4ef10d-b98c-43e7-8d24-36e8f969dde5"
      },
      "source": [
        "lst = []              #empty list always true\n",
        "print(all(lst))\n"
      ],
      "execution_count": null,
      "outputs": [
        {
          "output_type": "stream",
          "text": [
            "True\n"
          ],
          "name": "stdout"
        }
      ]
    },
    {
      "cell_type": "code",
      "metadata": {
        "id": "EFwmHv_kDy2v",
        "colab": {
          "base_uri": "https://localhost:8080/"
        },
        "outputId": "31b43e92-5c60-4551-d444-d4388902d103"
      },
      "source": [
        "lst = [False, 1, 2]   #False present in a list so all(lst) is False\n",
        "print(all(lst))\n"
      ],
      "execution_count": null,
      "outputs": [
        {
          "output_type": "stream",
          "text": [
            "False\n"
          ],
          "name": "stdout"
        }
      ]
    },
    {
      "cell_type": "code",
      "metadata": {
        "colab": {
          "base_uri": "https://localhost:8080/"
        },
        "id": "GJJHIG7ltquw",
        "outputId": "6044c5ee-f61b-4935-f813-7bbdc55cee08"
      },
      "source": [
        "lst = [True, 1, 2]   #False present in a list so all(lst) is False\n",
        "print(all(lst))\n"
      ],
      "execution_count": null,
      "outputs": [
        {
          "output_type": "stream",
          "text": [
            "True\n"
          ],
          "name": "stdout"
        }
      ]
    },
    {
      "cell_type": "markdown",
      "metadata": {
        "id": "Vpyu5OLGDy2z"
      },
      "source": [
        "# dir()"
      ]
    },
    {
      "cell_type": "markdown",
      "metadata": {
        "id": "hKSi83LiDy20"
      },
      "source": [
        "- The dir() tries to return a list of valid attributes of the object.\n",
        "\n",
        "- If the object has __dir__() method, the method will be called and must return the list of attributes.\n",
        "\n",
        "- If the object doesn't have __dir()__ method, this method tries to find information from the __dict__ attribute (if defined), and from type object. In this case, the list returned from dir() may not be complete.\n"
      ]
    },
    {
      "cell_type": "code",
      "metadata": {
        "id": "x3-LaQj8Dy22",
        "colab": {
          "base_uri": "https://localhost:8080/"
        },
        "outputId": "eb0ec521-1b26-4d0d-e6fe-53350f8d6000"
      },
      "source": [
        "numbers = [1, 2, 3]\n",
        "\n",
        "print(dir(numbers))\n"
      ],
      "execution_count": null,
      "outputs": [
        {
          "output_type": "stream",
          "text": [
            "['__add__', '__class__', '__contains__', '__delattr__', '__delitem__', '__dir__', '__doc__', '__eq__', '__format__', '__ge__', '__getattribute__', '__getitem__', '__gt__', '__hash__', '__iadd__', '__imul__', '__init__', '__init_subclass__', '__iter__', '__le__', '__len__', '__lt__', '__mul__', '__ne__', '__new__', '__reduce__', '__reduce_ex__', '__repr__', '__reversed__', '__rmul__', '__setattr__', '__setitem__', '__sizeof__', '__str__', '__subclasshook__', 'append', 'clear', 'copy', 'count', 'extend', 'index', 'insert', 'pop', 'remove', 'reverse', 'sort']\n"
          ],
          "name": "stdout"
        }
      ]
    },
    {
      "cell_type": "markdown",
      "metadata": {
        "id": "qAkLDrzDDy27"
      },
      "source": [
        "# divmod()"
      ]
    },
    {
      "cell_type": "markdown",
      "metadata": {
        "id": "Z7PAJz9RDy28"
      },
      "source": [
        "The divmod() method takes two numbers and returns a pair of numbers (a tuple) consisting of their quotient and remainder."
      ]
    },
    {
      "cell_type": "code",
      "metadata": {
        "id": "6V3UUIj-Dy29",
        "colab": {
          "base_uri": "https://localhost:8080/"
        },
        "outputId": "a9b42ea6-a12d-4d68-9771-39023aba8cbd"
      },
      "source": [
        "print(divmod(9, 2)) #print quotient and remainder as a tuple\n",
        "\n",
        "#try with other number\n"
      ],
      "execution_count": null,
      "outputs": [
        {
          "output_type": "stream",
          "text": [
            "(4, 1)\n"
          ],
          "name": "stdout"
        }
      ]
    },
    {
      "cell_type": "markdown",
      "metadata": {
        "id": "3XcOj4ahDy3A"
      },
      "source": [
        "# enumerate()"
      ]
    },
    {
      "cell_type": "markdown",
      "metadata": {
        "id": "sPGIxThfDy3C"
      },
      "source": [
        "The enumerate() method adds counter to an iterable and returns it "
      ]
    },
    {
      "cell_type": "markdown",
      "metadata": {
        "id": "PsPTJ9w3Dy3C"
      },
      "source": [
        "syntax: enumerate(iterable, start=0)"
      ]
    },
    {
      "cell_type": "code",
      "metadata": {
        "id": "LzYe1WyTDy3E",
        "colab": {
          "base_uri": "https://localhost:8080/"
        },
        "outputId": "42ca584e-d657-41c3-d70c-4c1636a7f3fb"
      },
      "source": [
        "numbers = [10, 20, 30, 40]\n",
        "\n",
        "for index, num in enumerate(numbers):\n",
        "    print(\"index {0} has value {1}\".format(index, num))\n",
        "    "
      ],
      "execution_count": null,
      "outputs": [
        {
          "output_type": "stream",
          "text": [
            "index 0 has value 10\n",
            "index 1 has value 20\n",
            "index 2 has value 30\n",
            "index 3 has value 40\n"
          ],
          "name": "stdout"
        }
      ]
    },
    {
      "cell_type": "code",
      "metadata": {
        "colab": {
          "base_uri": "https://localhost:8080/"
        },
        "id": "13jY6valupGW",
        "outputId": "de31a9ba-8bb2-49ed-bc43-80d40cacfd63"
      },
      "source": [
        "numbers = [10, 20, 30, 40]\n",
        "\n",
        "for index, num in enumerate(numbers,10):  #it start the first index from i\n",
        "    print(\"index {0} has value {1}\".format(index, num))\n",
        "    "
      ],
      "execution_count": null,
      "outputs": [
        {
          "output_type": "stream",
          "text": [
            "index 10 has value 10\n",
            "index 11 has value 20\n",
            "index 12 has value 30\n",
            "index 13 has value 40\n"
          ],
          "name": "stdout"
        }
      ]
    },
    {
      "cell_type": "markdown",
      "metadata": {
        "id": "Qv7BOrOjDy3I"
      },
      "source": [
        "# filter()"
      ]
    },
    {
      "cell_type": "markdown",
      "metadata": {
        "id": "K8_DVZ2uDy3J"
      },
      "source": [
        "The filter() method constructs an iterator from elements of an iterable for which a function returns true."
      ]
    },
    {
      "cell_type": "markdown",
      "metadata": {
        "id": "Xsq_-ITBDy3K"
      },
      "source": [
        "syntax: filter(function, iterable)"
      ]
    },
    {
      "cell_type": "code",
      "metadata": {
        "id": "-Nclc6WjDy3L"
      },
      "source": [
        "def find_positive_number(num):\n",
        "    \"\"\"\n",
        "    This function returns the positive number if num is positive\n",
        "    \"\"\"\n",
        "    if num > 0:\n",
        "        return num\n",
        "    "
      ],
      "execution_count": null,
      "outputs": []
    },
    {
      "cell_type": "code",
      "metadata": {
        "id": "ef_Se6snDy3Q",
        "colab": {
          "base_uri": "https://localhost:8080/"
        },
        "outputId": "8b4bfcf4-6aab-4ae5-9b03-6a792a82cd40"
      },
      "source": [
        "number_list = range(-10, 10) #create a list with numbers from -10 to 10\n",
        "print(list(number_list))\n",
        "\n",
        "positive_num_lst = list(filter(find_positive_number, number_list))\n",
        "\n",
        "print(positive_num_lst)\n"
      ],
      "execution_count": null,
      "outputs": [
        {
          "output_type": "stream",
          "text": [
            "[-10, -9, -8, -7, -6, -5, -4, -3, -2, -1, 0, 1, 2, 3, 4, 5, 6, 7, 8, 9]\n",
            "[1, 2, 3, 4, 5, 6, 7, 8, 9]\n"
          ],
          "name": "stdout"
        }
      ]
    },
    {
      "cell_type": "markdown",
      "metadata": {
        "id": "i1jHDq_5Dy3Z"
      },
      "source": [
        "# isinstance()"
      ]
    },
    {
      "cell_type": "markdown",
      "metadata": {
        "id": "eSZpUEYnDy3b"
      },
      "source": [
        "The isinstance() function checks if the object (first argument) is an instance or subclass of classinfo class (second argument)."
      ]
    },
    {
      "cell_type": "markdown",
      "metadata": {
        "id": "JYB_W3vfDy3e"
      },
      "source": [
        "syntax: isinstance(object, classinfo)"
      ]
    },
    {
      "cell_type": "code",
      "metadata": {
        "id": "JMAYKKXZDy3f",
        "colab": {
          "base_uri": "https://localhost:8080/"
        },
        "outputId": "8123fb74-d95c-445e-d628-c30935787987"
      },
      "source": [
        "lst = [1, 2, 3, 4]\n",
        "print(isinstance(lst, list))\n",
        "\n",
        "#try with other datatypes tuple, set\n",
        "t = (1,2,3,4)\n",
        "print(isinstance(t, list))"
      ],
      "execution_count": null,
      "outputs": [
        {
          "output_type": "stream",
          "text": [
            "True\n",
            "False\n"
          ],
          "name": "stdout"
        }
      ]
    },
    {
      "cell_type": "markdown",
      "metadata": {
        "id": "0SzHgv87Dy3k"
      },
      "source": [
        "# map()"
      ]
    },
    {
      "cell_type": "markdown",
      "metadata": {
        "id": "eAqVlxbtDy3m"
      },
      "source": [
        "Map applies a function to all the items in an input_list."
      ]
    },
    {
      "cell_type": "markdown",
      "metadata": {
        "id": "oHivUTbRDy3m"
      },
      "source": [
        "syntax: map(function_to_apply, list_of_inputs)"
      ]
    },
    {
      "cell_type": "code",
      "metadata": {
        "id": "YrzZKvFMDy3n",
        "colab": {
          "base_uri": "https://localhost:8080/"
        },
        "outputId": "3e1b9f6a-4ddd-44fe-baed-df02d0c4737d"
      },
      "source": [
        "numbers = [1, 2, 3, 4]\n",
        "\n",
        "#normal method of computing num^2 for each element in the list.\n",
        "squared = []\n",
        "for num in numbers:\n",
        "    squared.append(num ** 2)\n",
        "\n",
        "print(squared)\n"
      ],
      "execution_count": null,
      "outputs": [
        {
          "output_type": "stream",
          "text": [
            "[1, 4, 9, 16]\n"
          ],
          "name": "stdout"
        }
      ]
    },
    {
      "cell_type": "code",
      "metadata": {
        "id": "SWKg9_nYDy3r",
        "colab": {
          "base_uri": "https://localhost:8080/"
        },
        "outputId": "438d5d5f-1297-49c4-a3b9-b3ea77bf7027"
      },
      "source": [
        "numbers = [1, 2, 3, 4]\n",
        "\n",
        "def powerOfTwo(num):\n",
        "    return num ** 2\n",
        "\n",
        "#using map() function\n",
        "squared = list(map(powerOfTwo, numbers))\n",
        "print(squared)\n"
      ],
      "execution_count": null,
      "outputs": [
        {
          "output_type": "stream",
          "text": [
            "[1, 4, 9, 16]\n"
          ],
          "name": "stdout"
        }
      ]
    },
    {
      "cell_type": "markdown",
      "metadata": {
        "id": "-ZZiI7m5Dy3t"
      },
      "source": [
        "# reduce()"
      ]
    },
    {
      "cell_type": "markdown",
      "metadata": {
        "id": "u_pxdMIcDy3v"
      },
      "source": [
        "reduce() function is for performing some computation on a list and returning the result. \n",
        "\n",
        "It applies a rolling computation to sequential pairs of values in a list. "
      ]
    },
    {
      "cell_type": "code",
      "metadata": {
        "id": "jqx-xAf7Dy3w",
        "colab": {
          "base_uri": "https://localhost:8080/"
        },
        "outputId": "d2470927-0714-4ef4-9ac4-a5491e11e976"
      },
      "source": [
        "#product of elemnts in a list\n",
        "product = 1\n",
        "lst = [1, 2, 3, 4]\n",
        "\n",
        "# traditional program without reduce()\n",
        "for num in lst:\n",
        "    product *= num\n",
        "print(product)\n"
      ],
      "execution_count": null,
      "outputs": [
        {
          "output_type": "stream",
          "text": [
            "24\n"
          ],
          "name": "stdout"
        }
      ]
    },
    {
      "cell_type": "code",
      "metadata": {
        "id": "c-_BNfapDy3y",
        "colab": {
          "base_uri": "https://localhost:8080/"
        },
        "outputId": "d6e9232b-0d72-4ab6-96a5-47c4b189cd8a"
      },
      "source": [
        "#with reduce()\n",
        "from functools import reduce # in Python 3.\n",
        "\n",
        "def multiply(x,y):\n",
        "    return x*y;\n",
        "\n",
        "product = reduce(multiply, lst)\n",
        "print(product)\n"
      ],
      "execution_count": null,
      "outputs": [
        {
          "output_type": "stream",
          "text": [
            "24\n"
          ],
          "name": "stdout"
        }
      ]
    },
    {
      "cell_type": "markdown",
      "metadata": {
        "id": "PlBjfKeLDy33"
      },
      "source": [
        "# 2. User-defined Functions"
      ]
    },
    {
      "cell_type": "markdown",
      "metadata": {
        "id": "-jG1cIkIDy33"
      },
      "source": [
        "Functions that we define ourselves to do certain specific task are referred as user-defined functions"
      ]
    },
    {
      "cell_type": "markdown",
      "metadata": {
        "id": "U0R-nQZEDy35"
      },
      "source": [
        "If we use functions written by others in the form of library, it can be termed as library functions."
      ]
    },
    {
      "cell_type": "markdown",
      "metadata": {
        "id": "qnW4EEEaDy36"
      },
      "source": [
        "# Advantages"
      ]
    },
    {
      "cell_type": "markdown",
      "metadata": {
        "id": "BuTGBpe_Dy36"
      },
      "source": [
        "1. User-defined functions help to decompose a large program into small segments which makes program easy to understand, maintain and debug.\n",
        "\n",
        "2. If repeated code occurs in a program. Function can be used to include those codes and execute when needed by calling that function.\n",
        "\n",
        "3. Programmars working on large project can divide the workload by making different functions."
      ]
    },
    {
      "cell_type": "markdown",
      "metadata": {
        "id": "bchAt3KsDy37"
      },
      "source": [
        "# Example:"
      ]
    },
    {
      "cell_type": "code",
      "metadata": {
        "id": "Bl7T01heDy3-",
        "outputId": "6dfc3c9d-6622-4219-9180-5367adb6b7b2"
      },
      "source": [
        "def product_numbers(a, b):\n",
        "    \"\"\"\n",
        "    this function returns the product of two numbers\n",
        "    \"\"\"\n",
        "    product = a * b\n",
        "    return product\n",
        "\n",
        "num1 = 10\n",
        "num2 = 20\n",
        "print \"product of {0} and {1} is {2} \".format(num1, num2, product_numbers(num1, num2))"
      ],
      "execution_count": null,
      "outputs": [
        {
          "output_type": "stream",
          "text": [
            "product of 10 and 20 is 200 \n"
          ],
          "name": "stdout"
        }
      ]
    },
    {
      "cell_type": "markdown",
      "metadata": {
        "id": "3t1WqaakDy4B"
      },
      "source": [
        "# Python program to make a simple calculator that can add, subtract, multiply and division"
      ]
    },
    {
      "cell_type": "code",
      "metadata": {
        "id": "7VcPOrmLDy4E",
        "outputId": "31adb3c1-11dd-4316-a355-ae44a54acf42"
      },
      "source": [
        "def add(a, b):\n",
        "    \"\"\"\n",
        "    This function adds two numbers\n",
        "    \"\"\"\n",
        "    return a + b\n",
        "\n",
        "def multiply(a, b):\n",
        "    \"\"\"\n",
        "    This function multiply two numbers\n",
        "    \"\"\"\n",
        "    return a * b\n",
        "\n",
        "def subtract(a, b):\n",
        "    \"\"\"\n",
        "    This function subtract two numbers\n",
        "    \"\"\"\n",
        "    return a - b\n",
        "\n",
        "def division(a, b):\n",
        "    \"\"\"\n",
        "    This function divides two numbers\n",
        "    \"\"\"\n",
        "    return a / b\n",
        "\n",
        "print(\"Select Option\")\n",
        "print(\"1. Addition\")\n",
        "print (\"2. Subtraction\")\n",
        "print (\"3. Multiplication\")\n",
        "print (\"4. Division\")\n",
        "\n",
        "#take input from user\n",
        "choice = int(input(\"Enter choice 1/2/3/4\"))\n",
        "\n",
        "num1 = float(input(\"Enter first number:\"))\n",
        "num2 = float(input(\"Enter second number:\"))\n",
        "if choice == 1:\n",
        "    print(\"Addition of {0} and {1} is {2}\".format(num1, num2, add(num1, num2)))\n",
        "elif choice == 2:\n",
        "    print(\"Subtraction of {0} and {1} is {2}\".format(num1, num2, subtract(num1, num2)))\n",
        "elif choice == 3:\n",
        "    print(\"Multiplication of {0} and {1} is {2}\".format(num1, num2, multiply(num1, num2)))\n",
        "elif choice == 4:\n",
        "    print(\"Division of {0} and {1} is {2}\".format(num1, num2, division(num1, num2)))\n",
        "else:\n",
        "    print(\"Invalid Choice\")"
      ],
      "execution_count": null,
      "outputs": [
        {
          "output_type": "stream",
          "text": [
            "Select Option\n",
            "1. Addition\n",
            "2. Subtraction\n",
            "3. Multiplication\n",
            "4. Division\n",
            "Enter choice 1/2/3/43\n",
            "Enter first number:12.2\n",
            "Enter second number:2.3\n",
            "Multiplication of 12.2 and 2.3 is 28.059999999999995\n"
          ],
          "name": "stdout"
        }
      ]
    },
    {
      "cell_type": "code",
      "metadata": {
        "id": "aQZUmO9xDy4G"
      },
      "source": [
        ""
      ],
      "execution_count": null,
      "outputs": []
    }
  ]
}