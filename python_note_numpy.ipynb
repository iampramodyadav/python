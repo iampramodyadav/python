{
  "nbformat": 4,
  "nbformat_minor": 0,
  "metadata": {
    "colab": {
      "name": "python-note-numpy.ipynb",
      "provenance": [],
      "collapsed_sections": [],
      "toc_visible": true,
      "include_colab_link": true
    },
    "kernelspec": {
      "display_name": "Python 3",
      "language": "python",
      "name": "python3"
    }
  },
  "cells": [
    {
      "cell_type": "markdown",
      "metadata": {
        "id": "view-in-github",
        "colab_type": "text"
      },
      "source": [
        "<a href=\"https://colab.research.google.com/github/iampramodyadav/python/blob/main/python_note_numpy.ipynb\" target=\"_parent\"><img src=\"https://colab.research.google.com/assets/colab-badge.svg\" alt=\"Open In Colab\"/></a>"
      ]
    },
    {
      "cell_type": "markdown",
      "metadata": {
        "id": "F9MJmcoJ5KBl"
      },
      "source": [
        "# The Numpy array object"
      ]
    },
    {
      "cell_type": "markdown",
      "metadata": {
        "id": "_W1FTSgc5KBp"
      },
      "source": [
        "## NumPy Arrays"
      ]
    },
    {
      "cell_type": "markdown",
      "metadata": {
        "id": "Iw1S7Yvv5KBs"
      },
      "source": [
        "**python objects:** \n",
        "\n",
        "1. high-level number objects: integers, floating point\n",
        "2. containers: lists (costless insertion and append), dictionaries (fast lookup)"
      ]
    },
    {
      "cell_type": "markdown",
      "metadata": {
        "id": "mMlBDEQZZV-x"
      },
      "source": [
        "**Numpy provides:**\n",
        "\n",
        "1. extension package to Python for multi-dimensional arrays\n",
        "2. closer to hardware (efficiency)\n",
        "3. designed for scientific computation (convenience)\n",
        "4. Also known as array oriented computing"
      ]
    },
    {
      "cell_type": "code",
      "metadata": {
        "colab": {
          "base_uri": "https://localhost:8080/"
        },
        "id": "6IzS_3sdZzNZ",
        "outputId": "f7def86a-c3cf-42ce-d895-135a11841451"
      },
      "source": [
        "import numpy as np\n",
        "a=np.array([0,1,2,3])\n",
        "print(a)\n",
        "\n",
        "print(np.arange(10))"
      ],
      "execution_count": 2,
      "outputs": [
        {
          "output_type": "stream",
          "text": [
            "[0 1 2 3]\n",
            "[0 1 2 3 4 5 6 7 8 9]\n"
          ],
          "name": "stdout"
        }
      ]
    },
    {
      "cell_type": "markdown",
      "metadata": {
        "id": "BjqwPMHc5KB_"
      },
      "source": [
        "**Why it is useful:** Memory-efficient container that provides fast numerical operations."
      ]
    },
    {
      "cell_type": "code",
      "metadata": {
        "colab": {
          "base_uri": "https://localhost:8080/"
        },
        "id": "EnhE-C2Vevkv",
        "outputId": "dcce60a5-2ba3-4691-ad21-098c5f454544"
      },
      "source": [
        "#python list\n",
        "L=range(1000)\n",
        "%timeit([i**2 for i in L])"
      ],
      "execution_count": 3,
      "outputs": [
        {
          "output_type": "stream",
          "text": [
            "1000 loops, best of 5: 263 µs per loop\n"
          ],
          "name": "stdout"
        }
      ]
    },
    {
      "cell_type": "code",
      "metadata": {
        "colab": {
          "base_uri": "https://localhost:8080/"
        },
        "id": "rHdsGycAfRSQ",
        "outputId": "bfac18da-cd34-465f-efea-5957e258bf64"
      },
      "source": [
        "a=np.arange(1000)\n",
        "%timeit a**2"
      ],
      "execution_count": 4,
      "outputs": [
        {
          "output_type": "stream",
          "text": [
            "The slowest run took 28.79 times longer than the fastest. This could mean that an intermediate result is being cached.\n",
            "1000000 loops, best of 5: 1.48 µs per loop\n"
          ],
          "name": "stdout"
        }
      ]
    },
    {
      "cell_type": "markdown",
      "metadata": {
        "id": "OASYSloj5KCM"
      },
      "source": [
        "## Creating arrays"
      ]
    },
    {
      "cell_type": "markdown",
      "metadata": {
        "id": "duovuzMA5KCO"
      },
      "source": [
        "### Manual Construction of arrays"
      ]
    },
    {
      "cell_type": "code",
      "metadata": {
        "colab": {
          "base_uri": "https://localhost:8080/"
        },
        "id": "Wn4f0kdXf_dT",
        "outputId": "9f817057-fcc8-45fe-be01-5738fe2523e1"
      },
      "source": [
        "#1-D\n",
        "a=np.array([0,1,2,3])\n",
        "a"
      ],
      "execution_count": 6,
      "outputs": [
        {
          "output_type": "execute_result",
          "data": {
            "text/plain": [
              "array([0, 1, 2, 3])"
            ]
          },
          "metadata": {
            "tags": []
          },
          "execution_count": 6
        }
      ]
    },
    {
      "cell_type": "code",
      "metadata": {
        "colab": {
          "base_uri": "https://localhost:8080/"
        },
        "id": "kWMUjbyfg9SG",
        "outputId": "6ecd05d0-5ebf-4410-a10a-3926972b7a4f"
      },
      "source": [
        "a.ndim"
      ],
      "execution_count": 10,
      "outputs": [
        {
          "output_type": "execute_result",
          "data": {
            "text/plain": [
              "1"
            ]
          },
          "metadata": {
            "tags": []
          },
          "execution_count": 10
        }
      ]
    },
    {
      "cell_type": "code",
      "metadata": {
        "colab": {
          "base_uri": "https://localhost:8080/"
        },
        "id": "gseaxStrg9PV",
        "outputId": "4e0ca0df-af45-4e0c-e0f5-7bb3c9a7d98f"
      },
      "source": [
        "a.shape"
      ],
      "execution_count": 11,
      "outputs": [
        {
          "output_type": "execute_result",
          "data": {
            "text/plain": [
              "(4,)"
            ]
          },
          "metadata": {
            "tags": []
          },
          "execution_count": 11
        }
      ]
    },
    {
      "cell_type": "code",
      "metadata": {
        "colab": {
          "base_uri": "https://localhost:8080/"
        },
        "id": "MXMo5h-DgU9K",
        "outputId": "9d81411f-c5e5-4a8a-b48a-db28622b1698"
      },
      "source": [
        "#2-D 3-D ...\n",
        "b=np.array([[0,1,2],[4,5,6]])\n",
        "b"
      ],
      "execution_count": 7,
      "outputs": [
        {
          "output_type": "execute_result",
          "data": {
            "text/plain": [
              "array([[0, 1, 2],\n",
              "       [4, 5, 6]])"
            ]
          },
          "metadata": {
            "tags": []
          },
          "execution_count": 7
        }
      ]
    },
    {
      "cell_type": "code",
      "metadata": {
        "colab": {
          "base_uri": "https://localhost:8080/"
        },
        "id": "suIZeIKmgVIW",
        "outputId": "f9d9365c-c3b9-4594-af0d-1fade13c4193"
      },
      "source": [
        "b.ndim"
      ],
      "execution_count": 8,
      "outputs": [
        {
          "output_type": "execute_result",
          "data": {
            "text/plain": [
              "2"
            ]
          },
          "metadata": {
            "tags": []
          },
          "execution_count": 8
        }
      ]
    },
    {
      "cell_type": "code",
      "metadata": {
        "colab": {
          "base_uri": "https://localhost:8080/"
        },
        "id": "MdgV7KR1g0Us",
        "outputId": "a93a1a9e-00dc-4719-f701-3f469c1047a0"
      },
      "source": [
        "b.shape"
      ],
      "execution_count": 9,
      "outputs": [
        {
          "output_type": "execute_result",
          "data": {
            "text/plain": [
              "(2, 3)"
            ]
          },
          "metadata": {
            "tags": []
          },
          "execution_count": 9
        }
      ]
    },
    {
      "cell_type": "code",
      "metadata": {
        "colab": {
          "base_uri": "https://localhost:8080/"
        },
        "id": "zEpH_9dchGbM",
        "outputId": "fa7ddec0-08f9-46b7-8de7-4b68bb4fbbd9"
      },
      "source": [
        "len(b) #return the size of first dimension"
      ],
      "execution_count": 12,
      "outputs": [
        {
          "output_type": "execute_result",
          "data": {
            "text/plain": [
              "2"
            ]
          },
          "metadata": {
            "tags": []
          },
          "execution_count": 12
        }
      ]
    },
    {
      "cell_type": "code",
      "metadata": {
        "colab": {
          "base_uri": "https://localhost:8080/"
        },
        "id": "lonz7THNhPDz",
        "outputId": "353b8dba-9892-499c-b189-72053dff7524"
      },
      "source": [
        "c=np.array([[[0,1],[2,3]],[[4,5],[6,7]]])\n",
        "c"
      ],
      "execution_count": 14,
      "outputs": [
        {
          "output_type": "execute_result",
          "data": {
            "text/plain": [
              "array([[[0, 1],\n",
              "        [2, 3]],\n",
              "\n",
              "       [[4, 5],\n",
              "        [6, 7]]])"
            ]
          },
          "metadata": {
            "tags": []
          },
          "execution_count": 14
        }
      ]
    },
    {
      "cell_type": "code",
      "metadata": {
        "colab": {
          "base_uri": "https://localhost:8080/"
        },
        "id": "cZzJvzL2hzWH",
        "outputId": "22692e56-c757-478a-8c29-505f08df741e"
      },
      "source": [
        "c.ndim\n"
      ],
      "execution_count": 16,
      "outputs": [
        {
          "output_type": "execute_result",
          "data": {
            "text/plain": [
              "3"
            ]
          },
          "metadata": {
            "tags": []
          },
          "execution_count": 16
        }
      ]
    },
    {
      "cell_type": "code",
      "metadata": {
        "colab": {
          "base_uri": "https://localhost:8080/"
        },
        "id": "5ofIq1glhzTW",
        "outputId": "208dca9e-02e6-4263-e73d-b83ce61628a3"
      },
      "source": [
        "c.shape"
      ],
      "execution_count": 17,
      "outputs": [
        {
          "output_type": "execute_result",
          "data": {
            "text/plain": [
              "(2, 2, 2)"
            ]
          },
          "metadata": {
            "tags": []
          },
          "execution_count": 17
        }
      ]
    },
    {
      "cell_type": "code",
      "metadata": {
        "colab": {
          "base_uri": "https://localhost:8080/"
        },
        "id": "iH_ubZXEiBWU",
        "outputId": "1456d7f2-d7b6-4ceb-fb78-a90c4f43a3b8"
      },
      "source": [
        "len(c)"
      ],
      "execution_count": 19,
      "outputs": [
        {
          "output_type": "execute_result",
          "data": {
            "text/plain": [
              "2"
            ]
          },
          "metadata": {
            "tags": []
          },
          "execution_count": 19
        }
      ]
    },
    {
      "cell_type": "markdown",
      "metadata": {
        "id": "tEccAOSn5KDK"
      },
      "source": [
        "### Functions for creating arrays"
      ]
    },
    {
      "cell_type": "code",
      "metadata": {
        "colab": {
          "base_uri": "https://localhost:8080/"
        },
        "id": "VOc73PMWihS-",
        "outputId": "d05286e3-bd2b-400a-e295-1b1fa590cb3c"
      },
      "source": [
        "#using arrange function\n",
        "a=np.arange(10)\n",
        "a"
      ],
      "execution_count": 22,
      "outputs": [
        {
          "output_type": "execute_result",
          "data": {
            "text/plain": [
              "array([0, 1, 2, 3, 4, 5, 6, 7, 8, 9])"
            ]
          },
          "metadata": {
            "tags": []
          },
          "execution_count": 22
        }
      ]
    },
    {
      "cell_type": "code",
      "metadata": {
        "colab": {
          "base_uri": "https://localhost:8080/"
        },
        "id": "u4MRhG2TjeR6",
        "outputId": "6d6285a1-5cb1-4a9e-d46e-ef9b5a0870ea"
      },
      "source": [
        "b=np.arange(1,10,2)\n",
        "b"
      ],
      "execution_count": 25,
      "outputs": [
        {
          "output_type": "execute_result",
          "data": {
            "text/plain": [
              "array([1, 3, 5, 7, 9])"
            ]
          },
          "metadata": {
            "tags": []
          },
          "execution_count": 25
        }
      ]
    },
    {
      "cell_type": "code",
      "metadata": {
        "colab": {
          "base_uri": "https://localhost:8080/"
        },
        "id": "Fgeo-7KOihI5",
        "outputId": "43adfa00-8c1c-4f27-d1df-a741ac6ff180"
      },
      "source": [
        "#using linspace\n",
        "c=np.linspace(0,1,6) #start, stop, no. of points\n",
        "c"
      ],
      "execution_count": 27,
      "outputs": [
        {
          "output_type": "execute_result",
          "data": {
            "text/plain": [
              "array([0. , 0.2, 0.4, 0.6, 0.8, 1. ])"
            ]
          },
          "metadata": {
            "tags": []
          },
          "execution_count": 27
        }
      ]
    },
    {
      "cell_type": "code",
      "metadata": {
        "id": "jEXPF_bp5KDZ",
        "colab": {
          "base_uri": "https://localhost:8080/"
        },
        "outputId": "0d2047d2-c17b-40b6-9969-edaad53fedaf"
      },
      "source": [
        "#common arrays\n",
        "\n",
        "a = np.ones((3, 3))\n",
        "\n",
        "a"
      ],
      "execution_count": 29,
      "outputs": [
        {
          "output_type": "execute_result",
          "data": {
            "text/plain": [
              "array([[1., 1., 1.],\n",
              "       [1., 1., 1.],\n",
              "       [1., 1., 1.]])"
            ]
          },
          "metadata": {
            "tags": []
          },
          "execution_count": 29
        }
      ]
    },
    {
      "cell_type": "code",
      "metadata": {
        "id": "-zPMMjEo5KDc",
        "colab": {
          "base_uri": "https://localhost:8080/"
        },
        "outputId": "9de30e70-3ba3-4399-f07a-2bdd485c6c05"
      },
      "source": [
        "b = np.zeros((3, 3))\n",
        "\n",
        "b"
      ],
      "execution_count": 30,
      "outputs": [
        {
          "output_type": "execute_result",
          "data": {
            "text/plain": [
              "array([[0., 0., 0.],\n",
              "       [0., 0., 0.],\n",
              "       [0., 0., 0.]])"
            ]
          },
          "metadata": {
            "tags": []
          },
          "execution_count": 30
        }
      ]
    },
    {
      "cell_type": "code",
      "metadata": {
        "id": "iva_x1Y25KDf",
        "colab": {
          "base_uri": "https://localhost:8080/"
        },
        "outputId": "cd1c1475-3571-403a-bd68-241c0229cfdb"
      },
      "source": [
        "c = np.eye(3)  #Return a 2-D array with ones on the diagonal and zeros elsewhere.\n",
        "\n",
        "c"
      ],
      "execution_count": 31,
      "outputs": [
        {
          "output_type": "execute_result",
          "data": {
            "text/plain": [
              "array([[1., 0., 0.],\n",
              "       [0., 1., 0.],\n",
              "       [0., 0., 1.]])"
            ]
          },
          "metadata": {
            "tags": []
          },
          "execution_count": 31
        }
      ]
    },
    {
      "cell_type": "code",
      "metadata": {
        "id": "0UPv6IBd5KDk",
        "colab": {
          "base_uri": "https://localhost:8080/"
        },
        "outputId": "24db09a3-4915-4a64-f446-275d0bb8337b"
      },
      "source": [
        "d = np.eye(3, 2) #3 is number of rows, 2 is number of columns, index of diagonal start with 0\n",
        "\n",
        "d"
      ],
      "execution_count": 32,
      "outputs": [
        {
          "output_type": "execute_result",
          "data": {
            "text/plain": [
              "array([[1., 0.],\n",
              "       [0., 1.],\n",
              "       [0., 0.]])"
            ]
          },
          "metadata": {
            "tags": []
          },
          "execution_count": 32
        }
      ]
    },
    {
      "cell_type": "code",
      "metadata": {
        "id": "X0khu_6H5KDo",
        "colab": {
          "base_uri": "https://localhost:8080/"
        },
        "outputId": "d6d8230e-33b1-40cd-8bd9-823d4ebfddd7"
      },
      "source": [
        "#create array using diag function\n",
        "\n",
        "a = np.diag([1, 2, 3, 4]) #construct a diagonal array.\n",
        "\n",
        "a"
      ],
      "execution_count": 33,
      "outputs": [
        {
          "output_type": "execute_result",
          "data": {
            "text/plain": [
              "array([[1, 0, 0, 0],\n",
              "       [0, 2, 0, 0],\n",
              "       [0, 0, 3, 0],\n",
              "       [0, 0, 0, 4]])"
            ]
          },
          "metadata": {
            "tags": []
          },
          "execution_count": 33
        }
      ]
    },
    {
      "cell_type": "code",
      "metadata": {
        "id": "jtu2ChUt5KDq",
        "colab": {
          "base_uri": "https://localhost:8080/"
        },
        "outputId": "87b7ac43-88a9-4d60-e9db-d7fd4bfad4cb"
      },
      "source": [
        "np.diag(a)   #Extract diagonal"
      ],
      "execution_count": 34,
      "outputs": [
        {
          "output_type": "execute_result",
          "data": {
            "text/plain": [
              "array([1, 2, 3, 4])"
            ]
          },
          "metadata": {
            "tags": []
          },
          "execution_count": 34
        }
      ]
    },
    {
      "cell_type": "code",
      "metadata": {
        "id": "JfahvFnj5KDu",
        "colab": {
          "base_uri": "https://localhost:8080/"
        },
        "outputId": "6401e128-55dd-4e86-8bf2-c7c491277b4a"
      },
      "source": [
        "#create array using random\n",
        "\n",
        "#Create an array of the given shape and populate it with random samples from a uniform distribution over [0, 1).\n",
        "a = np.random.rand(4) \n",
        "\n",
        "a"
      ],
      "execution_count": 35,
      "outputs": [
        {
          "output_type": "execute_result",
          "data": {
            "text/plain": [
              "array([0.47252396, 0.01581177, 0.48339496, 0.17866282])"
            ]
          },
          "metadata": {
            "tags": []
          },
          "execution_count": 35
        }
      ]
    },
    {
      "cell_type": "code",
      "metadata": {
        "id": "ot7Aij7d5KDw",
        "colab": {
          "base_uri": "https://localhost:8080/"
        },
        "outputId": "55342c27-06a7-45f0-c6f0-f066a3204172"
      },
      "source": [
        "a = np.random.randn(4)#Return a sample (or samples) from the “standard normal” distribution.  ***Gausian***\n",
        "\n",
        "a"
      ],
      "execution_count": 36,
      "outputs": [
        {
          "output_type": "execute_result",
          "data": {
            "text/plain": [
              "array([ 0.35646416, -0.084599  ,  1.33488943, -0.08891673])"
            ]
          },
          "metadata": {
            "tags": []
          },
          "execution_count": 36
        }
      ]
    },
    {
      "cell_type": "markdown",
      "metadata": {
        "id": "aRK5tN_F5KDz"
      },
      "source": [
        "**Note:**\n",
        "    \n",
        "For random samples from N(\\mu, \\sigma^2), use:\n",
        "\n",
        "sigma * np.random.randn(...) + mu\n",
        "\n"
      ]
    },
    {
      "cell_type": "markdown",
      "metadata": {
        "id": "36MjYG6E5KD0"
      },
      "source": [
        "## Basic DataTypes"
      ]
    },
    {
      "cell_type": "markdown",
      "metadata": {
        "id": "-K6yrynt5KD1"
      },
      "source": [
        "You may have noticed that, in some instances, array elements are displayed with a **trailing dot (e.g. 2. vs 2)**. This is due to a difference in the **data-type** used:"
      ]
    },
    {
      "cell_type": "code",
      "metadata": {
        "id": "Dee7Z3215KD2",
        "colab": {
          "base_uri": "https://localhost:8080/"
        },
        "outputId": "b6ec2384-80e3-4fd3-d71f-b89555937c3e"
      },
      "source": [
        "a = np.arange(10)\n",
        "\n",
        "a.dtype"
      ],
      "execution_count": 38,
      "outputs": [
        {
          "output_type": "execute_result",
          "data": {
            "text/plain": [
              "dtype('int64')"
            ]
          },
          "metadata": {
            "tags": []
          },
          "execution_count": 38
        }
      ]
    },
    {
      "cell_type": "code",
      "metadata": {
        "id": "rTIjQKfp5KD8",
        "colab": {
          "base_uri": "https://localhost:8080/"
        },
        "outputId": "27cee86b-b94c-43b1-b3c1-336051db83a4"
      },
      "source": [
        "#You can explicitly specify which data-type you want:\n",
        "\n",
        "a = np.arange(10, dtype='float64')\n",
        "a"
      ],
      "execution_count": 39,
      "outputs": [
        {
          "output_type": "execute_result",
          "data": {
            "text/plain": [
              "array([0., 1., 2., 3., 4., 5., 6., 7., 8., 9.])"
            ]
          },
          "metadata": {
            "tags": []
          },
          "execution_count": 39
        }
      ]
    },
    {
      "cell_type": "code",
      "metadata": {
        "id": "HsKFx1Sx5KD-",
        "colab": {
          "base_uri": "https://localhost:8080/"
        },
        "outputId": "ed0944e5-0134-4c02-c7af-2a693c607ccc"
      },
      "source": [
        "#The default data type is float for zeros and ones function\n",
        "\n",
        "a = np.zeros((3, 3))\n",
        "\n",
        "print(a)\n",
        "\n",
        "a.dtype"
      ],
      "execution_count": 40,
      "outputs": [
        {
          "output_type": "stream",
          "text": [
            "[[0. 0. 0.]\n",
            " [0. 0. 0.]\n",
            " [0. 0. 0.]]\n"
          ],
          "name": "stdout"
        },
        {
          "output_type": "execute_result",
          "data": {
            "text/plain": [
              "dtype('float64')"
            ]
          },
          "metadata": {
            "tags": []
          },
          "execution_count": 40
        }
      ]
    },
    {
      "cell_type": "markdown",
      "metadata": {
        "id": "dAiIi9vT5KEB"
      },
      "source": [
        "### other datatypes"
      ]
    },
    {
      "cell_type": "code",
      "metadata": {
        "id": "XCgbLGnL5KEC",
        "colab": {
          "base_uri": "https://localhost:8080/"
        },
        "outputId": "4b380ff2-3472-4ad0-983c-d146a530b2ce"
      },
      "source": [
        "d = np.array([1+2j, 2+4j])   #Complex datatype\n",
        "\n",
        "print(d.dtype)"
      ],
      "execution_count": 41,
      "outputs": [
        {
          "output_type": "stream",
          "text": [
            "complex128\n"
          ],
          "name": "stdout"
        }
      ]
    },
    {
      "cell_type": "code",
      "metadata": {
        "id": "t9Brdfix5KEF",
        "colab": {
          "base_uri": "https://localhost:8080/"
        },
        "outputId": "53a595aa-cb84-4822-b06f-efc5199c07c3"
      },
      "source": [
        "b = np.array([True, False, True, False])  #Boolean datatype\n",
        "\n",
        "print(b.dtype)"
      ],
      "execution_count": 42,
      "outputs": [
        {
          "output_type": "stream",
          "text": [
            "bool\n"
          ],
          "name": "stdout"
        }
      ]
    },
    {
      "cell_type": "code",
      "metadata": {
        "id": "bn7PC1I45KEI",
        "colab": {
          "base_uri": "https://localhost:8080/"
        },
        "outputId": "1c85ba62-47c7-465c-a61e-5bf6400db747"
      },
      "source": [
        "s = np.array(['Ram', 'Robert', 'Rahim'])\n",
        "\n",
        "s.dtype"
      ],
      "execution_count": 44,
      "outputs": [
        {
          "output_type": "execute_result",
          "data": {
            "text/plain": [
              "dtype('<U6')"
            ]
          },
          "metadata": {
            "tags": []
          },
          "execution_count": 44
        }
      ]
    },
    {
      "cell_type": "markdown",
      "metadata": {
        "id": "gTy0tQFl5KEM"
      },
      "source": [
        "**Each built-in data type has a character code that uniquely identifies it.**\n",
        "\n",
        "'b' − boolean\n",
        "\n",
        "'i' − (signed) integer\n",
        "\n",
        "'u' − unsigned integer\n",
        "\n",
        "'f' − floating-point\n",
        "\n",
        "'c' − complex-floating point\n",
        "\n",
        "'m' − timedelta\n",
        "\n",
        "'M' − datetime\n",
        "\n",
        "'O' − (Python) objects\n",
        "\n",
        "'S', 'a' − (byte-)string\n",
        "\n",
        "'U' − Unicode\n",
        "\n",
        "'V' − raw data (void)"
      ]
    },
    {
      "cell_type": "markdown",
      "metadata": {
        "id": "tlNp08Q-5KEQ"
      },
      "source": [
        "**For more details**\n",
        "\n",
        "**https://docs.scipy.org/doc/numpy-1.10.1/user/basics.types.html**"
      ]
    },
    {
      "cell_type": "markdown",
      "metadata": {
        "id": "lxxrSs8A5KER"
      },
      "source": [
        "## Indexing and Slicing"
      ]
    },
    {
      "cell_type": "markdown",
      "metadata": {
        "id": "Z_a389VI5KET"
      },
      "source": [
        "### Indexing"
      ]
    },
    {
      "cell_type": "markdown",
      "metadata": {
        "id": "oA4Iu7nt5KEU"
      },
      "source": [
        "The items of an array can be accessed and assigned to the same way as other **Python sequences (e.g. lists)**:"
      ]
    },
    {
      "cell_type": "code",
      "metadata": {
        "id": "F4VuVNHU5KEW",
        "colab": {
          "base_uri": "https://localhost:8080/"
        },
        "outputId": "bdb37bab-2615-463a-a324-b09c3f55d1bf"
      },
      "source": [
        "a = np.arange(10)\n",
        "\n",
        "print(a[5])  #indices begin at 0, like other Python sequences (and C/C++)"
      ],
      "execution_count": 45,
      "outputs": [
        {
          "output_type": "stream",
          "text": [
            "5\n"
          ],
          "name": "stdout"
        }
      ]
    },
    {
      "cell_type": "code",
      "metadata": {
        "id": "9hwCCtDL5KEb",
        "colab": {
          "base_uri": "https://localhost:8080/"
        },
        "outputId": "3ff03555-7209-4d51-bba0-81bbf07cbc9f"
      },
      "source": [
        "# For multidimensional arrays, indexes are tuples of integers:\n",
        "\n",
        "a = np.diag([1, 2, 3])\n",
        "\n",
        "print(a[2, 2])"
      ],
      "execution_count": 46,
      "outputs": [
        {
          "output_type": "stream",
          "text": [
            "3\n"
          ],
          "name": "stdout"
        }
      ]
    },
    {
      "cell_type": "code",
      "metadata": {
        "id": "bS9JIqhw5KEf",
        "colab": {
          "base_uri": "https://localhost:8080/"
        },
        "outputId": "6b0846ab-6c05-44b2-a380-95ede36b008d"
      },
      "source": [
        "a[2, 1] = 5 #assigning value\n",
        "\n",
        "a"
      ],
      "execution_count": 47,
      "outputs": [
        {
          "output_type": "execute_result",
          "data": {
            "text/plain": [
              "array([[1, 0, 0],\n",
              "       [0, 2, 0],\n",
              "       [0, 5, 3]])"
            ]
          },
          "metadata": {
            "tags": []
          },
          "execution_count": 47
        }
      ]
    },
    {
      "cell_type": "markdown",
      "metadata": {
        "id": "oKY3p8dz5KEi"
      },
      "source": [
        "### Slicing"
      ]
    },
    {
      "cell_type": "code",
      "metadata": {
        "id": "LJ7vz5uf5KEj",
        "colab": {
          "base_uri": "https://localhost:8080/"
        },
        "outputId": "145f0fef-c098-46ca-81f7-f91e348988c7"
      },
      "source": [
        "a = np.arange(10)\n",
        "\n",
        "a"
      ],
      "execution_count": 48,
      "outputs": [
        {
          "output_type": "execute_result",
          "data": {
            "text/plain": [
              "array([0, 1, 2, 3, 4, 5, 6, 7, 8, 9])"
            ]
          },
          "metadata": {
            "tags": []
          },
          "execution_count": 48
        }
      ]
    },
    {
      "cell_type": "code",
      "metadata": {
        "id": "5-XmC2tC5KEr",
        "colab": {
          "base_uri": "https://localhost:8080/"
        },
        "outputId": "0097104f-5478-4754-988e-4c6b0f2dd1eb"
      },
      "source": [
        "a[1:8:2] # [startindex: endindex(exclusive) : step]"
      ],
      "execution_count": 49,
      "outputs": [
        {
          "output_type": "execute_result",
          "data": {
            "text/plain": [
              "array([1, 3, 5, 7])"
            ]
          },
          "metadata": {
            "tags": []
          },
          "execution_count": 49
        }
      ]
    },
    {
      "cell_type": "code",
      "metadata": {
        "id": "kCvFrEFK5KEv",
        "colab": {
          "base_uri": "https://localhost:8080/"
        },
        "outputId": "4b98beb8-3077-4d1c-9f17-8ec824d73356"
      },
      "source": [
        "#we can also combine assignment and slicing:\n",
        "\n",
        "a = np.arange(10)\n",
        "a[5:] = 10\n",
        "a"
      ],
      "execution_count": 50,
      "outputs": [
        {
          "output_type": "execute_result",
          "data": {
            "text/plain": [
              "array([ 0,  1,  2,  3,  4, 10, 10, 10, 10, 10])"
            ]
          },
          "metadata": {
            "tags": []
          },
          "execution_count": 50
        }
      ]
    },
    {
      "cell_type": "code",
      "metadata": {
        "id": "Mnj-1D8y5KE0",
        "colab": {
          "base_uri": "https://localhost:8080/"
        },
        "outputId": "95274cbc-c493-4ee1-a170-ea035c3b467a"
      },
      "source": [
        "b = np.arange(5)\n",
        "a[5:] = b[::-1]  #assigning\n",
        "\n",
        "a"
      ],
      "execution_count": 51,
      "outputs": [
        {
          "output_type": "execute_result",
          "data": {
            "text/plain": [
              "array([0, 1, 2, 3, 4, 4, 3, 2, 1, 0])"
            ]
          },
          "metadata": {
            "tags": []
          },
          "execution_count": 51
        }
      ]
    },
    {
      "cell_type": "markdown",
      "metadata": {
        "id": "PFR1291r5KE3"
      },
      "source": [
        "## Copies and Views"
      ]
    },
    {
      "cell_type": "markdown",
      "metadata": {
        "id": "pNCFMofD5KE4"
      },
      "source": [
        "A slicing operation creates a view on the original array, which is just a way of accessing array data. Thus the original array is not copied in memory. You can use **np.may_share_memory()** to check if two arrays share the same memory block. "
      ]
    },
    {
      "cell_type": "markdown",
      "metadata": {
        "id": "QLK31tTF5KE5"
      },
      "source": [
        "**When modifying the view, the original array is modified as well:**"
      ]
    },
    {
      "cell_type": "code",
      "metadata": {
        "id": "4XKbPBCn5KE6",
        "colab": {
          "base_uri": "https://localhost:8080/"
        },
        "outputId": "029043fe-257a-4cdd-9ef2-4bfae0f3d613"
      },
      "source": [
        "a = np.arange(10)\n",
        "a"
      ],
      "execution_count": 52,
      "outputs": [
        {
          "output_type": "execute_result",
          "data": {
            "text/plain": [
              "array([0, 1, 2, 3, 4, 5, 6, 7, 8, 9])"
            ]
          },
          "metadata": {
            "tags": []
          },
          "execution_count": 52
        }
      ]
    },
    {
      "cell_type": "code",
      "metadata": {
        "id": "HbR8tgg25KE-",
        "colab": {
          "base_uri": "https://localhost:8080/"
        },
        "outputId": "add46921-087b-46da-b536-5f950e4a14d2"
      },
      "source": [
        "b = a[::2]\n",
        "b"
      ],
      "execution_count": 53,
      "outputs": [
        {
          "output_type": "execute_result",
          "data": {
            "text/plain": [
              "array([0, 2, 4, 6, 8])"
            ]
          },
          "metadata": {
            "tags": []
          },
          "execution_count": 53
        }
      ]
    },
    {
      "cell_type": "code",
      "metadata": {
        "id": "cjz9r8q25KFC",
        "colab": {
          "base_uri": "https://localhost:8080/"
        },
        "outputId": "ce81623b-6dcd-48e8-f3df-29c393b824cf"
      },
      "source": [
        "np.shares_memory(a, b)"
      ],
      "execution_count": 54,
      "outputs": [
        {
          "output_type": "execute_result",
          "data": {
            "text/plain": [
              "True"
            ]
          },
          "metadata": {
            "tags": []
          },
          "execution_count": 54
        }
      ]
    },
    {
      "cell_type": "code",
      "metadata": {
        "id": "PGjnKce25KFG",
        "colab": {
          "base_uri": "https://localhost:8080/"
        },
        "outputId": "2865e5c7-17d8-44c4-9662-15043df2d8a7"
      },
      "source": [
        "b[0] = 10\n",
        "b"
      ],
      "execution_count": 55,
      "outputs": [
        {
          "output_type": "execute_result",
          "data": {
            "text/plain": [
              "array([10,  2,  4,  6,  8])"
            ]
          },
          "metadata": {
            "tags": []
          },
          "execution_count": 55
        }
      ]
    },
    {
      "cell_type": "code",
      "metadata": {
        "id": "och7ft5c5KFN",
        "colab": {
          "base_uri": "https://localhost:8080/"
        },
        "outputId": "b6436677-a5eb-4db7-c78f-87d62e2caf14"
      },
      "source": [
        "a  #eventhough we modified b,  it updated 'a' because both shares same memory"
      ],
      "execution_count": 56,
      "outputs": [
        {
          "output_type": "execute_result",
          "data": {
            "text/plain": [
              "array([10,  1,  2,  3,  4,  5,  6,  7,  8,  9])"
            ]
          },
          "metadata": {
            "tags": []
          },
          "execution_count": 56
        }
      ]
    },
    {
      "cell_type": "code",
      "metadata": {
        "id": "RwH_Zza45KFR",
        "colab": {
          "base_uri": "https://localhost:8080/"
        },
        "outputId": "ea2b4be9-07ae-439c-e774-28ec0228c675"
      },
      "source": [
        "\n",
        "\n",
        "a = np.arange(10)\n",
        "\n",
        "c = a[::2].copy()     #force a copy\n",
        "c"
      ],
      "execution_count": 57,
      "outputs": [
        {
          "output_type": "execute_result",
          "data": {
            "text/plain": [
              "array([0, 2, 4, 6, 8])"
            ]
          },
          "metadata": {
            "tags": []
          },
          "execution_count": 57
        }
      ]
    },
    {
      "cell_type": "code",
      "metadata": {
        "id": "zhACmhU85KFW",
        "colab": {
          "base_uri": "https://localhost:8080/"
        },
        "outputId": "dc1f1f5f-7452-452c-ed14-5212a2909ea1"
      },
      "source": [
        "np.shares_memory(a, c)"
      ],
      "execution_count": 58,
      "outputs": [
        {
          "output_type": "execute_result",
          "data": {
            "text/plain": [
              "False"
            ]
          },
          "metadata": {
            "tags": []
          },
          "execution_count": 58
        }
      ]
    },
    {
      "cell_type": "code",
      "metadata": {
        "id": "zbhoU-2W5KFZ",
        "colab": {
          "base_uri": "https://localhost:8080/"
        },
        "outputId": "fe35a1eb-e8c9-4c04-ff9c-4e903f1f45a4"
      },
      "source": [
        "c[0] = 10\n",
        "\n",
        "a"
      ],
      "execution_count": 59,
      "outputs": [
        {
          "output_type": "execute_result",
          "data": {
            "text/plain": [
              "array([0, 1, 2, 3, 4, 5, 6, 7, 8, 9])"
            ]
          },
          "metadata": {
            "tags": []
          },
          "execution_count": 59
        }
      ]
    },
    {
      "cell_type": "markdown",
      "metadata": {
        "id": "BzcH6VRZ5KFc"
      },
      "source": [
        "## Fancy Indexing"
      ]
    },
    {
      "cell_type": "markdown",
      "metadata": {
        "id": "hpi-JUwC5KFc"
      },
      "source": [
        "NumPy arrays can be indexed with slices, but also with boolean or integer arrays **(masks)**. This method is called **fancy indexing**. It creates copies not views."
      ]
    },
    {
      "cell_type": "markdown",
      "metadata": {
        "id": "RJtFgW0o5KFf"
      },
      "source": [
        "### Using Boolean Mask"
      ]
    },
    {
      "cell_type": "code",
      "metadata": {
        "id": "Zb5eSA455KFn",
        "colab": {
          "base_uri": "https://localhost:8080/"
        },
        "outputId": "86b481b0-2b70-47f1-d29a-debe55b4738c"
      },
      "source": [
        "a = np.random.randint(0, 20, 15)\n",
        "a"
      ],
      "execution_count": 60,
      "outputs": [
        {
          "output_type": "execute_result",
          "data": {
            "text/plain": [
              "array([ 1,  0, 10,  1, 12,  6, 15, 19,  5,  5, 17, 16,  1, 16,  3])"
            ]
          },
          "metadata": {
            "tags": []
          },
          "execution_count": 60
        }
      ]
    },
    {
      "cell_type": "code",
      "metadata": {
        "id": "EaIy9IdS5KFq"
      },
      "source": [
        "mask = (a % 2 == 0)"
      ],
      "execution_count": 61,
      "outputs": []
    },
    {
      "cell_type": "code",
      "metadata": {
        "id": "F7YUrhyv5KFt",
        "colab": {
          "base_uri": "https://localhost:8080/"
        },
        "outputId": "3ab0b544-9354-44b3-e64b-f6b945b4ff01"
      },
      "source": [
        "extract_from_a = a[mask]\n",
        "\n",
        "extract_from_a"
      ],
      "execution_count": 62,
      "outputs": [
        {
          "output_type": "execute_result",
          "data": {
            "text/plain": [
              "array([ 0, 10, 12,  6, 16, 16])"
            ]
          },
          "metadata": {
            "tags": []
          },
          "execution_count": 62
        }
      ]
    },
    {
      "cell_type": "markdown",
      "metadata": {
        "id": "cgMKaiDh5KFx"
      },
      "source": [
        "**Indexing with a mask can be very useful to assign a new value to a sub-array:**"
      ]
    },
    {
      "cell_type": "code",
      "metadata": {
        "id": "AMnQz8f15KFx",
        "colab": {
          "base_uri": "https://localhost:8080/"
        },
        "outputId": "24f980ae-9872-43ce-e967-2602c6417666"
      },
      "source": [
        "a[mask] = -1\n",
        "a"
      ],
      "execution_count": 63,
      "outputs": [
        {
          "output_type": "execute_result",
          "data": {
            "text/plain": [
              "array([ 1, -1, -1,  1, -1, -1, 15, 19,  5,  5, 17, -1,  1, -1,  3])"
            ]
          },
          "metadata": {
            "tags": []
          },
          "execution_count": 63
        }
      ]
    },
    {
      "cell_type": "markdown",
      "metadata": {
        "id": "Z0y-Uzk75KF0"
      },
      "source": [
        "### Indexing with an array of integers"
      ]
    },
    {
      "cell_type": "code",
      "metadata": {
        "id": "2cdfdqQn5KF1",
        "colab": {
          "base_uri": "https://localhost:8080/"
        },
        "outputId": "be66858f-b89b-4a6c-b04e-fde6aeaf8e5d"
      },
      "source": [
        "a = np.arange(0, 100, 10)\n",
        "\n",
        "a"
      ],
      "execution_count": 64,
      "outputs": [
        {
          "output_type": "execute_result",
          "data": {
            "text/plain": [
              "array([ 0, 10, 20, 30, 40, 50, 60, 70, 80, 90])"
            ]
          },
          "metadata": {
            "tags": []
          },
          "execution_count": 64
        }
      ]
    },
    {
      "cell_type": "code",
      "metadata": {
        "id": "YlxMqvLm5KF4",
        "colab": {
          "base_uri": "https://localhost:8080/"
        },
        "outputId": "f3ef256f-bff9-44cb-c8e2-e9f0a168855a"
      },
      "source": [
        "#Indexing can be done with an array of integers, where the same index is repeated several time:\n",
        "\n",
        "a[[2, 3, 2, 4, 2]]"
      ],
      "execution_count": 65,
      "outputs": [
        {
          "output_type": "execute_result",
          "data": {
            "text/plain": [
              "array([20, 30, 20, 40, 20])"
            ]
          },
          "metadata": {
            "tags": []
          },
          "execution_count": 65
        }
      ]
    },
    {
      "cell_type": "code",
      "metadata": {
        "id": "czX77cEZ5KF6",
        "colab": {
          "base_uri": "https://localhost:8080/"
        },
        "outputId": "c0e6f4c2-6ae0-415e-de13-1bfcb5846c76"
      },
      "source": [
        "# New values can be assigned \n",
        "\n",
        "a[[9, 7]] = -200\n",
        "\n",
        "a"
      ],
      "execution_count": 66,
      "outputs": [
        {
          "output_type": "execute_result",
          "data": {
            "text/plain": [
              "array([   0,   10,   20,   30,   40,   50,   60, -200,   80, -200])"
            ]
          },
          "metadata": {
            "tags": []
          },
          "execution_count": 66
        }
      ]
    },
    {
      "cell_type": "code",
      "metadata": {
        "id": "qi8KAxbfpQAW"
      },
      "source": [
        ""
      ],
      "execution_count": null,
      "outputs": []
    },
    {
      "cell_type": "markdown",
      "metadata": {
        "id": "hdpz_NmjpQax"
      },
      "source": [
        ""
      ]
    },
    {
      "cell_type": "markdown",
      "metadata": {
        "id": "jhQnKQ2KswdE"
      },
      "source": [
        "# Elementwise Operations"
      ]
    },
    {
      "cell_type": "markdown",
      "metadata": {
        "id": "Wtu7cWpiswdF"
      },
      "source": [
        "## Basic Operations"
      ]
    },
    {
      "cell_type": "markdown",
      "metadata": {
        "id": "F-67X08fswdG"
      },
      "source": [
        "### with scalars"
      ]
    },
    {
      "cell_type": "code",
      "metadata": {
        "id": "dVy44XhoswdI",
        "outputId": "6c3aab05-af8d-4591-fbf2-298081a81356"
      },
      "source": [
        "a = np.array([1, 2, 3, 4]) #create an array\n",
        "\n",
        "a + 1"
      ],
      "execution_count": null,
      "outputs": [
        {
          "output_type": "execute_result",
          "data": {
            "text/plain": [
              "array([2, 3, 4, 5])"
            ]
          },
          "metadata": {
            "tags": []
          },
          "execution_count": 2
        }
      ]
    },
    {
      "cell_type": "code",
      "metadata": {
        "id": "C3xGq800swdO",
        "outputId": "edc11eed-3015-45f8-b477-14cbcf6f3590"
      },
      "source": [
        "a ** 2"
      ],
      "execution_count": null,
      "outputs": [
        {
          "output_type": "execute_result",
          "data": {
            "text/plain": [
              "array([ 1,  4,  9, 16])"
            ]
          },
          "metadata": {
            "tags": []
          },
          "execution_count": 3
        }
      ]
    },
    {
      "cell_type": "markdown",
      "metadata": {
        "id": "RUCgn5sWswdS"
      },
      "source": [
        " **All arithmetic operates elementwise**"
      ]
    },
    {
      "cell_type": "code",
      "metadata": {
        "id": "8PnM4PU7swdT",
        "outputId": "dec9c525-340a-480c-859f-252e85b768bc"
      },
      "source": [
        "b = np.ones(4) + 1\n",
        "\n",
        "a - b"
      ],
      "execution_count": null,
      "outputs": [
        {
          "output_type": "execute_result",
          "data": {
            "text/plain": [
              "array([-1.,  0.,  1.,  2.])"
            ]
          },
          "metadata": {
            "tags": []
          },
          "execution_count": 4
        }
      ]
    },
    {
      "cell_type": "code",
      "metadata": {
        "id": "rpXvbqFwswdX",
        "outputId": "6e10ebe8-378e-492c-9fe1-6e9dac1b1ae8"
      },
      "source": [
        "a * b"
      ],
      "execution_count": null,
      "outputs": [
        {
          "output_type": "execute_result",
          "data": {
            "text/plain": [
              "array([ 2.,  4.,  6.,  8.])"
            ]
          },
          "metadata": {
            "tags": []
          },
          "execution_count": 5
        }
      ]
    },
    {
      "cell_type": "code",
      "metadata": {
        "id": "2abVO_V_swdb",
        "outputId": "e8e3fd83-507b-40c5-ef18-26f4b11680fb"
      },
      "source": [
        "# Matrix multiplication\n",
        "\n",
        "c = np.diag([1, 2, 3, 4])\n",
        "\n",
        "print(c * c)\n",
        "print(\"*****************\")\n",
        "print(c.dot(c))"
      ],
      "execution_count": null,
      "outputs": [
        {
          "output_type": "stream",
          "text": [
            "[[ 1  0  0  0]\n",
            " [ 0  4  0  0]\n",
            " [ 0  0  9  0]\n",
            " [ 0  0  0 16]]\n",
            "*****************\n",
            "[[ 1  0  0  0]\n",
            " [ 0  4  0  0]\n",
            " [ 0  0  9  0]\n",
            " [ 0  0  0 16]]\n"
          ],
          "name": "stdout"
        }
      ]
    },
    {
      "cell_type": "markdown",
      "metadata": {
        "id": "WQJuiT1uswdf"
      },
      "source": [
        "### comparisions"
      ]
    },
    {
      "cell_type": "code",
      "metadata": {
        "id": "fjeX-CiOswdg",
        "outputId": "27e205a5-191a-49db-e6bd-5e8d37136ccd"
      },
      "source": [
        "a = np.array([1, 2, 3, 4])\n",
        "b = np.array([5, 2, 2, 4])\n",
        "a == b"
      ],
      "execution_count": null,
      "outputs": [
        {
          "output_type": "execute_result",
          "data": {
            "text/plain": [
              "array([False,  True, False,  True], dtype=bool)"
            ]
          },
          "metadata": {
            "tags": []
          },
          "execution_count": 10
        }
      ]
    },
    {
      "cell_type": "code",
      "metadata": {
        "id": "X8TTJ8A2swdk",
        "outputId": "a82a7c0f-aea4-4918-cfe8-364bc0c2c74a"
      },
      "source": [
        "a > b"
      ],
      "execution_count": null,
      "outputs": [
        {
          "output_type": "execute_result",
          "data": {
            "text/plain": [
              "array([False, False,  True, False], dtype=bool)"
            ]
          },
          "metadata": {
            "tags": []
          },
          "execution_count": 11
        }
      ]
    },
    {
      "cell_type": "code",
      "metadata": {
        "id": "J6VVph4Qswdp",
        "outputId": "2a0d11bc-862a-40b0-e367-7308025a6115"
      },
      "source": [
        "#array-wise comparisions\n",
        "a = np.array([1, 2, 3, 4])\n",
        "b = np.array([5, 2, 2, 4])\n",
        "c = np.array([1, 2, 3, 4])\n",
        "\n",
        "np.array_equal(a, b)"
      ],
      "execution_count": null,
      "outputs": [
        {
          "output_type": "execute_result",
          "data": {
            "text/plain": [
              "False"
            ]
          },
          "metadata": {
            "tags": []
          },
          "execution_count": 12
        }
      ]
    },
    {
      "cell_type": "code",
      "metadata": {
        "id": "4WcN5_dEswds",
        "outputId": "17c720d1-8743-407b-c1c3-e8aa2cd06b56"
      },
      "source": [
        "np.array_equal(a, c)"
      ],
      "execution_count": null,
      "outputs": [
        {
          "output_type": "execute_result",
          "data": {
            "text/plain": [
              "True"
            ]
          },
          "metadata": {
            "tags": []
          },
          "execution_count": 13
        }
      ]
    },
    {
      "cell_type": "markdown",
      "metadata": {
        "id": "9zENvq0Eswdw"
      },
      "source": [
        "### Logical Operations"
      ]
    },
    {
      "cell_type": "code",
      "metadata": {
        "id": "1jnb4Oyoswdy",
        "outputId": "d846450e-26ec-46bf-e5e9-ee1130f85e0e"
      },
      "source": [
        "a = np.array([1, 1, 0, 0], dtype=bool)\n",
        "b = np.array([1, 0, 1, 0], dtype=bool)\n",
        "\n",
        "np.logical_or(a, b)"
      ],
      "execution_count": null,
      "outputs": [
        {
          "output_type": "execute_result",
          "data": {
            "text/plain": [
              "array([ True,  True,  True, False], dtype=bool)"
            ]
          },
          "metadata": {
            "tags": []
          },
          "execution_count": 14
        }
      ]
    },
    {
      "cell_type": "code",
      "metadata": {
        "id": "0Y_BIY2sswd4",
        "outputId": "45b0f028-2953-4b41-f524-719fd0739263"
      },
      "source": [
        "np.logical_and(a, b)"
      ],
      "execution_count": null,
      "outputs": [
        {
          "output_type": "execute_result",
          "data": {
            "text/plain": [
              "array([ True, False, False, False], dtype=bool)"
            ]
          },
          "metadata": {
            "tags": []
          },
          "execution_count": 15
        }
      ]
    },
    {
      "cell_type": "markdown",
      "metadata": {
        "id": "TphCEdOgswd_"
      },
      "source": [
        "### Transcendental functions:"
      ]
    },
    {
      "cell_type": "code",
      "metadata": {
        "id": "lRgKTcVYsweA",
        "outputId": "9d766b16-8896-4695-f408-2c22a2759eec"
      },
      "source": [
        "a = np.arange(5)\n",
        "\n",
        "np.sin(a)   "
      ],
      "execution_count": null,
      "outputs": [
        {
          "output_type": "execute_result",
          "data": {
            "text/plain": [
              "array([ 0.        ,  0.84147098,  0.90929743,  0.14112001, -0.7568025 ])"
            ]
          },
          "metadata": {
            "tags": []
          },
          "execution_count": 16
        }
      ]
    },
    {
      "cell_type": "code",
      "metadata": {
        "id": "o2WNaZYTsweG",
        "outputId": "09a4e071-9149-4cba-b220-977205f9877a"
      },
      "source": [
        "np.log(a)"
      ],
      "execution_count": null,
      "outputs": [
        {
          "output_type": "stream",
          "text": [
            "/Users/satishatcha/.virtualenvs/course/lib/python2.7/site-packages/ipykernel_launcher.py:1: RuntimeWarning: divide by zero encountered in log\n",
            "  \"\"\"Entry point for launching an IPython kernel.\n"
          ],
          "name": "stderr"
        },
        {
          "output_type": "execute_result",
          "data": {
            "text/plain": [
              "array([       -inf,  0.        ,  0.69314718,  1.09861229,  1.38629436])"
            ]
          },
          "metadata": {
            "tags": []
          },
          "execution_count": 17
        }
      ]
    },
    {
      "cell_type": "code",
      "metadata": {
        "id": "4BqEA2-6sweM",
        "outputId": "b07f6045-92eb-4536-cdf0-103316629e69"
      },
      "source": [
        "np.exp(a)   #evaluates e^x for each element in a given input"
      ],
      "execution_count": null,
      "outputs": [
        {
          "output_type": "execute_result",
          "data": {
            "text/plain": [
              "array([  1.        ,   2.71828183,   7.3890561 ,  20.08553692,  54.59815003])"
            ]
          },
          "metadata": {
            "tags": []
          },
          "execution_count": 18
        }
      ]
    },
    {
      "cell_type": "markdown",
      "metadata": {
        "id": "ZTCX8P40sweR"
      },
      "source": [
        "### Shape Mismatch"
      ]
    },
    {
      "cell_type": "code",
      "metadata": {
        "id": "rEWPomresweR",
        "outputId": "45081b7d-d37a-4deb-a19a-8b56650517a6"
      },
      "source": [
        "a = np.arange(4)\n",
        "\n",
        "a + np.array([1, 2])"
      ],
      "execution_count": null,
      "outputs": [
        {
          "output_type": "error",
          "ename": "ValueError",
          "evalue": "operands could not be broadcast together with shapes (4,) (2,) ",
          "traceback": [
            "\u001b[0;31m---------------------------------------------------------------------------\u001b[0m",
            "\u001b[0;31mValueError\u001b[0m                                Traceback (most recent call last)",
            "\u001b[0;32m<ipython-input-19-f4d5ac434765>\u001b[0m in \u001b[0;36m<module>\u001b[0;34m()\u001b[0m\n\u001b[1;32m      1\u001b[0m \u001b[0ma\u001b[0m \u001b[0;34m=\u001b[0m \u001b[0mnp\u001b[0m\u001b[0;34m.\u001b[0m\u001b[0marange\u001b[0m\u001b[0;34m(\u001b[0m\u001b[0;36m4\u001b[0m\u001b[0;34m)\u001b[0m\u001b[0;34m\u001b[0m\u001b[0m\n\u001b[1;32m      2\u001b[0m \u001b[0;34m\u001b[0m\u001b[0m\n\u001b[0;32m----> 3\u001b[0;31m \u001b[0ma\u001b[0m \u001b[0;34m+\u001b[0m \u001b[0mnp\u001b[0m\u001b[0;34m.\u001b[0m\u001b[0marray\u001b[0m\u001b[0;34m(\u001b[0m\u001b[0;34m[\u001b[0m\u001b[0;36m1\u001b[0m\u001b[0;34m,\u001b[0m \u001b[0;36m2\u001b[0m\u001b[0;34m]\u001b[0m\u001b[0;34m)\u001b[0m\u001b[0;34m\u001b[0m\u001b[0m\n\u001b[0m",
            "\u001b[0;31mValueError\u001b[0m: operands could not be broadcast together with shapes (4,) (2,) "
          ]
        }
      ]
    },
    {
      "cell_type": "code",
      "metadata": {
        "id": "-f6MLXTEp6ca"
      },
      "source": [
        ""
      ],
      "execution_count": null,
      "outputs": []
    },
    {
      "cell_type": "markdown",
      "metadata": {
        "id": "9pyhkSfQsweW"
      },
      "source": [
        "## Basic Reductions"
      ]
    },
    {
      "cell_type": "markdown",
      "metadata": {
        "id": "DHyoVepdsweX"
      },
      "source": [
        "### computing sums"
      ]
    },
    {
      "cell_type": "code",
      "metadata": {
        "id": "8Ed2Id_-sweY",
        "outputId": "a39f4cc1-d624-4430-daa0-2f5a7d78efb4"
      },
      "source": [
        "x = np.array([1, 2, 3, 4])\n",
        "np.sum(x)"
      ],
      "execution_count": null,
      "outputs": [
        {
          "output_type": "execute_result",
          "data": {
            "text/plain": [
              "10"
            ]
          },
          "metadata": {
            "tags": []
          },
          "execution_count": 4
        }
      ]
    },
    {
      "cell_type": "code",
      "metadata": {
        "id": "zRoRIgZqswed",
        "outputId": "c16ee400-36c0-4f13-fad0-4245ea0a46e0"
      },
      "source": [
        "#sum by rows and by columns\n",
        "\n",
        "x = np.array([[1, 1], [2, 2]])\n",
        "x"
      ],
      "execution_count": null,
      "outputs": [
        {
          "output_type": "execute_result",
          "data": {
            "text/plain": [
              "array([[1, 1],\n",
              "       [2, 2]])"
            ]
          },
          "metadata": {
            "tags": []
          },
          "execution_count": 5
        }
      ]
    },
    {
      "cell_type": "code",
      "metadata": {
        "id": "_vP6O-E2sweh",
        "outputId": "3a2c7f40-3b1a-4741-83d7-adac98635e40"
      },
      "source": [
        "x.sum(axis=0)   #columns first dimension"
      ],
      "execution_count": null,
      "outputs": [
        {
          "output_type": "execute_result",
          "data": {
            "text/plain": [
              "array([3, 3])"
            ]
          },
          "metadata": {
            "tags": []
          },
          "execution_count": 6
        }
      ]
    },
    {
      "cell_type": "code",
      "metadata": {
        "id": "Tcuz_6SRswel",
        "outputId": "63fc6808-10da-4875-8245-816e28f5e570"
      },
      "source": [
        "x.sum(axis=1)  #rows (second dimension)"
      ],
      "execution_count": null,
      "outputs": [
        {
          "output_type": "execute_result",
          "data": {
            "text/plain": [
              "array([2, 4])"
            ]
          },
          "metadata": {
            "tags": []
          },
          "execution_count": 7
        }
      ]
    },
    {
      "cell_type": "markdown",
      "metadata": {
        "id": "958ZeK7bsweq"
      },
      "source": [
        "### Other reductions"
      ]
    },
    {
      "cell_type": "code",
      "metadata": {
        "id": "R5zUDMynswer",
        "outputId": "df848993-8198-42ea-e5f1-fe0618e3f271"
      },
      "source": [
        "x = np.array([1, 3, 2])\n",
        "x.min()"
      ],
      "execution_count": null,
      "outputs": [
        {
          "output_type": "execute_result",
          "data": {
            "text/plain": [
              "1"
            ]
          },
          "metadata": {
            "tags": []
          },
          "execution_count": 8
        }
      ]
    },
    {
      "cell_type": "code",
      "metadata": {
        "id": "kZtfLNX3swet",
        "outputId": "14c1c2bf-ffad-4cff-c761-0f1d88f841b4"
      },
      "source": [
        "x.max()"
      ],
      "execution_count": null,
      "outputs": [
        {
          "output_type": "execute_result",
          "data": {
            "text/plain": [
              "3"
            ]
          },
          "metadata": {
            "tags": []
          },
          "execution_count": 9
        }
      ]
    },
    {
      "cell_type": "code",
      "metadata": {
        "id": "AFmjGkYeswex",
        "outputId": "14cfd413-affd-44f9-a84c-1ced1c5ae5a6"
      },
      "source": [
        "x.argmin()# index of minimum element"
      ],
      "execution_count": null,
      "outputs": [
        {
          "output_type": "execute_result",
          "data": {
            "text/plain": [
              "0"
            ]
          },
          "metadata": {
            "tags": []
          },
          "execution_count": 10
        }
      ]
    },
    {
      "cell_type": "code",
      "metadata": {
        "id": "jZ1Kne4bswe0",
        "outputId": "e4476acf-16fa-44dd-edcb-84a926082b54"
      },
      "source": [
        "x.argmax()# index of maximum element"
      ],
      "execution_count": null,
      "outputs": [
        {
          "output_type": "execute_result",
          "data": {
            "text/plain": [
              "1"
            ]
          },
          "metadata": {
            "tags": []
          },
          "execution_count": 11
        }
      ]
    },
    {
      "cell_type": "markdown",
      "metadata": {
        "id": "HMjQrI2Xswe6"
      },
      "source": [
        "### Logical Operations"
      ]
    },
    {
      "cell_type": "code",
      "metadata": {
        "id": "yDdavXNvswe7",
        "outputId": "803c8e07-fcdb-4e58-a471-5f7fde649abe"
      },
      "source": [
        "np.all([True, True, False])"
      ],
      "execution_count": null,
      "outputs": [
        {
          "output_type": "execute_result",
          "data": {
            "text/plain": [
              "False"
            ]
          },
          "metadata": {
            "tags": []
          },
          "execution_count": 12
        }
      ]
    },
    {
      "cell_type": "code",
      "metadata": {
        "id": "pWQ5lldeswfA",
        "outputId": "898a10f8-6fc1-4780-8d30-10039821f77b"
      },
      "source": [
        "np.any([True, False, False])"
      ],
      "execution_count": null,
      "outputs": [
        {
          "output_type": "execute_result",
          "data": {
            "text/plain": [
              "True"
            ]
          },
          "metadata": {
            "tags": []
          },
          "execution_count": 13
        }
      ]
    },
    {
      "cell_type": "code",
      "metadata": {
        "id": "g7ZIbD4YswfD",
        "outputId": "b3e6eb8c-6864-4a3b-97b0-74a4a4efe79c"
      },
      "source": [
        "#Note: can be used for array comparisions\n",
        "a = np.zeros((50, 50))\n",
        "np.any(a != 0)"
      ],
      "execution_count": null,
      "outputs": [
        {
          "output_type": "execute_result",
          "data": {
            "text/plain": [
              "False"
            ]
          },
          "metadata": {
            "tags": []
          },
          "execution_count": 14
        }
      ]
    },
    {
      "cell_type": "code",
      "metadata": {
        "id": "zinI9W8hswfH",
        "outputId": "601d26ae-d373-4f22-f313-2452f600107b"
      },
      "source": [
        "np.all(a == a)"
      ],
      "execution_count": null,
      "outputs": [
        {
          "output_type": "execute_result",
          "data": {
            "text/plain": [
              "True"
            ]
          },
          "metadata": {
            "tags": []
          },
          "execution_count": 15
        }
      ]
    },
    {
      "cell_type": "code",
      "metadata": {
        "id": "HuTF_mToswfL",
        "outputId": "7363a182-2b8b-4e2c-c6a8-066318e563ed"
      },
      "source": [
        "a = np.array([1, 2, 3, 2])\n",
        "b = np.array([2, 2, 3, 2])\n",
        "c = np.array([6, 4, 4, 5])\n",
        "((a <= b) & (b <= c)).all()"
      ],
      "execution_count": null,
      "outputs": [
        {
          "output_type": "execute_result",
          "data": {
            "text/plain": [
              "True"
            ]
          },
          "metadata": {
            "tags": []
          },
          "execution_count": 16
        }
      ]
    },
    {
      "cell_type": "markdown",
      "metadata": {
        "id": "APsZAg7_swfO"
      },
      "source": [
        "### Statistics"
      ]
    },
    {
      "cell_type": "code",
      "metadata": {
        "id": "cjoteMjGswfP",
        "outputId": "ccc68f0b-c334-4667-f18f-97758bfe32d5"
      },
      "source": [
        "x = np.array([1, 2, 3, 1])\n",
        "y = np.array([[1, 2, 3], [5, 6, 1]])\n",
        "x.mean()"
      ],
      "execution_count": null,
      "outputs": [
        {
          "output_type": "execute_result",
          "data": {
            "text/plain": [
              "1.75"
            ]
          },
          "metadata": {
            "tags": []
          },
          "execution_count": 23
        }
      ]
    },
    {
      "cell_type": "code",
      "metadata": {
        "id": "JXWE8ldfswfV",
        "outputId": "bf404199-5602-442b-98fd-23ad1e5e26f5"
      },
      "source": [
        "np.median(x)"
      ],
      "execution_count": null,
      "outputs": [
        {
          "output_type": "execute_result",
          "data": {
            "text/plain": [
              "1.5"
            ]
          },
          "metadata": {
            "tags": []
          },
          "execution_count": 24
        }
      ]
    },
    {
      "cell_type": "code",
      "metadata": {
        "id": "uiBhX8Ktswfj",
        "outputId": "b162f7f7-2b25-429d-f5f3-c0592c793aa8"
      },
      "source": [
        "np.median(y, axis=-1) # last axis"
      ],
      "execution_count": null,
      "outputs": [
        {
          "output_type": "execute_result",
          "data": {
            "text/plain": [
              "array([ 2.,  5.])"
            ]
          },
          "metadata": {
            "tags": []
          },
          "execution_count": 25
        }
      ]
    },
    {
      "cell_type": "code",
      "metadata": {
        "id": "Cy3p6_0nswfo",
        "outputId": "4c5b7639-7e09-47a5-8cd1-e1dfa07325d1"
      },
      "source": [
        "x.std()          # full population standard dev."
      ],
      "execution_count": null,
      "outputs": [
        {
          "output_type": "execute_result",
          "data": {
            "text/plain": [
              "0.82915619758884995"
            ]
          },
          "metadata": {
            "tags": []
          },
          "execution_count": 26
        }
      ]
    },
    {
      "cell_type": "markdown",
      "metadata": {
        "id": "UmJ61pVXswfu"
      },
      "source": [
        "### Example:"
      ]
    },
    {
      "cell_type": "markdown",
      "metadata": {
        "id": "anUWifpEswfx"
      },
      "source": [
        "Data in populations.txt describes the populations of hares and lynxes (and carrots) in northern Canada during 20 years.\n"
      ]
    },
    {
      "cell_type": "code",
      "metadata": {
        "id": "rnVBTztnswfy"
      },
      "source": [
        "#load data into numpy array object\n",
        "data = np.loadtxt('populations.txt')"
      ],
      "execution_count": null,
      "outputs": []
    },
    {
      "cell_type": "code",
      "metadata": {
        "id": "P6namKkVswf1",
        "outputId": "fd6bc8a1-2b47-4be3-e7a3-a9073a2fdda9"
      },
      "source": [
        "data"
      ],
      "execution_count": null,
      "outputs": [
        {
          "output_type": "execute_result",
          "data": {
            "text/plain": [
              "array([[  1900.,  30000.,   4000.,  48300.],\n",
              "       [  1901.,  47200.,   6100.,  48200.],\n",
              "       [  1902.,  70200.,   9800.,  41500.],\n",
              "       [  1903.,  77400.,  35200.,  38200.],\n",
              "       [  1904.,  36300.,  59400.,  40600.],\n",
              "       [  1905.,  20600.,  41700.,  39800.],\n",
              "       [  1906.,  18100.,  19000.,  38600.],\n",
              "       [  1907.,  21400.,  13000.,  42300.],\n",
              "       [  1908.,  22000.,   8300.,  44500.],\n",
              "       [  1909.,  25400.,   9100.,  42100.],\n",
              "       [  1910.,  27100.,   7400.,  46000.],\n",
              "       [  1911.,  40300.,   8000.,  46800.],\n",
              "       [  1912.,  57000.,  12300.,  43800.],\n",
              "       [  1913.,  76600.,  19500.,  40900.],\n",
              "       [  1914.,  52300.,  45700.,  39400.],\n",
              "       [  1915.,  19500.,  51100.,  39000.],\n",
              "       [  1916.,  11200.,  29700.,  36700.],\n",
              "       [  1917.,   7600.,  15800.,  41800.],\n",
              "       [  1918.,  14600.,   9700.,  43300.],\n",
              "       [  1919.,  16200.,  10100.,  41300.],\n",
              "       [  1920.,  24700.,   8600.,  47300.]])"
            ]
          },
          "metadata": {
            "tags": []
          },
          "execution_count": 18
        }
      ]
    },
    {
      "cell_type": "code",
      "metadata": {
        "id": "QmlBep1Mswf5",
        "outputId": "c1b341fc-c8c2-43bd-8b74-522f36336074"
      },
      "source": [
        "year, hares, lynxes, carrots = data.T #columns to variables\n",
        "print(year)"
      ],
      "execution_count": null,
      "outputs": [
        {
          "output_type": "stream",
          "text": [
            "[ 1900.  1901.  1902.  1903.  1904.  1905.  1906.  1907.  1908.  1909.\n",
            "  1910.  1911.  1912.  1913.  1914.  1915.  1916.  1917.  1918.  1919.\n",
            "  1920.]\n"
          ],
          "name": "stdout"
        }
      ]
    },
    {
      "cell_type": "code",
      "metadata": {
        "id": "rK1BKEoyswgD",
        "outputId": "39556379-8632-4f4b-bc1a-619afce30f6e"
      },
      "source": [
        "#The mean population over time\n",
        "populations = data[:, 1:]\n",
        "populations"
      ],
      "execution_count": null,
      "outputs": [
        {
          "output_type": "execute_result",
          "data": {
            "text/plain": [
              "array([[ 30000.,   4000.,  48300.],\n",
              "       [ 47200.,   6100.,  48200.],\n",
              "       [ 70200.,   9800.,  41500.],\n",
              "       [ 77400.,  35200.,  38200.],\n",
              "       [ 36300.,  59400.,  40600.],\n",
              "       [ 20600.,  41700.,  39800.],\n",
              "       [ 18100.,  19000.,  38600.],\n",
              "       [ 21400.,  13000.,  42300.],\n",
              "       [ 22000.,   8300.,  44500.],\n",
              "       [ 25400.,   9100.,  42100.],\n",
              "       [ 27100.,   7400.,  46000.],\n",
              "       [ 40300.,   8000.,  46800.],\n",
              "       [ 57000.,  12300.,  43800.],\n",
              "       [ 76600.,  19500.,  40900.],\n",
              "       [ 52300.,  45700.,  39400.],\n",
              "       [ 19500.,  51100.,  39000.],\n",
              "       [ 11200.,  29700.,  36700.],\n",
              "       [  7600.,  15800.,  41800.],\n",
              "       [ 14600.,   9700.,  43300.],\n",
              "       [ 16200.,  10100.,  41300.],\n",
              "       [ 24700.,   8600.,  47300.]])"
            ]
          },
          "metadata": {
            "tags": []
          },
          "execution_count": 21
        }
      ]
    },
    {
      "cell_type": "code",
      "metadata": {
        "id": "x9fl1SFuswgI",
        "outputId": "d35111fd-9329-484f-8d9a-07310f2fbe2d"
      },
      "source": [
        "#sample standard deviations\n",
        "populations.std(axis=0)"
      ],
      "execution_count": null,
      "outputs": [
        {
          "output_type": "execute_result",
          "data": {
            "text/plain": [
              "array([ 20897.90645809,  16254.59153691,   3322.50622558])"
            ]
          },
          "metadata": {
            "tags": []
          },
          "execution_count": 22
        }
      ]
    },
    {
      "cell_type": "code",
      "metadata": {
        "id": "JuRAVBQZswgT",
        "outputId": "dddefc54-8d1b-4b01-990c-dea4068cab56"
      },
      "source": [
        "#which species has the highest population each year?\n",
        "\n",
        "np.argmax(populations, axis=1)"
      ],
      "execution_count": null,
      "outputs": [
        {
          "output_type": "execute_result",
          "data": {
            "text/plain": [
              "array([2, 2, 0, 0, 1, 1, 2, 2, 2, 2, 2, 2, 0, 0, 0, 1, 2, 2, 2, 2, 2])"
            ]
          },
          "metadata": {
            "tags": []
          },
          "execution_count": 23
        }
      ]
    },
    {
      "cell_type": "code",
      "metadata": {
        "id": "4j8PnOtkqg2U"
      },
      "source": [
        ""
      ],
      "execution_count": null,
      "outputs": []
    },
    {
      "cell_type": "markdown",
      "metadata": {
        "id": "tU_ZXk-TswgY"
      },
      "source": [
        "## Broadcasting"
      ]
    },
    {
      "cell_type": "markdown",
      "metadata": {
        "id": "9YhDQLkMswga"
      },
      "source": [
        "Basic operations on numpy arrays (addition, etc.) are elementwise\n",
        "\n",
        "This works on arrays of the same size.\n",
        "    Nevertheless, It’s also possible to do operations on arrays of different sizes if NumPy can transform these arrays     so that they all have the same size: this conversion is called broadcasting.\n",
        "\n",
        "The image below gives an example of broadcasting:"
      ]
    },
    {
      "cell_type": "markdown",
      "metadata": {
        "id": "ikjmauQzswgc"
      },
      "source": [
        "![title](broadcasting.png)"
      ]
    },
    {
      "cell_type": "code",
      "metadata": {
        "id": "nI5avDtJswgd",
        "outputId": "4514d3c2-a38d-4750-d6f3-8a709b40df7f"
      },
      "source": [
        "a = np.tile(np.arange(0, 40, 10), (3,1))\n",
        "print(a)\n",
        "\n",
        "print(\"*************\")\n",
        "a=a.T\n",
        "print(a)"
      ],
      "execution_count": null,
      "outputs": [
        {
          "output_type": "stream",
          "text": [
            "[[ 0 10 20 30]\n",
            " [ 0 10 20 30]\n",
            " [ 0 10 20 30]]\n",
            "*************\n",
            "[[ 0  0  0]\n",
            " [10 10 10]\n",
            " [20 20 20]\n",
            " [30 30 30]]\n"
          ],
          "name": "stdout"
        }
      ]
    },
    {
      "cell_type": "code",
      "metadata": {
        "id": "cLIID2BSswgf",
        "outputId": "066926e7-77bd-4116-a878-3b885f0fd7a1"
      },
      "source": [
        "\n",
        "b = np.array([0, 1, 2])\n",
        "b"
      ],
      "execution_count": null,
      "outputs": [
        {
          "output_type": "execute_result",
          "data": {
            "text/plain": [
              "array([0, 1, 2])"
            ]
          },
          "metadata": {
            "tags": []
          },
          "execution_count": 35
        }
      ]
    },
    {
      "cell_type": "code",
      "metadata": {
        "id": "jQrV3eHlswgh",
        "outputId": "a580a35e-ab46-409c-92b6-55dca012c40c"
      },
      "source": [
        "\n",
        "a + b"
      ],
      "execution_count": null,
      "outputs": [
        {
          "output_type": "execute_result",
          "data": {
            "text/plain": [
              "array([[ 0,  1,  2],\n",
              "       [10, 11, 12],\n",
              "       [20, 21, 22],\n",
              "       [30, 31, 32]])"
            ]
          },
          "metadata": {
            "tags": []
          },
          "execution_count": 36
        }
      ]
    },
    {
      "cell_type": "code",
      "metadata": {
        "id": "O46UzhDpswgj",
        "outputId": "ca8ff2f1-13e9-4ba9-aaa4-e724236b2436"
      },
      "source": [
        "a = np.arange(0, 40, 10)\n",
        "a.shape\n"
      ],
      "execution_count": null,
      "outputs": [
        {
          "output_type": "execute_result",
          "data": {
            "text/plain": [
              "(4,)"
            ]
          },
          "metadata": {
            "tags": []
          },
          "execution_count": 45
        }
      ]
    },
    {
      "cell_type": "code",
      "metadata": {
        "id": "OgkzL1i9swgl",
        "outputId": "98ee71d0-ef8e-47c0-af1a-c197cfbec692"
      },
      "source": [
        "a = a[:, np.newaxis]  # adds a new axis -> 2D array\n",
        "a.shape"
      ],
      "execution_count": null,
      "outputs": [
        {
          "output_type": "execute_result",
          "data": {
            "text/plain": [
              "(4, 1)"
            ]
          },
          "metadata": {
            "tags": []
          },
          "execution_count": 42
        }
      ]
    },
    {
      "cell_type": "code",
      "metadata": {
        "id": "PQiWxq-6swgq",
        "outputId": "b4ef9569-1bc8-4b4b-8a6a-30b75e6bf889"
      },
      "source": [
        "a"
      ],
      "execution_count": null,
      "outputs": [
        {
          "output_type": "execute_result",
          "data": {
            "text/plain": [
              "array([[ 0],\n",
              "       [10],\n",
              "       [20],\n",
              "       [30]])"
            ]
          },
          "metadata": {
            "tags": []
          },
          "execution_count": 43
        }
      ]
    },
    {
      "cell_type": "code",
      "metadata": {
        "id": "tsUMMhVMswgw",
        "outputId": "1eccf526-2b25-45b1-a67f-b70ffe346c2d"
      },
      "source": [
        "a + b"
      ],
      "execution_count": null,
      "outputs": [
        {
          "output_type": "execute_result",
          "data": {
            "text/plain": [
              "array([[ 0,  1,  2],\n",
              "       [10, 11, 12],\n",
              "       [20, 21, 22],\n",
              "       [30, 31, 32]])"
            ]
          },
          "metadata": {
            "tags": []
          },
          "execution_count": 58
        }
      ]
    },
    {
      "cell_type": "code",
      "metadata": {
        "id": "OKdc0ebcqqON"
      },
      "source": [
        ""
      ],
      "execution_count": null,
      "outputs": []
    },
    {
      "cell_type": "markdown",
      "metadata": {
        "id": "j_PyiHoLswgz"
      },
      "source": [
        "## Array Shape Manipulation"
      ]
    },
    {
      "cell_type": "markdown",
      "metadata": {
        "id": "k_PleE7Tswgz"
      },
      "source": [
        "### Flattening"
      ]
    },
    {
      "cell_type": "code",
      "metadata": {
        "id": "ZCNm05mWswg0",
        "outputId": "18403ccc-45db-4e09-8e67-6b268246b278"
      },
      "source": [
        "a = np.array([[1, 2, 3], [4, 5, 6]])\n",
        "a.ravel() #Return a contiguous flattened array. A 1-D array, containing the elements of the input, is returned. A copy is made only if needed."
      ],
      "execution_count": null,
      "outputs": [
        {
          "output_type": "execute_result",
          "data": {
            "text/plain": [
              "array([1, 2, 3, 4, 5, 6])"
            ]
          },
          "metadata": {
            "tags": []
          },
          "execution_count": 52
        }
      ]
    },
    {
      "cell_type": "code",
      "metadata": {
        "id": "vDHkkj_Cswg2",
        "outputId": "e09bd4e6-d56c-4040-b5a1-dea2b20767fa"
      },
      "source": [
        "a.T #Transpose"
      ],
      "execution_count": null,
      "outputs": [
        {
          "output_type": "execute_result",
          "data": {
            "text/plain": [
              "array([[1, 4],\n",
              "       [2, 5],\n",
              "       [3, 6]])"
            ]
          },
          "metadata": {
            "tags": []
          },
          "execution_count": 53
        }
      ]
    },
    {
      "cell_type": "code",
      "metadata": {
        "id": "OQwnB4jMswg7",
        "outputId": "d31964f8-cb74-4547-c2a2-7969288282f6"
      },
      "source": [
        "a.T.ravel()"
      ],
      "execution_count": null,
      "outputs": [
        {
          "output_type": "execute_result",
          "data": {
            "text/plain": [
              "array([1, 4, 2, 5, 3, 6])"
            ]
          },
          "metadata": {
            "tags": []
          },
          "execution_count": 54
        }
      ]
    },
    {
      "cell_type": "markdown",
      "metadata": {
        "id": "IfyMcSqWswhA"
      },
      "source": [
        "### Reshaping"
      ]
    },
    {
      "cell_type": "markdown",
      "metadata": {
        "id": "QcaiZZ7mswhA"
      },
      "source": [
        "The inverse operation to flattening:"
      ]
    },
    {
      "cell_type": "code",
      "metadata": {
        "id": "MA6cntc9swhC",
        "outputId": "a4aa22e7-1095-4349-b306-56000f8ae7ee"
      },
      "source": [
        "print(a.shape)\n",
        "print(a)"
      ],
      "execution_count": null,
      "outputs": [
        {
          "output_type": "stream",
          "text": [
            "(2, 3)\n",
            "[[1 2 3]\n",
            " [4 5 6]]\n"
          ],
          "name": "stdout"
        }
      ]
    },
    {
      "cell_type": "code",
      "metadata": {
        "id": "hhJauR24swhE",
        "outputId": "e52e66cf-8c93-4769-909b-82137650ab36"
      },
      "source": [
        "b = a.ravel()\n",
        "print(b)"
      ],
      "execution_count": null,
      "outputs": [
        {
          "output_type": "stream",
          "text": [
            "[1 2 3 4 5 6]\n"
          ],
          "name": "stdout"
        }
      ]
    },
    {
      "cell_type": "code",
      "metadata": {
        "id": "vXbnz73uswhG",
        "outputId": "db52a819-25c3-45fd-dfb4-372e72cfb8fe"
      },
      "source": [
        "b = b.reshape((2, 3))\n",
        "b"
      ],
      "execution_count": null,
      "outputs": [
        {
          "output_type": "execute_result",
          "data": {
            "text/plain": [
              "array([[1, 2, 3],\n",
              "       [4, 5, 6]])"
            ]
          },
          "metadata": {
            "tags": []
          },
          "execution_count": 57
        }
      ]
    },
    {
      "cell_type": "code",
      "metadata": {
        "id": "TNr-WvUzswhI",
        "outputId": "13a740fd-c250-4a21-fa13-3a2cd8fce06f"
      },
      "source": [
        "b[0, 0] = 100\n",
        "a"
      ],
      "execution_count": null,
      "outputs": [
        {
          "output_type": "execute_result",
          "data": {
            "text/plain": [
              "array([[100,   2,   3],\n",
              "       [  4,   5,   6]])"
            ]
          },
          "metadata": {
            "tags": []
          },
          "execution_count": 59
        }
      ]
    },
    {
      "cell_type": "markdown",
      "metadata": {
        "id": "_Y5EeOeJswhL"
      },
      "source": [
        "**Note and       Beware: reshape may also return a copy!:**"
      ]
    },
    {
      "cell_type": "code",
      "metadata": {
        "id": "tf1F72vHswhL",
        "outputId": "0726a4b2-566e-4628-cc19-8b894cb40c18"
      },
      "source": [
        "a = np.zeros((3, 2))\n",
        "b = a.T.reshape(3*2)\n",
        "b[0] = 50\n",
        "a"
      ],
      "execution_count": null,
      "outputs": [
        {
          "output_type": "execute_result",
          "data": {
            "text/plain": [
              "array([[ 0.,  0.],\n",
              "       [ 0.,  0.],\n",
              "       [ 0.,  0.]])"
            ]
          },
          "metadata": {
            "tags": []
          },
          "execution_count": 60
        }
      ]
    },
    {
      "cell_type": "markdown",
      "metadata": {
        "id": "4pnFgWaTswhO"
      },
      "source": [
        "### Adding a Dimension"
      ]
    },
    {
      "cell_type": "markdown",
      "metadata": {
        "id": "b3x7GDphswhP"
      },
      "source": [
        "Indexing with the np.newaxis object allows us to add an axis to an array"
      ]
    },
    {
      "cell_type": "markdown",
      "metadata": {
        "id": "zWZFOfB0swhP"
      },
      "source": [
        "newaxis is used to increase the dimension of the existing array by one more dimension, when used once. Thus,\n",
        "\n",
        "1D array will become 2D array\n",
        "\n",
        "2D array will become 3D array\n",
        "\n",
        "3D array will become 4D array and so on"
      ]
    },
    {
      "cell_type": "code",
      "metadata": {
        "id": "DuHUdNLoswhP",
        "outputId": "40fb60a7-c44c-41fa-9be8-09ec5468c6a7"
      },
      "source": [
        "z = np.array([1, 2, 3])\n",
        "z"
      ],
      "execution_count": null,
      "outputs": [
        {
          "output_type": "execute_result",
          "data": {
            "text/plain": [
              "array([1, 2, 3])"
            ]
          },
          "metadata": {
            "tags": []
          },
          "execution_count": 61
        }
      ]
    },
    {
      "cell_type": "code",
      "metadata": {
        "id": "f48pj0JMswhT",
        "outputId": "546f6836-b251-4812-f7b2-cf0461d13178"
      },
      "source": [
        "z[:, np.newaxis]"
      ],
      "execution_count": null,
      "outputs": [
        {
          "output_type": "execute_result",
          "data": {
            "text/plain": [
              "array([[1],\n",
              "       [2],\n",
              "       [3]])"
            ]
          },
          "metadata": {
            "tags": []
          },
          "execution_count": 62
        }
      ]
    },
    {
      "cell_type": "markdown",
      "metadata": {
        "id": "Wy-2k9NjswhW"
      },
      "source": [
        "### Dimension Shuffling"
      ]
    },
    {
      "cell_type": "code",
      "metadata": {
        "id": "MSTSN5IoswhZ",
        "outputId": "3c1a1132-68f4-4f3b-bb40-c46ab734643a"
      },
      "source": [
        "a = np.arange(4*3*2).reshape(4, 3, 2)\n",
        "a.shape"
      ],
      "execution_count": null,
      "outputs": [
        {
          "output_type": "execute_result",
          "data": {
            "text/plain": [
              "(4, 3, 2)"
            ]
          },
          "metadata": {
            "tags": []
          },
          "execution_count": 63
        }
      ]
    },
    {
      "cell_type": "code",
      "metadata": {
        "id": "-i_qw-2Bswhd",
        "outputId": "dd25efea-7155-4b62-efd2-c069cc0f73c1"
      },
      "source": [
        "a"
      ],
      "execution_count": null,
      "outputs": [
        {
          "output_type": "execute_result",
          "data": {
            "text/plain": [
              "array([[[ 0,  1],\n",
              "        [ 2,  3],\n",
              "        [ 4,  5]],\n",
              "\n",
              "       [[ 6,  7],\n",
              "        [ 8,  9],\n",
              "        [10, 11]],\n",
              "\n",
              "       [[12, 13],\n",
              "        [14, 15],\n",
              "        [16, 17]],\n",
              "\n",
              "       [[18, 19],\n",
              "        [20, 21],\n",
              "        [22, 23]]])"
            ]
          },
          "metadata": {
            "tags": []
          },
          "execution_count": 77
        }
      ]
    },
    {
      "cell_type": "code",
      "metadata": {
        "id": "sFfdpnwxswhg",
        "outputId": "a7f25bdc-c56c-4981-a8ab-ce1627bfd005"
      },
      "source": [
        "a[0, 2, 1]"
      ],
      "execution_count": null,
      "outputs": [
        {
          "output_type": "execute_result",
          "data": {
            "text/plain": [
              "5"
            ]
          },
          "metadata": {
            "tags": []
          },
          "execution_count": 64
        }
      ]
    },
    {
      "cell_type": "markdown",
      "metadata": {
        "id": "2lFLuLyjswhk"
      },
      "source": [
        "### Resizing"
      ]
    },
    {
      "cell_type": "code",
      "metadata": {
        "id": "Yi9xEsTdswhl",
        "outputId": "f11c0809-c403-41c9-eaf0-e3f4c90469d8"
      },
      "source": [
        "a = np.arange(4)\n",
        "a.resize((8,))\n",
        "a"
      ],
      "execution_count": null,
      "outputs": [
        {
          "output_type": "execute_result",
          "data": {
            "text/plain": [
              "array([0, 1, 2, 3, 0, 0, 0, 0])"
            ]
          },
          "metadata": {
            "tags": []
          },
          "execution_count": 67
        }
      ]
    },
    {
      "cell_type": "markdown",
      "metadata": {
        "id": "L32_TKH-swhp"
      },
      "source": [
        "However, it must not be referred to somewhere else:"
      ]
    },
    {
      "cell_type": "code",
      "metadata": {
        "id": "n03o_7jKswhq",
        "outputId": "591c6728-d9cd-439f-8287-fce70a25ea2a"
      },
      "source": [
        "b = a\n",
        "a.resize((4,)) "
      ],
      "execution_count": null,
      "outputs": [
        {
          "output_type": "error",
          "ename": "ValueError",
          "evalue": "cannot resize an array that references or is referenced\nby another array in this way.  Use the resize function",
          "traceback": [
            "\u001b[0;31m---------------------------------------------------------------------------\u001b[0m",
            "\u001b[0;31mValueError\u001b[0m                                Traceback (most recent call last)",
            "\u001b[0;32m<ipython-input-68-702766c88583>\u001b[0m in \u001b[0;36m<module>\u001b[0;34m()\u001b[0m\n\u001b[1;32m      1\u001b[0m \u001b[0mb\u001b[0m \u001b[0;34m=\u001b[0m \u001b[0ma\u001b[0m\u001b[0;34m\u001b[0m\u001b[0m\n\u001b[0;32m----> 2\u001b[0;31m \u001b[0ma\u001b[0m\u001b[0;34m.\u001b[0m\u001b[0mresize\u001b[0m\u001b[0;34m(\u001b[0m\u001b[0;34m(\u001b[0m\u001b[0;36m4\u001b[0m\u001b[0;34m,\u001b[0m\u001b[0;34m)\u001b[0m\u001b[0;34m)\u001b[0m\u001b[0;34m\u001b[0m\u001b[0m\n\u001b[0m",
            "\u001b[0;31mValueError\u001b[0m: cannot resize an array that references or is referenced\nby another array in this way.  Use the resize function"
          ]
        }
      ]
    },
    {
      "cell_type": "markdown",
      "metadata": {
        "id": "xm598Xkxswhs"
      },
      "source": [
        "### Sorting Data"
      ]
    },
    {
      "cell_type": "code",
      "metadata": {
        "id": "iM9Y-4wfswhs",
        "outputId": "417dc55e-8b88-4d3b-c46c-e15aa1f99dcc"
      },
      "source": [
        "#Sorting along an axis:\n",
        "a = np.array([[5, 4, 6], [2, 3, 2]])\n",
        "b = np.sort(a, axis=1)\n",
        "b"
      ],
      "execution_count": null,
      "outputs": [
        {
          "output_type": "execute_result",
          "data": {
            "text/plain": [
              "array([[4, 5, 6],\n",
              "       [2, 2, 3]])"
            ]
          },
          "metadata": {
            "tags": []
          },
          "execution_count": 69
        }
      ]
    },
    {
      "cell_type": "code",
      "metadata": {
        "id": "Z8gWeYynswhw",
        "outputId": "51b6c0f4-bc6e-443f-84ce-dccca9039bc3"
      },
      "source": [
        "#in-place sort\n",
        "a.sort(axis=1)\n",
        "a"
      ],
      "execution_count": null,
      "outputs": [
        {
          "output_type": "execute_result",
          "data": {
            "text/plain": [
              "array([[4, 5, 6],\n",
              "       [2, 2, 3]])"
            ]
          },
          "metadata": {
            "tags": []
          },
          "execution_count": 84
        }
      ]
    },
    {
      "cell_type": "code",
      "metadata": {
        "id": "DSSbH76aswh1",
        "outputId": "6a5e8098-e5c1-4298-bf36-982d5fa9b9ba"
      },
      "source": [
        "#sorting with fancy indexing\n",
        "a = np.array([4, 3, 1, 2])\n",
        "j = np.argsort(a)\n",
        "j"
      ],
      "execution_count": null,
      "outputs": [
        {
          "output_type": "execute_result",
          "data": {
            "text/plain": [
              "array([2, 3, 1, 0])"
            ]
          },
          "metadata": {
            "tags": []
          },
          "execution_count": 85
        }
      ]
    },
    {
      "cell_type": "code",
      "metadata": {
        "id": "CtBWBS5Qswh3",
        "outputId": "c802fde5-cac6-4495-b3f6-e4c66dbfbb3f"
      },
      "source": [
        "a[j]"
      ],
      "execution_count": null,
      "outputs": [
        {
          "output_type": "execute_result",
          "data": {
            "text/plain": [
              "array([1, 2, 3, 4])"
            ]
          },
          "metadata": {
            "tags": []
          },
          "execution_count": 86
        }
      ]
    }
  ]
}