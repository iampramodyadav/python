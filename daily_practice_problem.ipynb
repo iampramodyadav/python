{
  "nbformat": 4,
  "nbformat_minor": 0,
  "metadata": {
    "colab": {
      "name": "daily-practice-problem.ipynb",
      "provenance": [],
      "collapsed_sections": [],
      "authorship_tag": "ABX9TyO0MEdBiq9Exh4sqskABuOR",
      "include_colab_link": true
    },
    "kernelspec": {
      "name": "python3",
      "display_name": "Python 3"
    },
    "language_info": {
      "name": "python"
    }
  },
  "cells": [
    {
      "cell_type": "markdown",
      "metadata": {
        "id": "view-in-github",
        "colab_type": "text"
      },
      "source": [
        "<a href=\"https://colab.research.google.com/github/iampramodyadav/python/blob/main/daily_practice_problem.ipynb\" target=\"_parent\"><img src=\"https://colab.research.google.com/assets/colab-badge.svg\" alt=\"Open In Colab\"/></a>"
      ]
    },
    {
      "cell_type": "markdown",
      "metadata": {
        "id": "6Rfp_RC7HxlG"
      },
      "source": [
        "# Practice Questions"
      ]
    },
    {
      "cell_type": "markdown",
      "metadata": {
        "id": "uWTpd0pRHUdy"
      },
      "source": [
        "## Function"
      ]
    },
    {
      "cell_type": "markdown",
      "metadata": {
        "id": "HXcjRUN-h7uZ"
      },
      "source": [
        "### Multiplication Table\n",
        "- Write a function that inputs a number and prints the multiplication table of \n",
        "that number.\n"
      ]
    },
    {
      "cell_type": "code",
      "metadata": {
        "id": "g4h-1gz4IBnf"
      },
      "source": [
        "def table(a):\n",
        "  '''\n",
        "  this function ptint table\n",
        "  '''\n",
        "  print(\"Table of {} is\\n\".format(a))\n",
        "  for i in range(1,11):\n",
        "    print(i,\"* \",a, \"=\",i*a,)"
      ],
      "execution_count": 1,
      "outputs": []
    },
    {
      "cell_type": "code",
      "metadata": {
        "colab": {
          "base_uri": "https://localhost:8080/"
        },
        "id": "O4SmxxFTkYoa",
        "outputId": "f0008d40-6501-475b-c47e-bfe6691d5459"
      },
      "source": [
        "table(10)"
      ],
      "execution_count": 2,
      "outputs": [
        {
          "output_type": "stream",
          "text": [
            "Table of 10 is\n",
            "\n",
            "1 *  10 = 10\n",
            "2 *  10 = 20\n",
            "3 *  10 = 30\n",
            "4 *  10 = 40\n",
            "5 *  10 = 50\n",
            "6 *  10 = 60\n",
            "7 *  10 = 70\n",
            "8 *  10 = 80\n",
            "9 *  10 = 90\n",
            "10 *  10 = 100\n"
          ],
          "name": "stdout"
        }
      ]
    },
    {
      "cell_type": "code",
      "metadata": {
        "colab": {
          "base_uri": "https://localhost:8080/"
        },
        "id": "zzmF0sOYrKfN",
        "outputId": "ae2e4cfa-d709-4247-8245-3170085bf367"
      },
      "source": [
        "print(table.__doc__)"
      ],
      "execution_count": 3,
      "outputs": [
        {
          "output_type": "stream",
          "text": [
            "\n",
            "  this function ptint table\n",
            "  \n"
          ],
          "name": "stdout"
        }
      ]
    },
    {
      "cell_type": "markdown",
      "metadata": {
        "id": "5U5CjC6YgnwZ"
      },
      "source": [
        "### Twin Prime\n",
        "- Write a program to print twin primes less than 1000. If two consecutive odd numbers are both prime then they are known as twin primes. [twin prime](https://en.wikipedia.org/wiki/Twin_prime)"
      ]
    },
    {
      "cell_type": "markdown",
      "metadata": {
        "id": "rPsh3bTfDmGC"
      },
      "source": [
        "**Algorithm-1**\n",
        "\n",
        "\n",
        "---\n",
        "\n"
      ]
    },
    {
      "cell_type": "code",
      "metadata": {
        "id": "b4pmhyprg3xp"
      },
      "source": [
        "def isPrime(a):\n",
        "  '''\n",
        "  this function check for prime number and return true\n",
        "\n",
        "  '''\n",
        "  for i in range(2,int(a**0.5)+1):\n",
        "    if a%i==0:\n",
        "      return False\n",
        "  return True\n",
        "\n",
        "\n",
        "\n",
        "def TwinPrime(x):\n",
        "  '''\n",
        "  this function give twin prime numbers bellow entred number\n",
        "  '''\n",
        "  temp=0\n",
        "  for i in range(3,x,2):\n",
        "    if isPrime(i) and isPrime(i+2):\n",
        "      print(\"({},{})\".format(i,i+2))\n",
        "      temp+=1\n",
        "  print(\"no of twin prime is {}\".format(temp))\n",
        "\n",
        "  "
      ],
      "execution_count": 15,
      "outputs": []
    },
    {
      "cell_type": "code",
      "metadata": {
        "colab": {
          "base_uri": "https://localhost:8080/"
        },
        "id": "YG9i-3ej5ImD",
        "outputId": "1a043763-48e9-4b98-a7aa-6fc99b63038b"
      },
      "source": [
        "print(isPrime.__doc__)"
      ],
      "execution_count": 13,
      "outputs": [
        {
          "output_type": "stream",
          "text": [
            "\n",
            "  this function check for prime number and return true\n",
            "\n",
            "  \n"
          ],
          "name": "stdout"
        }
      ]
    },
    {
      "cell_type": "code",
      "metadata": {
        "colab": {
          "base_uri": "https://localhost:8080/"
        },
        "id": "UqF0Uaba5IeU",
        "outputId": "a18592f3-5d6f-482b-9c63-6c060e90f014"
      },
      "source": [
        "print(TwinPrime.__doc__)"
      ],
      "execution_count": 14,
      "outputs": [
        {
          "output_type": "stream",
          "text": [
            "\n",
            "  this function give twin prime number bellow entred number\n",
            "  \n"
          ],
          "name": "stdout"
        }
      ]
    },
    {
      "cell_type": "code",
      "metadata": {
        "colab": {
          "base_uri": "https://localhost:8080/"
        },
        "id": "pyytAobwscLl",
        "outputId": "09bcc4a0-5228-4925-9387-3500209f456a"
      },
      "source": [
        "TwinPrime(1000)"
      ],
      "execution_count": 10,
      "outputs": [
        {
          "output_type": "stream",
          "text": [
            "(3,5)\n",
            "(5,7)\n",
            "(11,13)\n",
            "(17,19)\n",
            "(29,31)\n",
            "(41,43)\n",
            "(59,61)\n",
            "(71,73)\n",
            "(101,103)\n",
            "(107,109)\n",
            "(137,139)\n",
            "(149,151)\n",
            "(179,181)\n",
            "(191,193)\n",
            "(197,199)\n",
            "(227,229)\n",
            "(239,241)\n",
            "(269,271)\n",
            "(281,283)\n",
            "(311,313)\n",
            "(347,349)\n",
            "(419,421)\n",
            "(431,433)\n",
            "(461,463)\n",
            "(521,523)\n",
            "(569,571)\n",
            "(599,601)\n",
            "(617,619)\n",
            "(641,643)\n",
            "(659,661)\n",
            "(809,811)\n",
            "(821,823)\n",
            "(827,829)\n",
            "(857,859)\n",
            "(881,883)\n",
            "no of twin prime is 35\n"
          ],
          "name": "stdout"
        }
      ]
    },
    {
      "cell_type": "markdown",
      "metadata": {
        "id": "0vangbdlDs4q"
      },
      "source": [
        "**Algorithm-2**\n",
        "\n",
        "---\n",
        "\n"
      ]
    },
    {
      "cell_type": "code",
      "metadata": {
        "id": "3VEwn88F6YnY"
      },
      "source": [
        "def listPrime(a):\n",
        "  \"\"\"\n",
        "  this function return list of prime number bellow enterd number\n",
        "  \"\"\"\n",
        "  lst=[]\n",
        "  for i in range(2,a+1):\n",
        "    for j in range(2, int(i**0.5)+1):\n",
        "      if i%j==0:\n",
        "        break\n",
        "    else:\n",
        "      lst.append(i)\n",
        "  return(lst)\n",
        "\n",
        "\n",
        "def twinPrime2(x):\n",
        "  \"\"\"\n",
        "  this function print twin prime from list of prime\n",
        "  \"\"\"\n",
        "  temp=0\n",
        "  prime=listPrime(x)\n",
        "  for i in range(len(prime)-1):\n",
        "    if prime[i+1]-prime[i]==2:\n",
        "      print(\"({},{})\".format(prime[i],prime[i+1]))\n",
        "      temp+=1\n",
        "  print(\"Number of twin prime bellow {}, is {}\".format(x,temp))\n",
        "\n"
      ],
      "execution_count": 71,
      "outputs": []
    },
    {
      "cell_type": "code",
      "metadata": {
        "colab": {
          "base_uri": "https://localhost:8080/"
        },
        "id": "nz6tyzfx8O--",
        "outputId": "b0fd8174-3821-4306-f20c-aa463b4fa841"
      },
      "source": [
        "print(listPrime.__doc__)"
      ],
      "execution_count": 73,
      "outputs": [
        {
          "output_type": "stream",
          "text": [
            "\n",
            "  this function return list of prime number bellow enterd number\n",
            "  \n"
          ],
          "name": "stdout"
        }
      ]
    },
    {
      "cell_type": "code",
      "metadata": {
        "colab": {
          "base_uri": "https://localhost:8080/"
        },
        "id": "VXnnEomcC5Kk",
        "outputId": "c8fd3635-42b6-4dcd-a614-da877728ed6b"
      },
      "source": [
        "print(twinPrime2.__doc__)"
      ],
      "execution_count": 75,
      "outputs": [
        {
          "output_type": "stream",
          "text": [
            "\n",
            "  this function print twin prime from list of prime\n",
            "  \n"
          ],
          "name": "stdout"
        }
      ]
    },
    {
      "cell_type": "code",
      "metadata": {
        "colab": {
          "base_uri": "https://localhost:8080/"
        },
        "id": "ZGAwXSND_Fe0",
        "outputId": "fe5d7ddb-5078-4235-f619-8b6c72586198"
      },
      "source": [
        "twinPrime2(1000)"
      ],
      "execution_count": 72,
      "outputs": [
        {
          "output_type": "stream",
          "text": [
            "(3,5)\n",
            "(5,7)\n",
            "(11,13)\n",
            "(17,19)\n",
            "(29,31)\n",
            "(41,43)\n",
            "(59,61)\n",
            "(71,73)\n",
            "(101,103)\n",
            "(107,109)\n",
            "(137,139)\n",
            "(149,151)\n",
            "(179,181)\n",
            "(191,193)\n",
            "(197,199)\n",
            "(227,229)\n",
            "(239,241)\n",
            "(269,271)\n",
            "(281,283)\n",
            "(311,313)\n",
            "(347,349)\n",
            "(419,421)\n",
            "(431,433)\n",
            "(461,463)\n",
            "(521,523)\n",
            "(569,571)\n",
            "(599,601)\n",
            "(617,619)\n",
            "(641,643)\n",
            "(659,661)\n",
            "(809,811)\n",
            "(821,823)\n",
            "(827,829)\n",
            "(857,859)\n",
            "(881,883)\n",
            "Number of twin prime bellow 1000, is 35\n"
          ],
          "name": "stdout"
        }
      ]
    },
    {
      "cell_type": "markdown",
      "metadata": {
        "id": "wNqNSE_4dWRb"
      },
      "source": [
        "## Recursive function\n",
        "\n",
        "\n",
        "*   Write recursive function for HCF \n",
        "\n"
      ]
    },
    {
      "cell_type": "code",
      "metadata": {
        "id": "VQO_iSBcZXGs"
      },
      "source": [
        "def rHCF(a,b):\n",
        "  \"\"\"\n",
        "  this function print HCF via recursion method\n",
        "  \"\"\"\n",
        "  s=a if a<b else b\n",
        "  l=b if a<b else a\n",
        "  if l%s==0:\n",
        "    return(s)\n",
        "  else:\n",
        "    a=l%s\n",
        "    b=s\n",
        "    return(rHCF(a,b))"
      ],
      "execution_count": 6,
      "outputs": []
    },
    {
      "cell_type": "code",
      "metadata": {
        "colab": {
          "base_uri": "https://localhost:8080/"
        },
        "id": "LWDSOdItfIzF",
        "outputId": "e641ce10-2f49-4969-ae51-e50f96f11556"
      },
      "source": [
        "rHCF(121,33)"
      ],
      "execution_count": 7,
      "outputs": [
        {
          "output_type": "execute_result",
          "data": {
            "text/plain": [
              "11"
            ]
          },
          "metadata": {
            "tags": []
          },
          "execution_count": 7
        }
      ]
    },
    {
      "cell_type": "code",
      "metadata": {
        "colab": {
          "base_uri": "https://localhost:8080/"
        },
        "id": "BPNOtsZWfhud",
        "outputId": "c91d4dad-766d-4dca-a741-fc04a12560bd"
      },
      "source": [
        "a=25;b=1215\n",
        "print(\"the HCF of\", a, \"and\", b ,\"is\", rHCF(a,b))"
      ],
      "execution_count": 8,
      "outputs": [
        {
          "output_type": "stream",
          "text": [
            "the HCF of 25 and 1215 is 5\n"
          ],
          "name": "stdout"
        }
      ]
    },
    {
      "cell_type": "code",
      "metadata": {
        "colab": {
          "base_uri": "https://localhost:8080/"
        },
        "id": "doUztQCIfo9D",
        "outputId": "1a045b42-4977-41fd-9984-74c33539096c"
      },
      "source": [
        "print(rHCF.__doc__)"
      ],
      "execution_count": 9,
      "outputs": [
        {
          "output_type": "stream",
          "text": [
            "\n",
            "  this function print HCF via recursion method\n",
            "  \n"
          ],
          "name": "stdout"
        }
      ]
    },
    {
      "cell_type": "code",
      "metadata": {
        "colab": {
          "base_uri": "https://localhost:8080/"
        },
        "id": "IWL2JRRrsp1X",
        "outputId": "2bdcec3e-07ff-4242-e06b-2d552f56893b"
      },
      "source": [
        "int(10**0.5)"
      ],
      "execution_count": 10,
      "outputs": [
        {
          "output_type": "execute_result",
          "data": {
            "text/plain": [
              "3"
            ]
          },
          "metadata": {
            "tags": []
          },
          "execution_count": 10
        }
      ]
    },
    {
      "cell_type": "code",
      "metadata": {
        "colab": {
          "base_uri": "https://localhost:8080/"
        },
        "id": "Bp7m2IO_1xVI",
        "outputId": "272b23b7-988a-41fe-e1a6-d0809197c8b4"
      },
      "source": [
        "for i in range(2,3):\n",
        "  print(i)"
      ],
      "execution_count": 17,
      "outputs": [
        {
          "output_type": "stream",
          "text": [
            "2\n"
          ],
          "name": "stdout"
        }
      ]
    },
    {
      "cell_type": "code",
      "metadata": {
        "colab": {
          "base_uri": "https://localhost:8080/"
        },
        "id": "SPludfpW_n6f",
        "outputId": "3a620902-003e-458a-eab8-dd86733d8a92"
      },
      "source": [
        "list=[1,2,3,5]\n",
        "print(list[0],list[1])"
      ],
      "execution_count": 41,
      "outputs": [
        {
          "output_type": "stream",
          "text": [
            "1 2\n"
          ],
          "name": "stdout"
        }
      ]
    }
  ]
}